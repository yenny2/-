{
 "cells": [
  {
   "cell_type": "markdown",
   "id": "af658f2f",
   "metadata": {},
   "source": [
    "# 정규표현식 기본 개념\n",
    "- 문자열에서 특정한 패턴을 찾거나 바꾸기 위한 표현식\n",
    "\n",
    "한 영화관에서는 예매 시 사용자의 휴대폰 번호를 입력받아야 합니다. 예매 정보는 해당 번호와 함께 저장됩니다. 그러나 종종 잘못된 번호가 입력되어 예매 정보가 유실되는 문제가 발생했습니다.\n",
    "\n",
    "이런 문제를 해결하기 위해, 영화관은 **정규표현식**을 사용해 휴대폰 번호를 검증하기로 결정했습니다. 이제 사용자가 휴대폰 번호를 입력할 때, 정확한 형식으로 입력되었는지 확인하고, 유효한 번호만 저장할 수 있습니다."
   ]
  },
  {
   "cell_type": "markdown",
   "id": "65a32a00",
   "metadata": {},
   "source": [
    "## 정규표현식이란?\n",
    "\n",
    "정규표현식(Regular Expression)은 문자열에서 특정한 패턴을 찾거나, 대체하거나, 추출하는데 사용되는 문자열입니다. 즉, 문자열에서 원하는 문자를 찾거나 바꾸기 위한 일종의 패턴이라고 생각할 수 있습니다.\n",
    "\n",
    "\n",
    "예를 들어, 정규표현식에서 '.'은 어떤 문자 하나를 의미하고, '*'는 바로 앞의 문자가 0번 이상 반복됨을 의미합니다. 또한, '|'는 OR 조건을 의미하고, '^'는 문자열의 시작을 의미합니다.\n",
    "\n",
    "파이썬에서는 정규표현식을 처리하기 위해 're' 모듈을 제공합니다. 're' 모듈을 사용하면 문자열에서 패턴을 찾거나, 추출하거나, 대체할 수 있습니다."
   ]
  },
  {
   "cell_type": "code",
   "execution_count": 10,
   "id": "aa952b6d",
   "metadata": {},
   "outputs": [
    {
     "data": {
      "text/plain": [
       "['12345']"
      ]
     },
     "execution_count": 10,
     "metadata": {},
     "output_type": "execute_result"
    }
   ],
   "source": [
    "# 문자열에서 숫자만 추출하는 정규표현식\n",
    "\n",
    "import re\n",
    "text = 'Hello, my number is 12345'\n",
    "\n",
    "numbers = re.findall('\\d+', text)\n",
    "numbers"
   ]
  },
  {
   "cell_type": "markdown",
   "id": "268ade5c",
   "metadata": {},
   "source": [
    "## 정규표현식의 장단점\n",
    "\n",
    "[장점]\n",
    "1.\t유연성: 정규표현식을 사용하면 다양한 패턴을 표현할 수 있습니다. 예를 들어, 특정 문자열이 특정 패턴을 따르는지 여부를 확인하거나, 특정 패턴을 가진 문자열을 찾아내는 등 다양한 용도로 사용할 수 있습니다.\n",
    "2.\t간결성: 문자열에서 원하는 정보를 추출하는 데에는 정규표현식이 다른 방법에 비해 더 간단하고 직관적입니다.\n",
    "3.\t속도: 정규표현식은 문자열을 일일이 검색하는 것보다 더 빠른 속도로 패턴을 찾아낼 수 있습니다.\n",
    "\n",
    "[단점]\n",
    "1.\t복잡성: 정규표현식은 다양한 패턴을 표현할 수 있지만, 그만큼 문법이 복잡합니다. 특히 초보자에게는 익숙해지기까지 시간이 걸릴 수 있습니다.\n",
    "2.\t이식성: 언어나 툴마다 문법이 조금씩 다르기 때문에, 한 번 익힌 정규표현식이 다른 환경에서는 작동하지 않을 수도 있습니다.\n",
    "3.\t가독성: 정규표현식을 사용하면 코드의 가독성이 떨어질 수 있습니다. 특히, 매우 복잡한 정규표현식을 작성하면 코드가 길어지고 가독성이 나빠질 수 있습니다.\n",
    "위와 같이, 정규표현식은 다양한 장단점을 가지고 있습니다. 그러나 정규표현식은 파이썬을 비롯한 다양한 프로그래밍 언어에서 사용되는 유용한 도구입니다. 아래는 파이썬 코드로 정규표현식을 사용한 문자열 패턴 매칭 예시입니다."
   ]
  },
  {
   "cell_type": "code",
   "execution_count": 18,
   "id": "5337d8a6",
   "metadata": {},
   "outputs": [
    {
     "name": "stdout",
     "output_type": "stream",
     "text": [
      "['010-1234-5678']\n"
     ]
    }
   ],
   "source": [
    "import re\n",
    "pattern = \"\\d{3}-\\d{4}-\\d{4}\"\n",
    "\n",
    "phone_numbers = ['010-1234-5678', '02-555-1234', '031-222-3333']\n",
    "matched_numbers = []\n",
    "\n",
    "for number in phone_numbers:\n",
    "    if re.match(pattern,number):\n",
    "        matched_numbers.append(number)\n",
    "        print(matched_numbers)"
   ]
  },
  {
   "cell_type": "code",
   "execution_count": null,
   "id": "7f9cbaa1",
   "metadata": {},
   "outputs": [],
   "source": []
  },
  {
   "cell_type": "markdown",
   "id": "35177f97",
   "metadata": {},
   "source": [
    "## 정규표현식의 구성 요소\n",
    "\n",
    "정규표현식은 다음과 같은 구성 요소를 가집니다.\n",
    "\n",
    "- 문자: 특정 문자를 표현합니다. 예를 들어, 'a'는 문자 'a'를 의미합니다.\n",
    "- 메타 문자: 특별한 의미를 가지는 문자입니다. 예를 들어, '.'은 어떤 문자에도 매치되는 문자입니다.\n",
    "- 문자 클래스: 여러 개의 문자 중 하나를 선택합니다. 대괄호([])로 표현합니다. 예를 들어, '[abc]'는 'a', 'b', 'c' 중 하나에 매치됩니다.\n",
    "- 반복: 문자 또는 메타 문자가 반복되는 횟수를 지정합니다. '', '+', '?', '{m}', '{m,n}' 등으로 표현합니다. 예를 들어, 'a*'는 'a'가 0번 이상 반복되는 문자열에 매치됩니다.\n",
    "- 그룹: 하나의 문자 또는 메타 문자의 집합을 그룹화합니다. 괄호()로 표현합니다. 예를 들어, '(abc)+'는 'abc'가 1번 이상 반복되는 문자열에 매치됩니다."
   ]
  },
  {
   "cell_type": "markdown",
   "id": "865a81fc",
   "metadata": {},
   "source": [
    "#### Raw String\n",
    "- 로우스트링은 문자열 안에 있는 이스케이프 문자를 무시하고 문자 그대로 해석하도록 하는 문자열\n",
    "- 로우스트링을 사용하면 이스케이프 문자를 사용하지 않고도 백슬래시()를 문자 그대로 사용할 수 있다. \n",
    "    - 이를 통해 정규표현식, 파일 경로, URL 등과 같은 문자열을 다룰 때 유용하게 사용\n",
    "- 로우스트링을 사용하면 백슬래시와 같은 이스케이프 문자를 사용하지 않아도 되므로 가독성이 좋아진다."
   ]
  },
  {
   "cell_type": "code",
   "execution_count": 19,
   "id": "7fc922db",
   "metadata": {},
   "outputs": [
    {
     "name": "stdout",
     "output_type": "stream",
     "text": [
      "C:\\Users\\Deskyop\\file.txt \n",
      "\n",
      "C:\\Users\\Deskyop\\file.txt\n"
     ]
    }
   ],
   "source": [
    "str1 = \"C:\\\\Users\\\\Deskyop\\\\file.txt\"          # \\\\ 두개 쓰인 것은 \\를 있는 그대로 쓰겠다는 것\n",
    "\n",
    "r = r\"C:\\Users\\Deskyop\\file.txt\"               # 로우스트링을 사용하면 \\ 그대로 씀\n",
    "\n",
    "print(str1, \"\\n\")\n",
    "print(r)"
   ]
  },
  {
   "cell_type": "code",
   "execution_count": 5,
   "id": "25c622a2",
   "metadata": {},
   "outputs": [
    {
     "name": "stdout",
     "output_type": "stream",
     "text": [
      "['a'] \n",
      "\n",
      "['a', 'p', 'p', 'l', 'e'] \n",
      "\n",
      "['a', 'e'] \n",
      "\n",
      "['bana'] \n",
      "\n",
      "['ba'] \n",
      "\n",
      "['ba', ''] \n",
      "\n",
      "<re.Match object; span=(0, 4), match='bana'>\n",
      "('bana', 'ba')\n"
     ]
    }
   ],
   "source": [
    "# re.findall() 은 두 개의 인자를 가진다. 첫 번째 인자는 찾으려는 패턴을 지정하는 정규 표현식이며,\n",
    "# 두 번재 인자는 검색 대상이 되는 문자열\n",
    "\n",
    "import re\n",
    "pattern1 = 'a'\n",
    "text1 = 'apple'\n",
    "print(re.findall(pattern1, text1),'\\n')\n",
    "\n",
    "pattern2 = '.'             # .은 모든 문자 커버. # 모든 문자가 다 나오는 것\n",
    "text2 = 'apple'\n",
    "print(re.findall(pattern2, text2),'\\n')\n",
    "\n",
    "\n",
    "pattern3 = '[aeiou]'       # 이 중 있는 것만\n",
    "text3 = 'apple'\n",
    "print(re.findall(pattern3, text3),'\\n')\n",
    "\n",
    "pattern4 = 'ba*na'\n",
    "text4 = 'banaana'\n",
    "print(re.findall(pattern4, text4),'\\n')\n",
    "\n",
    "pattern5 = '(ba)*na'\n",
    "text5 = 'banaa'\n",
    "print(re.findall(pattern5, text5),'\\n')\n",
    "\n",
    "pattern5 = '(ba)*na'\n",
    "text5 = 'banaana'\n",
    "print(re.findall(pattern5, text5),'\\n')           # 묶인 그룹 내 값만 출력되고 나머지는 공백\n",
    "\n",
    "pattern5 = '(ba)*na'\n",
    "text5 = 'banaana'\n",
    "print(re.search(pattern5, text5))           \n",
    "\n",
    "pattern5 = '((ba)*na)'\n",
    "text5 = 'banaana'\n",
    "print(re.findall(pattern5,text5)[0])    #'bana','ba' 다 나옴"
   ]
  },
  {
   "cell_type": "markdown",
   "id": "a8b1d116",
   "metadata": {},
   "source": [
    "# 정규표현식의 문법\n",
    "\n",
    "\n",
    "정규표현식의 문법에는 다양한 메타문자(meta-character)가 사용됩니다. 메타문자란 일반적으로 사용되는 문자가 아니라, 특별한 의미를 가지는 문자를 말합니다. 메타문자는 다양한 용도로 사용되며, 각각의 기능은 다음과 같습니다.\n"
   ]
  },
  {
   "cell_type": "markdown",
   "id": "97e4e07b",
   "metadata": {},
   "source": [
    "## 메타문자의 종류와 사용 방법\n",
    "\n",
    "\n",
    "\n",
    "[문자 클래스]\n",
    "- .: 어떤 문자 하나와 일치합니다.\n",
    "- []: 대괄호 안에 있는 문자 중 하나와 일치합니다.\n",
    "- [^]: 대괄호 안에 있는 문자를 제외한 문자 중 하나와 일치합니다.\n",
    "- 하이픈(-): 범위(range)를 나타낼 수 있습니다. [a-z]는 소문자 알파벳 중 하나만 매치되면 됩니다.\n",
    "- *: 바로 앞의 문자가 0개 이상 반복되는 문자열과 일치합니다.\n",
    "- +: 바로 앞의 문자가 1개 이상 반복되는 문자열과 일치합니다.\n",
    "- ?: 바로 앞의 문자가 0개 또는 1개만 있는 문자열과 일치합니다.\n",
    "- {m,n}: 바로 앞의 문자가 m번 이상 n번 이하 반복되는 문자열과 일치합니다.\n",
    "- |: 대안이 되는 문자열을 나타냅니다.\n",
    "- \\d: 숫자와 일치합니다. [0-9]와 동일한 표현식\n",
    "- \\D: 숫자를 제외한 문자와 일치합니다. [^0-9]와 동일한 표현식\n",
    "- \\w: 알파벳 대소문자와 숫자, 언더스코어(_)와 일치합니다. [a-zA-Z0-9_]와 동일한 표현식\n",
    "- \\W: 알파벳 대소문자와 숫자, 언더스코어(_)를 제외한 문자와 일치합니다. [^a-zA-Z0-9_]와 동일한 표현식\n",
    "- \\s: 공백 문자와 일치합니다. [ \\t\\n\\r\\f\\v]와 동일한 표현식\n",
    "- \\S: 공백 문자를 제외한 문자와 일치합니다. [^ \\t\\n\\r\\f\\v]와 동일한 표현식\n",
    "- \\b: 단어 경계를 나타내는 특수 문자입니다.\n",
    "- (): 그룹을 나타내는 특수 문자입니다. 일치하는 문자열의 일부를 추출하거나, 패턴을 적용할 범위를 지정할 때 사용됩니다.\n",
    " \n",
    "\n",
    "[whitespace]\n",
    " -  스페이스 바 (아스키코드 32)\n",
    " -  ＼b  뒤로 한 칸 이동 (Backspace) (아스키코드 8)\n",
    " -  ＼t  수평탭 간격 띄우기 (아스키코드 9)\n",
    " -  ＼n  줄바꿈 (Linefeed) (아스키코드 10)\n",
    " -  ＼v  수직탭 간격 띄우기 (아스키코드 11)\n",
    " -  ＼f  프린트 출력 용지를 한 페이지 넘김 (Form feed) (아스키코드 12)\n",
    " -  ＼r  동일한 줄의 맨 앞으로 커서 이동 (Carriage Return) (아스키코드 13)\n",
    " - Dot(.) 메타 문자는 줄바꿈 문자인 \\n를 제외한 모든 문자와 매치됨을 의미\n",
    "\n",
    "[문자열의 반복과 선택을 나타내는 메타문자]\n",
    "- ^ : 문자열의 시작을 나타냄. 예를 들어, '^a'는 문자열의 시작이 'a'인 경우와 매치됨.\n",
    "-\t\\\\$ : 문자열의 끝을 나타냄. 예를 들어, 'a\\$'는 문자열의 끝이 'a'인 경우와 매치됨.\n",
    "\n",
    "\n",
    "\n",
    "[문자열의 반복과 선택을 나타내는 메타문자]\n",
    "- 반복(\\*) ca*t 0부터 무한대로 반복\n",
    "- 반복(\\+) ca+t 최소 1번 이상 반복\n",
    "- ca{m,n} a 반복 횟수가 m부터 n까지인 것을 매치\n",
    "- ca{2}t는 c+a(2번 반복)+t의 의미\n",
    "- 반복횟수가 {1,}은 1 이상, {0,}은 0 이상인 경우로 각각 +, *와 동일하며 {,1}은 반복횟수가 1 이하를 의미.\n",
    "- ab?c b가 0~1번 사용되면 매치되는 것으로 ?은 앞의 b가 있어도 되고 없어도 된다\n"
   ]
  },
  {
   "cell_type": "markdown",
   "id": "7cab7e4e",
   "metadata": {},
   "source": [
    "## re 모듈\n",
    "\n",
    "정규표현식을 파이썬에서 사용하기 위해서는 re 모듈을 import하여 사용합니다. 이를 이용하여 정규식을 컴파일하고 정규식을 이용한 문자열 검색 등 다양한 작업을 수행할 수 있습니다.\n",
    "\n",
    "re 모듈을 이용하여 문자열 검색을 수행하는 함수는 다음과 같습니다.\n",
    "\n",
    "- compile(): 뽑으려는 패턴을 컴파일합니다.\n",
    "- match(): 문자열의 처음부터 정규식과 매치되는지 조사합니다.\n",
    "- search(): 문자열의 전체를 검색하여 정규식과 매치되는 첫 번째 부분 반환\n",
    "- re.sub(pattern, replace, string): 문자열에서 정규식과 일치하는 부분에 대해서 다른 문자열로 대체합니다.\n",
    "- re.split(pattern, string): 문자열에서 정규식과 매치하는 부분을 기준으로 분리하여 리스트로 반환합니다.\n",
    "- findall(): 정규식과 매치되는 모든 문자열을 리스트로 리턴합니다.\n",
    "- finditer(): 정규식과 매치되는 모든 문자열을 반복 가능한 객체로 리턴합니다."
   ]
  },
  {
   "cell_type": "code",
   "execution_count": 319,
   "id": "a279831e",
   "metadata": {},
   "outputs": [
    {
     "name": "stdout",
     "output_type": "stream",
     "text": [
      "match found!\n"
     ]
    }
   ],
   "source": [
    "pattern = re.compile('ab+c')\n",
    "match = pattern.search('abbbc')\n",
    "if match:\n",
    "    print(\"match found!\")"
   ]
  },
  {
   "cell_type": "code",
   "execution_count": 312,
   "id": "399c7f34",
   "metadata": {},
   "outputs": [
    {
     "data": {
      "text/plain": [
       "<re.Match object; span=(0, 5), match='abbbc'>"
      ]
     },
     "execution_count": 312,
     "metadata": {},
     "output_type": "execute_result"
    }
   ],
   "source": [
    "re.search(pattern,'abbbc')"
   ]
  },
  {
   "cell_type": "code",
   "execution_count": 313,
   "id": "7da87a64",
   "metadata": {},
   "outputs": [
    {
     "data": {
      "text/plain": [
       "['abbbc', 'abc']"
      ]
     },
     "execution_count": 313,
     "metadata": {},
     "output_type": "execute_result"
    }
   ],
   "source": [
    "re.findall(pattern,'abbbceeabce')"
   ]
  },
  {
   "cell_type": "code",
   "execution_count": 314,
   "id": "a15b7e40",
   "metadata": {},
   "outputs": [
    {
     "data": {
      "text/plain": [
       "['abbbc', 'abc']"
      ]
     },
     "execution_count": 314,
     "metadata": {},
     "output_type": "execute_result"
    }
   ],
   "source": [
    "re.findall(pattern,'abbbceeabce')"
   ]
  },
  {
   "cell_type": "code",
   "execution_count": 320,
   "id": "8f374f34",
   "metadata": {},
   "outputs": [
    {
     "name": "stdout",
     "output_type": "stream",
     "text": [
      "<re.Match object; span=(0, 5), match='abbbc'>\n",
      "<re.Match object; span=(7, 10), match='abc'>\n"
     ]
    }
   ],
   "source": [
    "m = re.finditer(pattern,'abbbceeabce')\n",
    "for i in m:\n",
    "    print(i)"
   ]
  },
  {
   "cell_type": "code",
   "execution_count": 315,
   "id": "d87f994b",
   "metadata": {},
   "outputs": [
    {
     "name": "stdout",
     "output_type": "stream",
     "text": [
      "not matched\n"
     ]
    }
   ],
   "source": [
    "pattern = re.compile('abc+c')\n",
    "match = pattern.search('abbbc')\n",
    "if match:\n",
    "    print(\"match found!\")\n",
    "else:\n",
    "    print(\"not matched\")           # abc 가 그대로 나오지 않았기에"
   ]
  },
  {
   "cell_type": "code",
   "execution_count": 316,
   "id": "520d66bb",
   "metadata": {},
   "outputs": [],
   "source": [
    "re.search(pattern,'abbbc')"
   ]
  },
  {
   "cell_type": "code",
   "execution_count": 317,
   "id": "37c5531e",
   "metadata": {},
   "outputs": [],
   "source": [
    "re.match(pattern,'eabc')          # abc가 있지만 맨 처음부터 매치되는지 조사하기 때문에 안됨"
   ]
  },
  {
   "cell_type": "code",
   "execution_count": null,
   "id": "0d5d8e2a",
   "metadata": {},
   "outputs": [],
   "source": []
  },
  {
   "cell_type": "markdown",
   "id": "5749b99f",
   "metadata": {},
   "source": [
    "#### 과제1_0424\n",
    "\n",
    "정규표현식을 사용해 text에서 이메일을 추출하세요.\n",
    "\n",
    "text = \"이메일 주소는 abc1234@gmail.com 입니다.\""
   ]
  },
  {
   "cell_type": "code",
   "execution_count": 23,
   "id": "7beff853",
   "metadata": {},
   "outputs": [
    {
     "data": {
      "text/plain": [
       "['abc1234@gmail.com']"
      ]
     },
     "execution_count": 23,
     "metadata": {},
     "output_type": "execute_result"
    }
   ],
   "source": [
    "pattern = r'[\\w-]+@\\w+[A-Za-z0-9.-]+'\n",
    "# p = r'[\\w]+@[\\w]+\\.\\w{2,4}'\n",
    "\n",
    "text = \"이메일 주소는 abc1234@gmail.com 입니다.\"\n",
    "\n",
    "re.findall(pattern, text)"
   ]
  },
  {
   "cell_type": "markdown",
   "id": "3c31299a",
   "metadata": {},
   "source": [
    "- \\\\b: 단어 경계를 나타내는 특수 문자입니다. 이메일 주소가 다른 문자열과 붙어 있지 않은 경우를 처리합니다.\n",
    "- [A-Za-z0-9._%+-]+: 이메일 주소의 로컬 파트를 나타내는 패턴입니다. 알파벳 대소문자, 숫자, 그리고 일부 특수 문자를 포함합니다.\n",
    "- @: 이메일 주소에서 \"@\" 기호입니다.\n",
    "- [A-Za-z0-9.-]+: 이메일 주소의 도메인 파트를 나타내는 패턴입니다. 알파벳 대소문자, 숫자, 그리고 일부 특수 문자를 포함합니다.\n",
    "- \\\\.: 이메일 주소에서 \".\" 기호입니다. 이 기호는 이메일 주소의 도메인 파트를 구분하는 역할을 합니다.\n",
    "- [A-Za-z]{2,}: 이메일 주소의 최상위 도메인을 나타내는 패턴입니다. 알파벳 대소문자 중 최소 2개 이상의 문자가 있어야 합니다.\n",
    "- \\\\b: 단어 경계입니다. 이메일 주소가 다른 문자열과 붙어 있지 않은 경우를 처리합니다."
   ]
  },
  {
   "cell_type": "code",
   "execution_count": 321,
   "id": "633d26cb",
   "metadata": {},
   "outputs": [
    {
     "name": "stdout",
     "output_type": "stream",
     "text": [
      "['Abc_123@b1_IT.com']\n"
     ]
    }
   ],
   "source": [
    "import re\n",
    "\n",
    "# 이메일 주소가 있는 문자열\n",
    "text = \"이메일 주소는 Abc_123@b1_IT.com 입니다.\"\n",
    "\n",
    "# 이메일 주소 추출을 위한 정규표현식\n",
    "pattern = r'[a-zA-Z0-9_]+@[a-zA-Z0-9_]+\\.\\w{2,4}'\n",
    "\n",
    "# 정규표현식과 매치되는 모든 문자열을 찾아서 리스트로 반환\n",
    "matches = re.findall(pattern, text)\n",
    "\n",
    "# 추출된 이메일 주소 출력\n",
    "print(matches)"
   ]
  },
  {
   "cell_type": "code",
   "execution_count": null,
   "id": "8ee01baa",
   "metadata": {},
   "outputs": [],
   "source": []
  },
  {
   "cell_type": "markdown",
   "id": "ac7d9ade",
   "metadata": {},
   "source": [
    "#### 과제2_0424\n",
    "정규표현식을 사용하여 text에서 전화번호를 추출하세요.\n",
    "\n",
    "text = \"저의 전화번호는 010-1234-5678 입니다.\""
   ]
  },
  {
   "cell_type": "code",
   "execution_count": 50,
   "id": "08670a0c",
   "metadata": {},
   "outputs": [
    {
     "data": {
      "text/plain": [
       "['010-1234-5678']"
      ]
     },
     "execution_count": 50,
     "metadata": {},
     "output_type": "execute_result"
    }
   ],
   "source": [
    "pattern = \"\\d{3}-\\d{4}-\\d{4}\"\n",
    "\n",
    "text = \"저의 전화번호는 010-1234-5678 입니다.\"\n",
    "\n",
    "re.findall(pattern,text)"
   ]
  },
  {
   "cell_type": "code",
   "execution_count": null,
   "id": "17a356aa",
   "metadata": {},
   "outputs": [],
   "source": []
  },
  {
   "cell_type": "markdown",
   "id": "d38f052e",
   "metadata": {},
   "source": [
    "#### 과제3_0424\n",
    "정규표현식을 사용하여 text에서 url를 추출하세요.\n",
    "\n",
    "text = \"저의 블로그 주소는 http://www.example.com 입니다.\""
   ]
  },
  {
   "cell_type": "code",
   "execution_count": 63,
   "id": "78c52c36",
   "metadata": {},
   "outputs": [
    {
     "data": {
      "text/plain": [
       "['http://www.example.com']"
      ]
     },
     "execution_count": 63,
     "metadata": {},
     "output_type": "execute_result"
    }
   ],
   "source": [
    "pattern = r'\\b[A-Za-z0-9.-]+://[A-Za-z0-9.-]+\\.[A-Za-z0-9.-]+\\.[A-Za-z0-9.-]{2,}\\b'\n",
    "text = \"저의 블로그 주소는 http://www.example.com 입니다.\"\n",
    "re.findall(pattern,text)"
   ]
  },
  {
   "cell_type": "code",
   "execution_count": 322,
   "id": "731015d5",
   "metadata": {},
   "outputs": [
    {
     "data": {
      "text/plain": [
       "'http://www.example.com'"
      ]
     },
     "execution_count": 322,
     "metadata": {},
     "output_type": "execute_result"
    }
   ],
   "source": [
    "import re\n",
    "text = \"저의 블로그 주소는 http://www.example.com 입니다.\"\n",
    "p = 'https?://[^\\s]+'                                        # ^\\s 공백 아닌 문자들\n",
    "re.search(p,text).group()"
   ]
  },
  {
   "cell_type": "code",
   "execution_count": null,
   "id": "4093a94a",
   "metadata": {},
   "outputs": [],
   "source": []
  },
  {
   "cell_type": "markdown",
   "id": "9f13ad62",
   "metadata": {},
   "source": [
    "#### 과제4_0424\n",
    "정규표현식을 사용하여 html 태그를 제거한 후 \"안녕하세요, 파이썬입니다.\"를 출력하세요.\n",
    "\n",
    "html_string = \"< p > 안녕하세요, < b > 파이썬 < lb > 입니다. < lb >\""
   ]
  },
  {
   "cell_type": "code",
   "execution_count": 2,
   "id": "ace06f8f",
   "metadata": {},
   "outputs": [
    {
     "name": "stdout",
     "output_type": "stream",
     "text": [
      " 안녕하세요,  파이썬  입니다. \n"
     ]
    }
   ],
   "source": [
    "import re\n",
    "\n",
    "html_string = \"< p > 안녕하세요, < b > 파이썬 < lb > 입니다. < lb >\"\n",
    "\n",
    "pattern = re.sub('<.+?>', \"\", html_string)         \n",
    "# < 문자와 > 문자 사이에 있는 어떤 문자열이든 일치\n",
    "# +는 1개 이상의 문자열이 일치\n",
    "print(pattern)\n",
    "\n",
    "# 예를 들어, 문자열 <p>Some text</p>에서 <.+?> 패턴을 사용하여 탐색하면 <p>와 </p> 사이의 문자열인 \"Some text\"만 일치\n",
    "\n",
    "# <.*?>"
   ]
  },
  {
   "cell_type": "markdown",
   "id": "8730912f",
   "metadata": {},
   "source": [
    "re.sub(pattern, repl, string, count=0, flags=0)\n",
    "- pattern: 정규표현식 패턴입니다.\n",
    "- repl: 치환할 문자열입니다.\n",
    "- string: 대상 문자열입니다.\n",
    "- count: 치환할 최대 개수입니다. 기본값은 0으로, 모든 일치하는 문자열을 치환합니다.\n",
    "- flags: 정규표현식의 플래그입니다."
   ]
  },
  {
   "cell_type": "code",
   "execution_count": null,
   "id": "21175832",
   "metadata": {},
   "outputs": [],
   "source": []
  },
  {
   "cell_type": "markdown",
   "id": "b824e0c3",
   "metadata": {},
   "source": [
    "#### 과제 5_0424\n",
    "\n",
    "text = 'Python3 is very good programming language!\"에서 다음을 수행하세요.\n",
    "- ['Python', 'is', 'very', 'good', 'programming', 'language']을 출력\n",
    "- Python3\n",
    "- Python\n",
    "- 숫자만 출력\n",
    "- Python3를 python으로 대체"
   ]
  },
  {
   "cell_type": "code",
   "execution_count": 330,
   "id": "d8977d84",
   "metadata": {},
   "outputs": [
    {
     "data": {
      "text/plain": [
       "['Python', 'is', 'very', 'good', 'programming', 'language']"
      ]
     },
     "execution_count": 330,
     "metadata": {},
     "output_type": "execute_result"
    }
   ],
   "source": [
    "text = 'Python3 is very good programming language!'\n",
    "\n",
    "pattern = r'\\w+'\n",
    "re.findall(pattern,re.sub(r'\\d','',text))"
   ]
  },
  {
   "cell_type": "code",
   "execution_count": 332,
   "id": "12c11f84",
   "metadata": {},
   "outputs": [
    {
     "data": {
      "text/plain": [
       "'Python3'"
      ]
     },
     "execution_count": 332,
     "metadata": {},
     "output_type": "execute_result"
    }
   ],
   "source": [
    "re.findall('\\w+3', text)\n",
    "re.match('\\w+\\d+', text).group()"
   ]
  },
  {
   "cell_type": "code",
   "execution_count": 29,
   "id": "2904b761",
   "metadata": {},
   "outputs": [
    {
     "data": {
      "text/plain": [
       "['Python']"
      ]
     },
     "execution_count": 29,
     "metadata": {},
     "output_type": "execute_result"
    }
   ],
   "source": [
    "re.findall('Python',text)"
   ]
  },
  {
   "cell_type": "code",
   "execution_count": 28,
   "id": "987b1ee1",
   "metadata": {},
   "outputs": [
    {
     "data": {
      "text/plain": [
       "['3']"
      ]
     },
     "execution_count": 28,
     "metadata": {},
     "output_type": "execute_result"
    }
   ],
   "source": [
    "re.findall('\\d+',text)"
   ]
  },
  {
   "cell_type": "code",
   "execution_count": 27,
   "id": "bb99cc72",
   "metadata": {},
   "outputs": [
    {
     "data": {
      "text/plain": [
       "'Python is very good programming language!'"
      ]
     },
     "execution_count": 27,
     "metadata": {},
     "output_type": "execute_result"
    }
   ],
   "source": [
    "re.sub('Python3','Python',text)"
   ]
  },
  {
   "cell_type": "code",
   "execution_count": null,
   "id": "5bd4900e",
   "metadata": {},
   "outputs": [],
   "source": []
  },
  {
   "cell_type": "code",
   "execution_count": 64,
   "id": "a676221b",
   "metadata": {},
   "outputs": [],
   "source": [
    "#연습\n",
    "\n",
    "text1 = 'python python' \n",
    "text2 = 'python python '\n",
    "text3 = '3python '"
   ]
  },
  {
   "cell_type": "code",
   "execution_count": 52,
   "id": "66005382",
   "metadata": {},
   "outputs": [
    {
     "data": {
      "text/plain": [
       "'python '"
      ]
     },
     "execution_count": 52,
     "metadata": {},
     "output_type": "execute_result"
    }
   ],
   "source": [
    "import re\n",
    "\n",
    "p = re.compile('[a-z]+\\s')     # s 빈칸\n",
    "p.match(text1).group()         # 매치된 것만 뽑으려면 .group()"
   ]
  },
  {
   "cell_type": "code",
   "execution_count": 53,
   "id": "6fa45c75",
   "metadata": {},
   "outputs": [
    {
     "data": {
      "text/plain": [
       "'python'"
      ]
     },
     "execution_count": 53,
     "metadata": {},
     "output_type": "execute_result"
    }
   ],
   "source": [
    "re.match('[a-z]+',text1).group()"
   ]
  },
  {
   "cell_type": "code",
   "execution_count": 54,
   "id": "b3adbc2f",
   "metadata": {},
   "outputs": [
    {
     "data": {
      "text/plain": [
       "['python', 'python']"
      ]
     },
     "execution_count": 54,
     "metadata": {},
     "output_type": "execute_result"
    }
   ],
   "source": [
    "re.findall('[a-z]+',text1)    # 다 찾아달라는 거니까 두개 나옴."
   ]
  },
  {
   "cell_type": "code",
   "execution_count": 55,
   "id": "93b0e5c0",
   "metadata": {},
   "outputs": [
    {
     "data": {
      "text/plain": [
       "['python ']"
      ]
     },
     "execution_count": 55,
     "metadata": {},
     "output_type": "execute_result"
    }
   ],
   "source": [
    "re.findall('[a-z]+\\s',text1)    # 뒤에 문자는 공백이 없어서 첫번째만 다오는 것"
   ]
  },
  {
   "cell_type": "code",
   "execution_count": 56,
   "id": "b2b3b2be",
   "metadata": {},
   "outputs": [
    {
     "data": {
      "text/plain": [
       "['python ', 'python ']"
      ]
     },
     "execution_count": 56,
     "metadata": {},
     "output_type": "execute_result"
    }
   ],
   "source": [
    "re.findall('[a-z]+\\s',text2)"
   ]
  },
  {
   "cell_type": "code",
   "execution_count": 57,
   "id": "d5d4f633",
   "metadata": {},
   "outputs": [
    {
     "data": {
      "text/plain": [
       "['python ', 'python ']"
      ]
     },
     "execution_count": 57,
     "metadata": {},
     "output_type": "execute_result"
    }
   ],
   "source": [
    "p.findall(text2)                # 패턴을 p 객체로 만들어놨기에 이렇게 쓸 수도 있음."
   ]
  },
  {
   "cell_type": "code",
   "execution_count": 71,
   "id": "d6964b52",
   "metadata": {},
   "outputs": [
    {
     "data": {
      "text/plain": [
       "'python '"
      ]
     },
     "execution_count": 71,
     "metadata": {},
     "output_type": "execute_result"
    }
   ],
   "source": [
    "# p.match(text3)                  # 앞에 숫자가 있기에 match는 시작부터 일치하는것을 찾아서 매치하는게 없다고 나옴\n",
    "p.search(text3).group()"
   ]
  },
  {
   "cell_type": "code",
   "execution_count": 66,
   "id": "a8deca38",
   "metadata": {},
   "outputs": [
    {
     "data": {
      "text/plain": [
       "['python ']"
      ]
     },
     "execution_count": 66,
     "metadata": {},
     "output_type": "execute_result"
    }
   ],
   "source": [
    "p.findall(text3)"
   ]
  },
  {
   "cell_type": "code",
   "execution_count": null,
   "id": "51179497",
   "metadata": {},
   "outputs": [],
   "source": []
  },
  {
   "cell_type": "code",
   "execution_count": 334,
   "id": "48730d2e",
   "metadata": {},
   "outputs": [
    {
     "name": "stdout",
     "output_type": "stream",
     "text": [
      "None\n",
      "<re.Match object; span=(0, 6), match='banker'>\n"
     ]
    }
   ],
   "source": [
    "# 문자 클래스 : []\n",
    "\n",
    "p = re.compile('[a-z]+')\n",
    "\n",
    "p1 = p.match('Banker')     # 처음부터 대문자라서 none\n",
    "p2 = p.search('banker')\n",
    "print(p1)\n",
    "print(p2)"
   ]
  },
  {
   "cell_type": "code",
   "execution_count": 73,
   "id": "15bc927b",
   "metadata": {},
   "outputs": [
    {
     "data": {
      "text/plain": [
       "['a']"
      ]
     },
     "execution_count": 73,
     "metadata": {},
     "output_type": "execute_result"
    }
   ],
   "source": [
    "# Q. a만 출력하세요.\n",
    "\n",
    "text = '12345abc'\n",
    "\n",
    "re.findall('a',text)"
   ]
  },
  {
   "cell_type": "code",
   "execution_count": 74,
   "id": "b20b3cfa",
   "metadata": {},
   "outputs": [
    {
     "data": {
      "text/plain": [
       "['A']"
      ]
     },
     "execution_count": 74,
     "metadata": {},
     "output_type": "execute_result"
    }
   ],
   "source": [
    "# Q. A만 출력하세요\n",
    "\n",
    "text = 'abc12345Abc'\n",
    "re.findall('A',text)"
   ]
  },
  {
   "cell_type": "code",
   "execution_count": 89,
   "id": "66b137c2",
   "metadata": {},
   "outputs": [
    {
     "data": {
      "text/plain": [
       "'대'"
      ]
     },
     "execution_count": 89,
     "metadata": {},
     "output_type": "execute_result"
    }
   ],
   "source": [
    "# Q. '대'만 출력하세요\n",
    "\n",
    "text = 'KOREA 아대한민국'\n",
    "re.findall('대',text)\n",
    "\n",
    "# 대 만 출력\n",
    "import re\n",
    "text = 'KOREA 아대한민국'\n",
    "p=re.compile('[가-힣]')\n",
    "re.findall(p,text)[1]"
   ]
  },
  {
   "cell_type": "code",
   "execution_count": 77,
   "id": "18d3785f",
   "metadata": {},
   "outputs": [
    {
     "data": {
      "text/plain": [
       "['122333c']"
      ]
     },
     "execution_count": 77,
     "metadata": {},
     "output_type": "execute_result"
    }
   ],
   "source": [
    "# Q. 122333c' 모두 출력하세요\n",
    "\n",
    "text = '122333c'\n",
    "re.findall('\\w+',text)"
   ]
  },
  {
   "cell_type": "code",
   "execution_count": 90,
   "id": "b62b6d0d",
   "metadata": {},
   "outputs": [
    {
     "data": {
      "text/plain": [
       "['122333c']"
      ]
     },
     "execution_count": 90,
     "metadata": {},
     "output_type": "execute_result"
    }
   ],
   "source": [
    "# Q. '122333c' 모두 출력하세요\n",
    "\n",
    "text = '122333c456'\n",
    "re.findall('12{2}3{3}c',text)"
   ]
  },
  {
   "cell_type": "code",
   "execution_count": 335,
   "id": "b4023f85",
   "metadata": {},
   "outputs": [
    {
     "data": {
      "text/plain": [
       "'aaaaBBBcccDDDeee'"
      ]
     },
     "execution_count": 335,
     "metadata": {},
     "output_type": "execute_result"
    }
   ],
   "source": [
    "# Q. 모두 출력하세요\n",
    "\n",
    "text = 'aaaaBBBcccDDDeee'\n",
    "re.findall('\\w+',text)\n",
    "\n",
    "text = 'aaaaBBBcccDDDeee'\n",
    "re.search('a{4}B{3}c{3}D{3}e{3}',text).group()"
   ]
  },
  {
   "cell_type": "code",
   "execution_count": null,
   "id": "b09468f2",
   "metadata": {},
   "outputs": [],
   "source": []
  },
  {
   "cell_type": "markdown",
   "id": "7e20fc6e",
   "metadata": {},
   "source": [
    "#### 과제1_0425\n",
    "\n",
    "BC, CC, ABC 모두 C가 출력되는 정규표현식을 ()에 작성하세요."
   ]
  },
  {
   "cell_type": "code",
   "execution_count": 79,
   "id": "118dd9cb",
   "metadata": {},
   "outputs": [
    {
     "name": "stdout",
     "output_type": "stream",
     "text": [
      "<re.Match object; span=(1, 2), match='C'>\n",
      "<re.Match object; span=(0, 1), match='C'>\n",
      "<re.Match object; span=(2, 3), match='C'>\n"
     ]
    }
   ],
   "source": [
    "pattern = re.compile('C')\n",
    "\n",
    "text1 = 'BC'\n",
    "text2 = 'CC'\n",
    "text3 = 'ABC'\n",
    "\n",
    "p1 = pattern.search(text1)\n",
    "p2 = pattern.search(text2)\n",
    "p3 = pattern.search(text3)\n",
    "\n",
    "print(p1)\n",
    "print(p2)\n",
    "print(p3)"
   ]
  },
  {
   "cell_type": "code",
   "execution_count": null,
   "id": "37342ac0",
   "metadata": {},
   "outputs": [],
   "source": []
  },
  {
   "cell_type": "markdown",
   "id": "43570f71",
   "metadata": {},
   "source": [
    "#### 과제2_0425\n",
    "'1234a1234'에서 '1','2','3','4'를 모두 출력하세요."
   ]
  },
  {
   "cell_type": "code",
   "execution_count": 95,
   "id": "5070b140",
   "metadata": {},
   "outputs": [
    {
     "name": "stdout",
     "output_type": "stream",
     "text": [
      "['1', '2', '3', '4']\n"
     ]
    }
   ],
   "source": [
    "text = '1234a1234'\n",
    "\n",
    "print(re.findall('\\d', text)[0:4])"
   ]
  },
  {
   "cell_type": "code",
   "execution_count": null,
   "id": "e9808729",
   "metadata": {},
   "outputs": [],
   "source": []
  },
  {
   "cell_type": "markdown",
   "id": "3d43a2f8",
   "metadata": {},
   "source": [
    "#### 과제3_0425\n",
    "'99food234,a93456\\n, a93356ba'에서 '99food234'만 출력하세요."
   ]
  },
  {
   "cell_type": "code",
   "execution_count": 100,
   "id": "95c2be29",
   "metadata": {},
   "outputs": [
    {
     "data": {
      "text/plain": [
       "'99food234'"
      ]
     },
     "execution_count": 100,
     "metadata": {},
     "output_type": "execute_result"
    }
   ],
   "source": [
    "text = '99food234,a93456\\n,a93356ba'\n",
    "re.findall('\\w+',text)[0]"
   ]
  },
  {
   "cell_type": "code",
   "execution_count": 13,
   "id": "48f38e9c",
   "metadata": {},
   "outputs": [
    {
     "data": {
      "text/plain": [
       "<re.Match object; span=(0, 9), match='99food234'>"
      ]
     },
     "execution_count": 13,
     "metadata": {},
     "output_type": "execute_result"
    }
   ],
   "source": [
    "text = \"99food234, a93456\\n, a9356ba\"\n",
    "\n",
    "pattern = \"\\w+\"\n",
    "re.search(pattern, text)"
   ]
  },
  {
   "cell_type": "code",
   "execution_count": null,
   "id": "e852e2f7",
   "metadata": {},
   "outputs": [],
   "source": []
  },
  {
   "cell_type": "code",
   "execution_count": 103,
   "id": "48dcc803",
   "metadata": {},
   "outputs": [
    {
     "name": "stdout",
     "output_type": "stream",
     "text": [
      "<re.Match object; span=(0, 4), match='life'>\n"
     ]
    }
   ],
   "source": [
    "text = 'life is too short'\n",
    "p = re.compile('[a-z]+')\n",
    "result = p.search(text)\n",
    "print(result)"
   ]
  },
  {
   "cell_type": "code",
   "execution_count": 104,
   "id": "ae5aeb7f",
   "metadata": {},
   "outputs": [
    {
     "name": "stdout",
     "output_type": "stream",
     "text": [
      "life\n",
      "is\n",
      "too\n",
      "short\n"
     ]
    }
   ],
   "source": [
    "result = p.finditer(text)\n",
    "for r in result:\n",
    "    print(r.group())"
   ]
  },
  {
   "cell_type": "code",
   "execution_count": 336,
   "id": "fcb6ff0a",
   "metadata": {},
   "outputs": [
    {
     "data": {
      "text/plain": [
       "['Python', 'is', 'very', 'good', 'programming', 'language']"
      ]
     },
     "execution_count": 336,
     "metadata": {},
     "output_type": "execute_result"
    }
   ],
   "source": [
    "# 모든 문자 출력 : findall, finditer\n",
    "# finditer() 함수는 findall() 함수와 동일한 역할을 하지만, 일치하는 모든 문자열을 순회 가능한 객체(iterator)로 반환\n",
    "text = ' Python3 is very good programming language!'\n",
    "re.findall('[a-zA-Z]+',text)"
   ]
  },
  {
   "cell_type": "code",
   "execution_count": 338,
   "id": "c34b50ae",
   "metadata": {},
   "outputs": [
    {
     "name": "stdout",
     "output_type": "stream",
     "text": [
      "Python\n",
      "is\n",
      "very\n",
      "good\n",
      "programming\n",
      "language\n"
     ]
    }
   ],
   "source": [
    "result = re.finditer('[a-zA-Z]+',text)\n",
    "for r in result:\n",
    "    print(r.group())"
   ]
  },
  {
   "cell_type": "code",
   "execution_count": 339,
   "id": "42901875",
   "metadata": {},
   "outputs": [
    {
     "name": "stdout",
     "output_type": "stream",
     "text": [
      "life\n",
      "None\n",
      "None\n"
     ]
    }
   ],
   "source": [
    "# match : 맨처음 매치되는 것만 나타내줌. 처음부터 매치가 안되면 None값\n",
    "\n",
    "text1 = 'life'\n",
    "text2 = '!!!oh my life'\n",
    "text3 = '7 is lucky number'\n",
    "print(re.match('[a-z]+',text1).group())\n",
    "print(re.match('[a-z]+',text2))\n",
    "print(re.match('[a-z]+',text3))"
   ]
  },
  {
   "cell_type": "code",
   "execution_count": 113,
   "id": "b9efb42b",
   "metadata": {},
   "outputs": [
    {
     "name": "stdout",
     "output_type": "stream",
     "text": [
      "<re.Match object; span=(0, 6), match='python'>\n",
      "python\n",
      "0\n",
      "6\n",
      "(0, 6)\n"
     ]
    }
   ],
   "source": [
    "# match 객체의 메서드\n",
    "\n",
    "m = re.match('[a-z]+','python')\n",
    "print(m)\n",
    "print(m.group())\n",
    "print(m.start())\n",
    "print(m.end())\n",
    "print(m.span())"
   ]
  },
  {
   "cell_type": "code",
   "execution_count": 115,
   "id": "f0851d5c",
   "metadata": {},
   "outputs": [
    {
     "name": "stdout",
     "output_type": "stream",
     "text": [
      "<re.Match object; span=(2, 8), match='python'>\n",
      "python\n",
      "2\n",
      "8\n",
      "(2, 8)\n"
     ]
    }
   ],
   "source": [
    "# search 객체의 메서드\n",
    "\n",
    "m = re.search('[a-z]+','3 python')\n",
    "print(m)\n",
    "print(m.group())\n",
    "print(m.start())\n",
    "print(m.end())\n",
    "print(m.span())"
   ]
  },
  {
   "cell_type": "code",
   "execution_count": null,
   "id": "8823fde1",
   "metadata": {},
   "outputs": [],
   "source": []
  },
  {
   "cell_type": "code",
   "execution_count": 341,
   "id": "fa4b4476",
   "metadata": {},
   "outputs": [
    {
     "name": "stdout",
     "output_type": "stream",
     "text": [
      "None\n",
      "<re.Match object; span=(0, 3), match='acb'>\n",
      "<re.Match object; span=(0, 6), match='a12?Ab'>\n"
     ]
    }
   ],
   "source": [
    "# Dot(.) 메타 문자는 줄바꿈 문자(\\n)을 제외한 모든 문자와 매치\n",
    "# \\n를 만나는 순간 멈추는 Dot(.) 메타 문자. \n",
    "\n",
    "text = ['a\\nb', 'acb', 'a12?Ab']\n",
    "for t in text:\n",
    "    r = re.match('a.+b',t)      #  a+b : a,b 사이에 문자 하나 이상은 있어야 함.  \n",
    "    print(r)"
   ]
  },
  {
   "cell_type": "code",
   "execution_count": 129,
   "id": "662590b3",
   "metadata": {},
   "outputs": [
    {
     "name": "stdout",
     "output_type": "stream",
     "text": [
      "<re.Match object; span=(4, 14), match='acb a12?Ab'>\n"
     ]
    }
   ],
   "source": [
    "text = 'a\\nb acb a12?Ab'\n",
    "m = re.search('a.*b',text)    # match는 처음부터 틀리면 None을 변환하는데 search는 다음으로 넘어가서 첫 단어만 안나오고 뒤에 쭉 나오는 것\n",
    "print(m)"
   ]
  },
  {
   "cell_type": "code",
   "execution_count": 131,
   "id": "684e1bf9",
   "metadata": {},
   "outputs": [
    {
     "name": "stdout",
     "output_type": "stream",
     "text": [
      "<re.Match object; span=(0, 3), match='a\\nb'>\n"
     ]
    }
   ],
   "source": [
    "# re.DOTALL 옵션은 여러 줄로 이루어진 문자열에서 \\n 에 상관없이 검색\n",
    "p = re.compile('a.b',re.DOTALL)         \n",
    "m = p.match('a\\nb')\n",
    "print(m)"
   ]
  },
  {
   "cell_type": "code",
   "execution_count": 132,
   "id": "5b1ebb81",
   "metadata": {},
   "outputs": [
    {
     "name": "stdout",
     "output_type": "stream",
     "text": [
      "what are you doing?\n"
     ]
    }
   ],
   "source": [
    "text = 'what are you doing?\\n it is going to be late for school'\n",
    "\n",
    "p = re.compile('.*')\n",
    "m = p.search(text)\n",
    "print(m.group())"
   ]
  },
  {
   "cell_type": "code",
   "execution_count": 133,
   "id": "56ea724e",
   "metadata": {},
   "outputs": [
    {
     "name": "stdout",
     "output_type": "stream",
     "text": [
      "what are you doing?\n",
      " it is going to be late for school\n"
     ]
    }
   ],
   "source": [
    "text = 'what are you doing?\\n it is going to be late for school'\n",
    "\n",
    "p = re.compile('.*',re.DOTALL)\n",
    "m = p.search(text)\n",
    "print(m.group())"
   ]
  },
  {
   "cell_type": "code",
   "execution_count": null,
   "id": "b43f712e",
   "metadata": {},
   "outputs": [],
   "source": []
  },
  {
   "cell_type": "markdown",
   "id": "17f8def2",
   "metadata": {},
   "source": [
    "#### 과제4_0425\n",
    "text에서 전체 문장 모두 출력하세요"
   ]
  },
  {
   "cell_type": "code",
   "execution_count": 151,
   "id": "5d24786d",
   "metadata": {},
   "outputs": [
    {
     "name": "stdout",
     "output_type": "stream",
     "text": [
      "what are you doing?\n",
      " it is going to be late for school\n",
      "we need to hurry up\n"
     ]
    }
   ],
   "source": [
    "text = 'what are you doing?\\n it is going to be late for school''\\nwe need to hurry up'\n",
    "    \n",
    "p = re.compile('.*',re.DOTALL)\n",
    "m = p.search(text)\n",
    "print(m.group())"
   ]
  },
  {
   "cell_type": "code",
   "execution_count": null,
   "id": "c0cbe571",
   "metadata": {},
   "outputs": [],
   "source": []
  },
  {
   "cell_type": "code",
   "execution_count": 138,
   "id": "b4376670",
   "metadata": {},
   "outputs": [
    {
     "data": {
      "text/plain": [
       "'pAthon'"
      ]
     },
     "execution_count": 138,
     "metadata": {},
     "output_type": "execute_result"
    }
   ],
   "source": [
    "re.match('[a-z]+','pAthon').group()      # 대문자가 있어서 p만 반환\n",
    "\n",
    "# re.IGNORECASE 또는 re.I 옵션은 대소문자 구문없이  매치를 수행\n",
    "re.match('[a-z]+','pAthon', re.I).group()"
   ]
  },
  {
   "cell_type": "code",
   "execution_count": null,
   "id": "02ed8aab",
   "metadata": {},
   "outputs": [],
   "source": []
  },
  {
   "cell_type": "markdown",
   "id": "1c7e5cf0",
   "metadata": {},
   "source": [
    "#### 과제5_0425\n",
    "\n",
    "아래 text의 내용을 모두 출력하세요"
   ]
  },
  {
   "cell_type": "code",
   "execution_count": 156,
   "id": "d0763276",
   "metadata": {},
   "outputs": [
    {
     "name": "stdout",
     "output_type": "stream",
     "text": [
      "pAthon\n",
      "PATHON\n",
      "pathon\n",
      "Pathon\n"
     ]
    }
   ],
   "source": [
    "text = ['pAthon','PATHON','pathon','Pathon']\n",
    "\n",
    "for t in text:\n",
    "    re.match('[a-z]+',t, re.I)\n",
    "    print(t)"
   ]
  },
  {
   "cell_type": "code",
   "execution_count": null,
   "id": "545622a0",
   "metadata": {},
   "outputs": [],
   "source": []
  },
  {
   "cell_type": "code",
   "execution_count": 143,
   "id": "e659c60d",
   "metadata": {},
   "outputs": [
    {
     "name": "stdout",
     "output_type": "stream",
     "text": [
      "Friend\n",
      "fRiend\n",
      "friEnd\n",
      "FRIEND\n"
     ]
    }
   ],
   "source": [
    "# Q.text에서 대소문자 구분없이 전체문장 모두 출력하세요\n",
    "\n",
    "text = \"Friend fRiend friEnd FRIEND\"\n",
    "list =re.findall('friend',text,re.I)\n",
    "for i in list:\n",
    "    print(i)"
   ]
  },
  {
   "cell_type": "code",
   "execution_count": 342,
   "id": "b4e2a31b",
   "metadata": {},
   "outputs": [
    {
     "data": {
      "text/plain": [
       "['python one']"
      ]
     },
     "execution_count": 342,
     "metadata": {},
     "output_type": "execute_result"
    }
   ],
   "source": [
    "data = \"\"\"python one\n",
    "life is too short\n",
    "python two\n",
    "ypu need python\n",
    "python three\"\"\"\n",
    "\n",
    "# ^ 파이썬이라는 문자열로 시작하고 그 뒤에 빈칸과 그 뒤에 단어가 오는 경우. 줄바꿈은 다 못알아먹어서 끝냄\n",
    "re.findall('^python\\s\\w+',data)"
   ]
  },
  {
   "cell_type": "code",
   "execution_count": 157,
   "id": "0403b248",
   "metadata": {},
   "outputs": [
    {
     "data": {
      "text/plain": [
       "['python one', 'python two', 'python three']"
      ]
     },
     "execution_count": 157,
     "metadata": {},
     "output_type": "execute_result"
    }
   ],
   "source": [
    "# re.MULTILINE 또는 re.M옵션으로 ^메타 문자를 각 라인의 처음으로 인식시킴\n",
    "\n",
    "re.findall('^python\\s\\w+',data,re.M)"
   ]
  },
  {
   "cell_type": "code",
   "execution_count": 158,
   "id": "e3e38a85",
   "metadata": {},
   "outputs": [],
   "source": [
    "# re.VERBOSE 또는 re.X : 이해하기 어려운 정규식을 주석 또는 라인 단위로 구분\n",
    "# charref = re.compile(r'&[#](0[0-7]+|[0-9]+|x[0-9a-fA-F]+);')\n",
    "\n",
    "charref = re.compile(r\"\"\"\n",
    "&[#]               # Start of a numeric entity reference\n",
    "(\n",
    "    0[0-7]+        # Octal form\n",
    "  | [0-9]+         # Decimal form \n",
    "  | x[0-9a-fA-F]+  # Hexadecimal form\n",
    ")\n",
    ";                  # Trailing semicolon \n",
    "\"\"\",re.VERBOSE)"
   ]
  },
  {
   "cell_type": "code",
   "execution_count": 344,
   "id": "83685ff7",
   "metadata": {},
   "outputs": [],
   "source": [
    "# 파이썬 문자열 리터럴 규칙에 의해 \\\\이 \\으로 변경되어 \\section이 전달\n",
    "p = re.compile('\\\\section')\n",
    "p.match('\\section')\n",
    "# p.findall('\\section\\section')"
   ]
  },
  {
   "cell_type": "code",
   "execution_count": 343,
   "id": "cacda4e5",
   "metadata": {},
   "outputs": [
    {
     "data": {
      "text/plain": [
       "<re.Match object; span=(0, 8), match='\\\\section'>"
      ]
     },
     "execution_count": 343,
     "metadata": {},
     "output_type": "execute_result"
    }
   ],
   "source": [
    "p = re.compile(r'\\\\section')     # 그래서 r 로우스트링을 해야함\n",
    "p.match('\\section')\n",
    "# p.findall('\\section\\section')\n",
    "\n",
    "\n",
    "# 정규식 문자열 앞에 r문자를 삽입하면 Raw String 규칙에 의하여 백슬래시 2개 대신 1개 사용"
   ]
  },
  {
   "cell_type": "code",
   "execution_count": 176,
   "id": "08fcb436",
   "metadata": {},
   "outputs": [
    {
     "data": {
      "text/plain": [
       "'Crow'"
      ]
     },
     "execution_count": 176,
     "metadata": {},
     "output_type": "execute_result"
    }
   ],
   "source": [
    "# |(or와 동일한 의미)\n",
    "\n",
    "re.match('Crow|Servo', 'CrowHello').group()"
   ]
  },
  {
   "cell_type": "code",
   "execution_count": 174,
   "id": "7537bd3d",
   "metadata": {},
   "outputs": [
    {
     "data": {
      "text/plain": [
       "'Life'"
      ]
     },
     "execution_count": 174,
     "metadata": {},
     "output_type": "execute_result"
    }
   ],
   "source": [
    "# ^(문자열의 맨처음), $(문자열의 끝과  매치)\n",
    "\n",
    "re.search('^Life', 'Life is too short').group()"
   ]
  },
  {
   "cell_type": "code",
   "execution_count": 171,
   "id": "0b0f3e9b",
   "metadata": {},
   "outputs": [
    {
     "data": {
      "text/plain": [
       "'Life'"
      ]
     },
     "execution_count": 171,
     "metadata": {},
     "output_type": "execute_result"
    }
   ],
   "source": [
    "re.search('Life$', 'My Life').group()"
   ]
  },
  {
   "cell_type": "code",
   "execution_count": 177,
   "id": "0922e22b",
   "metadata": {},
   "outputs": [
    {
     "data": {
      "text/plain": [
       "['Life', 'Life']"
      ]
     },
     "execution_count": 177,
     "metadata": {},
     "output_type": "execute_result"
    }
   ],
   "source": [
    "re.findall('^Life|Life$','Life My Life')"
   ]
  },
  {
   "cell_type": "code",
   "execution_count": 346,
   "id": "7e8aa206",
   "metadata": {},
   "outputs": [
    {
     "data": {
      "text/plain": [
       "['Life']"
      ]
     },
     "execution_count": 346,
     "metadata": {},
     "output_type": "execute_result"
    }
   ],
   "source": [
    "# \\A : 문자열의 처음과 매치. 단, re.MUTILINE 옵션 사용시 ^와는 달리 전체 문자열의 처음하고만 매치\n",
    "\n",
    "data = '''Life is too short\n",
    "Life is good\n",
    "Life is valuable'''\n",
    "re.findall('\\ALife', data, re.M)"
   ]
  },
  {
   "cell_type": "code",
   "execution_count": 345,
   "id": "65a1c70e",
   "metadata": {},
   "outputs": [
    {
     "data": {
      "text/plain": [
       "['Life', 'Life', 'Life']"
      ]
     },
     "execution_count": 345,
     "metadata": {},
     "output_type": "execute_result"
    }
   ],
   "source": [
    "data = '''Life is too short\n",
    "Life is good\n",
    "Life is valuable'''\n",
    "re.findall('^Life', data, re.M)"
   ]
  },
  {
   "cell_type": "code",
   "execution_count": 179,
   "id": "f78431c5",
   "metadata": {},
   "outputs": [
    {
     "data": {
      "text/plain": [
       "['good']"
      ]
     },
     "execution_count": 179,
     "metadata": {},
     "output_type": "execute_result"
    }
   ],
   "source": [
    "# \\Z : 문자열의 끝과 매치. 단, re.MUTILINE 옵션 사용시 $와는 달리 전체 문자열의 끝하고만 매치\n",
    "\n",
    "data = data1 = '''Life is too short\n",
    "Life is good\n",
    "Life is very good'''\n",
    "\n",
    "re.findall('good\\Z',data,re.M)"
   ]
  },
  {
   "cell_type": "code",
   "execution_count": 181,
   "id": "4e0bc8ae",
   "metadata": {},
   "outputs": [
    {
     "data": {
      "text/plain": [
       "['home']"
      ]
     },
     "execution_count": 181,
     "metadata": {},
     "output_type": "execute_result"
    }
   ],
   "source": [
    "# Q. home만 출력\n",
    "\n",
    "text = 'we are going home'\n",
    "\n",
    "re.findall('home\\Z',text,re.M)"
   ]
  },
  {
   "cell_type": "code",
   "execution_count": 183,
   "id": "03076a23",
   "metadata": {},
   "outputs": [
    {
     "data": {
      "text/plain": [
       "['home']"
      ]
     },
     "execution_count": 183,
     "metadata": {},
     "output_type": "execute_result"
    }
   ],
   "source": [
    "# Q. home만 출력\n",
    "\n",
    "text = 'home sweet'\n",
    "\n",
    "re.findall('\\Ahome',text,re.M)"
   ]
  },
  {
   "cell_type": "code",
   "execution_count": 189,
   "id": "5c6d5fb0",
   "metadata": {},
   "outputs": [
    {
     "data": {
      "text/plain": [
       "'199305'"
      ]
     },
     "execution_count": 189,
     "metadata": {},
     "output_type": "execute_result"
    }
   ],
   "source": [
    "# Q. '199305, 1923A, a93247'에서 '199305'만 출력하세요\n",
    "\n",
    "text = '199305, 1923A, a93247'\n",
    "re.findall('\\d+',text)[0]"
   ]
  },
  {
   "cell_type": "code",
   "execution_count": null,
   "id": "f6124201",
   "metadata": {},
   "outputs": [],
   "source": []
  },
  {
   "cell_type": "code",
   "execution_count": 195,
   "id": "c38423ff",
   "metadata": {},
   "outputs": [
    {
     "data": {
      "text/plain": [
       "'class'"
      ]
     },
     "execution_count": 195,
     "metadata": {},
     "output_type": "execute_result"
    }
   ],
   "source": [
    "# \\b : whitespace에 의해 구분\n",
    "\n",
    "text = 'no class at all'\n",
    "re.search(r'\\bclass\\b',text).group()      # 빈칸 사이에 class를 의미하는 \\b"
   ]
  },
  {
   "cell_type": "code",
   "execution_count": 347,
   "id": "5a9cc7c0",
   "metadata": {},
   "outputs": [
    {
     "data": {
      "text/plain": [
       "'class'"
      ]
     },
     "execution_count": 347,
     "metadata": {},
     "output_type": "execute_result"
    }
   ],
   "source": [
    "# \\b : whitespace에 의해 구분\n",
    "\n",
    "text = 'no class at all'\n",
    "re.search(r'class',text).group()      # 빈칸 사이에 class를 의미하는 \\b"
   ]
  },
  {
   "cell_type": "code",
   "execution_count": 295,
   "id": "24433202",
   "metadata": {},
   "outputs": [
    {
     "data": {
      "text/plain": [
       "'class'"
      ]
     },
     "execution_count": 295,
     "metadata": {},
     "output_type": "execute_result"
    }
   ],
   "source": [
    "# \\B : whitespace로 구분된 단어가 아닌 경우에만 매치\n",
    "\n",
    "text2 = 'the declassified algorithim'\n",
    "re.search(r'\\Bclass\\B', text2).group()\n",
    "# re.search(r'\\Bclass\\B', text1).group()"
   ]
  },
  {
   "cell_type": "code",
   "execution_count": 350,
   "id": "056ca08a",
   "metadata": {},
   "outputs": [],
   "source": [
    "# \\B : whitespace로 구분된 단어가 아닌 경우에만 매치\n",
    "\n",
    "text2 = 'the declassified algorithim'\n",
    "re.search(r'\\bclass\\b', text2)\n",
    "# re.search(r'\\Bclass\\B', text1).group()"
   ]
  },
  {
   "cell_type": "code",
   "execution_count": 220,
   "id": "2cd2aa3e",
   "metadata": {},
   "outputs": [
    {
     "name": "stdout",
     "output_type": "stream",
     "text": [
      "['에러 1122', '에러 1033', '에러 xxx']\n"
     ]
    }
   ],
   "source": [
    "# Q. 정규표현식을 사용하여 text에서 에러가 들어간 부분만 포함하는 리스트를 출력하세요.\n",
    "\n",
    "text = \"에러 1122, 레퍼런스 오류, 에러 1033, 아규먼트 오류, 에러 xxx\"\n",
    "print(re.findall(r'에러\\s\\w+', text))"
   ]
  },
  {
   "cell_type": "code",
   "execution_count": null,
   "id": "6e93c3b3",
   "metadata": {},
   "outputs": [],
   "source": []
  },
  {
   "cell_type": "markdown",
   "id": "64ef4c3f",
   "metadata": {},
   "source": [
    "#### 과제6_0425\n",
    "()에 정규표현식을 작성하여 아래와 같이 출력하세요."
   ]
  },
  {
   "cell_type": "code",
   "execution_count": 293,
   "id": "cc6e72ee",
   "metadata": {},
   "outputs": [
    {
     "name": "stdout",
     "output_type": "stream",
     "text": [
      "['apple', 'oranges', 'boys', 'girls', 'army', 'mr']\n"
     ]
    }
   ],
   "source": [
    "import re\n",
    "li = '1 apple, 5 oranges, 3 boys, 4 girls; 10 army| 11 mr'\n",
    "regex = re.compile('[a-z]+')\n",
    "list = regex.findall(li)\n",
    "print(list)"
   ]
  },
  {
   "cell_type": "code",
   "execution_count": null,
   "id": "44ec2222",
   "metadata": {},
   "outputs": [],
   "source": []
  },
  {
   "cell_type": "markdown",
   "id": "09fd59c1",
   "metadata": {},
   "source": [
    "#### 과제7_0425\n",
    "text에서 다음을 수행하세요.\n",
    "- 'H,h'만 출력하세요\n",
    "- 'H,h'가 아닌 것 모두를 출력하세요."
   ]
  },
  {
   "cell_type": "code",
   "execution_count": 19,
   "id": "b2dedaea",
   "metadata": {},
   "outputs": [
    {
     "name": "stdout",
     "output_type": "stream",
     "text": [
      "['H', 'h', 'h']\n"
     ]
    },
    {
     "data": {
      "text/plain": [
       "['e',\n",
       " 'l',\n",
       " 'l',\n",
       " 'o',\n",
       " ' ',\n",
       " 'm',\n",
       " 'y',\n",
       " ' ',\n",
       " 'f',\n",
       " 'r',\n",
       " 'i',\n",
       " 'e',\n",
       " 'n',\n",
       " 'd',\n",
       " '!',\n",
       " ' ',\n",
       " 'L',\n",
       " 'i',\n",
       " 'f',\n",
       " 'e',\n",
       " ' ',\n",
       " 'i',\n",
       " 's',\n",
       " ' ',\n",
       " 's',\n",
       " 'o',\n",
       " 'r',\n",
       " 't',\n",
       " ' ',\n",
       " 'y',\n",
       " 'o',\n",
       " 'u',\n",
       " ' ',\n",
       " 'n',\n",
       " 'e',\n",
       " 'e',\n",
       " 'd',\n",
       " ' ',\n",
       " 'P',\n",
       " 'y',\n",
       " 't',\n",
       " 'o',\n",
       " 'n',\n",
       " '!']"
      ]
     },
     "execution_count": 19,
     "metadata": {},
     "output_type": "execute_result"
    }
   ],
   "source": [
    "text = 'Hello my friend! Life is short you need Python!'\n",
    "\n",
    "print(re.findall('H|h',text))\n",
    "re.findall('[^H|h]',text) "
   ]
  },
  {
   "cell_type": "code",
   "execution_count": null,
   "id": "57136ee9",
   "metadata": {},
   "outputs": [],
   "source": []
  },
  {
   "cell_type": "code",
   "execution_count": 355,
   "id": "6a93f66a",
   "metadata": {},
   "outputs": [
    {
     "name": "stdout",
     "output_type": "stream",
     "text": [
      "<re.Match object; span=(0, 9), match='ABCABCABC'>\n",
      "ABCABCABC\n",
      "ABC\n"
     ]
    }
   ],
   "source": [
    "# 그룹핑\n",
    "# group(0) 매치된 전체 문자열, 중첩된 그룹 순서대로 1 첫번째 그룹, 2 두번째 그룹, n n번째 그룹\n",
    "\n",
    "text = 'ABCABCABC OK?'\n",
    "m = re.search('(ABC)+', text)\n",
    "print(m)\n",
    "print(m.group(0))\n",
    "print(m.group(1))"
   ]
  },
  {
   "cell_type": "markdown",
   "id": "5be03a21",
   "metadata": {},
   "source": [
    "#### Q. text에서 그룹핑을 사용하여 아래와 같이 출력하세요.\n",
    "\n",
    "- ABCDEF\n",
    "- AB\n",
    "- CD\n",
    "- EF"
   ]
  },
  {
   "cell_type": "code",
   "execution_count": 2,
   "id": "0a71b31b",
   "metadata": {},
   "outputs": [
    {
     "name": "stdout",
     "output_type": "stream",
     "text": [
      "('ABCDEF', 'AB', 'CD', 'EF')\n",
      "ABCDEF\n",
      "ABCDEF\n",
      "AB\n",
      "CD\n",
      "EF\n"
     ]
    }
   ],
   "source": [
    "import re\n",
    "text = 'DEFABCDEFDEF OK?'\n",
    "# m = re.search('(ABCDEF)+',text)\n",
    "# m2 = re.search('(AB)+',text)\n",
    "# m3 = re.search('(CD)+',text)\n",
    "# m4 = re.search('(EF)+',text)\n",
    "# print(m)\n",
    "# print(m2)\n",
    "# print(m3)\n",
    "# print(m4)\n",
    "\n",
    "m = re.search('((AB)(CD)(EF))', text)\n",
    "print(m.groups())\n",
    "print(m.group(0))\n",
    "print(m.group(1))\n",
    "print(m.group(2))\n",
    "print(m.group(3))\n",
    "print(m.group(4))"
   ]
  },
  {
   "cell_type": "code",
   "execution_count": null,
   "id": "85b82ad8",
   "metadata": {},
   "outputs": [],
   "source": []
  },
  {
   "cell_type": "code",
   "execution_count": 3,
   "id": "b2ce6880",
   "metadata": {},
   "outputs": [
    {
     "name": "stdout",
     "output_type": "stream",
     "text": [
      "<re.Match object; span=(0, 18), match='park 010-1234-1234'>\n",
      "('park', '010-1234-1234', '010')\n",
      "park\n",
      "010-1234-1234\n",
      "010\n"
     ]
    }
   ],
   "source": [
    "text = 'park 010-1234-1234'\n",
    "\n",
    "m = re.search(r'(\\w+)\\s+((\\d+)[-]\\d+[-]\\d+)', text)\n",
    "\n",
    "print(m)\n",
    "print(m.groups()) \n",
    "print(m.group(1))\n",
    "print(m.group(2))\n",
    "print(m.group(3))   \n",
    "              "
   ]
  },
  {
   "cell_type": "markdown",
   "id": "589ec655",
   "metadata": {},
   "source": [
    "#### 과제8_0425\n",
    "\n",
    "정규표현식을 사용하여 text에서 다음 사항을 수행하세요\n",
    "\n",
    "- 지역코드만 출력하세요\n",
    "- 지역코드 제외한 번호만 출력하세요\n"
   ]
  },
  {
   "cell_type": "code",
   "execution_count": 7,
   "id": "bce42d6f",
   "metadata": {},
   "outputs": [
    {
     "name": "stdout",
     "output_type": "stream",
     "text": [
      "('문의사항이', '있으면', '032-232-3245', '032', '으로', '연락주시기', '바랍니다')\n",
      "032\n",
      "032-232-3245\n"
     ]
    }
   ],
   "source": [
    "text = \"문의사항이 있으면 032-232-3245으로 연락주시기 바랍니다.\"\n",
    "\n",
    "m = re.search(r'(\\w+)\\s+(\\w+)\\s+((\\d+)[-]\\d+[-]\\d+)(\\w+)\\s+(\\w+)\\s+(\\w+)', text)\n",
    "\n",
    "print(m.groups())\n",
    "print(m.group(4)) \n",
    "print(m.group(3))   "
   ]
  },
  {
   "cell_type": "code",
   "execution_count": null,
   "id": "678119b2",
   "metadata": {},
   "outputs": [],
   "source": []
  },
  {
   "cell_type": "code",
   "execution_count": 6,
   "id": "c17681a1",
   "metadata": {},
   "outputs": [
    {
     "name": "stdout",
     "output_type": "stream",
     "text": [
      "('very',)\n",
      "very very\n"
     ]
    }
   ],
   "source": [
    "# \\1은 재참조 메타 문자로서 정규식의 첫번째 그룹을 지칭 : 2개의 동일한 단어가 연속적으로 사용되어야 매치되는 것.\n",
    "# Q. 'Paris is very very beautiful.'에서'very very '를 출력하세요\n",
    "\n",
    "text = 'Paris is very very beautiful'\n",
    "print(re.search(r'\\b(\\w+)\\s+\\1', text).groups())\n",
    "print(re.search(r'\\b(\\w+)\\s+\\1', text).group())"
   ]
  },
  {
   "cell_type": "code",
   "execution_count": null,
   "id": "6acf7835",
   "metadata": {},
   "outputs": [],
   "source": []
  },
  {
   "cell_type": "markdown",
   "id": "3245c01a",
   "metadata": {},
   "source": [
    "#### 과제9_0425\n",
    "아래 text에서 정규표현식을 사용하여 'the the the'를 출력하세요"
   ]
  },
  {
   "cell_type": "code",
   "execution_count": 278,
   "id": "59f01489",
   "metadata": {},
   "outputs": [
    {
     "data": {
      "text/plain": [
       "'the the the '"
      ]
     },
     "execution_count": 278,
     "metadata": {},
     "output_type": "execute_result"
    }
   ],
   "source": [
    "text = 'Paris in the the the spring'\n",
    "re.search(r'(the\\s)+', text).group()"
   ]
  },
  {
   "cell_type": "code",
   "execution_count": null,
   "id": "ad7b2922",
   "metadata": {},
   "outputs": [],
   "source": []
  },
  {
   "cell_type": "code",
   "execution_count": 11,
   "id": "e7edac35",
   "metadata": {},
   "outputs": [
    {
     "name": "stdout",
     "output_type": "stream",
     "text": [
      "abcdefghi\n",
      "e\n"
     ]
    }
   ],
   "source": [
    "# Q. 'abcdefghij' 에 대하여 중첩을 적용한 서브그룹 5개로 컴파일하여 group() 함수를 이용해 \n",
    "# 'abcdefghi'와 'e'를 출력하세요\n",
    "\n",
    "t = 'abcdefghij'\n",
    "m = re.search(r'(a(b(c(d(e)f)g)h)i)j',t)\n",
    "\n",
    "print(m.group(1))\n",
    "print(m.group(5))"
   ]
  },
  {
   "cell_type": "code",
   "execution_count": 12,
   "id": "1ba67feb",
   "metadata": {},
   "outputs": [
    {
     "name": "stdout",
     "output_type": "stream",
     "text": [
      "('abcdefghi', 'bcdefgh', 'cdefg', 'def', 'e')\n"
     ]
    }
   ],
   "source": [
    "# Q. 위 문제에서 모든 서브 그룹에 대한 문자열을 포함하는 튜플을 출력하세요.\n",
    "\n",
    "print(m.groups())"
   ]
  },
  {
   "cell_type": "code",
   "execution_count": null,
   "id": "c828aee4",
   "metadata": {},
   "outputs": [],
   "source": []
  },
  {
   "cell_type": "markdown",
   "id": "6a7a3db4",
   "metadata": {},
   "source": [
    "#### 그룹핑된 문자열에 이름 붙이기\n",
    "- 정규표현식에서 그룹핑된 문자열에 이름을 붙이는 방법은(?P\\<name>pattern)형식을 사용하는 것입니다. 이 때, name은 그룹에 붙일 이름이며 pattern은 그룹화할 정규식 패턴입니다."
   ]
  },
  {
   "cell_type": "code",
   "execution_count": 291,
   "id": "9b2060f1",
   "metadata": {},
   "outputs": [
    {
     "data": {
      "text/plain": [
       "'123-4565-7890'"
      ]
     },
     "execution_count": 291,
     "metadata": {},
     "output_type": "execute_result"
    }
   ],
   "source": [
    "text = \"John's phone number is 123-4565-7890.\"\n",
    "\n",
    "p = r'(?P<phone>\\d{3}-\\d{4}-\\d{4})'\n",
    "m = re.search(p,text)\n",
    "m.group('phone')"
   ]
  },
  {
   "cell_type": "code",
   "execution_count": null,
   "id": "09f069b9",
   "metadata": {},
   "outputs": [],
   "source": []
  },
  {
   "cell_type": "markdown",
   "id": "9fc5146b",
   "metadata": {},
   "source": [
    "#### 과제10_0425.\n",
    "이름으로 그룹을 참조하여 text 에서 Lots를 출력하세요.\n",
    "\n",
    "\n",
    "text = 'Lots of punctuation Lots of punctuation'"
   ]
  },
  {
   "cell_type": "code",
   "execution_count": 299,
   "id": "982b8dd8",
   "metadata": {},
   "outputs": [
    {
     "data": {
      "text/plain": [
       "'Lots'"
      ]
     },
     "execution_count": 299,
     "metadata": {},
     "output_type": "execute_result"
    }
   ],
   "source": [
    "import re\n",
    "\n",
    "text = 'Lots of punctuation Lots of punctuation'\n",
    "match = re.search(r'(?P<name>Lots)', text)\n",
    "match.group('name')"
   ]
  },
  {
   "cell_type": "code",
   "execution_count": null,
   "id": "67e11a8e",
   "metadata": {},
   "outputs": [],
   "source": []
  },
  {
   "cell_type": "code",
   "execution_count": 35,
   "id": "859e1ac1",
   "metadata": {},
   "outputs": [
    {
     "data": {
      "text/plain": [
       "'park'"
      ]
     },
     "execution_count": 35,
     "metadata": {},
     "output_type": "execute_result"
    }
   ],
   "source": [
    "# 그룹핑된 문자열에 이름 붙이기 : 확장 구문(?P<name>\\w+)\n",
    "\n",
    "text = \"park 010-1234-1234\"\n",
    "p = re.compile(r'(?P<name>\\w+)\\s+((\\d+)[-]\\d+[-]\\d+)')\n",
    "m = p.search(text)\n",
    "m.group('name')"
   ]
  },
  {
   "cell_type": "markdown",
   "id": "c451c91f",
   "metadata": {},
   "source": [
    "정규 표현식 패턴은 (?P<name>\\w+)\\s+((\\d+)[-]\\d+[-]\\d+) 입니다. 이 패턴은 두 개의 그룹으로 구성되어 있습니다.\n",
    "\n",
    "- 첫 번째 그룹은 (?P<name>\\w+)\n",
    "    - 이름 그룹, 하나 이상의 알파벳 문자 또는 숫자와 일치\n",
    "    - 이 그룹의 이름은 \"name\"\n",
    "- 두 번째 그룹은 ((\\d+)[-]\\d+[-]\\d+)\n",
    "    - 전화번호 그룹.하이픈으로 구분된 세 개의 숫자로 이루어진 전화번호와 일치\n",
    "    - 이 그룹은 세 개의 하위 그룹으로 구성\n",
    "        - 첫 번째 하위 그룹은 (\\d+)으로, 하나 이상의 숫자와 일치\n",
    "        - 두 번째와 세 번째 하위 그룹은 -와 하나 이상의 숫자로 이루어져 있습니다."
   ]
  },
  {
   "cell_type": "code",
   "execution_count": 39,
   "id": "bb6eef48",
   "metadata": {},
   "outputs": [
    {
     "data": {
      "text/plain": [
       "'the the'"
      ]
     },
     "execution_count": 39,
     "metadata": {},
     "output_type": "execute_result"
    }
   ],
   "source": [
    "# Q. 아래 text에서 그룹명 word를 이용하여 'the the'를 출력하세요.\n",
    "\n",
    "text = 'Paris in the the spring'\n",
    "p = re.compile('(?P<word>the)\\s(?P=word)')\n",
    "# p = re.compile('(?P<word>\\w+)\\s+(?P=word)')\n",
    "re.search(p,text).group()"
   ]
  },
  {
   "cell_type": "markdown",
   "id": "2bce63f3",
   "metadata": {},
   "source": [
    "#### 전방탐색\n",
    "전방탐색(Positive Lookahead)은 검색 중인 문자열에서 특정 패턴이 바로 뒤에 오는 경우를 찾아냅니다. 하지만 패턴이 일치해도 검색 대상 문자열 출력에는 포함되지 않습니다.\n",
    "\n",
    "#### 긍정탐색 (?=...), ex) (?<=@) :  \"@\"을 포함하는 문자열에서 \"@\" 문자열을 제외한 나머지 문자열에 대해 매칭\n",
    "\n",
    "긍정 탐색은 조건을 충족하는 부분을 찾을 때 사용됩니다. 이것은 일치하는 부분을 포함하고 일치하지 않는 부분을 탐색 결과에서 제외합니다. 긍정 탐색은 (?=...) 구문을 사용하여 정규식 안에서 표현됩니다. \n",
    "\n",
    "#### 부정탐색\n",
    "\n",
    "부정 탐색은 일치하지 않는 부분을 찾을 때 사용됩니다. 이것은 일치하지 않는 부분을 포함하지만, 탐색 결과에서 일치하는 부분을 제외합니다. 부정 탐색은 (?!...) 구문을 사용하여 정규식 안에서 표현됩니다."
   ]
  },
  {
   "cell_type": "code",
   "execution_count": 22,
   "id": "4e0c02a4",
   "metadata": {},
   "outputs": [
    {
     "name": "stdout",
     "output_type": "stream",
     "text": [
      "http:\n",
      "\n",
      "http\n"
     ]
    }
   ],
   "source": [
    "text = 'http://google.com'\n",
    "\n",
    "p = re.compile(r'.+:')\n",
    "m = p.search(text)\n",
    "\n",
    "print(m.group())\n",
    "\n",
    "print()\n",
    "\n",
    "p = re.compile(r'.+(?=:)')    # :에 해당되는 문자열이 정규식 엔진에 의해 소모되지 않음. 즉, 검색에는 포함되지만 출력은 그 앞까지만\n",
    "m1 = p.search(text)\n",
    "print(m1.group())"
   ]
  },
  {
   "cell_type": "code",
   "execution_count": null,
   "id": "ff0e9129",
   "metadata": {},
   "outputs": [],
   "source": [
    "# text에서 쉼포(,) 다음에 공백이 오는 부분만 매치\n",
    "# re.findall() 메소드를 사용하여 전체 문자열에서 정규식 패턴과 일치하는 모든 부분 탐색\n",
    "# 일치하는 문자열은 전방탐색 패턴에 해당하는 단어를 제외한 부분만 추출"
   ]
  },
  {
   "cell_type": "code",
   "execution_count": 29,
   "id": "0ac1446e",
   "metadata": {},
   "outputs": [
    {
     "data": {
      "text/plain": [
       "', '"
      ]
     },
     "execution_count": 29,
     "metadata": {},
     "output_type": "execute_result"
    }
   ],
   "source": [
    "# Q. text에서 ','만 출력하세요\n",
    "\n",
    "text = 'I love Python, Java, and JavaScript.'\n",
    "\n",
    "p = re.compile(r',\\s(?=\\w+)')\n",
    "p.search(text).group()\n"
   ]
  },
  {
   "cell_type": "code",
   "execution_count": 31,
   "id": "87da1771",
   "metadata": {},
   "outputs": [
    {
     "name": "stdout",
     "output_type": "stream",
     "text": [
      "foo.exe\n",
      "autoexec.bat\n",
      "sendmail.cf\n"
     ]
    }
   ],
   "source": [
    "list = ['foo.exe', 'autoexec.bat', 'sendmail.cf']\n",
    "p = re.compile('.*[.].*$')\n",
    "for i in list:\n",
    "    if p.match(i):\n",
    "        print(i)"
   ]
  },
  {
   "cell_type": "markdown",
   "id": "0d9af167",
   "metadata": {},
   "source": [
    "- .*는 줄바꿈 문자를 제외한 모든 문자를 0개 이상 매치합니다.\n",
    "- [.]는 점 문자(.)를 매치합니다.\n",
    "- .*는 줄바꿈 문자를 제외한 모든 문자를 0개 이상 매치합니다.\n",
    "- $는 문자열의 끝을 매치합니다."
   ]
  },
  {
   "cell_type": "code",
   "execution_count": 2,
   "id": "dee2980f",
   "metadata": {},
   "outputs": [
    {
     "name": "stdout",
     "output_type": "stream",
     "text": [
      "sendmail.cf\n"
     ]
    }
   ],
   "source": [
    "# Q. 상기 매치에서 부정탐색을 사용하여 sendmail.cf만 출력하세요\n",
    "import re\n",
    "list = ['foo.exe', 'autoexec.bat', 'sendmail.cf']\n",
    "p = re.compile('.*[.](?!bat$|exe$)')\n",
    "for i in list:\n",
    "    if p.match(i):\n",
    "        print(i)"
   ]
  },
  {
   "cell_type": "markdown",
   "id": "c86b426c",
   "metadata": {},
   "source": [
    "- .*는 줄 바꿈 문자를 제외한 모든 문자열을 0개 이상 매치합니다.\n",
    "- [.]는 점(.) 문자를 매치합니다.\n",
    "- (?!...)는 ...과 일치하지 않는 문자열을 매치합니다.\n",
    "- bat$는 'bat'으로 끝나는 문자열을 매치합니다.\n",
    "- 𝑒𝑥𝑒$는 '𝑒𝑥𝑒'로 끝나는 문자열을 매치합니다.\n",
    "\n",
    "-> 문자열의 끝이 'bat'이나 '𝑒𝑥𝑒'로 끝나지 않는 문자열"
   ]
  },
  {
   "cell_type": "code",
   "execution_count": null,
   "id": "ab49356b",
   "metadata": {},
   "outputs": [],
   "source": []
  },
  {
   "cell_type": "markdown",
   "id": "709bc77c",
   "metadata": {},
   "source": [
    "#### 과제1_0426\n",
    "아래 text에서 ['file2.pdf', 'file3.docx', 'file4.xlsx']만 출력하세요."
   ]
  },
  {
   "cell_type": "code",
   "execution_count": 13,
   "id": "582978b0",
   "metadata": {},
   "outputs": [
    {
     "name": "stdout",
     "output_type": "stream",
     "text": [
      "['file2.pdf', 'file3.docx', 'file4.xlsx']\n"
     ]
    }
   ],
   "source": [
    "text = \"file1.txt file2.pdf file3.docx file4.xlsx\"\n",
    "\n",
    "p = re.compile('\\w+[.](?!txt)\\w+')\n",
    "print(re.findall(p,text))"
   ]
  },
  {
   "cell_type": "code",
   "execution_count": null,
   "id": "c790c135",
   "metadata": {},
   "outputs": [],
   "source": []
  },
  {
   "cell_type": "code",
   "execution_count": 41,
   "id": "03024f72",
   "metadata": {},
   "outputs": [
    {
     "data": {
      "text/plain": [
       "'gmail.com'"
      ]
     },
     "execution_count": 41,
     "metadata": {},
     "output_type": "execute_result"
    }
   ],
   "source": [
    "# (?<=@) 전방탐색. @ 기호 이후에 오는 문자열을 찾음\n",
    "# [\\w.]+ 는 도메인 이름을 나타내는 패턴으로, 알파벳 대소문자, 숫자, 밑줄, 마침표를 포함\n",
    "# (?!\\d+)는 부정 탐색. 도메인 이름 이후에 오는 .com, .org 등의 문자열을 제외\n",
    "\n",
    "email = \"example@gmail.com\"\n",
    "p = r'(?<=@)[\\w.]+(?!\\d+)'\n",
    "re.search(p,email).group()"
   ]
  },
  {
   "cell_type": "code",
   "execution_count": null,
   "id": "4af59e7d",
   "metadata": {},
   "outputs": [],
   "source": []
  },
  {
   "cell_type": "markdown",
   "id": "53c9d57d",
   "metadata": {},
   "source": [
    "#### 과제 2_0426\n",
    "아래 email에서 정규표현식 (?<=@)을 이용하여 example만 출력하세요."
   ]
  },
  {
   "cell_type": "code",
   "execution_count": 17,
   "id": "5bf777dd",
   "metadata": {},
   "outputs": [
    {
     "name": "stdout",
     "output_type": "stream",
     "text": [
      "examle\n"
     ]
    }
   ],
   "source": [
    "email = \"john.doe@examle.com\"\n",
    "\n",
    "p = re.compile('(?<=@)\\w+')\n",
    "print(re.search(p,email).group())"
   ]
  },
  {
   "cell_type": "code",
   "execution_count": null,
   "id": "e47a8e73",
   "metadata": {},
   "outputs": [],
   "source": []
  },
  {
   "cell_type": "code",
   "execution_count": 47,
   "id": "c8283bc2",
   "metadata": {},
   "outputs": [
    {
     "name": "stdout",
     "output_type": "stream",
     "text": [
      "colour socks and colour shoes\n",
      "colour socks and red shoes\n",
      "('colour socks and colour shoes', 2)\n"
     ]
    }
   ],
   "source": [
    "# 문자열 바꾸기\n",
    "# sub 메서드를 사용하면 정규식과 매치되는 부분을 다른 문자로 쉽게 바꿀 수 있음\n",
    "\n",
    "text = 'blue socks and red shoes'\n",
    "p = re.compile('(blue|white|red)')          # 텍스트에서 해당되는 문자를\n",
    "print(p.sub('colour', text))                # colour로 대체\n",
    "\n",
    "print(p.sub('colour', text, count=1))       # 한 개만 적용시킨다는 횟수 제어 옵션\n",
    "\n",
    "print(p.subn('colour', text))      # 반환 결과를 튜플로 돌려주고, 바꾼 횟수도 표현해줌"
   ]
  },
  {
   "cell_type": "code",
   "execution_count": 48,
   "id": "05b30768",
   "metadata": {},
   "outputs": [
    {
     "name": "stdout",
     "output_type": "stream",
     "text": [
      "abc\n"
     ]
    }
   ],
   "source": [
    "# Q. '12345abc'에서 'abc'만 출력하세요\n",
    "\n",
    "str = '12345abc'\n",
    "p = re.compile('\\d+')\n",
    "print(p.sub('',str))"
   ]
  },
  {
   "cell_type": "code",
   "execution_count": 50,
   "id": "28021f91",
   "metadata": {},
   "outputs": [
    {
     "name": "stdout",
     "output_type": "stream",
     "text": [
      "12345\n"
     ]
    }
   ],
   "source": [
    "# Q. '12345abc'에서 '12345'만 출력하세요\n",
    "\n",
    "str = '12345abc'\n",
    "p = re.compile('[a-z]')\n",
    "# p = re.compile('\\D+')\n",
    "print(p.sub('',str))"
   ]
  },
  {
   "cell_type": "code",
   "execution_count": 59,
   "id": "88676753",
   "metadata": {},
   "outputs": [
    {
     "name": "stdout",
     "output_type": "stream",
     "text": [
      "010-1234-1234 park\n"
     ]
    }
   ],
   "source": [
    "# 이름 + 전화번호 순서의 문자열을 전화번호 + 이름으로 순서를 바꿈\n",
    "\n",
    "text = \"park 010-1234-1234\"\n",
    "p = re.compile(r'(?P<name>\\w+)\\s+(?P<phone>(\\d+)[-](\\d+)[-](\\d+))')\n",
    "print(p.sub(\"\\g<phone> \\g<name>\", text))"
   ]
  },
  {
   "cell_type": "code",
   "execution_count": 60,
   "id": "16caa0f4",
   "metadata": {},
   "outputs": [
    {
     "name": "stdout",
     "output_type": "stream",
     "text": [
      "010-1234-1234 park\n"
     ]
    }
   ],
   "source": [
    "# 그룹 이름 대신 참조 번호를 사용할 수 있음\n",
    "print(p.sub(\"\\g<2> \\g<1>\", text))"
   ]
  },
  {
   "cell_type": "code",
   "execution_count": null,
   "id": "45ff09de",
   "metadata": {},
   "outputs": [],
   "source": []
  },
  {
   "cell_type": "code",
   "execution_count": 62,
   "id": "a139172a",
   "metadata": {},
   "outputs": [
    {
     "data": {
      "text/plain": [
       "'Call 0xffd2 for printing, 0xc000 for user code.'"
      ]
     },
     "execution_count": 62,
     "metadata": {},
     "output_type": "execute_result"
    }
   ],
   "source": [
    "# sub 메서드의 매개변수로 함수 넣기\n",
    "\n",
    "def hexrepl(match):           # 16진수로 변환하는 함수\n",
    "    value = int(match.group())\n",
    "    return hex(value)\n",
    "\n",
    "text = \"Call 65490 for printing, 49152 for user code.\"\n",
    "p = re.compile(r'\\d+')\n",
    "p.sub(hexrepl, text)"
   ]
  },
  {
   "cell_type": "code",
   "execution_count": null,
   "id": "11d3e9a6",
   "metadata": {},
   "outputs": [],
   "source": []
  },
  {
   "cell_type": "markdown",
   "id": "52cd3a55",
   "metadata": {},
   "source": [
    "#### 과제3_0426\n",
    "창의적인 사용자 함수를 생성하여 sub 메서드의 매개변수로 적용하는 사례를 작성하세요."
   ]
  },
  {
   "cell_type": "code",
   "execution_count": null,
   "id": "b6a8987d",
   "metadata": {},
   "outputs": [],
   "source": []
  },
  {
   "cell_type": "code",
   "execution_count": null,
   "id": "6875bc16",
   "metadata": {},
   "outputs": [],
   "source": []
  },
  {
   "cell_type": "markdown",
   "id": "1f22509b",
   "metadata": {},
   "source": [
    "정규표현식에서 greedy와 nongreedy는 매칭(matching) 과정에서 사용되는 용어입니다.\n",
    "\n",
    "- Greedy: 가능한 가장 긴 문자열을 매칭하는 방식입니다. 즉, 매칭할 수 있는 최대한의 문자열을 선택합니다. 예를 들어, .*는 0개 이상의 어떤 문자든지 가능한 최대한의 문자열을 매칭합니다.\n",
    "\n",
    "- Nongreedy (또는 Lazy): 가능한 가장 짧은 문자열을 매칭하는 방식입니다. 즉, 매칭할 수 있는 최소한의 문자열만 선택합니다. 예를 들어, .*?는 0개 이상의 어떤 문자든지 가능한 최소한의 문자열을 매칭합니다."
   ]
  },
  {
   "cell_type": "code",
   "execution_count": 64,
   "id": "55a1f70e",
   "metadata": {},
   "outputs": [
    {
     "name": "stdout",
     "output_type": "stream",
     "text": [
      "123\n",
      "1\n"
     ]
    }
   ],
   "source": [
    "text = \"There are 123 apples and 456 bananas\"\n",
    "\n",
    "p_greedy = re.compile(r'\\d+')\n",
    "p_nongreedy = re.compile(r'\\d+?')\n",
    "mg = p_greedy.search(text)\n",
    "mng = p_nongreedy.search(text)\n",
    "print(mg.group())\n",
    "print(mng.group())"
   ]
  },
  {
   "cell_type": "code",
   "execution_count": 69,
   "id": "f8a5f616",
   "metadata": {},
   "outputs": [
    {
     "name": "stdout",
     "output_type": "stream",
     "text": [
      "<html><head><title>Title</title>\n"
     ]
    },
    {
     "data": {
      "text/plain": [
       "'<html>'"
      ]
     },
     "execution_count": 69,
     "metadata": {},
     "output_type": "execute_result"
    }
   ],
   "source": [
    "# Q. 주어진 s에서 최대한의 문자열인 <html><head><title>Title</title> 과 최소한의 문자열인 <html>를 각각 출력하세요\n",
    "\n",
    "s = '<html><head><title>Title</title>'\n",
    "\n",
    "print(re.search('<.+>',s).group())\n",
    "re.search('<.+?>',s).group()"
   ]
  },
  {
   "cell_type": "code",
   "execution_count": null,
   "id": "dc4ef75e",
   "metadata": {},
   "outputs": [],
   "source": []
  },
  {
   "cell_type": "code",
   "execution_count": null,
   "id": "ffe7bb42",
   "metadata": {},
   "outputs": [],
   "source": []
  },
  {
   "cell_type": "code",
   "execution_count": null,
   "id": "b04c9f09",
   "metadata": {},
   "outputs": [],
   "source": []
  },
  {
   "cell_type": "code",
   "execution_count": null,
   "id": "cb245e32",
   "metadata": {},
   "outputs": [],
   "source": []
  },
  {
   "cell_type": "code",
   "execution_count": null,
   "id": "d1874b76",
   "metadata": {},
   "outputs": [],
   "source": []
  },
  {
   "cell_type": "code",
   "execution_count": null,
   "id": "1ddfb7e5",
   "metadata": {},
   "outputs": [],
   "source": []
  },
  {
   "cell_type": "code",
   "execution_count": null,
   "id": "a9ff4ddf",
   "metadata": {},
   "outputs": [],
   "source": []
  },
  {
   "cell_type": "code",
   "execution_count": null,
   "id": "07835648",
   "metadata": {},
   "outputs": [],
   "source": []
  }
 ],
 "metadata": {
  "kernelspec": {
   "display_name": "Python 3 (ipykernel)",
   "language": "python",
   "name": "python3"
  },
  "language_info": {
   "codemirror_mode": {
    "name": "ipython",
    "version": 3
   },
   "file_extension": ".py",
   "mimetype": "text/x-python",
   "name": "python",
   "nbconvert_exporter": "python",
   "pygments_lexer": "ipython3",
   "version": "3.9.13"
  }
 },
 "nbformat": 4,
 "nbformat_minor": 5
}
