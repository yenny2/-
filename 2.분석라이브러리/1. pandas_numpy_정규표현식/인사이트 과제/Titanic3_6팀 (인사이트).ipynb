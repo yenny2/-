{
 "cells": [
  {
   "cell_type": "markdown",
   "id": "4f4becd9",
   "metadata": {
    "id": "4f4becd9"
   },
   "source": [
    "## Titanic3\n",
    "- 생존자 예측 모델 개발을 위한 분석 셋"
   ]
  },
  {
   "cell_type": "markdown",
   "id": "f695fde1",
   "metadata": {
    "id": "f695fde1"
   },
   "source": [
    "### 과제\n",
    ": 타이타닉 생존자 예측모델 개발을 위한 전처리 및 통계적 시각적 탐색을 통하여 최적의 분석용 데이터셋을 작성하세요.\n",
    "\n",
    "#### Titanic data 전처리\n",
    "- 분석 데이터 : titanic3.csv\n",
    "- 재사용 가능한 전처리 사용자 함수 작성 하여 전처리\n",
    "    - Null 값 처리 : Age는 평균나이, 나머지 칼럼은 'N'값으로 변경\n",
    "    - 불필요한 속성 칼럼 삭제\n",
    "    - 문자열 칼럼 레이블 인코딩\n",
    "- 통계적, 시각적 탐색을 통한 다양한 인사이트 도출\n",
    "- 탐색적 분석을 통한 feature engineering, 파생변수 \n",
    "\n",
    "#### 컬럼 정보\n",
    "\n",
    "- survived : 생존여부(1: 생존, 0 : 사망)\n",
    "- pclass : 승선권 클래스(1 : 1st, 2 : 2nd ,3 : 3rd)\n",
    "- name : 승객 이름\n",
    "- sex : 승객 성별\n",
    "- age : 승객 나이\n",
    "- sibsp : 동반한 형제자매, 배우자 수\n",
    "- parch : 동반한 부모, 자식 수\n",
    "- ticket : 티켓의 고유 넘버\n",
    "- fare 티켓의 요금\n",
    "- cabin : 객실 번호\n",
    "- embarked : 승선한 항구명(C : Cherbourg, Q : Queenstown, S : Southampton)\n",
    "- boat\n",
    "- body\n",
    "- home.dest"
   ]
  },
  {
   "cell_type": "code",
   "execution_count": 2,
   "id": "c91f381c",
   "metadata": {
    "id": "c91f381c"
   },
   "outputs": [],
   "source": [
    "import warnings\n",
    "warnings.filterwarnings('ignore')\n",
    "\n",
    "import random\n",
    "import numpy as np\n",
    "from numpy import random as npr\n",
    "import pandas as pd\n",
    "import matplotlib.pyplot as plt\n",
    "import seaborn as sns\n",
    "\n",
    "from matplotlib import rc\n",
    "rc('font', family='Malgun Gothic')      #한글 폰트설정\n",
    "plt.rcParams['axes.unicode_minus']=False      #마이너스 부호 출력 설정"
   ]
  },
  {
   "cell_type": "code",
   "execution_count": 4,
   "id": "736105aa",
   "metadata": {
    "colab": {
     "base_uri": "https://localhost:8080/",
     "height": 400
    },
    "executionInfo": {
     "elapsed": 1435,
     "status": "error",
     "timestamp": 1680770086402,
     "user": {
      "displayName": "윤예은",
      "userId": "04940909667415744758"
     },
     "user_tz": -540
    },
    "id": "736105aa",
    "outputId": "8bbc044d-4c59-4094-f7a9-107122c4d067"
   },
   "outputs": [],
   "source": [
    "df = pd.read_csv('C:\\hmkd1\\m2_분석라이브러리\\dataset/titanic3.csv',encoding='euc-kr')\n",
    "\n",
    "# # 분석용 데이터 셋\n",
    "# df.to_pickle('../dataset/tt3.pkl')\n",
    "# df = pd.read_pickle('../dataset/tt3.pkl')"
   ]
  },
  {
   "cell_type": "code",
   "execution_count": 5,
   "id": "2ff26c0d",
   "metadata": {
    "id": "2ff26c0d",
    "outputId": "5010f5a0-6f47-4077-9bd8-a3c463f8a389"
   },
   "outputs": [
    {
     "name": "stdout",
     "output_type": "stream",
     "text": [
      "<class 'pandas.core.frame.DataFrame'>\n",
      "RangeIndex: 1309 entries, 0 to 1308\n",
      "Data columns (total 14 columns):\n",
      " #   Column     Non-Null Count  Dtype  \n",
      "---  ------     --------------  -----  \n",
      " 0   pclass     1309 non-null   int64  \n",
      " 1   survived   1309 non-null   int64  \n",
      " 2   name       1309 non-null   object \n",
      " 3   sex        1309 non-null   object \n",
      " 4   age        1046 non-null   float64\n",
      " 5   sibsp      1309 non-null   int64  \n",
      " 6   parch      1309 non-null   int64  \n",
      " 7   ticket     1309 non-null   object \n",
      " 8   fare       1308 non-null   float64\n",
      " 9   cabin      295 non-null    object \n",
      " 10  embarked   1307 non-null   object \n",
      " 11  boat       486 non-null    object \n",
      " 12  body       121 non-null    float64\n",
      " 13  home.dest  745 non-null    object \n",
      "dtypes: float64(3), int64(4), object(7)\n",
      "memory usage: 143.3+ KB\n"
     ]
    }
   ],
   "source": [
    "df.info()"
   ]
  },
  {
   "cell_type": "code",
   "execution_count": 6,
   "id": "33b0b000",
   "metadata": {
    "id": "33b0b000"
   },
   "outputs": [],
   "source": [
    "#### fare열 결측치 평균값으로 치환\n",
    "df['fare'].replace(np.nan, df['fare'].mean(),inplace=True)"
   ]
  },
  {
   "cell_type": "code",
   "execution_count": 7,
   "id": "cf5818b0",
   "metadata": {
    "id": "cf5818b0"
   },
   "outputs": [],
   "source": [
    "# body','ticket', 'home.dest','boat' 열 삭제\n",
    "# family: sibsp + parch 동승한 가족들 수\n",
    "df = df.drop(['body','ticket', 'home.dest','boat','name'], axis=1)\n",
    "df['family'] = df['sibsp'] + df['parch']"
   ]
  },
  {
   "cell_type": "code",
   "execution_count": 8,
   "id": "4c09956b",
   "metadata": {
    "id": "4c09956b"
   },
   "outputs": [],
   "source": [
    "#### 항구: 가장 많이 나온 값으로 변경\n",
    "mvalue = df['embarked'].value_counts(dropna=True).idxmax()\n",
    "df['embarked'].fillna(mvalue, inplace=True)"
   ]
  },
  {
   "cell_type": "code",
   "execution_count": 9,
   "id": "8c7a9e57",
   "metadata": {
    "id": "8c7a9e57",
    "outputId": "d3c43a8b-8af4-4edf-f5b4-7c75f5201f6d"
   },
   "outputs": [
    {
     "data": {
      "text/html": [
       "<div>\n",
       "<style scoped>\n",
       "    .dataframe tbody tr th:only-of-type {\n",
       "        vertical-align: middle;\n",
       "    }\n",
       "\n",
       "    .dataframe tbody tr th {\n",
       "        vertical-align: top;\n",
       "    }\n",
       "\n",
       "    .dataframe thead th {\n",
       "        text-align: right;\n",
       "    }\n",
       "</style>\n",
       "<table border=\"1\" class=\"dataframe\">\n",
       "  <thead>\n",
       "    <tr style=\"text-align: right;\">\n",
       "      <th></th>\n",
       "      <th>pclass</th>\n",
       "      <th>survived</th>\n",
       "      <th>sex</th>\n",
       "      <th>age</th>\n",
       "      <th>sibsp</th>\n",
       "      <th>parch</th>\n",
       "      <th>fare</th>\n",
       "      <th>cabin</th>\n",
       "      <th>embarked</th>\n",
       "      <th>family</th>\n",
       "    </tr>\n",
       "  </thead>\n",
       "  <tbody>\n",
       "    <tr>\n",
       "      <th>0</th>\n",
       "      <td>1</td>\n",
       "      <td>1</td>\n",
       "      <td>female</td>\n",
       "      <td>29.00</td>\n",
       "      <td>0</td>\n",
       "      <td>0</td>\n",
       "      <td>211.3375</td>\n",
       "      <td>B5</td>\n",
       "      <td>S</td>\n",
       "      <td>0</td>\n",
       "    </tr>\n",
       "    <tr>\n",
       "      <th>1</th>\n",
       "      <td>1</td>\n",
       "      <td>1</td>\n",
       "      <td>male</td>\n",
       "      <td>0.92</td>\n",
       "      <td>1</td>\n",
       "      <td>2</td>\n",
       "      <td>151.5500</td>\n",
       "      <td>C22 C26</td>\n",
       "      <td>S</td>\n",
       "      <td>3</td>\n",
       "    </tr>\n",
       "    <tr>\n",
       "      <th>2</th>\n",
       "      <td>1</td>\n",
       "      <td>0</td>\n",
       "      <td>female</td>\n",
       "      <td>2.00</td>\n",
       "      <td>1</td>\n",
       "      <td>2</td>\n",
       "      <td>151.5500</td>\n",
       "      <td>C22 C26</td>\n",
       "      <td>S</td>\n",
       "      <td>3</td>\n",
       "    </tr>\n",
       "    <tr>\n",
       "      <th>3</th>\n",
       "      <td>1</td>\n",
       "      <td>0</td>\n",
       "      <td>male</td>\n",
       "      <td>30.00</td>\n",
       "      <td>1</td>\n",
       "      <td>2</td>\n",
       "      <td>151.5500</td>\n",
       "      <td>C22 C26</td>\n",
       "      <td>S</td>\n",
       "      <td>3</td>\n",
       "    </tr>\n",
       "    <tr>\n",
       "      <th>4</th>\n",
       "      <td>1</td>\n",
       "      <td>0</td>\n",
       "      <td>female</td>\n",
       "      <td>25.00</td>\n",
       "      <td>1</td>\n",
       "      <td>2</td>\n",
       "      <td>151.5500</td>\n",
       "      <td>C22 C26</td>\n",
       "      <td>S</td>\n",
       "      <td>3</td>\n",
       "    </tr>\n",
       "  </tbody>\n",
       "</table>\n",
       "</div>"
      ],
      "text/plain": [
       "   pclass  survived     sex    age  sibsp  parch      fare    cabin embarked  \\\n",
       "0       1         1  female  29.00      0      0  211.3375       B5        S   \n",
       "1       1         1    male   0.92      1      2  151.5500  C22 C26        S   \n",
       "2       1         0  female   2.00      1      2  151.5500  C22 C26        S   \n",
       "3       1         0    male  30.00      1      2  151.5500  C22 C26        S   \n",
       "4       1         0  female  25.00      1      2  151.5500  C22 C26        S   \n",
       "\n",
       "   family  \n",
       "0       0  \n",
       "1       3  \n",
       "2       3  \n",
       "3       3  \n",
       "4       3  "
      ]
     },
     "execution_count": 9,
     "metadata": {},
     "output_type": "execute_result"
    }
   ],
   "source": [
    "df.head()"
   ]
  },
  {
   "cell_type": "code",
   "execution_count": 10,
   "id": "cb6312ce",
   "metadata": {
    "id": "cb6312ce",
    "outputId": "7022dcb0-326d-4e02-8512-35a6b8699971"
   },
   "outputs": [
    {
     "data": {
      "text/plain": [
       "저가      673\n",
       "중가      452\n",
       "고가      146\n",
       "프리미엄     38\n",
       "Name: fare_cat, dtype: int64"
      ]
     },
     "execution_count": 10,
     "metadata": {},
     "output_type": "execute_result"
    }
   ],
   "source": [
    "#### 가격 범주화\n",
    "def get_cate(fare):\n",
    "    cat=''\n",
    "    if fare<=15: cat='저가'\n",
    "    elif fare<=60: cat='중가'\n",
    "    elif fare<=200: cat='고가'\n",
    "    else: cat='프리미엄'\n",
    "    return cat\n",
    "\n",
    "df['fare_cat']=df.fare.apply(lambda x: get_cate(x))\n",
    "df.fare_cat.value_counts()"
   ]
  },
  {
   "cell_type": "code",
   "execution_count": 11,
   "id": "954ed377",
   "metadata": {
    "id": "954ed377"
   },
   "outputs": [],
   "source": [
    "#### age: nan값 처리\n",
    "df['age'].replace(np.nan, 1000, inplace=True)\n",
    "\n",
    "idx1 = df['age']==1000\n",
    "bal=pd.DataFrame(df.age[idx1])\n",
    "bal[::] = pd.DataFrame(np.random.randint(21,40,size=len(bal[::])))\n",
    "df.age[idx1]=bal.age\n",
    "\n",
    "# df['age'].replace(np.nan, 30, inplace=True)"
   ]
  },
  {
   "cell_type": "code",
   "execution_count": 12,
   "id": "394efcad",
   "metadata": {
    "id": "394efcad",
    "outputId": "faf7ad86-fb91-47b2-d39f-a3782b5d20cf"
   },
   "outputs": [
    {
     "data": {
      "text/plain": [
       "<AxesSubplot:ylabel='Frequency'>"
      ]
     },
     "execution_count": 12,
     "metadata": {},
     "output_type": "execute_result"
    },
    {
     "data": {
      "image/png": "[encoded data removed]",
      "text/plain": [
       "<Figure size 640x480 with 1 Axes>"
      ]
     },
     "metadata": {},
     "output_type": "display_data"
    }
   ],
   "source": [
    "df.age.plot(kind='hist')"
   ]
  },
  {
   "cell_type": "code",
   "execution_count": 13,
   "id": "0c23be85",
   "metadata": {
    "id": "0c23be85"
   },
   "outputs": [],
   "source": [
    "#### 나이 범주화\n",
    "def get_age(age):\n",
    "    cat = ''\n",
    "    if age < 5: cat='Baby'\n",
    "    elif age < 15: cat= 'Child'\n",
    "    elif age < 21: cat= 'Young Adult'\n",
    "    elif age < 49: cat='Adult'\n",
    "    elif age < 70: cat='Old'\n",
    "    else: cat = 'Elder'\n",
    "    return cat\n",
    "\n",
    "df['age_cat'] = df.age.apply(lambda x: get_age(x))"
   ]
  },
  {
   "cell_type": "code",
   "execution_count": 14,
   "id": "5407a9e1",
   "metadata": {
    "id": "5407a9e1"
   },
   "outputs": [],
   "source": [
    "#### 객실 구역 나누기\n",
    "df['cabin'].replace(np.nan, 'X', inplace=True)\n",
    "idx1 = df['cabin'].str.contains('A')\n",
    "idx2 = df['cabin'].str.contains('B')\n",
    "idx3 = df['cabin'].str.contains('C')\n",
    "idx4 = df['cabin'].str.contains('D')\n",
    "idx5 = df['cabin'].str.contains('E')\n",
    "idx6 = df['cabin'].str.contains('F')\n",
    "idx7 = df['cabin'].str.contains('G')\n",
    "\n",
    "df['cabin'][idx1] = 'A'\n",
    "df['cabin'][idx2] = 'B'\n",
    "df['cabin'][idx3] = 'C'\n",
    "df['cabin'][idx4] = 'D'\n",
    "df['cabin'][idx5] = 'E'\n",
    "df['cabin'][idx6] = 'F'\n",
    "df['cabin'][idx7] = 'G'"
   ]
  },
  {
   "cell_type": "code",
   "execution_count": 15,
   "id": "3c6a7653",
   "metadata": {
    "id": "3c6a7653",
    "outputId": "5ee5759d-980f-4b53-de33-c2ec4bf0dcee",
    "scrolled": false
   },
   "outputs": [
    {
     "data": {
      "text/html": [
       "<div>\n",
       "<style scoped>\n",
       "    .dataframe tbody tr th:only-of-type {\n",
       "        vertical-align: middle;\n",
       "    }\n",
       "\n",
       "    .dataframe tbody tr th {\n",
       "        vertical-align: top;\n",
       "    }\n",
       "\n",
       "    .dataframe thead th {\n",
       "        text-align: right;\n",
       "    }\n",
       "</style>\n",
       "<table border=\"1\" class=\"dataframe\">\n",
       "  <thead>\n",
       "    <tr style=\"text-align: right;\">\n",
       "      <th></th>\n",
       "      <th>pclass</th>\n",
       "      <th>survived</th>\n",
       "      <th>sex</th>\n",
       "      <th>age</th>\n",
       "      <th>sibsp</th>\n",
       "      <th>parch</th>\n",
       "      <th>fare</th>\n",
       "      <th>cabin</th>\n",
       "      <th>embarked</th>\n",
       "      <th>family</th>\n",
       "      <th>fare_cat</th>\n",
       "      <th>age_cat</th>\n",
       "    </tr>\n",
       "  </thead>\n",
       "  <tbody>\n",
       "    <tr>\n",
       "      <th>0</th>\n",
       "      <td>1</td>\n",
       "      <td>1</td>\n",
       "      <td>female</td>\n",
       "      <td>29.00</td>\n",
       "      <td>0</td>\n",
       "      <td>0</td>\n",
       "      <td>211.3375</td>\n",
       "      <td>B</td>\n",
       "      <td>S</td>\n",
       "      <td>0</td>\n",
       "      <td>프리미엄</td>\n",
       "      <td>Adult</td>\n",
       "    </tr>\n",
       "    <tr>\n",
       "      <th>1</th>\n",
       "      <td>1</td>\n",
       "      <td>1</td>\n",
       "      <td>male</td>\n",
       "      <td>0.92</td>\n",
       "      <td>1</td>\n",
       "      <td>2</td>\n",
       "      <td>151.5500</td>\n",
       "      <td>C</td>\n",
       "      <td>S</td>\n",
       "      <td>3</td>\n",
       "      <td>고가</td>\n",
       "      <td>Baby</td>\n",
       "    </tr>\n",
       "    <tr>\n",
       "      <th>2</th>\n",
       "      <td>1</td>\n",
       "      <td>0</td>\n",
       "      <td>female</td>\n",
       "      <td>2.00</td>\n",
       "      <td>1</td>\n",
       "      <td>2</td>\n",
       "      <td>151.5500</td>\n",
       "      <td>C</td>\n",
       "      <td>S</td>\n",
       "      <td>3</td>\n",
       "      <td>고가</td>\n",
       "      <td>Baby</td>\n",
       "    </tr>\n",
       "    <tr>\n",
       "      <th>3</th>\n",
       "      <td>1</td>\n",
       "      <td>0</td>\n",
       "      <td>male</td>\n",
       "      <td>30.00</td>\n",
       "      <td>1</td>\n",
       "      <td>2</td>\n",
       "      <td>151.5500</td>\n",
       "      <td>C</td>\n",
       "      <td>S</td>\n",
       "      <td>3</td>\n",
       "      <td>고가</td>\n",
       "      <td>Adult</td>\n",
       "    </tr>\n",
       "    <tr>\n",
       "      <th>4</th>\n",
       "      <td>1</td>\n",
       "      <td>0</td>\n",
       "      <td>female</td>\n",
       "      <td>25.00</td>\n",
       "      <td>1</td>\n",
       "      <td>2</td>\n",
       "      <td>151.5500</td>\n",
       "      <td>C</td>\n",
       "      <td>S</td>\n",
       "      <td>3</td>\n",
       "      <td>고가</td>\n",
       "      <td>Adult</td>\n",
       "    </tr>\n",
       "  </tbody>\n",
       "</table>\n",
       "</div>"
      ],
      "text/plain": [
       "   pclass  survived     sex    age  sibsp  parch      fare cabin embarked  \\\n",
       "0       1         1  female  29.00      0      0  211.3375     B        S   \n",
       "1       1         1    male   0.92      1      2  151.5500     C        S   \n",
       "2       1         0  female   2.00      1      2  151.5500     C        S   \n",
       "3       1         0    male  30.00      1      2  151.5500     C        S   \n",
       "4       1         0  female  25.00      1      2  151.5500     C        S   \n",
       "\n",
       "   family fare_cat age_cat  \n",
       "0       0     프리미엄   Adult  \n",
       "1       3       고가    Baby  \n",
       "2       3       고가    Baby  \n",
       "3       3       고가   Adult  \n",
       "4       3       고가   Adult  "
      ]
     },
     "execution_count": 15,
     "metadata": {},
     "output_type": "execute_result"
    }
   ],
   "source": [
    "df.head()"
   ]
  },
  {
   "cell_type": "markdown",
   "id": "8ce33005",
   "metadata": {
    "id": "8ce33005"
   },
   "source": [
    "### 객실 구역에 따른 생존률"
   ]
  },
  {
   "cell_type": "code",
   "execution_count": 17,
   "id": "df3855b3",
   "metadata": {
    "id": "df3855b3",
    "outputId": "19390680-d3ae-4c78-82e8-f5c139a720b4",
    "scrolled": true
   },
   "outputs": [
    {
     "data": {
      "text/plain": [
       "X    1014\n",
       "C      94\n",
       "B      65\n",
       "D      46\n",
       "E      41\n",
       "A      22\n",
       "F      17\n",
       "G       9\n",
       "T       1\n",
       "Name: cabin, dtype: int64"
      ]
     },
     "execution_count": 17,
     "metadata": {},
     "output_type": "execute_result"
    }
   ],
   "source": [
    "df.cabin.value_counts()\n",
    "# 알수 없음(X)값이 매우 많음"
   ]
  },
  {
   "cell_type": "code",
   "execution_count": 18,
   "id": "e3060784",
   "metadata": {
    "id": "e3060784",
    "outputId": "6d08f822-7c44-42b3-cf83-276e0944d16e"
   },
   "outputs": [
    {
     "data": {
      "text/html": [
       "<div>\n",
       "<style scoped>\n",
       "    .dataframe tbody tr th:only-of-type {\n",
       "        vertical-align: middle;\n",
       "    }\n",
       "\n",
       "    .dataframe tbody tr th {\n",
       "        vertical-align: top;\n",
       "    }\n",
       "\n",
       "    .dataframe thead th {\n",
       "        text-align: right;\n",
       "    }\n",
       "</style>\n",
       "<table border=\"1\" class=\"dataframe\">\n",
       "  <thead>\n",
       "    <tr style=\"text-align: right;\">\n",
       "      <th></th>\n",
       "      <th></th>\n",
       "      <th>pclass</th>\n",
       "    </tr>\n",
       "    <tr>\n",
       "      <th>cabin</th>\n",
       "      <th>pclass</th>\n",
       "      <th></th>\n",
       "    </tr>\n",
       "  </thead>\n",
       "  <tbody>\n",
       "    <tr>\n",
       "      <th>A</th>\n",
       "      <th>1</th>\n",
       "      <td>22</td>\n",
       "    </tr>\n",
       "    <tr>\n",
       "      <th>B</th>\n",
       "      <th>1</th>\n",
       "      <td>65</td>\n",
       "    </tr>\n",
       "    <tr>\n",
       "      <th>C</th>\n",
       "      <th>1</th>\n",
       "      <td>94</td>\n",
       "    </tr>\n",
       "    <tr>\n",
       "      <th rowspan=\"2\" valign=\"top\">D</th>\n",
       "      <th>1</th>\n",
       "      <td>40</td>\n",
       "    </tr>\n",
       "    <tr>\n",
       "      <th>2</th>\n",
       "      <td>6</td>\n",
       "    </tr>\n",
       "    <tr>\n",
       "      <th rowspan=\"3\" valign=\"top\">E</th>\n",
       "      <th>1</th>\n",
       "      <td>34</td>\n",
       "    </tr>\n",
       "    <tr>\n",
       "      <th>2</th>\n",
       "      <td>4</td>\n",
       "    </tr>\n",
       "    <tr>\n",
       "      <th>3</th>\n",
       "      <td>3</td>\n",
       "    </tr>\n",
       "    <tr>\n",
       "      <th rowspan=\"2\" valign=\"top\">F</th>\n",
       "      <th>2</th>\n",
       "      <td>13</td>\n",
       "    </tr>\n",
       "    <tr>\n",
       "      <th>3</th>\n",
       "      <td>4</td>\n",
       "    </tr>\n",
       "    <tr>\n",
       "      <th>G</th>\n",
       "      <th>3</th>\n",
       "      <td>9</td>\n",
       "    </tr>\n",
       "    <tr>\n",
       "      <th>T</th>\n",
       "      <th>1</th>\n",
       "      <td>1</td>\n",
       "    </tr>\n",
       "    <tr>\n",
       "      <th rowspan=\"3\" valign=\"top\">X</th>\n",
       "      <th>1</th>\n",
       "      <td>67</td>\n",
       "    </tr>\n",
       "    <tr>\n",
       "      <th>2</th>\n",
       "      <td>254</td>\n",
       "    </tr>\n",
       "    <tr>\n",
       "      <th>3</th>\n",
       "      <td>693</td>\n",
       "    </tr>\n",
       "  </tbody>\n",
       "</table>\n",
       "</div>"
      ],
      "text/plain": [
       "              pclass\n",
       "cabin pclass        \n",
       "A     1           22\n",
       "B     1           65\n",
       "C     1           94\n",
       "D     1           40\n",
       "      2            6\n",
       "E     1           34\n",
       "      2            4\n",
       "      3            3\n",
       "F     2           13\n",
       "      3            4\n",
       "G     3            9\n",
       "T     1            1\n",
       "X     1           67\n",
       "      2          254\n",
       "      3          693"
      ]
     },
     "execution_count": 18,
     "metadata": {},
     "output_type": "execute_result"
    }
   ],
   "source": [
    "##### 객실별 pclass #####\n",
    "a = df.groupby(['cabin','pclass'])\n",
    "ap22 = a.agg({'pclass':'count'})\n",
    "ap22\n",
    "\n",
    "# A,B,C는 1등급 객실만/ 그 외 나머지 객실도 1,2,등급 사람들이 많음\n",
    "# A~G까지, 등록되어 있는 객실 인원은 생존률이 매우 높은 편\n",
    "# NAN값은 거의다 3등급 사람들 -> 생존률 낮음"
   ]
  },
  {
   "cell_type": "code",
   "execution_count": null,
   "id": "3c916cc0",
   "metadata": {
    "id": "3c916cc0",
    "outputId": "f336a0b8-be85-427f-9229-2c5b99a12f50"
   },
   "outputs": [
    {
     "data": {
      "text/plain": [
       "<AxesSubplot:xlabel='cabin', ylabel='survived'>"
      ]
     },
     "execution_count": 798,
     "metadata": {},
     "output_type": "execute_result"
    },
    {
     "data": {
      "image/png": "[encoded data removed]",
      "text/plain": [
       "<Figure size 1000x600 with 1 Axes>"
      ]
     },
     "metadata": {},
     "output_type": "display_data"
    }
   ],
   "source": [
    "# 객실 구역\n",
    "plt.figure(figsize=(10,6))\n",
    "sns.barplot(x='cabin',y='survived',data=df)"
   ]
  },
  {
   "cell_type": "markdown",
   "id": "c5ed1ebe",
   "metadata": {},
   "source": [
    "### 나이별 생존률"
   ]
  },
  {
   "cell_type": "code",
   "execution_count": 21,
   "id": "s87gJZP1suUA",
   "metadata": {
    "colab": {
     "base_uri": "https://localhost:8080/",
     "height": 174
    },
    "executionInfo": {
     "elapsed": 336,
     "status": "error",
     "timestamp": 1680770056275,
     "user": {
      "displayName": "윤예은",
      "userId": "04940909667415744758"
     },
     "user_tz": -540
    },
    "id": "s87gJZP1suUA",
    "outputId": "3d95ca49-51b4-42fb-cfa2-f0dc5dec643d"
   },
   "outputs": [
    {
     "data": {
      "text/plain": [
       "<AxesSubplot:xlabel='age_cat', ylabel='survived'>"
      ]
     },
     "execution_count": 21,
     "metadata": {},
     "output_type": "execute_result"
    },
    {
     "data": {
      "image/png": "[encoded data removed]",
      "text/plain": [
       "<Figure size 640x480 with 1 Axes>"
      ]
     },
     "metadata": {},
     "output_type": "display_data"
    }
   ],
   "source": [
    "sns.barplot(x='age_cat',y='survived',hue='sex', order = ['Baby','Child','Young Adult','Adult','Old','Elder'],data = df)"
   ]
  },
  {
   "cell_type": "markdown",
   "id": "68af708e",
   "metadata": {
    "id": "68af708e"
   },
   "source": [
    "### 승선항에 따른 생존률"
   ]
  },
  {
   "cell_type": "code",
   "execution_count": 22,
   "id": "2b5fd777",
   "metadata": {
    "id": "2b5fd777",
    "outputId": "25a034be-719a-4ffb-8e32-7d55c71c947b"
   },
   "outputs": [
    {
     "data": {
      "text/plain": [
       "Text(1.0, 1.0, '승선항/객실등급 별 생존률')"
      ]
     },
     "execution_count": 22,
     "metadata": {},
     "output_type": "execute_result"
    },
    {
     "data": {
      "image/png": "[encoded data removed]",
      "text/plain": [
       "<Figure size 1400x600 with 2 Axes>"
      ]
     },
     "metadata": {},
     "output_type": "display_data"
    }
   ],
   "source": [
    "# 승선항\n",
    "fig, ax = plt.subplots(ncols=2, figsize=(14,6), constrained_layout=True)\n",
    "sns.barplot(x='embarked',y='survived',data=df, ax=ax[0])\n",
    "sns.barplot(x='embarked',y='survived',hue='pclass',data=df, ax=ax[1])\n",
    "\n",
    "ax[0].set_title(\"승선항에 따른 생존률\",loc='right',size=20)\n",
    "ax[1].set_title(\"승선항/객실등급 별 생존률\",loc='right',size=20)\n",
    "\n",
    "# 1,2,3 등급 모두 통틀어 'C'항구의 생존률이 가장 높은 편\n",
    "# 그리고 모든 항수에서 1등급의 생존률이 가장 높은 편"
   ]
  },
  {
   "cell_type": "code",
   "execution_count": null,
   "id": "e5d69858",
   "metadata": {
    "id": "e5d69858",
    "outputId": "7cc88359-d2ce-4ac7-dfe3-8a4676c0a708"
   },
   "outputs": [
    {
     "data": {
      "text/plain": [
       "<AxesSubplot:xlabel='embarked', ylabel='count'>"
      ]
     },
     "execution_count": 808,
     "metadata": {},
     "output_type": "execute_result"
    },
    {
     "data": {
      "image/png": "[encoded data removed]",
      "text/plain": [
       "<Figure size 640x480 with 1 Axes>"
      ]
     },
     "metadata": {},
     "output_type": "display_data"
    }
   ],
   "source": [
    "sns.countplot(x='embarked',hue='pclass', data=df)\n",
    "\n",
    "# 생존률이 낮은 'S'와 'Q'항구는 3등급 객실 사람들이 많음\n",
    "# 'S'항구의 경우 1등급 객실 사람들의 비율이 높은 편"
   ]
  },
  {
   "cell_type": "markdown",
   "id": "83da0c1a",
   "metadata": {
    "id": "83da0c1a"
   },
   "source": [
    "### 동승 가족 수에 따른 생존률"
   ]
  },
  {
   "cell_type": "code",
   "execution_count": null,
   "id": "5843c8a6",
   "metadata": {
    "id": "5843c8a6",
    "outputId": "04038150-5a0e-4e4b-b921-493e8387cb9d"
   },
   "outputs": [
    {
     "data": {
      "text/plain": [
       "Text(1.0, 1.0, '동승한 형제/배우자 수에 따른 생존률')"
      ]
     },
     "execution_count": 811,
     "metadata": {},
     "output_type": "execute_result"
    },
    {
     "data": {
      "image/png": "[encoded data removed]",
      "text/plain": [
       "<Figure size 1400x600 with 2 Axes>"
      ]
     },
     "metadata": {},
     "output_type": "display_data"
    }
   ],
   "source": [
    "# 동승한 부모 또는 자녀 수/ 형제 도는 배우자 수\n",
    "fig, ax = plt.subplots(ncols=2, figsize=(14,6), constrained_layout=True)\n",
    "sns.barplot(x='parch',y='survived',data=df, ax=ax[0])\n",
    "sns.barplot(x='sibsp',y='survived',data=df, ax=ax[1])\n",
    "\n",
    "ax[0].set_title(\"동승한 부모/자녀 수에 따른 생존률\",loc='right',size=20)\n",
    "ax[1].set_title(\"동승한 형제/배우자 수에 따른 생존률\",loc='right',size=20)\n",
    "\n",
    "# 아예 없는 것보단 가족과 함께 탔을 때가 더 생존률이 높음(1~3명)\n",
    "# 그러나 4명 이상부턴 오히려 생존률이 떨어지는 편"
   ]
  },
  {
   "cell_type": "code",
   "execution_count": null,
   "id": "e176806d",
   "metadata": {
    "id": "e176806d",
    "outputId": "ae9c8cc7-082d-4a90-8fdf-d60e671e3b16"
   },
   "outputs": [
    {
     "data": {
      "text/plain": [
       "<AxesSubplot:xlabel='family', ylabel='survived'>"
      ]
     },
     "execution_count": 773,
     "metadata": {},
     "output_type": "execute_result"
    },
    {
     "data": {
      "image/png": "[encoded data removed]",
      "text/plain": [
       "<Figure size 640x480 with 1 Axes>"
      ]
     },
     "metadata": {},
     "output_type": "display_data"
    }
   ],
   "source": [
    "# 동승한 부모, 자녀, 형제, 배우자 등 총합\n",
    "sns.barplot(x='family',y='survived',data=df)"
   ]
  },
  {
   "cell_type": "markdown",
   "id": "8533320a",
   "metadata": {
    "id": "8533320a"
   },
   "source": [
    "### 객실 가격에 따른 생존률"
   ]
  },
  {
   "cell_type": "code",
   "execution_count": null,
   "id": "9538079a",
   "metadata": {
    "id": "9538079a",
    "outputId": "6197ccb6-1641-43ba-fc85-2feb6598f6aa"
   },
   "outputs": [
    {
     "data": {
      "text/plain": [
       "<AxesSubplot:xlabel='fare_cat', ylabel='survived'>"
      ]
     },
     "execution_count": 774,
     "metadata": {},
     "output_type": "execute_result"
    },
    {
     "data": {
      "image/png": "[encoded data removed]",
      "text/plain": [
       "<Figure size 640x480 with 1 Axes>"
      ]
     },
     "metadata": {},
     "output_type": "display_data"
    }
   ],
   "source": [
    "# 가격에 따른 생존률\n",
    "order=['저가','중가','고가','프리미엄']\n",
    "sns.barplot(x='fare_cat',y='survived', order=order, data=df)\n",
    "\n",
    "# 비싼 객실에 묶고 있을 수록 생존률 높음\n",
    "# 찾아보니, 당시 높은 등급 객실들의 위치가 탈출이 용이한 곳이었고, "
   ]
  },
  {
   "cell_type": "code",
   "execution_count": null,
   "id": "4dbdaca3",
   "metadata": {
    "id": "4dbdaca3"
   },
   "outputs": [],
   "source": []
  },
  {
   "cell_type": "code",
   "execution_count": null,
   "id": "2412bf57",
   "metadata": {
    "id": "2412bf57"
   },
   "outputs": [],
   "source": []
  },
  {
   "cell_type": "code",
   "execution_count": null,
   "id": "96256b09",
   "metadata": {
    "id": "96256b09"
   },
   "outputs": [],
   "source": []
  },
  {
   "cell_type": "code",
   "execution_count": null,
   "id": "1d060e87",
   "metadata": {
    "id": "1d060e87"
   },
   "outputs": [],
   "source": []
  },
  {
   "cell_type": "code",
   "execution_count": null,
   "id": "6967e4f8",
   "metadata": {
    "id": "6967e4f8"
   },
   "outputs": [],
   "source": [
    "#### 원핫 인코딩: 승선 항구\n",
    "df = pd.get_dummies(df, columns=['embarked'])\n",
    "\n",
    "#### 원핫 인코딩: 성별\n",
    "df = pd.get_dummies(df, columns=['sex'])\n",
    "\n",
    "#### 원핫 인코딩: 객실\n",
    "df = pd.get_dummies(df, columns=['cabin'])\n",
    "\n",
    "#### 원핫 인코딩: 요금 범주화\n",
    "df = pd.get_dummies(df, columns=['fare_cat'])\n",
    "\n",
    "#### 원핫 인코딩: 나이 범주화\n",
    "df = pd.get_dummies(df, columns=['age_cat'])"
   ]
  },
  {
   "cell_type": "code",
   "execution_count": null,
   "id": "afe77a56",
   "metadata": {
    "id": "afe77a56"
   },
   "outputs": [],
   "source": [
    "df.drop(['age'], axis=1, inplace=True)\n",
    "df.drop(['fare'], axis=1, inplace=True)"
   ]
  },
  {
   "cell_type": "code",
   "execution_count": null,
   "id": "5c41f4bd",
   "metadata": {
    "id": "5c41f4bd",
    "outputId": "19fc0d02-4763-4019-c81e-eb9359fd0408"
   },
   "outputs": [
    {
     "data": {
      "text/html": [
       "<div>\n",
       "<style scoped>\n",
       "    .dataframe tbody tr th:only-of-type {\n",
       "        vertical-align: middle;\n",
       "    }\n",
       "\n",
       "    .dataframe tbody tr th {\n",
       "        vertical-align: top;\n",
       "    }\n",
       "\n",
       "    .dataframe thead th {\n",
       "        text-align: right;\n",
       "    }\n",
       "</style>\n",
       "<table border=\"1\" class=\"dataframe\">\n",
       "  <thead>\n",
       "    <tr style=\"text-align: right;\">\n",
       "      <th></th>\n",
       "      <th>pclass</th>\n",
       "      <th>survived</th>\n",
       "      <th>sibsp</th>\n",
       "      <th>parch</th>\n",
       "      <th>family</th>\n",
       "      <th>embarked_C</th>\n",
       "      <th>embarked_Q</th>\n",
       "      <th>embarked_S</th>\n",
       "      <th>sex_female</th>\n",
       "      <th>sex_male</th>\n",
       "      <th>...</th>\n",
       "      <th>fare_cat_고가</th>\n",
       "      <th>fare_cat_저가</th>\n",
       "      <th>fare_cat_중가</th>\n",
       "      <th>fare_cat_프리미엄</th>\n",
       "      <th>age_cat_Adult</th>\n",
       "      <th>age_cat_Baby</th>\n",
       "      <th>age_cat_Child</th>\n",
       "      <th>age_cat_Elder</th>\n",
       "      <th>age_cat_Old</th>\n",
       "      <th>age_cat_Young Adult</th>\n",
       "    </tr>\n",
       "  </thead>\n",
       "  <tbody>\n",
       "    <tr>\n",
       "      <th>0</th>\n",
       "      <td>1</td>\n",
       "      <td>1</td>\n",
       "      <td>0</td>\n",
       "      <td>0</td>\n",
       "      <td>0</td>\n",
       "      <td>0</td>\n",
       "      <td>0</td>\n",
       "      <td>1</td>\n",
       "      <td>1</td>\n",
       "      <td>0</td>\n",
       "      <td>...</td>\n",
       "      <td>0</td>\n",
       "      <td>0</td>\n",
       "      <td>0</td>\n",
       "      <td>1</td>\n",
       "      <td>1</td>\n",
       "      <td>0</td>\n",
       "      <td>0</td>\n",
       "      <td>0</td>\n",
       "      <td>0</td>\n",
       "      <td>0</td>\n",
       "    </tr>\n",
       "    <tr>\n",
       "      <th>1</th>\n",
       "      <td>1</td>\n",
       "      <td>1</td>\n",
       "      <td>1</td>\n",
       "      <td>2</td>\n",
       "      <td>3</td>\n",
       "      <td>0</td>\n",
       "      <td>0</td>\n",
       "      <td>1</td>\n",
       "      <td>0</td>\n",
       "      <td>1</td>\n",
       "      <td>...</td>\n",
       "      <td>1</td>\n",
       "      <td>0</td>\n",
       "      <td>0</td>\n",
       "      <td>0</td>\n",
       "      <td>0</td>\n",
       "      <td>1</td>\n",
       "      <td>0</td>\n",
       "      <td>0</td>\n",
       "      <td>0</td>\n",
       "      <td>0</td>\n",
       "    </tr>\n",
       "    <tr>\n",
       "      <th>2</th>\n",
       "      <td>1</td>\n",
       "      <td>0</td>\n",
       "      <td>1</td>\n",
       "      <td>2</td>\n",
       "      <td>3</td>\n",
       "      <td>0</td>\n",
       "      <td>0</td>\n",
       "      <td>1</td>\n",
       "      <td>1</td>\n",
       "      <td>0</td>\n",
       "      <td>...</td>\n",
       "      <td>1</td>\n",
       "      <td>0</td>\n",
       "      <td>0</td>\n",
       "      <td>0</td>\n",
       "      <td>0</td>\n",
       "      <td>1</td>\n",
       "      <td>0</td>\n",
       "      <td>0</td>\n",
       "      <td>0</td>\n",
       "      <td>0</td>\n",
       "    </tr>\n",
       "    <tr>\n",
       "      <th>3</th>\n",
       "      <td>1</td>\n",
       "      <td>0</td>\n",
       "      <td>1</td>\n",
       "      <td>2</td>\n",
       "      <td>3</td>\n",
       "      <td>0</td>\n",
       "      <td>0</td>\n",
       "      <td>1</td>\n",
       "      <td>0</td>\n",
       "      <td>1</td>\n",
       "      <td>...</td>\n",
       "      <td>1</td>\n",
       "      <td>0</td>\n",
       "      <td>0</td>\n",
       "      <td>0</td>\n",
       "      <td>1</td>\n",
       "      <td>0</td>\n",
       "      <td>0</td>\n",
       "      <td>0</td>\n",
       "      <td>0</td>\n",
       "      <td>0</td>\n",
       "    </tr>\n",
       "    <tr>\n",
       "      <th>4</th>\n",
       "      <td>1</td>\n",
       "      <td>0</td>\n",
       "      <td>1</td>\n",
       "      <td>2</td>\n",
       "      <td>3</td>\n",
       "      <td>0</td>\n",
       "      <td>0</td>\n",
       "      <td>1</td>\n",
       "      <td>1</td>\n",
       "      <td>0</td>\n",
       "      <td>...</td>\n",
       "      <td>1</td>\n",
       "      <td>0</td>\n",
       "      <td>0</td>\n",
       "      <td>0</td>\n",
       "      <td>1</td>\n",
       "      <td>0</td>\n",
       "      <td>0</td>\n",
       "      <td>0</td>\n",
       "      <td>0</td>\n",
       "      <td>0</td>\n",
       "    </tr>\n",
       "    <tr>\n",
       "      <th>...</th>\n",
       "      <td>...</td>\n",
       "      <td>...</td>\n",
       "      <td>...</td>\n",
       "      <td>...</td>\n",
       "      <td>...</td>\n",
       "      <td>...</td>\n",
       "      <td>...</td>\n",
       "      <td>...</td>\n",
       "      <td>...</td>\n",
       "      <td>...</td>\n",
       "      <td>...</td>\n",
       "      <td>...</td>\n",
       "      <td>...</td>\n",
       "      <td>...</td>\n",
       "      <td>...</td>\n",
       "      <td>...</td>\n",
       "      <td>...</td>\n",
       "      <td>...</td>\n",
       "      <td>...</td>\n",
       "      <td>...</td>\n",
       "      <td>...</td>\n",
       "    </tr>\n",
       "    <tr>\n",
       "      <th>1304</th>\n",
       "      <td>3</td>\n",
       "      <td>0</td>\n",
       "      <td>1</td>\n",
       "      <td>0</td>\n",
       "      <td>1</td>\n",
       "      <td>1</td>\n",
       "      <td>0</td>\n",
       "      <td>0</td>\n",
       "      <td>1</td>\n",
       "      <td>0</td>\n",
       "      <td>...</td>\n",
       "      <td>0</td>\n",
       "      <td>1</td>\n",
       "      <td>0</td>\n",
       "      <td>0</td>\n",
       "      <td>0</td>\n",
       "      <td>0</td>\n",
       "      <td>1</td>\n",
       "      <td>0</td>\n",
       "      <td>0</td>\n",
       "      <td>0</td>\n",
       "    </tr>\n",
       "    <tr>\n",
       "      <th>1305</th>\n",
       "      <td>3</td>\n",
       "      <td>0</td>\n",
       "      <td>1</td>\n",
       "      <td>0</td>\n",
       "      <td>1</td>\n",
       "      <td>1</td>\n",
       "      <td>0</td>\n",
       "      <td>0</td>\n",
       "      <td>1</td>\n",
       "      <td>0</td>\n",
       "      <td>...</td>\n",
       "      <td>0</td>\n",
       "      <td>1</td>\n",
       "      <td>0</td>\n",
       "      <td>0</td>\n",
       "      <td>1</td>\n",
       "      <td>0</td>\n",
       "      <td>0</td>\n",
       "      <td>0</td>\n",
       "      <td>0</td>\n",
       "      <td>0</td>\n",
       "    </tr>\n",
       "    <tr>\n",
       "      <th>1306</th>\n",
       "      <td>3</td>\n",
       "      <td>0</td>\n",
       "      <td>0</td>\n",
       "      <td>0</td>\n",
       "      <td>0</td>\n",
       "      <td>1</td>\n",
       "      <td>0</td>\n",
       "      <td>0</td>\n",
       "      <td>0</td>\n",
       "      <td>1</td>\n",
       "      <td>...</td>\n",
       "      <td>0</td>\n",
       "      <td>1</td>\n",
       "      <td>0</td>\n",
       "      <td>0</td>\n",
       "      <td>1</td>\n",
       "      <td>0</td>\n",
       "      <td>0</td>\n",
       "      <td>0</td>\n",
       "      <td>0</td>\n",
       "      <td>0</td>\n",
       "    </tr>\n",
       "    <tr>\n",
       "      <th>1307</th>\n",
       "      <td>3</td>\n",
       "      <td>0</td>\n",
       "      <td>0</td>\n",
       "      <td>0</td>\n",
       "      <td>0</td>\n",
       "      <td>1</td>\n",
       "      <td>0</td>\n",
       "      <td>0</td>\n",
       "      <td>0</td>\n",
       "      <td>1</td>\n",
       "      <td>...</td>\n",
       "      <td>0</td>\n",
       "      <td>1</td>\n",
       "      <td>0</td>\n",
       "      <td>0</td>\n",
       "      <td>1</td>\n",
       "      <td>0</td>\n",
       "      <td>0</td>\n",
       "      <td>0</td>\n",
       "      <td>0</td>\n",
       "      <td>0</td>\n",
       "    </tr>\n",
       "    <tr>\n",
       "      <th>1308</th>\n",
       "      <td>3</td>\n",
       "      <td>0</td>\n",
       "      <td>0</td>\n",
       "      <td>0</td>\n",
       "      <td>0</td>\n",
       "      <td>0</td>\n",
       "      <td>0</td>\n",
       "      <td>1</td>\n",
       "      <td>0</td>\n",
       "      <td>1</td>\n",
       "      <td>...</td>\n",
       "      <td>0</td>\n",
       "      <td>1</td>\n",
       "      <td>0</td>\n",
       "      <td>0</td>\n",
       "      <td>1</td>\n",
       "      <td>0</td>\n",
       "      <td>0</td>\n",
       "      <td>0</td>\n",
       "      <td>0</td>\n",
       "      <td>0</td>\n",
       "    </tr>\n",
       "  </tbody>\n",
       "</table>\n",
       "<p>1309 rows × 29 columns</p>\n",
       "</div>"
      ],
      "text/plain": [
       "      pclass  survived  sibsp  parch  family  embarked_C  embarked_Q  \\\n",
       "0          1         1      0      0       0           0           0   \n",
       "1          1         1      1      2       3           0           0   \n",
       "2          1         0      1      2       3           0           0   \n",
       "3          1         0      1      2       3           0           0   \n",
       "4          1         0      1      2       3           0           0   \n",
       "...      ...       ...    ...    ...     ...         ...         ...   \n",
       "1304       3         0      1      0       1           1           0   \n",
       "1305       3         0      1      0       1           1           0   \n",
       "1306       3         0      0      0       0           1           0   \n",
       "1307       3         0      0      0       0           1           0   \n",
       "1308       3         0      0      0       0           0           0   \n",
       "\n",
       "      embarked_S  sex_female  sex_male  ...  fare_cat_고가  fare_cat_저가  \\\n",
       "0              1           1         0  ...            0            0   \n",
       "1              1           0         1  ...            1            0   \n",
       "2              1           1         0  ...            1            0   \n",
       "3              1           0         1  ...            1            0   \n",
       "4              1           1         0  ...            1            0   \n",
       "...          ...         ...       ...  ...          ...          ...   \n",
       "1304           0           1         0  ...            0            1   \n",
       "1305           0           1         0  ...            0            1   \n",
       "1306           0           0         1  ...            0            1   \n",
       "1307           0           0         1  ...            0            1   \n",
       "1308           1           0         1  ...            0            1   \n",
       "\n",
       "      fare_cat_중가  fare_cat_프리미엄  age_cat_Adult  age_cat_Baby  age_cat_Child  \\\n",
       "0               0              1              1             0              0   \n",
       "1               0              0              0             1              0   \n",
       "2               0              0              0             1              0   \n",
       "3               0              0              1             0              0   \n",
       "4               0              0              1             0              0   \n",
       "...           ...            ...            ...           ...            ...   \n",
       "1304            0              0              0             0              1   \n",
       "1305            0              0              1             0              0   \n",
       "1306            0              0              1             0              0   \n",
       "1307            0              0              1             0              0   \n",
       "1308            0              0              1             0              0   \n",
       "\n",
       "      age_cat_Elder  age_cat_Old  age_cat_Young Adult  \n",
       "0                 0            0                    0  \n",
       "1                 0            0                    0  \n",
       "2                 0            0                    0  \n",
       "3                 0            0                    0  \n",
       "4                 0            0                    0  \n",
       "...             ...          ...                  ...  \n",
       "1304              0            0                    0  \n",
       "1305              0            0                    0  \n",
       "1306              0            0                    0  \n",
       "1307              0            0                    0  \n",
       "1308              0            0                    0  \n",
       "\n",
       "[1309 rows x 29 columns]"
      ]
     },
     "execution_count": 779,
     "metadata": {},
     "output_type": "execute_result"
    }
   ],
   "source": [
    "df"
   ]
  },
  {
   "cell_type": "code",
   "execution_count": null,
   "id": "c9b3a931",
   "metadata": {
    "id": "c9b3a931",
    "outputId": "1a790984-ff56-475f-9661-b1b954234a01"
   },
   "outputs": [
    {
     "name": "stdout",
     "output_type": "stream",
     "text": [
      "(1047, 28)\n",
      "(262, 28)\n"
     ]
    }
   ],
   "source": [
    "from sklearn import preprocessing\n",
    "from sklearn.model_selection import train_test_split\n",
    "\n",
    "# 독립변수, 종속변수 분리\n",
    "y_t_df = df['survived'] # 종속변수\n",
    "X_t_df = df.drop('survived', axis = 1) # 독립변수\n",
    "\n",
    "# 독립변수 정규화\n",
    "# X_t_df = preprocessing.StandardScaler().fit(X_t_df).transform(X_t_df)\n",
    "\n",
    "# 학습용 데이터와 평가용 데이터를 8:2 혹은 7:3으로 분리\n",
    "X_train, X_test, y_train, y_test = train_test_split(X_t_df, y_t_df, test_size = 0.2,\n",
    "                                                   random_state = 11)\n",
    "\n",
    "print(X_train.shape)\n",
    "print(X_test.shape)"
   ]
  },
  {
   "cell_type": "code",
   "execution_count": null,
   "id": "01656577",
   "metadata": {
    "id": "01656577",
    "outputId": "4c1f1255-d6ba-4976-9163-5a93ffa89a3d"
   },
   "outputs": [
    {
     "name": "stdout",
     "output_type": "stream",
     "text": [
      "rf 정확도:0.78, lr 정확도:0.82\n"
     ]
    }
   ],
   "source": [
    "# 모델 학습 및 평가\n",
    "from sklearn.metrics import accuracy_score\n",
    "from sklearn.linear_model import LogisticRegression\n",
    "from sklearn.ensemble import RandomForestClassifier\n",
    "\n",
    "rf_model = RandomForestClassifier()\n",
    "rf_model.fit(X_train, y_train)\n",
    "rf_pred = rf_model.predict(X_test)\n",
    "accuracy_rf = accuracy_score(y_test, rf_pred).round(2)\n",
    "\n",
    "lr_model = LogisticRegression()\n",
    "lr_model.fit(X_train,y_train)\n",
    "lr_pred = lr_model.predict(X_test)\n",
    "accuracy_lr = accuracy_score(y_test,lr_pred).round(2)\n",
    "\n",
    "print('rf 정확도:{}, lr 정확도:{}'.format(accuracy_rf,accuracy_lr))"
   ]
  }
 ],
 "metadata": {
  "colab": {
   "provenance": []
  },
  "kernelspec": {
   "display_name": "Python 3 (ipykernel)",
   "language": "python",
   "name": "python3"
  },
  "language_info": {
   "codemirror_mode": {
    "name": "ipython",
    "version": 3
   },
   "file_extension": ".py",
   "mimetype": "text/x-python",
   "name": "python",
   "nbconvert_exporter": "python",
   "pygments_lexer": "ipython3",
   "version": "3.9.13"
  }
 },
 "nbformat": 4,
 "nbformat_minor": 5
}
