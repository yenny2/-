{
 "cells": [
  {
   "cell_type": "code",
   "execution_count": 4,
   "id": "a50cf682",
   "metadata": {},
   "outputs": [
    {
     "name": "stdout",
     "output_type": "stream",
     "text": [
      "국어    190\n",
      "영어    160\n",
      "수학    170\n",
      "dtype: int64 \n",
      "\n",
      "국어    10\n",
      "영어     0\n",
      "수학    10\n",
      "dtype: int64 \n",
      "\n",
      "국어    9000\n",
      "영어    6400\n",
      "수학    7200\n",
      "dtype: int64 \n",
      "\n",
      "국어    1.11\n",
      "영어    1.00\n",
      "수학    1.12\n",
      "dtype: float64\n"
     ]
    }
   ],
   "source": [
    "import pandas as pd                            # pd에 판다스를 가져옵니다\n",
    "st1 = pd.Series({'국어':100,'영어':80,'수학':90}) # 딕셔너리를 시리즈로 바꿔 str1에 저장\n",
    "st2 = pd.Series({'국어':90,'영어':80,'수학':80})\n",
    "\n",
    "add = st1 + st2\n",
    "sub = st1 - st2\n",
    "mul = st1 * st2\n",
    "div = round((st1/st2),2)        # 소수점 둘째자리까지 표현 round(나눌것,소수점자리)\n",
    "\n",
    "print(add,'\\n')\n",
    "print(sub,'\\n')\n",
    "print(mul,'\\n')\n",
    "print(div)"
   ]
  },
  {
   "cell_type": "code",
   "execution_count": 5,
   "id": "8e622212",
   "metadata": {},
   "outputs": [
    {
     "data": {
      "text/html": [
       "<div>\n",
       "<style scoped>\n",
       "    .dataframe tbody tr th:only-of-type {\n",
       "        vertical-align: middle;\n",
       "    }\n",
       "\n",
       "    .dataframe tbody tr th {\n",
       "        vertical-align: top;\n",
       "    }\n",
       "\n",
       "    .dataframe thead th {\n",
       "        text-align: right;\n",
       "    }\n",
       "</style>\n",
       "<table border=\"1\" class=\"dataframe\">\n",
       "  <thead>\n",
       "    <tr style=\"text-align: right;\">\n",
       "      <th></th>\n",
       "      <th>0</th>\n",
       "      <th>1</th>\n",
       "      <th>2</th>\n",
       "      <th>3</th>\n",
       "    </tr>\n",
       "  </thead>\n",
       "  <tbody>\n",
       "    <tr>\n",
       "      <th>국어</th>\n",
       "      <td>190</td>\n",
       "      <td>10</td>\n",
       "      <td>9000</td>\n",
       "      <td>1.11</td>\n",
       "    </tr>\n",
       "    <tr>\n",
       "      <th>영어</th>\n",
       "      <td>160</td>\n",
       "      <td>0</td>\n",
       "      <td>6400</td>\n",
       "      <td>1.00</td>\n",
       "    </tr>\n",
       "    <tr>\n",
       "      <th>수학</th>\n",
       "      <td>170</td>\n",
       "      <td>10</td>\n",
       "      <td>7200</td>\n",
       "      <td>1.12</td>\n",
       "    </tr>\n",
       "  </tbody>\n",
       "</table>\n",
       "</div>"
      ],
      "text/plain": [
       "      0   1     2     3\n",
       "국어  190  10  9000  1.11\n",
       "영어  160   0  6400  1.00\n",
       "수학  170  10  7200  1.12"
      ]
     },
     "execution_count": 5,
     "metadata": {},
     "output_type": "execute_result"
    }
   ],
   "source": [
    "df = pd.concat([add,sub,mul,div],axis=1)  \n",
    "# 데이터프레임 붙이기. \n",
    "# pd.concat(데이터프레임리스트, axis=0 행방향(위아래)로 데이터프레임 이어붙인다.)\n",
    "# 열방향axis=1(좌우)\n",
    "df"
   ]
  },
  {
   "cell_type": "code",
   "execution_count": 6,
   "id": "447032fe",
   "metadata": {},
   "outputs": [
    {
     "data": {
      "text/html": [
       "<div>\n",
       "<style scoped>\n",
       "    .dataframe tbody tr th:only-of-type {\n",
       "        vertical-align: middle;\n",
       "    }\n",
       "\n",
       "    .dataframe tbody tr th {\n",
       "        vertical-align: top;\n",
       "    }\n",
       "\n",
       "    .dataframe thead th {\n",
       "        text-align: right;\n",
       "    }\n",
       "</style>\n",
       "<table border=\"1\" class=\"dataframe\">\n",
       "  <thead>\n",
       "    <tr style=\"text-align: right;\">\n",
       "      <th></th>\n",
       "      <th>국어</th>\n",
       "      <th>영어</th>\n",
       "      <th>수학</th>\n",
       "    </tr>\n",
       "  </thead>\n",
       "  <tbody>\n",
       "    <tr>\n",
       "      <th>덧셈</th>\n",
       "      <td>190.00</td>\n",
       "      <td>160.0</td>\n",
       "      <td>170.00</td>\n",
       "    </tr>\n",
       "    <tr>\n",
       "      <th>뺄셈</th>\n",
       "      <td>10.00</td>\n",
       "      <td>0.0</td>\n",
       "      <td>10.00</td>\n",
       "    </tr>\n",
       "    <tr>\n",
       "      <th>곱셈</th>\n",
       "      <td>9000.00</td>\n",
       "      <td>6400.0</td>\n",
       "      <td>7200.00</td>\n",
       "    </tr>\n",
       "    <tr>\n",
       "      <th>나눗셈</th>\n",
       "      <td>1.11</td>\n",
       "      <td>1.0</td>\n",
       "      <td>1.12</td>\n",
       "    </tr>\n",
       "  </tbody>\n",
       "</table>\n",
       "</div>"
      ],
      "text/plain": [
       "          국어      영어       수학\n",
       "덧셈    190.00   160.0   170.00\n",
       "뺄셈     10.00     0.0    10.00\n",
       "곱셈   9000.00  6400.0  7200.00\n",
       "나눗셈     1.11     1.0     1.12"
      ]
     },
     "execution_count": 6,
     "metadata": {},
     "output_type": "execute_result"
    }
   ],
   "source": [
    "result = pd.DataFrame([add,sub,mul,div],\n",
    "                      index=['덧셈','뺄셈','곱셈','나눗셈'])\n",
    "# result = pd.DataFrame([add,sub,mul,div])\n",
    "result"
   ]
  },
  {
   "cell_type": "code",
   "execution_count": 22,
   "id": "a705764b",
   "metadata": {},
   "outputs": [
    {
     "data": {
      "text/html": [
       "<div>\n",
       "<style scoped>\n",
       "    .dataframe tbody tr th:only-of-type {\n",
       "        vertical-align: middle;\n",
       "    }\n",
       "\n",
       "    .dataframe tbody tr th {\n",
       "        vertical-align: top;\n",
       "    }\n",
       "\n",
       "    .dataframe thead th {\n",
       "        text-align: right;\n",
       "    }\n",
       "</style>\n",
       "<table border=\"1\" class=\"dataframe\">\n",
       "  <thead>\n",
       "    <tr style=\"text-align: right;\">\n",
       "      <th></th>\n",
       "      <th>국어</th>\n",
       "      <th>수학</th>\n",
       "      <th>영어</th>\n",
       "    </tr>\n",
       "  </thead>\n",
       "  <tbody>\n",
       "    <tr>\n",
       "      <th>덧셈</th>\n",
       "      <td>NaN</td>\n",
       "      <td>170.00</td>\n",
       "      <td>NaN</td>\n",
       "    </tr>\n",
       "    <tr>\n",
       "      <th>뺄셈</th>\n",
       "      <td>NaN</td>\n",
       "      <td>10.00</td>\n",
       "      <td>NaN</td>\n",
       "    </tr>\n",
       "    <tr>\n",
       "      <th>곱셈</th>\n",
       "      <td>NaN</td>\n",
       "      <td>7200.00</td>\n",
       "      <td>NaN</td>\n",
       "    </tr>\n",
       "    <tr>\n",
       "      <th>나눗셈</th>\n",
       "      <td>NaN</td>\n",
       "      <td>1.12</td>\n",
       "      <td>NaN</td>\n",
       "    </tr>\n",
       "  </tbody>\n",
       "</table>\n",
       "</div>"
      ],
      "text/plain": [
       "     국어       수학  영어\n",
       "덧셈  NaN   170.00 NaN\n",
       "뺄셈  NaN    10.00 NaN\n",
       "곱셈  NaN  7200.00 NaN\n",
       "나눗셈 NaN     1.12 NaN"
      ]
     },
     "execution_count": 22,
     "metadata": {},
     "output_type": "execute_result"
    }
   ],
   "source": [
    "import numpy as np\n",
    "st1 = pd.Series({'국어':np.nan,'영어':80,'수학':90})\n",
    "st2 = pd.Series({'수학':80,'국어':90})\n",
    "\n",
    "add = st1 + st2\n",
    "sub = st1 - st2\n",
    "mul = st1 * st2\n",
    "div = round((st1/st2),2)\n",
    "\n",
    "# result = pd.DataFrame([add,sub,mul,div],index=[b'덧셈','뺄셈','곱셈','나눗셈'])\n",
    "result = pd.DataFrame([add,sub,mul,div],index=['덧셈','뺄셈','곱셈','나눗셈'])\n",
    "# b를 왜 붙인거지?\n",
    "result"
   ]
  },
  {
   "cell_type": "code",
   "execution_count": 20,
   "id": "5876a03d",
   "metadata": {},
   "outputs": [
    {
     "data": {
      "text/plain": [
       "array([ 0,  1,  2,  3,  4,  5,  6,  7,  8,  9, 10, 11])"
      ]
     },
     "execution_count": 20,
     "metadata": {},
     "output_type": "execute_result"
    }
   ],
   "source": [
    "np.arange(12)  # 배열 나타내기\n",
    "\n",
    "# np.arange(3) 의 경우 stop 매개변수의 값만 전달되었으므로 [0, 3) 의 반열린구간에서 0을 시작으로 1 간격으로 떨어진 수들을 array [0, 1, 2]의 형태로 반환함을 볼 수 있다.\n",
    "\n",
    "# np.arange(3.0) 의 경우 dtype 의 주어지지 않았지만, 전달된 stop 매개변수의 값 0.3 으로 부터 정수가 아닌 실수값임을 추론하게 되고, \n",
    "# 그 결과 array [0., 1., 2.] 이 반환됨을 볼 수 있다.\n",
    "\n",
    "# np.arange(3, 7) 의 경우 start=3, stop=7 이 주어진 경우로 3을 시작으로 1 간격으로 떨어진 수들을 \n",
    "# array [3, 4, 5, 6] 의 형태로 반환함을 볼 수 있다.\n",
    "\n",
    "# np.arange(3, 7, 2) 의 경우 start=3, stop=7, step=2 이므로 \n",
    "# array[3, 5] 의 형태로 반환함을 볼 수 있다. 7의 경우 반열린구간 [3, 7) 에 포함되지 않기 때문에 결과 array 에 포함되지 않는다.  "
   ]
  },
  {
   "cell_type": "code",
   "execution_count": 13,
   "id": "35417069",
   "metadata": {},
   "outputs": [
    {
     "data": {
      "text/plain": [
       "array([[ 0,  1,  2,  3],\n",
       "       [ 4,  5,  6,  7],\n",
       "       [ 8,  9, 10, 11]])"
      ]
     },
     "execution_count": 13,
     "metadata": {},
     "output_type": "execute_result"
    }
   ],
   "source": [
    "np.arange(12).reshape(3,4)\n",
    "# n차원 배열의 형태 변경\n",
    "# reshape(행,열)? 1차원 배열인 np를 2차원으로 변경한다."
   ]
  },
  {
   "cell_type": "code",
   "execution_count": 14,
   "id": "6d0d0b93",
   "metadata": {},
   "outputs": [
    {
     "name": "stdout",
     "output_type": "stream",
     "text": [
      "     a    b     c     d\n",
      "0  0.0  1.0   2.0   3.0\n",
      "1  4.0  5.0   6.0   7.0\n",
      "2  8.0  9.0  10.0  11.0 \n",
      "\n",
      "      a     b     c     d     e\n",
      "0   0.0   1.0   2.0   3.0   4.0\n",
      "1   5.0   NaN   7.0   8.0   9.0\n",
      "2  10.0  11.0  12.0  13.0  14.0\n",
      "3  15.0  16.0  17.0  18.0  19.0\n"
     ]
    }
   ],
   "source": [
    "df1 = pd.DataFrame(np.arange(12.).reshape((3,4)), columns=list('abcd'))\n",
    "df2 = pd.DataFrame(np.arange(20.).reshape((4,5)), columns=list('abcde'))\n",
    "\n",
    "df2.loc[1,'b'] = np.nan\n",
    "print(df1,'\\n')\n",
    "print(df2)"
   ]
  },
  {
   "cell_type": "code",
   "execution_count": 16,
   "id": "58c2a852",
   "metadata": {},
   "outputs": [
    {
     "data": {
      "text/html": [
       "<div>\n",
       "<style scoped>\n",
       "    .dataframe tbody tr th:only-of-type {\n",
       "        vertical-align: middle;\n",
       "    }\n",
       "\n",
       "    .dataframe tbody tr th {\n",
       "        vertical-align: top;\n",
       "    }\n",
       "\n",
       "    .dataframe thead th {\n",
       "        text-align: right;\n",
       "    }\n",
       "</style>\n",
       "<table border=\"1\" class=\"dataframe\">\n",
       "  <thead>\n",
       "    <tr style=\"text-align: right;\">\n",
       "      <th></th>\n",
       "      <th>a</th>\n",
       "      <th>b</th>\n",
       "      <th>c</th>\n",
       "      <th>d</th>\n",
       "      <th>e</th>\n",
       "    </tr>\n",
       "  </thead>\n",
       "  <tbody>\n",
       "    <tr>\n",
       "      <th>0</th>\n",
       "      <td>0.0</td>\n",
       "      <td>2.0</td>\n",
       "      <td>4.0</td>\n",
       "      <td>6.0</td>\n",
       "      <td>NaN</td>\n",
       "    </tr>\n",
       "    <tr>\n",
       "      <th>1</th>\n",
       "      <td>9.0</td>\n",
       "      <td>NaN</td>\n",
       "      <td>13.0</td>\n",
       "      <td>15.0</td>\n",
       "      <td>NaN</td>\n",
       "    </tr>\n",
       "    <tr>\n",
       "      <th>2</th>\n",
       "      <td>18.0</td>\n",
       "      <td>20.0</td>\n",
       "      <td>22.0</td>\n",
       "      <td>24.0</td>\n",
       "      <td>NaN</td>\n",
       "    </tr>\n",
       "    <tr>\n",
       "      <th>3</th>\n",
       "      <td>NaN</td>\n",
       "      <td>NaN</td>\n",
       "      <td>NaN</td>\n",
       "      <td>NaN</td>\n",
       "      <td>NaN</td>\n",
       "    </tr>\n",
       "  </tbody>\n",
       "</table>\n",
       "</div>"
      ],
      "text/plain": [
       "      a     b     c     d   e\n",
       "0   0.0   2.0   4.0   6.0 NaN\n",
       "1   9.0   NaN  13.0  15.0 NaN\n",
       "2  18.0  20.0  22.0  24.0 NaN\n",
       "3   NaN   NaN   NaN   NaN NaN"
      ]
     },
     "execution_count": 16,
     "metadata": {},
     "output_type": "execute_result"
    }
   ],
   "source": [
    "df1 + df2"
   ]
  },
  {
   "cell_type": "code",
   "execution_count": 21,
   "id": "df26f9d2",
   "metadata": {},
   "outputs": [
    {
     "name": "stdout",
     "output_type": "stream",
     "text": [
      "      a     b     c     d     e\n",
      "0   0.0   2.0   4.0   6.0   4.0\n",
      "1   9.0   5.0  13.0  15.0   9.0\n",
      "2  18.0  20.0  22.0  24.0  14.0\n",
      "3  15.0  16.0  17.0  18.0  19.0 \n",
      "\n",
      "      a     b     c     d     e\n",
      "0   0.0   0.0   0.0   0.0  -4.0\n",
      "1  -1.0   5.0  -1.0  -1.0  -9.0\n",
      "2  -2.0  -2.0  -2.0  -2.0 -14.0\n",
      "3 -15.0 -16.0 -17.0 -18.0 -19.0 \n",
      "\n",
      "      a     b      c      d    e\n",
      "0   0.0   1.0    4.0    9.0  0.0\n",
      "1  20.0   0.0   42.0   56.0  0.0\n",
      "2  80.0  99.0  120.0  143.0  0.0\n",
      "3   0.0   0.0    0.0    0.0  0.0 \n",
      "\n",
      "     a         b         c         d    e\n",
      "0  NaN  1.000000  1.000000  1.000000  0.0\n",
      "1  0.8       inf  0.857143  0.875000  0.0\n",
      "2  0.8  0.818182  0.833333  0.846154  0.0\n",
      "3  0.0  0.000000  0.000000  0.000000  0.0\n"
     ]
    }
   ],
   "source": [
    "# fill_value() # 매칭되지 않는 키는 0으로 치환 (원본 데이터 손실 방지)\n",
    "# Q. df2의 NaN 값을 0으로 대체 후 사칙연산을 수행하세요.\n",
    "\n",
    "add_data = df1.add(df2,fill_value=0)\n",
    "sub_data = df1.sub(df2,fill_value=0)\n",
    "mul_data = df1.mul(df2,fill_value=0)\n",
    "div_data = df1.div(df2,fill_value=0)\n",
    "\n",
    "print(add_data,'\\n')\n",
    "print(sub_data,'\\n')\n",
    "print(mul_data,'\\n')\n",
    "print(div_data)"
   ]
  },
  {
   "cell_type": "markdown",
   "id": "42950b4a",
   "metadata": {},
   "source": [
    "#### 브로드캐스팅(Broadcasting)\n",
    "\n",
    "- 데이터 프레임과 데이터 프레임 간의 연산은 오류가 남.\n",
    "- 데이터프레임이 한 행일 경우에는 [[]] 두번 해줘야 함\n",
    "- 데이터 프레임과 시리즈일 때 가능/ 서로 다른 크기의 넌파이에서도 가능"
   ]
  },
  {
   "cell_type": "code",
   "execution_count": 23,
   "id": "20fde0f5",
   "metadata": {},
   "outputs": [
    {
     "data": {
      "text/plain": [
       "array([[ 0.,  1.,  2.,  3.],\n",
       "       [ 4.,  5.,  6.,  7.],\n",
       "       [ 8.,  9., 10., 11.]])"
      ]
     },
     "execution_count": 23,
     "metadata": {},
     "output_type": "execute_result"
    }
   ],
   "source": [
    "arr = np.arange(12.).reshape(3,4)\n",
    "arr"
   ]
  },
  {
   "cell_type": "code",
   "execution_count": 25,
   "id": "77c82fde",
   "metadata": {},
   "outputs": [
    {
     "data": {
      "text/plain": [
       "array([0., 1., 2., 3.])"
      ]
     },
     "execution_count": 25,
     "metadata": {},
     "output_type": "execute_result"
    }
   ],
   "source": [
    "arr[0]           # [행,열]"
   ]
  },
  {
   "cell_type": "code",
   "execution_count": 60,
   "id": "d68c8415",
   "metadata": {},
   "outputs": [
    {
     "data": {
      "text/plain": [
       "array([[0., 0., 0., 0.],\n",
       "       [4., 4., 4., 4.],\n",
       "       [8., 8., 8., 8.]])"
      ]
     },
     "execution_count": 60,
     "metadata": {},
     "output_type": "execute_result"
    }
   ],
   "source": [
    "# broadcasting \n",
    "arr - arr[0]            # 서로 다른 크기의 배열을 계산하는 것. 즉, arr[0]을 arr의 행만큼 확대해서 계산해줌\n",
    "\n",
    "# array([[ 0.,  1.,  2.,  3.],               -     array([0., 1., 2., 3.]) \n",
    "#        [ 4.,  5.,  6.,  7.],               -     array([0., 1., 2., 3.])\n",
    "#        [ 8.,  9., 10., 11.]])              -     array([0., 1., 2., 3.])"
   ]
  },
  {
   "cell_type": "code",
   "execution_count": 30,
   "id": "ccc22f78",
   "metadata": {},
   "outputs": [
    {
     "data": {
      "text/html": [
       "<div>\n",
       "<style scoped>\n",
       "    .dataframe tbody tr th:only-of-type {\n",
       "        vertical-align: middle;\n",
       "    }\n",
       "\n",
       "    .dataframe tbody tr th {\n",
       "        vertical-align: top;\n",
       "    }\n",
       "\n",
       "    .dataframe thead th {\n",
       "        text-align: right;\n",
       "    }\n",
       "</style>\n",
       "<table border=\"1\" class=\"dataframe\">\n",
       "  <thead>\n",
       "    <tr style=\"text-align: right;\">\n",
       "      <th></th>\n",
       "      <th>b</th>\n",
       "      <th>d</th>\n",
       "      <th>e</th>\n",
       "    </tr>\n",
       "  </thead>\n",
       "  <tbody>\n",
       "    <tr>\n",
       "      <th>서울</th>\n",
       "      <td>0.0</td>\n",
       "      <td>1.0</td>\n",
       "      <td>2.0</td>\n",
       "    </tr>\n",
       "    <tr>\n",
       "      <th>부산</th>\n",
       "      <td>3.0</td>\n",
       "      <td>4.0</td>\n",
       "      <td>5.0</td>\n",
       "    </tr>\n",
       "    <tr>\n",
       "      <th>인천</th>\n",
       "      <td>6.0</td>\n",
       "      <td>7.0</td>\n",
       "      <td>8.0</td>\n",
       "    </tr>\n",
       "    <tr>\n",
       "      <th>대구</th>\n",
       "      <td>9.0</td>\n",
       "      <td>10.0</td>\n",
       "      <td>11.0</td>\n",
       "    </tr>\n",
       "  </tbody>\n",
       "</table>\n",
       "</div>"
      ],
      "text/plain": [
       "      b     d     e\n",
       "서울  0.0   1.0   2.0\n",
       "부산  3.0   4.0   5.0\n",
       "인천  6.0   7.0   8.0\n",
       "대구  9.0  10.0  11.0"
      ]
     },
     "execution_count": 30,
     "metadata": {},
     "output_type": "execute_result"
    }
   ],
   "source": [
    "# DataFrame과 Series간 연산\n",
    "# step1\n",
    "df = pd.DataFrame(np.arange(12.).reshape(4,3), columns=list('bde'),\n",
    "                 index = ['서울','부산','인천','대구'])\n",
    "df"
   ]
  },
  {
   "cell_type": "code",
   "execution_count": 31,
   "id": "7648ae45",
   "metadata": {},
   "outputs": [
    {
     "data": {
      "text/plain": [
       "b    0.0\n",
       "d    1.0\n",
       "e    2.0\n",
       "Name: 서울, dtype: float64"
      ]
     },
     "execution_count": 31,
     "metadata": {},
     "output_type": "execute_result"
    }
   ],
   "source": [
    "# step2\n",
    "sr = df.iloc[0]\n",
    "sr"
   ]
  },
  {
   "cell_type": "code",
   "execution_count": 32,
   "id": "c9f27447",
   "metadata": {},
   "outputs": [
    {
     "data": {
      "text/html": [
       "<div>\n",
       "<style scoped>\n",
       "    .dataframe tbody tr th:only-of-type {\n",
       "        vertical-align: middle;\n",
       "    }\n",
       "\n",
       "    .dataframe tbody tr th {\n",
       "        vertical-align: top;\n",
       "    }\n",
       "\n",
       "    .dataframe thead th {\n",
       "        text-align: right;\n",
       "    }\n",
       "</style>\n",
       "<table border=\"1\" class=\"dataframe\">\n",
       "  <thead>\n",
       "    <tr style=\"text-align: right;\">\n",
       "      <th></th>\n",
       "      <th>b</th>\n",
       "      <th>d</th>\n",
       "      <th>e</th>\n",
       "    </tr>\n",
       "  </thead>\n",
       "  <tbody>\n",
       "    <tr>\n",
       "      <th>서울</th>\n",
       "      <td>0.0</td>\n",
       "      <td>0.0</td>\n",
       "      <td>0.0</td>\n",
       "    </tr>\n",
       "    <tr>\n",
       "      <th>부산</th>\n",
       "      <td>3.0</td>\n",
       "      <td>3.0</td>\n",
       "      <td>3.0</td>\n",
       "    </tr>\n",
       "    <tr>\n",
       "      <th>인천</th>\n",
       "      <td>6.0</td>\n",
       "      <td>6.0</td>\n",
       "      <td>6.0</td>\n",
       "    </tr>\n",
       "    <tr>\n",
       "      <th>대구</th>\n",
       "      <td>9.0</td>\n",
       "      <td>9.0</td>\n",
       "      <td>9.0</td>\n",
       "    </tr>\n",
       "  </tbody>\n",
       "</table>\n",
       "</div>"
      ],
      "text/plain": [
       "      b    d    e\n",
       "서울  0.0  0.0  0.0\n",
       "부산  3.0  3.0  3.0\n",
       "인천  6.0  6.0  6.0\n",
       "대구  9.0  9.0  9.0"
      ]
     },
     "execution_count": 32,
     "metadata": {},
     "output_type": "execute_result"
    }
   ],
   "source": [
    "# step 연산\n",
    "df - sr"
   ]
  },
  {
   "cell_type": "code",
   "execution_count": 49,
   "id": "5bfe9fbf",
   "metadata": {},
   "outputs": [
    {
     "data": {
      "text/html": [
       "<div>\n",
       "<style scoped>\n",
       "    .dataframe tbody tr th:only-of-type {\n",
       "        vertical-align: middle;\n",
       "    }\n",
       "\n",
       "    .dataframe tbody tr th {\n",
       "        vertical-align: top;\n",
       "    }\n",
       "\n",
       "    .dataframe thead th {\n",
       "        text-align: right;\n",
       "    }\n",
       "</style>\n",
       "<table border=\"1\" class=\"dataframe\">\n",
       "  <thead>\n",
       "    <tr style=\"text-align: right;\">\n",
       "      <th></th>\n",
       "      <th>b</th>\n",
       "      <th>d</th>\n",
       "      <th>e</th>\n",
       "    </tr>\n",
       "  </thead>\n",
       "  <tbody>\n",
       "    <tr>\n",
       "      <th>서울</th>\n",
       "      <td>-0.159486</td>\n",
       "      <td>0.381123</td>\n",
       "      <td>-1.208001</td>\n",
       "    </tr>\n",
       "    <tr>\n",
       "      <th>부산</th>\n",
       "      <td>0.185892</td>\n",
       "      <td>0.377361</td>\n",
       "      <td>-0.651444</td>\n",
       "    </tr>\n",
       "    <tr>\n",
       "      <th>인천</th>\n",
       "      <td>-1.002547</td>\n",
       "      <td>-0.402731</td>\n",
       "      <td>0.016607</td>\n",
       "    </tr>\n",
       "    <tr>\n",
       "      <th>대구</th>\n",
       "      <td>0.069345</td>\n",
       "      <td>-0.523295</td>\n",
       "      <td>0.549448</td>\n",
       "    </tr>\n",
       "  </tbody>\n",
       "</table>\n",
       "</div>"
      ],
      "text/plain": [
       "           b         d         e\n",
       "서울 -0.159486  0.381123 -1.208001\n",
       "부산  0.185892  0.377361 -0.651444\n",
       "인천 -1.002547 -0.402731  0.016607\n",
       "대구  0.069345 -0.523295  0.549448"
      ]
     },
     "execution_count": 49,
     "metadata": {},
     "output_type": "execute_result"
    }
   ],
   "source": [
    "# 함수 적용과 매핑\n",
    "# randn은 표준정규분포에서 난수 생성\n",
    "df = pd.DataFrame(np.random.randn(4,3), columns=list('bde'),\n",
    "                 index = ['서울','부산','인천','대구'])\n",
    "df"
   ]
  },
  {
   "cell_type": "code",
   "execution_count": 50,
   "id": "9ec50132",
   "metadata": {},
   "outputs": [
    {
     "data": {
      "text/html": [
       "<div>\n",
       "<style scoped>\n",
       "    .dataframe tbody tr th:only-of-type {\n",
       "        vertical-align: middle;\n",
       "    }\n",
       "\n",
       "    .dataframe tbody tr th {\n",
       "        vertical-align: top;\n",
       "    }\n",
       "\n",
       "    .dataframe thead th {\n",
       "        text-align: right;\n",
       "    }\n",
       "</style>\n",
       "<table border=\"1\" class=\"dataframe\">\n",
       "  <thead>\n",
       "    <tr style=\"text-align: right;\">\n",
       "      <th></th>\n",
       "      <th>b</th>\n",
       "      <th>d</th>\n",
       "      <th>e</th>\n",
       "    </tr>\n",
       "  </thead>\n",
       "  <tbody>\n",
       "    <tr>\n",
       "      <th>서울</th>\n",
       "      <td>0.159486</td>\n",
       "      <td>0.381123</td>\n",
       "      <td>1.208001</td>\n",
       "    </tr>\n",
       "    <tr>\n",
       "      <th>부산</th>\n",
       "      <td>0.185892</td>\n",
       "      <td>0.377361</td>\n",
       "      <td>0.651444</td>\n",
       "    </tr>\n",
       "    <tr>\n",
       "      <th>인천</th>\n",
       "      <td>1.002547</td>\n",
       "      <td>0.402731</td>\n",
       "      <td>0.016607</td>\n",
       "    </tr>\n",
       "    <tr>\n",
       "      <th>대구</th>\n",
       "      <td>0.069345</td>\n",
       "      <td>0.523295</td>\n",
       "      <td>0.549448</td>\n",
       "    </tr>\n",
       "  </tbody>\n",
       "</table>\n",
       "</div>"
      ],
      "text/plain": [
       "           b         d         e\n",
       "서울  0.159486  0.381123  1.208001\n",
       "부산  0.185892  0.377361  0.651444\n",
       "인천  1.002547  0.402731  0.016607\n",
       "대구  0.069345  0.523295  0.549448"
      ]
     },
     "execution_count": 50,
     "metadata": {},
     "output_type": "execute_result"
    }
   ],
   "source": [
    "np.abs(df)                  # 절대값"
   ]
  },
  {
   "cell_type": "markdown",
   "id": "165de2dd",
   "metadata": {},
   "source": [
    "커스텀 함수(custom function)를 DataFrame에 적용하려면 map함수, apply함수, applymap함수를 사용\n",
    "\n",
    "- map함수 : DataFrame 타입이 아니라, 반드시 Series 타입에서만 사용\n",
    "- apply함수 : 커스텀 함수를 사용하기 위해 DataFrame에서 복수 개의 컬럼이 필요하다면, apply함수를 사용\n",
    "- applymap함수 : DataFrame클래스의 함수이긴 하나, 위의 apply함수처럼 각 row(axis=1)나 각 column(axis=0)별로 작동하는 함수가 아니라, 각 요소(element)별로 작동\n",
    "마치 선형대수에서 벡터에 스칼라를 연산하면, 벡터의 요소 하나하나에 해당 연산을 해주는 것처럼(elementwise) 적용하는 DataFrame의 각 요소마다 커스텀 함수(반드시 Single vaule를 반환하는)를 수행한다고 보면 된다. applymap에 인자로 전달하는 커스텀함수가 Single value로부터 Single value를 반환한다는 점이 중요하다"
   ]
  },
  {
   "cell_type": "code",
   "execution_count": 51,
   "id": "113664b0",
   "metadata": {},
   "outputs": [
    {
     "data": {
      "text/plain": [
       "b    1.188439\n",
       "d    0.904417\n",
       "e    1.757449\n",
       "dtype: float64"
      ]
     },
     "execution_count": 51,
     "metadata": {},
     "output_type": "execute_result"
    }
   ],
   "source": [
    "# series의 최대값과 최소값의 차이를 계산\n",
    "f = lambda x:x.max() - x.min()\n",
    "df.apply(f)"
   ]
  },
  {
   "cell_type": "code",
   "execution_count": 52,
   "id": "ead8dfa8",
   "metadata": {},
   "outputs": [
    {
     "data": {
      "text/plain": [
       "서울    1.589124\n",
       "부산    1.028805\n",
       "인천    1.019155\n",
       "대구    1.072742\n",
       "dtype: float64"
      ]
     },
     "execution_count": 52,
     "metadata": {},
     "output_type": "execute_result"
    }
   ],
   "source": [
    "# 각 행에 대해서 수행\n",
    "df.apply(f,axis='columns')"
   ]
  },
  {
   "cell_type": "code",
   "execution_count": 53,
   "id": "09bf65f6",
   "metadata": {},
   "outputs": [
    {
     "data": {
      "text/plain": [
       "서울    0.582870\n",
       "부산    0.404899\n",
       "인천    0.473962\n",
       "대구    0.380696\n",
       "dtype: float64"
      ]
     },
     "execution_count": 53,
     "metadata": {},
     "output_type": "execute_result"
    }
   ],
   "source": [
    "# Q. 적절한 사용자 함수 혹은 람다 함수를 생성해서 df에 그 함수를 적용한 결과를 출력하세요.\n",
    "\n",
    "f = lambda x: x.sum() / x.count()\n",
    "\n",
    "a = np.abs(df).apply(f, axis = 1)\n",
    "a"
   ]
  },
  {
   "cell_type": "code",
   "execution_count": 54,
   "id": "b3e14c54",
   "metadata": {},
   "outputs": [
    {
     "data": {
      "text/plain": [
       "b   -0.408328\n",
       "d   -0.071086\n",
       "e   -0.329277\n",
       "dtype: float64"
      ]
     },
     "execution_count": 54,
     "metadata": {},
     "output_type": "execute_result"
    }
   ],
   "source": [
    "a= lambda x:(x.max() + x.min())/2\n",
    "# df.apply(a, axis='index')\n",
    "df.apply(a)"
   ]
  },
  {
   "cell_type": "code",
   "execution_count": 55,
   "id": "571ca9f0",
   "metadata": {},
   "outputs": [
    {
     "data": {
      "text/html": [
       "<div>\n",
       "<style scoped>\n",
       "    .dataframe tbody tr th:only-of-type {\n",
       "        vertical-align: middle;\n",
       "    }\n",
       "\n",
       "    .dataframe tbody tr th {\n",
       "        vertical-align: top;\n",
       "    }\n",
       "\n",
       "    .dataframe thead th {\n",
       "        text-align: right;\n",
       "    }\n",
       "</style>\n",
       "<table border=\"1\" class=\"dataframe\">\n",
       "  <thead>\n",
       "    <tr style=\"text-align: right;\">\n",
       "      <th></th>\n",
       "      <th>b</th>\n",
       "      <th>d</th>\n",
       "      <th>e</th>\n",
       "    </tr>\n",
       "  </thead>\n",
       "  <tbody>\n",
       "    <tr>\n",
       "      <th>min</th>\n",
       "      <td>-1.002547</td>\n",
       "      <td>-0.523295</td>\n",
       "      <td>-1.208001</td>\n",
       "    </tr>\n",
       "    <tr>\n",
       "      <th>max</th>\n",
       "      <td>0.185892</td>\n",
       "      <td>0.381123</td>\n",
       "      <td>0.549448</td>\n",
       "    </tr>\n",
       "  </tbody>\n",
       "</table>\n",
       "</div>"
      ],
      "text/plain": [
       "            b         d         e\n",
       "min -1.002547 -0.523295 -1.208001\n",
       "max  0.185892  0.381123  0.549448"
      ]
     },
     "execution_count": 55,
     "metadata": {},
     "output_type": "execute_result"
    }
   ],
   "source": [
    "# 여러값을 가진 series 변환\n",
    "def f(x):\n",
    "    return pd.Series([x.min(),x.max()], index=['min','max'])\n",
    "\n",
    "df.apply(f)"
   ]
  },
  {
   "cell_type": "code",
   "execution_count": 56,
   "id": "67cbe6ef",
   "metadata": {},
   "outputs": [
    {
     "data": {
      "text/html": [
       "<div>\n",
       "<style scoped>\n",
       "    .dataframe tbody tr th:only-of-type {\n",
       "        vertical-align: middle;\n",
       "    }\n",
       "\n",
       "    .dataframe tbody tr th {\n",
       "        vertical-align: top;\n",
       "    }\n",
       "\n",
       "    .dataframe thead th {\n",
       "        text-align: right;\n",
       "    }\n",
       "</style>\n",
       "<table border=\"1\" class=\"dataframe\">\n",
       "  <thead>\n",
       "    <tr style=\"text-align: right;\">\n",
       "      <th></th>\n",
       "      <th>b</th>\n",
       "      <th>d</th>\n",
       "      <th>e</th>\n",
       "    </tr>\n",
       "  </thead>\n",
       "  <tbody>\n",
       "    <tr>\n",
       "      <th>서울</th>\n",
       "      <td>-0.16</td>\n",
       "      <td>0.38</td>\n",
       "      <td>-1.21</td>\n",
       "    </tr>\n",
       "    <tr>\n",
       "      <th>부산</th>\n",
       "      <td>0.19</td>\n",
       "      <td>0.38</td>\n",
       "      <td>-0.65</td>\n",
       "    </tr>\n",
       "    <tr>\n",
       "      <th>인천</th>\n",
       "      <td>-1.00</td>\n",
       "      <td>-0.40</td>\n",
       "      <td>0.02</td>\n",
       "    </tr>\n",
       "    <tr>\n",
       "      <th>대구</th>\n",
       "      <td>0.07</td>\n",
       "      <td>-0.52</td>\n",
       "      <td>0.55</td>\n",
       "    </tr>\n",
       "  </tbody>\n",
       "</table>\n",
       "</div>"
      ],
      "text/plain": [
       "        b      d      e\n",
       "서울  -0.16   0.38  -1.21\n",
       "부산   0.19   0.38  -0.65\n",
       "인천  -1.00  -0.40   0.02\n",
       "대구   0.07  -0.52   0.55"
      ]
     },
     "execution_count": 56,
     "metadata": {},
     "output_type": "execute_result"
    }
   ],
   "source": [
    "# Q. 실수값을 문자열 포맷으로 변환(소수점 2자리)\n",
    "\n",
    "format = lambda x: '%.2f' %x\n",
    "df.applymap(format)"
   ]
  },
  {
   "cell_type": "code",
   "execution_count": 57,
   "id": "9daad275",
   "metadata": {},
   "outputs": [
    {
     "data": {
      "text/plain": [
       "서울    -1.21\n",
       "부산    -0.65\n",
       "인천     0.02\n",
       "대구     0.55\n",
       "Name: e, dtype: object"
      ]
     },
     "execution_count": 57,
     "metadata": {},
     "output_type": "execute_result"
    }
   ],
   "source": [
    "# map함수는 series에만 적용\n",
    "\n",
    "df['e'].map(format)"
   ]
  }
 ],
 "metadata": {
  "kernelspec": {
   "display_name": "Python 3 (ipykernel)",
   "language": "python",
   "name": "python3"
  },
  "language_info": {
   "codemirror_mode": {
    "name": "ipython",
    "version": 3
   },
   "file_extension": ".py",
   "mimetype": "text/x-python",
   "name": "python",
   "nbconvert_exporter": "python",
   "pygments_lexer": "ipython3",
   "version": "3.9.13"
  }
 },
 "nbformat": 4,
 "nbformat_minor": 5
}
