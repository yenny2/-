{
 "cells": [
  {
   "cell_type": "markdown",
   "id": "1ea8f5dd",
   "metadata": {},
   "source": [
    "#### NumPy는 “Numerical Python“의 약자로 대규모 다차원 배열과 행렬 연산에 필요한 다양한 함수를 제공\n",
    "* Numerical Python을 의미하는 NumPy는 파이썬에서 선형대수 기반의 프로그램을 쉽게 만들 수 있도록 지원하는 대표적인 패키지\n",
    "* 많은 머신러닝 알고리즘이 넘파이 기반으로 작성돼 있으며 알고리즘의 입출력 데이터를 넘파이 배열 타입으로 사용함\n",
    "* 넘파이의 기본 데이터 타입은 ndarray. ndarray를 이용해 넘파이에서 다차원 배열을 쉽게 생성하고 다양한 연산 수행\n",
    "\n",
    "NumPy 특징\n",
    "\n",
    "- 강력한 N 차원 배열 객체\n",
    "- 정교한 브로드케스팅(Broadcast) 기능\n",
    "- C/C ++ 및 포트란 코드 통합 도구\n",
    "- 유용한 선형 대수학, 푸리에 변환 및 난수 기능\n",
    "- 푸리에 변환(Fourier transform, FT)은 시간이나 공간에 대한 함수를 시간 또는 공간 주파수 성분으로 분해하는 변환\n",
    "- 범용적 데이터 처리에 사용 가능한 다차원 컨테이너\n",
    "\n",
    "Numpy Documentation  \n",
    "\n",
    "https://numpy.org/doc/1.21/index.html\n",
    "\n",
    "Numpy는 대용량 데이터 배열을 효율적으로 다룰 수 있도록 설계되었다.\n",
    "- Numpy는 내부적으로 데이터를 다른 내장 파이썬 객체와 구분된 연속된 메모리 블록에 저장\n",
    "- Numpy의 각종 알고리즘은 모두 C로 작성되어 타입 검사나 다른 오버헤드 없이 메모리를 직접 조작\n",
    "- Numpy 배열은 또한 내장 파이썬의 연속된 자료형들보다 훨씬 더 적은 메모리를 사용\n",
    "- Numpy 연산은 파이썬 반복문을 사용하지 않고 전체 배열에 대한 복잡한 계산을 수행"
   ]
  },
  {
   "cell_type": "code",
   "execution_count": 4,
   "id": "72d7af92",
   "metadata": {},
   "outputs": [
    {
     "name": "stdout",
     "output_type": "stream",
     "text": [
      "Wall time: 15 ms\n"
     ]
    }
   ],
   "source": [
    "import numpy as np\n",
    "\n",
    "my_arr = np.arange(1000000)\n",
    "my_list = list(range(1000000))\n",
    "\n",
    "# 연산하는 시간 체크\n",
    "%time for _ in range(10):my_array2 = my_arr * 2 # _무시하는 숫자 표현"
   ]
  },
  {
   "cell_type": "code",
   "execution_count": 6,
   "id": "100a2747",
   "metadata": {},
   "outputs": [
    {
     "name": "stdout",
     "output_type": "stream",
     "text": [
      "Wall time: 753 ms\n"
     ]
    }
   ],
   "source": [
    "%time for _ in range(10): my_list2 = [x*2 for x in my_list]\n",
    "    \n",
    "    # 시간이 덜 걸리는 배열이 효과적이다. "
   ]
  },
  {
   "cell_type": "code",
   "execution_count": 10,
   "id": "c239cfdb",
   "metadata": {},
   "outputs": [
    {
     "name": "stdout",
     "output_type": "stream",
     "text": [
      "[[ 1.76405235  0.40015721  0.97873798]\n",
      " [ 2.2408932   1.86755799 -0.97727788]] \n",
      "\n",
      "[[17.64052346  4.00157208  9.78737984]\n",
      " [22.40893199 18.6755799  -9.7727788 ]] \n",
      "\n",
      "[[ 3.52810469  0.80031442  1.95747597]\n",
      " [ 4.4817864   3.73511598 -1.95455576]]\n"
     ]
    }
   ],
   "source": [
    "# 배열 연산\n",
    "np.random.seed(0)            # 계속 랜덤으로 뽑히는 걸 방지\n",
    "data = np.random.randn(2,3)  # 정규분포를 이루는 숫자 중 2행 3열로 뽑겠다.\n",
    "print(data,'\\n')\n",
    "print(data * 10, '\\n')       # 데이터 각각에 10 이 곱해짐\n",
    "print(data + data) \n"
   ]
  },
  {
   "cell_type": "code",
   "execution_count": 13,
   "id": "6c908dc5",
   "metadata": {},
   "outputs": [
    {
     "name": "stdout",
     "output_type": "stream",
     "text": [
      "(2, 3)\n",
      "float64\n",
      "2\n"
     ]
    }
   ],
   "source": [
    "# 데이터의 크기를 보려면\n",
    "\n",
    "print(data.shape)   # 데이터의 크기\n",
    "print(data.dtype)  # 데이터의 자료형\n",
    "print(data.ndim)   # 차원"
   ]
  },
  {
   "cell_type": "code",
   "execution_count": 14,
   "id": "24a0a675",
   "metadata": {},
   "outputs": [
    {
     "name": "stdout",
     "output_type": "stream",
     "text": [
      "[6 7 5 8 0 1] <class 'numpy.ndarray'>\n"
     ]
    }
   ],
   "source": [
    "# 배열 생성\n",
    "# 1차원\n",
    "\n",
    "data1 = [6,7,5,8,0,1]\n",
    "arr1 = np.array(data1)\n",
    "print(arr1,type(arr1))"
   ]
  },
  {
   "cell_type": "code",
   "execution_count": 17,
   "id": "6f86d53c",
   "metadata": {},
   "outputs": [
    {
     "name": "stdout",
     "output_type": "stream",
     "text": [
      "[[1 2 3 4]\n",
      " [5 6 7 8]] <class 'numpy.ndarray'> \n",
      "\n",
      "(2, 4) \n",
      "\n",
      "2 \n",
      "\n",
      "int32\n"
     ]
    }
   ],
   "source": [
    "# 2차원\n",
    "\n",
    "data2 = [[1,2,3,4],[5,6,7,8]]\n",
    "arr2 = np.array(data2)\n",
    "print(arr2,type(arr2),'\\n')\n",
    "print(arr2.shape,'\\n')\n",
    "print(arr2.ndim,'\\n')\n",
    "print(arr2.dtype)"
   ]
  },
  {
   "cell_type": "code",
   "execution_count": 18,
   "id": "f4fbcf89",
   "metadata": {},
   "outputs": [
    {
     "name": "stdout",
     "output_type": "stream",
     "text": [
      "[[[ 1  2  3  4  5]\n",
      "  [ 6  7  8  9 10]]\n",
      "\n",
      " [[ 1  2  3  4  5]\n",
      "  [ 6  7  8  9 10]]\n",
      "\n",
      " [[ 1  2  3  4  5]\n",
      "  [ 6  7  8  9 10]]] <class 'numpy.ndarray'> \n",
      "\n",
      "(3, 2, 5) \n",
      "\n",
      "3 \n",
      "\n",
      "int32\n"
     ]
    }
   ],
   "source": [
    "# 3차원\n",
    "\n",
    "data3 = [[[1,2,3,4,5],[6,7,8,9,10]],\n",
    "        [[1,2,3,4,5],[6,7,8,9,10]],\n",
    "        [[1,2,3,4,5],[6,7,8,9,10]]]\n",
    "arr3 = np.array(data3)\n",
    "print(arr3,type(arr3),'\\n')\n",
    "print(arr3.shape,'\\n')\n",
    "print(arr3.ndim,'\\n')\n",
    "print(arr3.dtype)"
   ]
  },
  {
   "cell_type": "markdown",
   "id": "46a9d801",
   "metadata": {},
   "source": [
    "배열 생성 및 초기화\n",
    "- Numpy는 원하는 shape로 배열을 설정하고 각 요소를 특정 값으로 초기화하는 zeros, ones, full, eye 함수 제공\n",
    "- 파라미터로 입력한 배열과 같은 shape의 배열을 만드는 zeros_like, ones_like, full_like 함수도 제공"
   ]
  },
  {
   "cell_type": "code",
   "execution_count": 24,
   "id": "19c1517e",
   "metadata": {},
   "outputs": [
    {
     "name": "stdout",
     "output_type": "stream",
     "text": [
      "[0. 0. 0. 0. 0. 0. 0. 0. 0. 0.] \n",
      "\n",
      "[[0. 0. 0. 0. 0.]\n",
      " [0. 0. 0. 0. 0.]\n",
      " [0. 0. 0. 0. 0.]] \n",
      "\n",
      "[[[0. 0.]\n",
      "  [0. 0.]\n",
      "  [0. 0.]]\n",
      "\n",
      " [[0. 0.]\n",
      "  [0. 0.]\n",
      "  [0. 0.]]] \n",
      "\n",
      "[1. 1. 1. 1. 1. 1. 1. 1. 1. 1.] \n",
      "\n",
      "[[1. 1. 1. 1. 1.]\n",
      " [1. 1. 1. 1. 1.]\n",
      " [1. 1. 1. 1. 1.]] \n",
      "\n",
      "[[[1. 1.]\n",
      "  [1. 1.]\n",
      "  [1. 1.]]\n",
      "\n",
      " [[1. 1.]\n",
      "  [1. 1.]\n",
      "  [1. 1.]]]\n"
     ]
    }
   ],
   "source": [
    "print(np.zeros(10),'\\n')\n",
    "print(np.zeros((3,5)),'\\n')\n",
    "print(np.zeros((2,3,2)),'\\n')  # (2차원 배열 2개이고, 3행, 2열)\n",
    "\n",
    "print(np.ones(10),'\\n')\n",
    "print(np.ones((3,5)),'\\n')\n",
    "print(np.ones((2,3,2)))  # (2차원 배열 2개이고, 3행, 2열)"
   ]
  },
  {
   "cell_type": "code",
   "execution_count": 42,
   "id": "0a02cd25",
   "metadata": {},
   "outputs": [
    {
     "name": "stdout",
     "output_type": "stream",
     "text": [
      "[[0 1 2 3 4]\n",
      " [5 6 7 8 9]] \n",
      "\n",
      "[[0 0 0 0 0]\n",
      " [0 0 0 0 0]] \n",
      "\n",
      "[[1 1 1 1 1]\n",
      " [1 1 1 1 1]] \n",
      "\n",
      "[[2 2 2 2 2]\n",
      " [2 2 2 2 2]]\n"
     ]
    }
   ],
   "source": [
    "# [과제] zeros_like, ones_like, full_like 함수 사용 예를 작성하세요.\n",
    "\n",
    "a = np.arange(10).reshape(2,5)\n",
    "print(a,'\\n')\n",
    "\n",
    "print(np.zeros_like(a),'\\n')\n",
    "\n",
    "print(np.ones_like(a),'\\n')\n",
    "\n",
    "print(np.full_like(a,2))"
   ]
  },
  {
   "cell_type": "code",
   "execution_count": 30,
   "id": "daec9581",
   "metadata": {},
   "outputs": [
    {
     "data": {
      "text/plain": [
       "array([ 0,  1,  2,  3,  4,  5,  6,  7,  8,  9, 10, 11, 12, 13, 14])"
      ]
     },
     "execution_count": 30,
     "metadata": {},
     "output_type": "execute_result"
    }
   ],
   "source": [
    "# arange 함수 : 파이썬의 range 함수의 배열 버전\n",
    "ar = np.arange(15) # 0부터 14까지 뽑아줌\n",
    "ar"
   ]
  },
  {
   "cell_type": "code",
   "execution_count": 32,
   "id": "2cccc266",
   "metadata": {},
   "outputs": [
    {
     "data": {
      "text/plain": [
       "array([[ 0,  1,  2,  3,  4,  5,  6,  7,  8,  9, 10, 11, 12, 13, 14]])"
      ]
     },
     "execution_count": 32,
     "metadata": {},
     "output_type": "execute_result"
    }
   ],
   "source": [
    "# reshape 함수 원하는 차원으로 바꿔주는 것\n",
    "ar.reshape(3,5)   # 대신 나눠 떨어지는 것으로 차원을 정해야함. \n",
    "\n",
    "ar.reshape(1,15)  # 2차원 [[]] 대가로 두개니까"
   ]
  },
  {
   "cell_type": "code",
   "execution_count": 35,
   "id": "13a29c85",
   "metadata": {},
   "outputs": [
    {
     "name": "stdout",
     "output_type": "stream",
     "text": [
      "[[0 1]\n",
      " [2 3]\n",
      " [4 5]\n",
      " [6 7]\n",
      " [8 9]] <class 'numpy.ndarray'>\n"
     ]
    }
   ],
   "source": [
    "# Q. array1에 reshape 함수를 이용(5,2)배열을 생성하고 형태를 같이 출력하세요.\n",
    "\n",
    "array1 = np.arange(10)\n",
    "\n",
    "b = array1.reshape(5,2)\n",
    "print(b,type(b))"
   ]
  },
  {
   "cell_type": "code",
   "execution_count": 38,
   "id": "821ad325",
   "metadata": {},
   "outputs": [
    {
     "name": "stdout",
     "output_type": "stream",
     "text": [
      "[ 0  1  2  3  4  5  6  7  8  9 10 11] \n",
      "\n",
      "[[ 0  1  2  3]\n",
      " [ 4  5  6  7]\n",
      " [ 8  9 10 11]] \n",
      "\n",
      "[[[ 0  1]\n",
      "  [ 2  3]]\n",
      "\n",
      " [[ 4  5]\n",
      "  [ 6  7]]\n",
      "\n",
      " [[ 8  9]\n",
      "  [10 11]]]\n"
     ]
    }
   ],
   "source": [
    "# Q. ar에 reshpae() 함수 이용, 1차원, 2차원, 3차원 배열 생성\n",
    "\n",
    "ar = np.arange(12)\n",
    "print(ar,'\\n')\n",
    "print(ar.reshape(3,4),'\\n')\n",
    "print(ar.reshape(3,2,2))"
   ]
  },
  {
   "cell_type": "code",
   "execution_count": 42,
   "id": "d821047b",
   "metadata": {},
   "outputs": [
    {
     "name": "stdout",
     "output_type": "stream",
     "text": [
      "1->2,3차원\n",
      "[[ 0  1  2  3  4  5  6  7  8  9 10 11 12 13 14]\n",
      " [15 16 17 18 19 20 21 22 23 24 25 26 27 28 29]] \n",
      "\n",
      "[[[ 0  1  2  3  4]\n",
      "  [ 5  6  7  8  9]]\n",
      "\n",
      " [[10 11 12 13 14]\n",
      "  [15 16 17 18 19]]\n",
      "\n",
      " [[20 21 22 23 24]\n",
      "  [25 26 27 28 29]]] \n",
      "\n"
     ]
    }
   ],
   "source": [
    "# 차원 변경\n",
    "\n",
    "ar1 = np.arange(30)\n",
    "print('1->2,3차원')\n",
    "ar12 = ar1.reshape(2,-1)    # 2행으로 하고 나머지는 계산해서 알아서 해줘\n",
    "ar13 = ar1.reshape(-1,2,5)  # 2행 5열로 할 건데 나머지는 너가 알아서 계산해서 해줘\n",
    "print(ar12,'\\n')\n",
    "print(ar13,'\\n')"
   ]
  },
  {
   "cell_type": "code",
   "execution_count": 43,
   "id": "65491060",
   "metadata": {},
   "outputs": [
    {
     "name": "stdout",
     "output_type": "stream",
     "text": [
      "2->1,3차원\n",
      "[[ 0  1  2  3  4  5  6  7  8  9 10 11 12 13 14]\n",
      " [15 16 17 18 19 20 21 22 23 24 25 26 27 28 29]] \n",
      "\n",
      "[ 0  1  2  3  4  5  6  7  8  9 10 11 12 13 14 15 16 17 18 19 20 21 22 23\n",
      " 24 25 26 27 28 29] \n",
      "\n",
      "[[[ 0  1  2  3  4]\n",
      "  [ 5  6  7  8  9]]\n",
      "\n",
      " [[10 11 12 13 14]\n",
      "  [15 16 17 18 19]]\n",
      "\n",
      " [[20 21 22 23 24]\n",
      "  [25 26 27 28 29]]] \n",
      "\n"
     ]
    }
   ],
   "source": [
    "print('2->1,3차원')\n",
    "\n",
    "print(ar12,'\\n')\n",
    "ar21 = ar12.reshape(-1,)  # 2차원에서 1차원으로 바꾸는 방법\n",
    "ar23 = ar12.reshape(-1,2,5)\n",
    "print(ar21,'\\n')\n",
    "print(ar23,'\\n')"
   ]
  },
  {
   "cell_type": "code",
   "execution_count": 34,
   "id": "ba80b303",
   "metadata": {},
   "outputs": [
    {
     "name": "stdout",
     "output_type": "stream",
     "text": [
      "[[[ 0  1  2  3  4]\n",
      "  [ 5  6  7  8  9]]\n",
      "\n",
      " [[10 11 12 13 14]\n",
      "  [15 16 17 18 19]]\n",
      "\n",
      " [[20 21 22 23 24]\n",
      "  [25 26 27 28 29]]] <class 'numpy.ndarray'> \n",
      "\n",
      "[[[0, 1, 2, 3, 4], [5, 6, 7, 8, 9]], [[10, 11, 12, 13, 14], [15, 16, 17, 18, 19]], [[20, 21, 22, 23, 24], [25, 26, 27, 28, 29]]] <class 'list'>\n",
      "[[[ 0  1  2  3  4]\n",
      "  [ 5  6  7  8  9]]\n",
      "\n",
      " [[10 11 12 13 14]\n",
      "  [15 16 17 18 19]]\n",
      "\n",
      " [[20 21 22 23 24]\n",
      "  [25 26 27 28 29]]] <class 'numpy.ndarray'>\n"
     ]
    }
   ],
   "source": [
    "ar3 = np.arange(30).reshape(3,2,5)\n",
    "print(ar3,type(ar3),'\\n')\n",
    "l3 = ar3.tolist()    # 배열을 리스트로 변경 tolist()\n",
    "print(l3,type(l3))\n",
    "\n",
    "# 리스트를 배열로 바꾸려면 array\n",
    "t_ar = np.array(l3)\n",
    "print(t_ar,type(t_ar))\n"
   ]
  },
  {
   "cell_type": "markdown",
   "id": "fcf072d8",
   "metadata": {},
   "source": [
    "행렬의 종류\n",
    "\n",
    "https://math-development-geometry.tistory.com/52\n",
    "\n",
    "- 정방행렬은 행과 열의 수가 같은 행렬\n",
    "- 대각행렬은 주대각선 원소를 제외한 모든 원소들이 0인 정방행렬\n",
    "- 삼각행렬은 주대각선 원소를 기준으로 위 또는 아래에 있는 성분이 모두 0인 정방행렬\n",
    "- 항등행렬은 행렬 곱셈 연산에 항등원으로 작용하는 행렬\n",
    "- 영행렬은 모든 원소가 0인 행렬로 곱셈 연산에서 영원으로 작용하는 행렬\n",
    "- 전치행렬은 주대각선 원소를 기준으로 행과 열을 바꿔주는 행렬\n",
    "- 직교행렬은 행렬 A의 역행렬이 A의 전치행렬이고 A의 전치행렬과 A 행렬을 곱하였을때 항등행렬이 나오는 행렬"
   ]
  },
  {
   "cell_type": "code",
   "execution_count": 47,
   "id": "76ee715c",
   "metadata": {},
   "outputs": [
    {
     "data": {
      "text/plain": [
       "array([[7, 7],\n",
       "       [7, 7]])"
      ]
     },
     "execution_count": 47,
     "metadata": {},
     "output_type": "execute_result"
    }
   ],
   "source": [
    "# 정방행렬 : 행과 열의 수가 같음\n",
    "# 넘파이에서 정방행렬은 full 함수로 만들 수 있음 ((행,열),채울숫자)\n",
    "\n",
    "a = np.full((2,2),7)\n",
    "a"
   ]
  },
  {
   "cell_type": "code",
   "execution_count": 48,
   "id": "9b26f392",
   "metadata": {},
   "outputs": [
    {
     "data": {
      "text/plain": [
       "array([[1., 0., 0.],\n",
       "       [0., 1., 0.],\n",
       "       [0., 0., 1.]])"
      ]
     },
     "execution_count": 48,
     "metadata": {},
     "output_type": "execute_result"
    }
   ],
   "source": [
    "# 항등행렬, 단위행렬  : 대각선이 1이고 나머지 다 영인 것 -> 행과 열의 수가 같으니까 정방행렬이라고 할 수 있음\n",
    "\n",
    "ar = np.eye(3) # 대각선의 갯수 3\n",
    "ar"
   ]
  },
  {
   "cell_type": "code",
   "execution_count": 51,
   "id": "f6f34374",
   "metadata": {},
   "outputs": [
    {
     "data": {
      "text/plain": [
       "array([[1, 0, 0, 0, 0],\n",
       "       [0, 2, 0, 0, 0],\n",
       "       [0, 0, 3, 0, 0],\n",
       "       [0, 0, 0, 4, 0],\n",
       "       [0, 0, 0, 0, 5]])"
      ]
     },
     "execution_count": 51,
     "metadata": {},
     "output_type": "execute_result"
    }
   ],
   "source": [
    "# 대각행렬\n",
    "\n",
    "diag_mat = np.diag([1,2,3,4,5])  # 대각선에 넣고싶은 숫자들. 나머지는 다 영\n",
    "diag_mat"
   ]
  },
  {
   "cell_type": "code",
   "execution_count": 52,
   "id": "4fca6d45",
   "metadata": {},
   "outputs": [
    {
     "name": "stdout",
     "output_type": "stream",
     "text": [
      "[[1 2 3]\n",
      " [0 5 6]\n",
      " [0 0 9]]\n"
     ]
    }
   ],
   "source": [
    "# 삼각행렬\n",
    "upper_tri_mat = np.triu([[1,2,3],[4,5,6],[7,8,9]])\n",
    "print(upper_tri_mat)"
   ]
  },
  {
   "cell_type": "code",
   "execution_count": 43,
   "id": "f6702875",
   "metadata": {},
   "outputs": [
    {
     "name": "stdout",
     "output_type": "stream",
     "text": [
      "[[1 0 0]\n",
      " [4 5 0]\n",
      " [7 8 9]]\n"
     ]
    }
   ],
   "source": [
    "# [과제] 하삼각행렬을 생성하세요.\n",
    "\n",
    "lower_tri_mat = np.tril([[1,2,3],[4,5,6],[7,8,9]])\n",
    "print(lower_tri_mat)"
   ]
  },
  {
   "cell_type": "code",
   "execution_count": 39,
   "id": "0d9ac238",
   "metadata": {},
   "outputs": [
    {
     "name": "stdout",
     "output_type": "stream",
     "text": [
      "[[1 2]\n",
      " [3 4]\n",
      " [5 6]] \n",
      "\n",
      "[[1 3 5]\n",
      " [2 4 6]]\n"
     ]
    }
   ],
   "source": [
    "# 전치행렬 : 원래의 행렬에서 행과 열을 바꾼 행렬을 의미\n",
    "# 3행 2열을 전치행렬하면 2행 3열이 됨\n",
    "import numpy as np\n",
    "\n",
    "mat = np.array([[1, 2], [3, 4], [5, 6]])\n",
    "print(mat,'\\n')\n",
    "transpose_mat = mat.T   # 전치행렬로 만드는 것.\n",
    "print(transpose_mat)"
   ]
  },
  {
   "cell_type": "markdown",
   "id": "c387a1d5",
   "metadata": {},
   "source": [
    "#### 직교행렬\n",
    "- 행과 열이 서로 직교하는 정방행렬.\n",
    "- 모든 열벡터와 행벡터가 서로 직교하고 크기가 1인 단위벡터로 이루어짐\n",
    "- np.linalg.qr() 함수를 사용하여 QR 분행 수행하여 직교행렬을 추출\n",
    "- q를 추출하여 직교행렬 orth_mat을 만든다\n",
    "- np.dot(orth_mat,orth_mat.T)를 계산하여 직교성을 검증\n",
    "- np.allclose() 함수로 두 행렬이 동일한지 검사. True를 반환하면 두 행렬은 동일"
   ]
  },
  {
   "cell_type": "code",
   "execution_count": 4,
   "id": "87904119",
   "metadata": {},
   "outputs": [
    {
     "name": "stdout",
     "output_type": "stream",
     "text": [
      "[[ 0.00462903 -2.17545745 -1.2904828 ]\n",
      " [ 0.59131476  0.56577146  1.66150262]\n",
      " [-0.22155993  0.05267523 -0.4375922 ]]\n",
      "[[-0.00733048  0.99356793  0.11300019]\n",
      " [-0.93639932 -0.04646982  0.34784605]\n",
      " [ 0.35085978 -0.10326342  0.93071697]]\n",
      "True\n"
     ]
    }
   ],
   "source": [
    "# A의 전치행렬과 A 행렬을 곱하였을때 항등행렬이 나오는 행렬\n",
    "mat = np.random.randn(3,3)\n",
    "print(mat)\n",
    "\n",
    "# qr 분해\n",
    "q,r = np.linalg.qr(mat)\n",
    "\n",
    "# 직교행렬 추출\n",
    "orth_mat = q\n",
    "print(orth_mat)\n",
    "\n",
    "# 직교성 검증\n",
    "print(np.allclose(np.dot(orth_mat,orth_mat.T),np.eye(3)))"
   ]
  },
  {
   "cell_type": "code",
   "execution_count": 26,
   "id": "4d64f0c5",
   "metadata": {},
   "outputs": [
    {
     "data": {
      "text/plain": [
       "array([[1, 2, 3],\n",
       "       [4, 5, 6],\n",
       "       [7, 8, 9]])"
      ]
     },
     "execution_count": 26,
     "metadata": {},
     "output_type": "execute_result"
    }
   ],
   "source": [
    "# 인덱싱, 슬라이싱\n",
    "ar2 = np.arange(1,10).reshape(3,3)\n",
    "ar2"
   ]
  },
  {
   "cell_type": "code",
   "execution_count": 27,
   "id": "ed3e3491",
   "metadata": {},
   "outputs": [
    {
     "name": "stdout",
     "output_type": "stream",
     "text": [
      "[7 8 9]\n",
      "3\n",
      "3\n"
     ]
    }
   ],
   "source": [
    "print(ar2[2])    # 인덱스 2번째 행\n",
    "print(ar2[0][2]) # 인덱스 0번째 행의 인덱스 2번째 열\n",
    "print(ar2[0,2])  # 인덱스 0번째 행의 인덱스 2번째 열"
   ]
  },
  {
   "cell_type": "code",
   "execution_count": 29,
   "id": "1e82d951",
   "metadata": {},
   "outputs": [
    {
     "data": {
      "text/plain": [
       "array([[ 0,  1,  2,  3],\n",
       "       [ 4,  5,  6,  7],\n",
       "       [ 8,  9, 10, 11],\n",
       "       [12, 13, 14, 15],\n",
       "       [16, 17, 18, 19]])"
      ]
     },
     "execution_count": 29,
     "metadata": {},
     "output_type": "execute_result"
    }
   ],
   "source": [
    "ar = np.arange(20).reshape(5,4)\n",
    "ar"
   ]
  },
  {
   "cell_type": "code",
   "execution_count": 30,
   "id": "d6ad171d",
   "metadata": {},
   "outputs": [
    {
     "data": {
      "text/plain": [
       "array([[1, 2, 3],\n",
       "       [5, 6, 7]])"
      ]
     },
     "execution_count": 30,
     "metadata": {},
     "output_type": "execute_result"
    }
   ],
   "source": [
    "ar[:2,1:] # 인덱스 0 ~ 1번째 행에서 인덱스 1번째에서 끝까지의 열"
   ]
  },
  {
   "cell_type": "markdown",
   "id": "4543966f",
   "metadata": {},
   "source": [
    "# Q. ar에서 슬라이싱을 사용해서 아래와 같이 출력하세요.\n",
    "\n",
    "[[1 2]<br>\n",
    " [4 5]] \n",
    "\n",
    "[[4 5 6]<br>\n",
    " [7 8 9]] \n",
    "<br><br>\n",
    "[[4 5 6]<br>\n",
    " [7 8 9]] \n",
    "\n",
    "[[1 2 3]<br>\n",
    " [4 5 6]<br>\n",
    " [7 8 9]] \n",
    "<br><br>\n",
    "[[2 3]<br>\n",
    " [5 6]] \n",
    "<br><br>\n",
    "[1 4]\n",
    "\n",
    "ar =<br> \n",
    "array([[1, 2, 3],<br>\n",
    "       [4, 5, 6],<br>\n",
    "       [7, 8, 9]])"
   ]
  },
  {
   "cell_type": "code",
   "execution_count": 31,
   "id": "298905aa",
   "metadata": {},
   "outputs": [
    {
     "data": {
      "text/plain": [
       "array([[1, 2, 3],\n",
       "       [4, 5, 6],\n",
       "       [7, 8, 9]])"
      ]
     },
     "execution_count": 31,
     "metadata": {},
     "output_type": "execute_result"
    }
   ],
   "source": [
    "ar = np.arange(1,10).reshape(3,3)\n",
    "ar"
   ]
  },
  {
   "cell_type": "code",
   "execution_count": 49,
   "id": "3f844d9f",
   "metadata": {},
   "outputs": [
    {
     "name": "stdout",
     "output_type": "stream",
     "text": [
      "[[1 2]\n",
      " [4 5]] \n",
      "\n",
      "[[4 5 6]\n",
      " [7 8 9]] \n",
      "\n",
      "[[4 5 6]\n",
      " [7 8 9]] \n",
      "\n",
      "[[1 2 3]\n",
      " [4 5 6]\n",
      " [7 8 9]] \n",
      "\n",
      "[[2 3]\n",
      " [5 6]] \n",
      "\n",
      "[1 4]\n"
     ]
    }
   ],
   "source": [
    "print(ar[:2,:2],'\\n')\n",
    "print(ar[1:],'\\n')\n",
    "print(ar[1:,:],'\\n')\n",
    "print(ar,'\\n')\n",
    "print(ar[:2,1:],'\\n')\n",
    "print(ar[:2,0])    # 이건 나중에 생각 안 날 듯"
   ]
  },
  {
   "cell_type": "markdown",
   "id": "629849a7",
   "metadata": {},
   "source": [
    "[과제] ar에서 인덱스를 이용해서 값을 선택하고 리스트로 아래와 같이 출력하세요.\n",
    "- [3, 6]\n",
    "- [[1, 2], [4, 5]]\n",
    "- [[1, 2, 3], [4, 5, 6]]"
   ]
  },
  {
   "cell_type": "code",
   "execution_count": 44,
   "id": "f1f0cc17",
   "metadata": {},
   "outputs": [
    {
     "name": "stdout",
     "output_type": "stream",
     "text": [
      "[[1 2 3]\n",
      " [4 5 6]\n",
      " [7 8 9]] \n",
      "\n",
      "[3, 6]\n",
      "[[1, 2], [4, 5]]\n",
      "[[1, 2, 3], [4, 5, 6]]\n"
     ]
    }
   ],
   "source": [
    "ar2 =np.arange(1,10).reshape(3,3)\n",
    "print(ar2, '\\n')\n",
    "\n",
    "print(ar2[:2,2].tolist())        #[3, 6]\n",
    "print(ar2[:2,:2].tolist())       #[[1, 2], [4, 5]]\n",
    "print(ar2[:2,:].tolist())        #[[1, 2, 3], [4, 5, 6]]"
   ]
  },
  {
   "cell_type": "code",
   "execution_count": 12,
   "id": "05fe6439",
   "metadata": {},
   "outputs": [
    {
     "data": {
      "text/plain": [
       "array([1, 2, 3, 4, 5, 6, 7, 8, 9])"
      ]
     },
     "execution_count": 12,
     "metadata": {},
     "output_type": "execute_result"
    }
   ],
   "source": [
    "# Boolean indexing\n",
    "ar = np.arange(1,10)\n",
    "ar"
   ]
  },
  {
   "cell_type": "code",
   "execution_count": 13,
   "id": "387a63f7",
   "metadata": {},
   "outputs": [
    {
     "data": {
      "text/plain": [
       "array([6, 7, 8, 9])"
      ]
     },
     "execution_count": 13,
     "metadata": {},
     "output_type": "execute_result"
    }
   ],
   "source": [
    "ar[ar > 5]"
   ]
  },
  {
   "cell_type": "code",
   "execution_count": 16,
   "id": "cfd7eb91",
   "metadata": {},
   "outputs": [
    {
     "data": {
      "text/plain": [
       "array([11, 12, 13, 14])"
      ]
     },
     "execution_count": 16,
     "metadata": {},
     "output_type": "execute_result"
    }
   ],
   "source": [
    "# Q. 1 ~ 14까지 ndarray를 만들어 array_e로 저장하고 (array_e / 2) > 5를 만족하는 값을 불린 인덱스로 출력하세요.\n",
    "\n",
    "array_e = np.arange(1,15)\n",
    "array_e[(array_e/2) > 5]"
   ]
  },
  {
   "cell_type": "code",
   "execution_count": 17,
   "id": "9a4f93a0",
   "metadata": {},
   "outputs": [
    {
     "data": {
      "text/plain": [
       "array([1.76405235, 0.97873798, 2.2408932 , 1.86755799, 0.95008842,\n",
       "       1.45427351, 0.76103773, 1.49407907, 0.6536186 , 0.8644362 ,\n",
       "       2.26975462, 1.53277921, 1.46935877])"
      ]
     },
     "execution_count": 17,
     "metadata": {},
     "output_type": "execute_result"
    }
   ],
   "source": [
    "# arr에서 0.5보다 큰 수를 출력하세요.\n",
    "\n",
    "np.random.seed(0)\n",
    "arr = np.random.randn(30)\n",
    "arr[arr>0.5]"
   ]
  },
  {
   "cell_type": "code",
   "execution_count": 18,
   "id": "8aafbcab",
   "metadata": {},
   "outputs": [
    {
     "data": {
      "text/plain": [
       "array([ 0,  3,  6,  9, 12, 15, 18, 21, 24, 27])"
      ]
     },
     "execution_count": 18,
     "metadata": {},
     "output_type": "execute_result"
    }
   ],
   "source": [
    "# Q. data에서 3의 배수인 것 수만 출력하세요.\n",
    "\n",
    "np.random.seed(0)\n",
    "data = np.arange(30)\n",
    "data[data%3==0]"
   ]
  },
  {
   "cell_type": "markdown",
   "id": "d18950d4",
   "metadata": {},
   "source": [
    "### [과제] [1,2,0,0,4,0]에서 zero가 아닌 인덱스를 배열 형태로 출력하세요.\n",
    "\n",
    "np.where(condition)은 \n",
    "- condition 배열의 요소가 True인 인덱스를 반환하는 함수입니다. \n",
    "- condition 배열은 bool 타입이어야 하며, 반환값은 tuple 타입으로 (array of row indices, array of column indices)의 형태로 반환"
   ]
  },
  {
   "cell_type": "code",
   "execution_count": 64,
   "id": "8daec58b",
   "metadata": {},
   "outputs": [
    {
     "data": {
      "text/plain": [
       "array([[1, 2, 3],\n",
       "       [4, 5, 6],\n",
       "       [7, 8, 9]])"
      ]
     },
     "execution_count": 64,
     "metadata": {},
     "output_type": "execute_result"
    }
   ],
   "source": [
    "arr = np.array([[1, 2, 3], [4, 5, 6], [7, 8, 9]])\n",
    "arr"
   ]
  },
  {
   "cell_type": "code",
   "execution_count": 65,
   "id": "a17cf8d9",
   "metadata": {},
   "outputs": [
    {
     "data": {
      "text/plain": [
       "(array([1, 2, 2, 2], dtype=int64), array([2, 0, 1, 2], dtype=int64))"
      ]
     },
     "execution_count": 65,
     "metadata": {},
     "output_type": "execute_result"
    }
   ],
   "source": [
    "array = np.where(arr > 5)\n",
    "array\n",
    "\n",
    "\n",
    "# 아래 인덱스 읽는 방법\n",
    "# (array([1, 2, 2, 2], dtype=int64), array([2, 0, 1, 2])\n",
    "#         행 인덱스                         열 인덱스       "
   ]
  },
  {
   "cell_type": "code",
   "execution_count": 67,
   "id": "f08c49cd",
   "metadata": {},
   "outputs": [
    {
     "data": {
      "text/plain": [
       "array([1, 1, 0, 0, 1, 0])"
      ]
     },
     "execution_count": 67,
     "metadata": {},
     "output_type": "execute_result"
    }
   ],
   "source": [
    "a = np.array([1,2,0,0,4,0])\n",
    "np.where(a != 0, 1, 0) # np.where(조건, 참이면 반영되는 값, False라면 반영되는 값)"
   ]
  },
  {
   "cell_type": "code",
   "execution_count": 2,
   "id": "851d6e3f",
   "metadata": {},
   "outputs": [
    {
     "name": "stdout",
     "output_type": "stream",
     "text": [
      "(array([0, 1, 4], dtype=int64),)\n",
      "[0 1 4]\n"
     ]
    }
   ],
   "source": [
    "import numpy as np\n",
    "\n",
    "a = np.array([1,2,0,0,4,0])\n",
    "index = np.where(a != 0)           # 조건을 만족하는 인덱스 반환\n",
    "print(index)                     \n",
    "print(index[0])                                 "
   ]
  },
  {
   "cell_type": "code",
   "execution_count": 51,
   "id": "473ebbba",
   "metadata": {},
   "outputs": [
    {
     "name": "stdout",
     "output_type": "stream",
     "text": [
      "[0 1 4]\n"
     ]
    }
   ],
   "source": [
    "a = np.array([1,2,0,0,4,0])\n",
    "nz = np.nonzero(a)\n",
    "print(nz[0])"
   ]
  },
  {
   "cell_type": "code",
   "execution_count": 20,
   "id": "556ab426",
   "metadata": {},
   "outputs": [
    {
     "data": {
      "text/plain": [
       "True"
      ]
     },
     "execution_count": 20,
     "metadata": {},
     "output_type": "execute_result"
    }
   ],
   "source": [
    "# any 메서드 : 하나 이상의 값이 True인지 검사\n",
    "\n",
    "bools.any()"
   ]
  },
  {
   "cell_type": "code",
   "execution_count": 21,
   "id": "8f546719",
   "metadata": {},
   "outputs": [
    {
     "data": {
      "text/plain": [
       "False"
      ]
     },
     "execution_count": 21,
     "metadata": {},
     "output_type": "execute_result"
    }
   ],
   "source": [
    "# all 메서드 : 모든 원소가 True인지 검사\n",
    "\n",
    "bools.all()"
   ]
  },
  {
   "cell_type": "code",
   "execution_count": 57,
   "id": "f0d4e06f",
   "metadata": {},
   "outputs": [
    {
     "data": {
      "text/plain": [
       "array([[-0.70875832,  0.10802378, -1.00098274, -0.81428464],\n",
       "       [-0.52178746,  1.82800718,  1.62076076, -1.77173942],\n",
       "       [ 0.4067365 ,  0.82184556, -0.34165133,  0.5365236 ],\n",
       "       [-2.63623338,  1.61189974,  0.29513136, -0.1302978 ]])"
      ]
     },
     "execution_count": 57,
     "metadata": {},
     "output_type": "execute_result"
    }
   ],
   "source": [
    "# Q. arr에서 0보다 크면 2, 아니면 -2로 변경하세요.\n",
    "\n",
    "arr = np.random.randn(4,4)\n",
    "arr"
   ]
  },
  {
   "cell_type": "code",
   "execution_count": 56,
   "id": "2b064973",
   "metadata": {},
   "outputs": [
    {
     "data": {
      "text/plain": [
       "array([[-2, -2, -2,  2],\n",
       "       [-2, -2,  2,  2],\n",
       "       [ 2,  2, -2, -2],\n",
       "       [-2, -2,  2,  2]])"
      ]
     },
     "execution_count": 56,
     "metadata": {},
     "output_type": "execute_result"
    }
   ],
   "source": [
    "# np.where(조건, 참이면 반영되는 값, False라면 반영되는 값) 값 변경\n",
    "np.where(arr > 0, 2, -2)"
   ]
  },
  {
   "cell_type": "code",
   "execution_count": 59,
   "id": "18df3279",
   "metadata": {},
   "outputs": [
    {
     "data": {
      "text/plain": [
       "array([[-0.70875832,  2.        , -1.00098274, -0.81428464],\n",
       "       [-0.52178746,  2.        ,  2.        , -1.77173942],\n",
       "       [ 2.        ,  2.        , -0.34165133,  2.        ],\n",
       "       [-2.63623338,  2.        ,  2.        , -0.1302978 ]])"
      ]
     },
     "execution_count": 59,
     "metadata": {},
     "output_type": "execute_result"
    }
   ],
   "source": [
    "# Q. arr의 모든 양수를 2로 바꾸세요.\n",
    "np.where(arr > 0 , 2, arr)  # 음수라면 그대로 반영"
   ]
  },
  {
   "cell_type": "code",
   "execution_count": 60,
   "id": "92b1754e",
   "metadata": {},
   "outputs": [
    {
     "data": {
      "text/plain": [
       "array([45, 48, 65, 68, 68, 10, 84, 22, 37, 88])"
      ]
     },
     "execution_count": 60,
     "metadata": {},
     "output_type": "execute_result"
    }
   ],
   "source": [
    "# np.sort() : 복사본을 반환. 원본 미반영. 순서대로 \n",
    "\n",
    "np.random.seed(0)\n",
    "arr = np.random.randint(1,100,size=10) # 1~99에서 10개 뽑기\n",
    "arr"
   ]
  },
  {
   "cell_type": "code",
   "execution_count": 27,
   "id": "a3764246",
   "metadata": {},
   "outputs": [
    {
     "name": "stdout",
     "output_type": "stream",
     "text": [
      "[10 22 37 45 48 65 68 68 84 88]\n",
      "[45 48 65 68 68 10 84 22 37 88]\n"
     ]
    }
   ],
   "source": [
    "print(np.sort(arr))\n",
    "print(arr)"
   ]
  },
  {
   "cell_type": "code",
   "execution_count": 28,
   "id": "a8bed525",
   "metadata": {},
   "outputs": [
    {
     "name": "stdout",
     "output_type": "stream",
     "text": [
      "[10 22 37 45 48 65 68 68 84 88]\n"
     ]
    }
   ],
   "source": [
    "sorted = np.sort(arr)\n",
    "print(sorted)"
   ]
  },
  {
   "cell_type": "code",
   "execution_count": 68,
   "id": "56013eb4",
   "metadata": {},
   "outputs": [
    {
     "name": "stdout",
     "output_type": "stream",
     "text": [
      "[[ 8 12]\n",
      " [ 7  1]] \n",
      "\n",
      "[[ 7  1]\n",
      " [ 8 12]] \n",
      "\n",
      "[[ 8 12]\n",
      " [ 1  7]]\n"
     ]
    }
   ],
   "source": [
    "# 행렬이 2차원 이상일 경우 axis 축 값 설정을 통해 로우 방향, 칼럼 방향으로 정렬 수행\n",
    "ar2 = np.array([[8,12],\n",
    "              [7,1]])\n",
    "print(ar2,'\\n')\n",
    "print(np.sort(ar2,axis=0),'\\n') # axis=0 열방향\n",
    "print(np.sort(ar2,axis=1))      # axis=1 행방향"
   ]
  },
  {
   "cell_type": "code",
   "execution_count": 30,
   "id": "8b18627c",
   "metadata": {},
   "outputs": [
    {
     "name": "stdout",
     "output_type": "stream",
     "text": [
      "[5 0 3 3 7 9 3 5 2 4]\n"
     ]
    },
    {
     "data": {
      "text/plain": [
       "array([0, 2, 3, 3, 3, 4, 5, 5, 7, 9])"
      ]
     },
     "execution_count": 30,
     "metadata": {},
     "output_type": "execute_result"
    }
   ],
   "source": [
    "# ndarray.sort() : 원본 반영\n",
    "np.random.seed(0)\n",
    "arr = np.random.randint(10,size=10)\n",
    "print(arr)\n",
    "arr.sort()\n",
    "arr"
   ]
  },
  {
   "cell_type": "code",
   "execution_count": 70,
   "id": "22bdeee4",
   "metadata": {},
   "outputs": [
    {
     "data": {
      "text/plain": [
       "array([[9, 2, 3, 3, 2, 3, 4, 1, 2, 9],\n",
       "       [1, 4, 6, 8, 2, 3, 0, 0, 6, 0],\n",
       "       [6, 3, 3, 8, 8, 8, 2, 3, 2, 0],\n",
       "       [8, 8, 3, 8, 2, 8, 4, 3, 0, 4],\n",
       "       [3, 6, 9, 8, 0, 8, 5, 9, 0, 9],\n",
       "       [6, 5, 3, 1, 8, 0, 4, 9, 6, 5],\n",
       "       [7, 8, 8, 9, 2, 8, 6, 6, 9, 1],\n",
       "       [6, 8, 8, 3, 2, 3, 6, 3, 6, 5],\n",
       "       [7, 0, 8, 4, 6, 5, 8, 2, 3, 9],\n",
       "       [7, 5, 3, 4, 5, 3, 3, 7, 9, 9]])"
      ]
     },
     "execution_count": 70,
     "metadata": {},
     "output_type": "execute_result"
    }
   ],
   "source": [
    "arr = np.random.randint(10,size=(10,10))   # 1 ~ 9까지, 10행 10열\n",
    "arr"
   ]
  },
  {
   "cell_type": "code",
   "execution_count": 32,
   "id": "2b33c4f9",
   "metadata": {},
   "outputs": [
    {
     "data": {
      "text/plain": [
       "array([[1, 1, 6, 6, 7, 7, 7, 8, 8, 8],\n",
       "       [0, 0, 3, 3, 4, 5, 5, 8, 9, 9],\n",
       "       [0, 1, 1, 2, 3, 3, 3, 3, 7, 8],\n",
       "       [0, 0, 2, 2, 3, 4, 7, 7, 9, 9],\n",
       "       [0, 1, 4, 4, 4, 5, 5, 6, 8, 9],\n",
       "       [1, 1, 2, 3, 6, 7, 7, 8, 9, 9],\n",
       "       [0, 3, 3, 4, 4, 4, 4, 5, 6, 9],\n",
       "       [0, 1, 3, 4, 4, 4, 5, 5, 7, 8],\n",
       "       [0, 0, 1, 2, 2, 3, 4, 5, 5, 9],\n",
       "       [0, 0, 0, 2, 2, 3, 5, 7, 7, 9]])"
      ]
     },
     "execution_count": 32,
     "metadata": {},
     "output_type": "execute_result"
    }
   ],
   "source": [
    "# 다차원 배열의 정렬은 sort 메서드에 넘긴 축에 따라 1차원 부분을 정렬\n",
    "\n",
    "arr.sort(1)\n",
    "# arr.sort(0) # 행방향\n",
    "arr.sort(1) # 열방향. Default\n",
    "arr"
   ]
  },
  {
   "cell_type": "code",
   "execution_count": 71,
   "id": "d49a1e5e",
   "metadata": {},
   "outputs": [
    {
     "name": "stdout",
     "output_type": "stream",
     "text": [
      "[3 1 9 5]\n"
     ]
    },
    {
     "data": {
      "text/plain": [
       "array([1, 0, 3, 2], dtype=int64)"
      ]
     },
     "execution_count": 71,
     "metadata": {},
     "output_type": "execute_result"
    }
   ],
   "source": [
    "# 정렬된 행렬의 인덱스 반환 : 원본 기준 행렬의 원소에 대한 정렬 인덱스를 필요로 할 때 np.argsort()\n",
    "\n",
    "org_array = np.array([3,1,9,5])\n",
    "sort_indices = np.argsort(org_array)\n",
    "print(org_array)\n",
    "sort_indices"
   ]
  },
  {
   "cell_type": "code",
   "execution_count": 34,
   "id": "abc69b02",
   "metadata": {},
   "outputs": [
    {
     "data": {
      "text/plain": [
       "array([0, 1, 2, 3, 4, 5, 6, 7, 8, 9])"
      ]
     },
     "execution_count": 34,
     "metadata": {},
     "output_type": "execute_result"
    }
   ],
   "source": [
    "# 배열 데이터의 입출력\n",
    "# np.save, np.load는 바이너리 형식. npy 파일로 저장\n",
    "\n",
    "arr= np.arange(10)\n",
    "np.save('some_array',arr)\n",
    "\n",
    "np.load('some_array.npy')"
   ]
  },
  {
   "cell_type": "code",
   "execution_count": 72,
   "id": "b4125679",
   "metadata": {},
   "outputs": [
    {
     "data": {
      "text/plain": [
       "array([[9, 2, 3, 3, 2, 3, 4, 1, 2, 9],\n",
       "       [1, 4, 6, 8, 2, 3, 0, 0, 6, 0],\n",
       "       [6, 3, 3, 8, 8, 8, 2, 3, 2, 0],\n",
       "       [8, 8, 3, 8, 2, 8, 4, 3, 0, 4],\n",
       "       [3, 6, 9, 8, 0, 8, 5, 9, 0, 9],\n",
       "       [6, 5, 3, 1, 8, 0, 4, 9, 6, 5],\n",
       "       [7, 8, 8, 9, 2, 8, 6, 6, 9, 1],\n",
       "       [6, 8, 8, 3, 2, 3, 6, 3, 6, 5],\n",
       "       [7, 0, 8, 4, 6, 5, 8, 2, 3, 9],\n",
       "       [7, 5, 3, 4, 5, 3, 3, 7, 9, 9]])"
      ]
     },
     "execution_count": 72,
     "metadata": {},
     "output_type": "execute_result"
    }
   ],
   "source": [
    "# np.savez : 여러개의 배열을 압축된 형식으로 저장\n",
    "np.savez('array_archive.npz', a=arr, b=arr)\n",
    "arch = np.load('array_archive.npz')\n",
    "arch['a']"
   ]
  },
  {
   "cell_type": "code",
   "execution_count": 36,
   "id": "f4063dbf",
   "metadata": {},
   "outputs": [
    {
     "name": "stdout",
     "output_type": "stream",
     "text": [
      "[1 0 1 0 1 0 1 0 1 0]\n"
     ]
    }
   ],
   "source": [
    "# Q. 인덱싱을 사용하여 [1 0 1 0 1 0 1 0 1 0]를 출력하세요\n",
    "\n",
    "a = np.ones(10,dtype=int)\n",
    "a[[1,3,5,7,9]] = 0\n",
    "print(a)"
   ]
  },
  {
   "cell_type": "code",
   "execution_count": 73,
   "id": "91bd1d90",
   "metadata": {},
   "outputs": [
    {
     "data": {
      "text/plain": [
       "array([1, 0, 1, 0, 1, 0, 1, 0, 1, 0])"
      ]
     },
     "execution_count": 73,
     "metadata": {},
     "output_type": "execute_result"
    }
   ],
   "source": [
    "arr = np.array([1,2,3,4,5,6,7,8,9,10])\n",
    "arr[:] = arr%2   \n",
    "arr"
   ]
  },
  {
   "cell_type": "markdown",
   "id": "a8eb41ac",
   "metadata": {},
   "source": [
    "[과제] 1 ~ 100을 아래와 같이 출력하세요<br>\n",
    "[[  1   2   3   4   5   6   7   8   9  10]<br>\n",
    " [ 20  19  18  17  16  15  14  13  12  11]<br>\n",
    " [ 21  22  23  24  25  26  27  28  29  30]<br>\n",
    " [ 40  39  38  37  36  35  34  33  32  31]<br>\n",
    " [ 41  42  43  44  45  46  47  48  49  50]<br>\n",
    " [ 60  59  58  57  56  55  54  53  52  51]<br>\n",
    " [ 61  62  63  64  65  66  67  68  69  70]<br>\n",
    " [ 80  79  78  77  76  75  74  73  72  71]<br>\n",
    " [ 81  82  83  84  85  86  87  88  89  90]<br>\n",
    " [100  99  98  97  96  95  94  93  92  91]] <class 'numpy.ndarray'>"
   ]
  },
  {
   "cell_type": "code",
   "execution_count": 5,
   "id": "01940212",
   "metadata": {},
   "outputs": [
    {
     "name": "stdout",
     "output_type": "stream",
     "text": [
      "[[  1   2   3   4   5   6   7   8   9  10]\n",
      " [ 20  19  18  17  16  15  14  13  12  11]\n",
      " [ 21  22  23  24  25  26  27  28  29  30]\n",
      " [ 40  39  38  37  36  35  34  33  32  31]\n",
      " [ 41  42  43  44  45  46  47  48  49  50]\n",
      " [ 60  59  58  57  56  55  54  53  52  51]\n",
      " [ 61  62  63  64  65  66  67  68  69  70]\n",
      " [ 80  79  78  77  76  75  74  73  72  71]\n",
      " [ 81  82  83  84  85  86  87  88  89  90]\n",
      " [100  99  98  97  96  95  94  93  92  91]] <class 'numpy.ndarray'>\n"
     ]
    }
   ],
   "source": [
    "arr = np.arange(1,101).reshape(10,10)\n",
    "\n",
    "for i in range(1,10,2):\n",
    "    arr[i]=arr[i][::-1]\n",
    "\n",
    "print(arr, type(arr))"
   ]
  },
  {
   "cell_type": "code",
   "execution_count": 74,
   "id": "3f69c697",
   "metadata": {},
   "outputs": [
    {
     "data": {
      "text/plain": [
       "array([[  1,   2,   3,   4,   5,   6,   7,   8,   9,  10],\n",
       "       [ 20,  19,  18,  17,  16,  15,  14,  13,  12,  11],\n",
       "       [ 21,  22,  23,  24,  25,  26,  27,  28,  29,  30],\n",
       "       [ 40,  39,  38,  37,  36,  35,  34,  33,  32,  31],\n",
       "       [ 41,  42,  43,  44,  45,  46,  47,  48,  49,  50],\n",
       "       [ 60,  59,  58,  57,  56,  55,  54,  53,  52,  51],\n",
       "       [ 61,  62,  63,  64,  65,  66,  67,  68,  69,  70],\n",
       "       [ 80,  79,  78,  77,  76,  75,  74,  73,  72,  71],\n",
       "       [ 81,  82,  83,  84,  85,  86,  87,  88,  89,  90],\n",
       "       [100,  99,  98,  97,  96,  95,  94,  93,  92,  91]])"
      ]
     },
     "execution_count": 74,
     "metadata": {},
     "output_type": "execute_result"
    }
   ],
   "source": [
    "arr = np.arange(1,101).reshape(10,10)\n",
    "arr[1::2] = arr[1::2, ::-1]     # 행을 2번씩 건너서, 열을 거꾸로 하겠다.\n",
    "arr"
   ]
  },
  {
   "cell_type": "markdown",
   "id": "0677d4ed",
   "metadata": {},
   "source": [
    "[과제] np.ones((10,10))을 아래와 같이 출력하세요<br>\n",
    "array([[1., 1., 1., 1., 1., 1., 1., 1., 1., 1.],<br>\n",
    "       [1., 0., 0., 0., 0., 0., 0., 0., 0., 1.],<br>\n",
    "       [1., 0., 0., 0., 0., 0., 0., 0., 0., 1.],<br>\n",
    "       [1., 0., 0., 0., 0., 0., 0., 0., 0., 1.],<br>\n",
    "       [1., 0., 0., 0., 0., 0., 0., 0., 0., 1.],<br>\n",
    "       [1., 0., 0., 0., 0., 0., 0., 0., 0., 1.],<br>\n",
    "       [1., 0., 0., 0., 0., 0., 0., 0., 0., 1.],<br>\n",
    "       [1., 0., 0., 0., 0., 0., 0., 0., 0., 1.],<br>\n",
    "       [1., 0., 0., 0., 0., 0., 0., 0., 0., 1.],<br>\n",
    "       [1., 1., 1., 1., 1., 1., 1., 1., 1., 1.]])"
   ]
  },
  {
   "cell_type": "code",
   "execution_count": 10,
   "id": "00a31166",
   "metadata": {},
   "outputs": [
    {
     "data": {
      "text/plain": [
       "array([[1., 1., 1., 1., 1., 1., 1., 1., 1., 1.],\n",
       "       [1., 0., 0., 0., 0., 0., 0., 0., 0., 1.],\n",
       "       [1., 0., 0., 0., 0., 0., 0., 0., 0., 1.],\n",
       "       [1., 0., 0., 0., 0., 0., 0., 0., 0., 1.],\n",
       "       [1., 0., 0., 0., 0., 0., 0., 0., 0., 1.],\n",
       "       [1., 0., 0., 0., 0., 0., 0., 0., 0., 1.],\n",
       "       [1., 0., 0., 0., 0., 0., 0., 0., 0., 1.],\n",
       "       [1., 0., 0., 0., 0., 0., 0., 0., 0., 1.],\n",
       "       [1., 0., 0., 0., 0., 0., 0., 0., 0., 1.],\n",
       "       [1., 1., 1., 1., 1., 1., 1., 1., 1., 1.]])"
      ]
     },
     "execution_count": 10,
     "metadata": {},
     "output_type": "execute_result"
    }
   ],
   "source": [
    "arr = np.ones((10,10))\n",
    "arr[1:9,1:9] = 0\n",
    "arr"
   ]
  },
  {
   "cell_type": "markdown",
   "id": "05991f7c",
   "metadata": {},
   "source": [
    "[과제] np.ones((5,5))을 아래와 같이 출력하세요<br>\n",
    "array([[0., 0., 0., 0., 0., 0., 0., 0., 0.],<br>\n",
    "       [0., 0., 0., 0., 0., 0., 0., 0., 0.],<br>\n",
    "       [0., 0., 1., 1., 1., 1., 1., 0., 0.],<br>\n",
    "       [0., 0., 1., 1., 1., 1., 1., 0., 0.],<br>\n",
    "       [0., 0., 1., 1., 1., 1., 1., 0., 0.],<br>\n",
    "       [0., 0., 1., 1., 1., 1., 1., 0., 0.],<br>\n",
    "       [0., 0., 1., 1., 1., 1., 1., 0., 0.],<br>\n",
    "       [0., 0., 0., 0., 0., 0., 0., 0., 0.],<br>\n",
    "       [0., 0., 0., 0., 0., 0., 0., 0., 0.]])"
   ]
  },
  {
   "cell_type": "code",
   "execution_count": 13,
   "id": "9d1c7597",
   "metadata": {},
   "outputs": [
    {
     "name": "stdout",
     "output_type": "stream",
     "text": [
      "[[0. 0. 0. 0. 0. 0. 0. 0. 0.]\n",
      " [0. 0. 0. 0. 0. 0. 0. 0. 0.]\n",
      " [0. 0. 1. 1. 1. 1. 1. 0. 0.]\n",
      " [0. 0. 1. 1. 1. 1. 1. 0. 0.]\n",
      " [0. 0. 1. 1. 1. 1. 1. 0. 0.]\n",
      " [0. 0. 1. 1. 1. 1. 1. 0. 0.]\n",
      " [0. 0. 1. 1. 1. 1. 1. 0. 0.]\n",
      " [0. 0. 0. 0. 0. 0. 0. 0. 0.]\n",
      " [0. 0. 0. 0. 0. 0. 0. 0. 0.]]\n"
     ]
    }
   ],
   "source": [
    "arr=np.ones((5,5))\n",
    "\n",
    "v=np.zeros((2,5))\n",
    "h=np.zeros((9,2))\n",
    "\n",
    "arr2=np.vstack((arr,v))      # arr 아래에 v 붙이기\n",
    "arr2=np.vstack((v,arr2))\n",
    "#print(arr2)\n",
    "\n",
    "arr2=np.hstack((h,arr2))     # h 옆에 arr2 붙이기\n",
    "arr2=np.hstack((arr2,h))\n",
    "print(arr2)"
   ]
  },
  {
   "cell_type": "code",
   "execution_count": 14,
   "id": "b06441ef",
   "metadata": {},
   "outputs": [
    {
     "data": {
      "text/plain": [
       "array([[0., 0., 0., 0., 0., 0., 0., 0., 0., 0.],\n",
       "       [0., 0., 0., 0., 0., 0., 0., 0., 0., 0.],\n",
       "       [0., 0., 1., 1., 1., 1., 1., 1., 0., 0.],\n",
       "       [0., 0., 1., 1., 1., 1., 1., 1., 0., 0.],\n",
       "       [0., 0., 1., 1., 1., 1., 1., 1., 0., 0.],\n",
       "       [0., 0., 1., 1., 1., 1., 1., 1., 0., 0.],\n",
       "       [0., 0., 1., 1., 1., 1., 1., 1., 0., 0.],\n",
       "       [0., 0., 1., 1., 1., 1., 1., 1., 0., 0.],\n",
       "       [0., 0., 0., 0., 0., 0., 0., 0., 0., 0.],\n",
       "       [0., 0., 0., 0., 0., 0., 0., 0., 0., 0.]])"
      ]
     },
     "execution_count": 14,
     "metadata": {},
     "output_type": "execute_result"
    }
   ],
   "source": [
    "arr = np.zeros((10,10))\n",
    "arr[2:8,2:8] = 1  \n",
    "arr"
   ]
  },
  {
   "cell_type": "markdown",
   "id": "c27f556f",
   "metadata": {},
   "source": [
    "[과제] np.zeros((8,8))을 이용해서 아래와 같이 출력하세요(두가지 방식:인덱싱, tile 함수)<br>\n",
    "array([[0, 1, 0, 1, 0, 1, 0, 1],<br>\n",
    "       [1, 0, 1, 0, 1, 0, 1, 0],<br>\n",
    "       [0, 1, 0, 1, 0, 1, 0, 1],<br>\n",
    "       [1, 0, 1, 0, 1, 0, 1, 0],<br>\n",
    "       [0, 1, 0, 1, 0, 1, 0, 1],<br>\n",
    "       [1, 0, 1, 0, 1, 0, 1, 0],<br>\n",
    "       [0, 1, 0, 1, 0, 1, 0, 1],<br>\n",
    "       [1, 0, 1, 0, 1, 0, 1, 0]])"
   ]
  },
  {
   "cell_type": "code",
   "execution_count": 19,
   "id": "998e3a2e",
   "metadata": {},
   "outputs": [
    {
     "name": "stdout",
     "output_type": "stream",
     "text": [
      "[[0. 1. 0. 1. 0. 1. 0. 1.]\n",
      " [1. 0. 1. 0. 1. 0. 1. 0.]\n",
      " [0. 1. 0. 1. 0. 1. 0. 1.]\n",
      " [1. 0. 1. 0. 1. 0. 1. 0.]\n",
      " [0. 1. 0. 1. 0. 1. 0. 1.]\n",
      " [1. 0. 1. 0. 1. 0. 1. 0.]\n",
      " [0. 1. 0. 1. 0. 1. 0. 1.]\n",
      " [1. 0. 1. 0. 1. 0. 1. 0.]]\n"
     ]
    }
   ],
   "source": [
    "arr = np.zeros((8,8))\n",
    "for i in range(8):\n",
    "    for j in range(8):\n",
    "        if (i + j) % 2 != 0:\n",
    "            arr[i][j] = 1\n",
    "print(arr)\n"
   ]
  },
  {
   "cell_type": "code",
   "execution_count": 20,
   "id": "e9352111",
   "metadata": {},
   "outputs": [
    {
     "data": {
      "text/plain": [
       "array([[0., 1., 0., 1., 0., 1., 0., 1.],\n",
       "       [1., 0., 1., 0., 1., 0., 1., 0.],\n",
       "       [0., 1., 0., 1., 0., 1., 0., 1.],\n",
       "       [1., 0., 1., 0., 1., 0., 1., 0.],\n",
       "       [0., 1., 0., 1., 0., 1., 0., 1.],\n",
       "       [1., 0., 1., 0., 1., 0., 1., 0.],\n",
       "       [0., 1., 0., 1., 0., 1., 0., 1.],\n",
       "       [1., 0., 1., 0., 1., 0., 1., 0.]])"
      ]
     },
     "execution_count": 20,
     "metadata": {},
     "output_type": "execute_result"
    }
   ],
   "source": [
    "arr=np.zeros((8,8))\n",
    "\n",
    "for i in range(8):\n",
    "    if i%2==0:\n",
    "        arr[i][1::2]=1     # 짝수 번째 줄 0101010\n",
    "    else:\n",
    "        arr[i][0::2]=1     # 홀수 번째 줄 1010101\n",
    "arr"
   ]
  },
  {
   "cell_type": "code",
   "execution_count": 21,
   "id": "6b03789c",
   "metadata": {},
   "outputs": [
    {
     "data": {
      "text/plain": [
       "array([[0, 1, 0, 1, 0, 1, 0, 1],\n",
       "       [1, 0, 1, 0, 1, 0, 1, 0],\n",
       "       [0, 1, 0, 1, 0, 1, 0, 1],\n",
       "       [1, 0, 1, 0, 1, 0, 1, 0],\n",
       "       [0, 1, 0, 1, 0, 1, 0, 1],\n",
       "       [1, 0, 1, 0, 1, 0, 1, 0],\n",
       "       [0, 1, 0, 1, 0, 1, 0, 1],\n",
       "       [1, 0, 1, 0, 1, 0, 1, 0]])"
      ]
     },
     "execution_count": 21,
     "metadata": {},
     "output_type": "execute_result"
    }
   ],
   "source": [
    "z = np.zeros((8,8),dtype=int)\n",
    "z[1::2,::2] = 1\n",
    "z[::2,1::2] = 1\n",
    "z"
   ]
  },
  {
   "cell_type": "markdown",
   "id": "d0c47c37",
   "metadata": {},
   "source": [
    "[과제] np.arange(336).reshape(6,7,8)에서 100번째 요소의 인덱스를 구하세요<br>\n",
    "np.arange(336).reshape(6,7,8)"
   ]
  },
  {
   "cell_type": "code",
   "execution_count": 23,
   "id": "88ca44ff",
   "metadata": {},
   "outputs": [
    {
     "data": {
      "text/plain": [
       "(1, 5, 4)"
      ]
     },
     "execution_count": 23,
     "metadata": {},
     "output_type": "execute_result"
    }
   ],
   "source": [
    "# unravel_index() 함수는 1차원 배열에서 인덱스를 다차원 인덱스 튜플로 반환해주는 함수\n",
    "\n",
    "arr = np.arange(336).reshape(6,7,8)\n",
    "np.unravel_index(100,arr.shape)"
   ]
  },
  {
   "cell_type": "code",
   "execution_count": 77,
   "id": "60d04974",
   "metadata": {},
   "outputs": [
    {
     "data": {
      "text/plain": [
       "array([[[  0,   1,   2,   3,   4,   5,   6,   7],\n",
       "        [  8,   9,  10,  11,  12,  13,  14,  15],\n",
       "        [ 16,  17,  18,  19,  20,  21,  22,  23],\n",
       "        [ 24,  25,  26,  27,  28,  29,  30,  31],\n",
       "        [ 32,  33,  34,  35,  36,  37,  38,  39],\n",
       "        [ 40,  41,  42,  43,  44,  45,  46,  47],\n",
       "        [ 48,  49,  50,  51,  52,  53,  54,  55]],\n",
       "\n",
       "       [[ 56,  57,  58,  59,  60,  61,  62,  63],\n",
       "        [ 64,  65,  66,  67,  68,  69,  70,  71],\n",
       "        [ 72,  73,  74,  75,  76,  77,  78,  79],\n",
       "        [ 80,  81,  82,  83,  84,  85,  86,  87],\n",
       "        [ 88,  89,  90,  91,  92,  93,  94,  95],\n",
       "        [ 96,  97,  98,  99, 100, 101, 102, 103],\n",
       "        [104, 105, 106, 107, 108, 109, 110, 111]],\n",
       "\n",
       "       [[112, 113, 114, 115, 116, 117, 118, 119],\n",
       "        [120, 121, 122, 123, 124, 125, 126, 127],\n",
       "        [128, 129, 130, 131, 132, 133, 134, 135],\n",
       "        [136, 137, 138, 139, 140, 141, 142, 143],\n",
       "        [144, 145, 146, 147, 148, 149, 150, 151],\n",
       "        [152, 153, 154, 155, 156, 157, 158, 159],\n",
       "        [160, 161, 162, 163, 164, 165, 166, 167]],\n",
       "\n",
       "       [[168, 169, 170, 171, 172, 173, 174, 175],\n",
       "        [176, 177, 178, 179, 180, 181, 182, 183],\n",
       "        [184, 185, 186, 187, 188, 189, 190, 191],\n",
       "        [192, 193, 194, 195, 196, 197, 198, 199],\n",
       "        [200, 201, 202, 203, 204, 205, 206, 207],\n",
       "        [208, 209, 210, 211, 212, 213, 214, 215],\n",
       "        [216, 217, 218, 219, 220, 221, 222, 223]],\n",
       "\n",
       "       [[224, 225, 226, 227, 228, 229, 230, 231],\n",
       "        [232, 233, 234, 235, 236, 237, 238, 239],\n",
       "        [240, 241, 242, 243, 244, 245, 246, 247],\n",
       "        [248, 249, 250, 251, 252, 253, 254, 255],\n",
       "        [256, 257, 258, 259, 260, 261, 262, 263],\n",
       "        [264, 265, 266, 267, 268, 269, 270, 271],\n",
       "        [272, 273, 274, 275, 276, 277, 278, 279]],\n",
       "\n",
       "       [[280, 281, 282, 283, 284, 285, 286, 287],\n",
       "        [288, 289, 290, 291, 292, 293, 294, 295],\n",
       "        [296, 297, 298, 299, 300, 301, 302, 303],\n",
       "        [304, 305, 306, 307, 308, 309, 310, 311],\n",
       "        [312, 313, 314, 315, 316, 317, 318, 319],\n",
       "        [320, 321, 322, 323, 324, 325, 326, 327],\n",
       "        [328, 329, 330, 331, 332, 333, 334, 335]]])"
      ]
     },
     "execution_count": 77,
     "metadata": {},
     "output_type": "execute_result"
    }
   ],
   "source": [
    "np.arange(336).reshape(6,7,8)"
   ]
  },
  {
   "cell_type": "code",
   "execution_count": null,
   "id": "ec933e54",
   "metadata": {},
   "outputs": [],
   "source": []
  },
  {
   "cell_type": "code",
   "execution_count": null,
   "id": "4f7157af",
   "metadata": {},
   "outputs": [],
   "source": []
  }
 ],
 "metadata": {
  "kernelspec": {
   "display_name": "Python 3 (ipykernel)",
   "language": "python",
   "name": "python3"
  },
  "language_info": {
   "codemirror_mode": {
    "name": "ipython",
    "version": 3
   },
   "file_extension": ".py",
   "mimetype": "text/x-python",
   "name": "python",
   "nbconvert_exporter": "python",
   "pygments_lexer": "ipython3",
   "version": "3.9.13"
  }
 },
 "nbformat": 4,
 "nbformat_minor": 5
}
