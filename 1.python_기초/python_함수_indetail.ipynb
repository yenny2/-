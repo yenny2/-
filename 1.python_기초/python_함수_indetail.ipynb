{
 "cells": [
  {
   "cell_type": "markdown",
   "id": "f72e33b4",
   "metadata": {},
   "source": [
    "### 함수\n",
    "\n",
    "- 특정 목적을 가진 독립된 코드 집합\n",
    "    - 두 수를 입력받아 더한 값을 계산하는 코드\n",
    "    - 더한 값을 계산하는 코드가 프로그램 여러 곳에서 사용된다고 할 때 이 부분만을 따로 구성하여 재사용하면 효율화할 수 있음\n",
    "- 사용자 함수는 def로 시작하여 정의"
   ]
  },
  {
   "cell_type": "code",
   "execution_count": 6,
   "id": "7bc8ab4d",
   "metadata": {},
   "outputs": [
    {
     "name": "stdout",
     "output_type": "stream",
     "text": [
      "35\n",
      "45\n",
      "대한민국 만세!!!\n"
     ]
    }
   ],
   "source": [
    "def add_number(n1,n2):\n",
    "    ret = n1 + n2\n",
    "    return ret\n",
    "\n",
    "def add_txt(t1, t2):\n",
    "    print(t1+t2)\n",
    "\n",
    "a = add_number(10,25)\n",
    "print(a)\n",
    "b = add_number(20, 25)\n",
    "print(b)\n",
    "\n",
    "c = add_txt(\"대한민국 \",\"만세!!!\")"
   ]
  },
  {
   "cell_type": "code",
   "execution_count": 14,
   "id": "a21a2ba6",
   "metadata": {},
   "outputs": [
    {
     "name": "stdout",
     "output_type": "stream",
     "text": [
      "베스트 : 파이썬\n",
      "1등 : 대한민국\n"
     ]
    }
   ],
   "source": [
    "# 함수 인자 : 기본적으로 인자 순서에 대응되는 값을 함수 코드에 대입\n",
    "\n",
    "def add_txt(t1, t2=\"파이썬\"):  # 파이썬을 기본값으로 대입하려고 하는 것. 이 기본 인자는 무조건 마지막에 위치해야 함.\n",
    "    print(t1 + ' : ' + t2)     \n",
    "    \n",
    "add_txt( '베스트')\n",
    "add_txt(t2=\"대한민국\", t1=\"1등\")  # 키워드 인자에 의한 값 전달. 인자의 순서는 무시\n"
   ]
  },
  {
   "cell_type": "code",
   "execution_count": 15,
   "id": "db8735b6",
   "metadata": {},
   "outputs": [
    {
     "name": "stdout",
     "output_type": "stream",
     "text": [
      "()\n",
      "(3, 5, 1, 5)\n",
      "{}\n",
      "{'depth': 50, 'color': 'blue'}\n"
     ]
    }
   ],
   "source": [
    "def func1(*args): # 인자의 개수가 불명환 경우 가변 인자 사용. args는 함수 내부에서 튜플로 처리\n",
    "    print(args)\n",
    "\n",
    "func1()       # 빈 튜플 ()이 출력됨\n",
    "func1(3, 5, 1, 5)\n",
    "\n",
    "def func2 (width, height, **kwargs): # 키워드 인자가 불명확한 경우 **kwargs를 사용. 함수 내부에서 사전으로 처리\n",
    "    print(kwargs)\n",
    "\n",
    "func2(10,20)  # 빈 사전 {}이 출력됨. print(kwargs) 라고 되어 있기 때문에 빈 사전이 출력되는 것.\n",
    "func2(10, 20, depth = 50, color = 'blue')"
   ]
  },
  {
   "cell_type": "code",
   "execution_count": 16,
   "id": "a0185d0d",
   "metadata": {},
   "outputs": [
    {
     "data": {
      "text/plain": [
       "(10, 20, {'depth': 50, 'color': 'blue'})"
      ]
     },
     "execution_count": 16,
     "metadata": {},
     "output_type": "execute_result"
    }
   ],
   "source": [
    "def func2 (width, height, **kwargs):\n",
    "    return width, height, kwargs\n",
    "\n",
    "func2(10, 20, depth = 50, color = 'blue')"
   ]
  },
  {
   "cell_type": "markdown",
   "id": "c3476f9a",
   "metadata": {},
   "source": [
    "#### 인자(입력값)와 리턴값(결과값) 여부에 따른 함수 유형\n"
   ]
  },
  {
   "cell_type": "code",
   "execution_count": 2,
   "id": "20e716b9",
   "metadata": {},
   "outputs": [
    {
     "data": {
      "text/plain": [
       "'Hi!'"
      ]
     },
     "execution_count": 2,
     "metadata": {},
     "output_type": "execute_result"
    }
   ],
   "source": [
    "# 사용자 함수 def\n",
    "#입력값\n",
    "def say():\n",
    "    return 'Hi!'    # 결과값 return\n",
    "\n",
    "say()"
   ]
  },
  {
   "cell_type": "code",
   "execution_count": 46,
   "id": "b9322887",
   "metadata": {},
   "outputs": [
    {
     "name": "stdout",
     "output_type": "stream",
     "text": [
      "3,4의 합은 7입니다.\n",
      "3,4의 합은 7입니다.\n",
      "None\n"
     ]
    }
   ],
   "source": [
    "# 입력값이 있고 결과값이 없는 함수 \n",
    "\n",
    "def add(a,b):\n",
    "    print(f'{a},{b}의 합은 {a+b}입니다.')\n",
    "    print('%d,%d의 합은 %d입니다.'%(a,b,a+b))\n",
    "    \n",
    "# add(3,4)  #add라는 매개변수를 줘야 결과값이 나옴.\n",
    "a = add(3,4)\n",
    "print(a)     "
   ]
  },
  {
   "cell_type": "code",
   "execution_count": 44,
   "id": "281712a6",
   "metadata": {},
   "outputs": [
    {
     "name": "stdout",
     "output_type": "stream",
     "text": [
      "7\n"
     ]
    }
   ],
   "source": [
    "# 결과 값은 오직 return 명령어로만 돌려 받을 수 있음. 위 None은 리턴이 없었기에 결과값이 안나오는 것\n",
    "\n",
    "def add(a,b):\n",
    "    return a+b\n",
    "a = add(3,4)\n",
    "print(a)"
   ]
  },
  {
   "cell_type": "code",
   "execution_count": 17,
   "id": "4586e6fd",
   "metadata": {},
   "outputs": [
    {
     "name": "stdout",
     "output_type": "stream",
     "text": [
      "Hi!\n",
      "Hi!\n",
      "None\n"
     ]
    }
   ],
   "source": [
    "# 입력값도 없고 결과값도 없는 함수\n",
    "\n",
    "\n",
    "def say():\n",
    "    print('Hi!')\n",
    "    \n",
    "say()\n",
    "\n",
    "a = say()\n",
    "print(a)"
   ]
  },
  {
   "cell_type": "code",
   "execution_count": 1,
   "id": "5d0613df",
   "metadata": {},
   "outputs": [
    {
     "data": {
      "text/plain": [
       "30"
      ]
     },
     "execution_count": 1,
     "metadata": {},
     "output_type": "execute_result"
    }
   ],
   "source": [
    "# 입력값도 있고 결과값도 있는 함수\n",
    "\n",
    "\n",
    "def max(a,b,c):\n",
    "    if a>b:\n",
    "        if a>c:\n",
    "            return a\n",
    "        elif a<c:\n",
    "            return c\n",
    "    if a<b:\n",
    "        if b>c:\n",
    "            return b\n",
    "        else:\n",
    "            return c\n",
    "\n",
    "max(10,20,30)"
   ]
  },
  {
   "cell_type": "code",
   "execution_count": 2,
   "id": "b0e7bdf3",
   "metadata": {},
   "outputs": [
    {
     "data": {
      "text/plain": [
       "5"
      ]
     },
     "execution_count": 2,
     "metadata": {},
     "output_type": "execute_result"
    }
   ],
   "source": [
    "def math(x, y, z):      # print(math(int(input(\"숫자1 : \")), int(input(\"숫자2 : \")), input(\"기호 : \")))\n",
    "    if z == '*':\n",
    "        return x*y\n",
    "    elif z== '/':\n",
    "        return x/y\n",
    "    elif z== '+':\n",
    "        return x+y\n",
    "    elif z== '%':\n",
    "        return x%y\n",
    "    elif z== '^':\n",
    "        return x**y\n",
    "    elif z== '-':\n",
    "        return x-y\n",
    "    elif z== '//':\n",
    "        return x//y\n",
    "    else:\n",
    "        return\n",
    "\n",
    "# print(math(int(input(\"숫자1 : \")), int(input(\"숫자2 : \")), input(\"기호 : \")))\n",
    "math(10,2,'//')"
   ]
  },
  {
   "cell_type": "code",
   "execution_count": 3,
   "id": "a21b837c",
   "metadata": {},
   "outputs": [
    {
     "data": {
      "text/plain": [
       "'3 equal 3'"
      ]
     },
     "execution_count": 3,
     "metadata": {},
     "output_type": "execute_result"
    }
   ],
   "source": [
    "def com(a,b):\n",
    "    if a>b:\n",
    "        return f'{a} bigger than {b}'\n",
    "    elif a<b:\n",
    "        return f'{a} smaller than {b}'\n",
    "    else:\n",
    "        return f'{a} equal {b}'\n",
    "com(3,3)"
   ]
  },
  {
   "cell_type": "code",
   "execution_count": 127,
   "id": "863833ae",
   "metadata": {},
   "outputs": [],
   "source": [
    "def com(a,b,c):\n",
    "    if a>b:\n",
    "        return f'{a} bigger than {b}'\n",
    "    elif a<c:\n",
    "            return c\n",
    "    if a<b:\n",
    "        if b>c:\n",
    "            return b\n",
    "    else:\n",
    "         return c"
   ]
  },
  {
   "cell_type": "code",
   "execution_count": 8,
   "id": "4a8809de",
   "metadata": {},
   "outputs": [
    {
     "data": {
      "text/plain": [
       "55"
      ]
     },
     "execution_count": 8,
     "metadata": {},
     "output_type": "execute_result"
    }
   ],
   "source": [
    "# 여러 개의 입력값을 받는 함수 만들기\n",
    "# *args 처럼 입력변수명 앞에 *를 붙이면 입력값들을 전부 모아서 튜플로 만들어 준다.\n",
    "\n",
    "def add_many(*args):\n",
    "    add = 0\n",
    "    for i in args:\n",
    "        add += i\n",
    "    return add\n",
    "\n",
    "add_many(1,2,3,4,5,6,7,8,9,10)"
   ]
  },
  {
   "cell_type": "code",
   "execution_count": 9,
   "id": "a18bc382",
   "metadata": {},
   "outputs": [
    {
     "name": "stdout",
     "output_type": "stream",
     "text": [
      "(7, 12)\n"
     ]
    }
   ],
   "source": [
    "# 함수의 반환 값은 언제나 하나임 - 결과 값으로 튜플 값 하나를 갖게 됨.\n",
    "def add_and_mul (a,b):\n",
    "    return a+b, a*b\n",
    "\n",
    "result = add_and_mul(3,4)  #\n",
    "print(result)"
   ]
  },
  {
   "cell_type": "code",
   "execution_count": 35,
   "id": "2a13bcda",
   "metadata": {},
   "outputs": [
    {
     "data": {
      "text/plain": [
       "15"
      ]
     },
     "execution_count": 35,
     "metadata": {},
     "output_type": "execute_result"
    }
   ],
   "source": [
    "def add_mul(choice, *args):\n",
    "    if choice == \"+\":\n",
    "        result = 0\n",
    "        for i in args:\n",
    "            result += i\n",
    "        return result\n",
    "    elif choice == \"*\":\n",
    "        result = 1           # 곱셈이기에 1로 놔줘야 함. 0이면 결과 값이 0으로 나오기 때문\n",
    "        for i in args:\n",
    "            result *= i\n",
    "        return result\n",
    "    else:\n",
    "        print(\"수행할 수 없는 연산입니다.\")\n",
    "            \n",
    "add_mul(\"+\",1,2,3,4,5)"
   ]
  },
  {
   "cell_type": "code",
   "execution_count": 10,
   "id": "3e283596",
   "metadata": {},
   "outputs": [
    {
     "name": "stdout",
     "output_type": "stream",
     "text": [
      "15\n",
      "120\n"
     ]
    }
   ],
   "source": [
    "# add_mul() 함수를 정의하여 1,2,3,4,5를 입력 값으로 적용해 덧셈, 곱셈 연산을 수행하세요.\n",
    "\n",
    "def add_mul(choice, *args):             # 입력 값은 똑같은데 연산을 선택하는 것. 그래서 choice를 넣는 것\n",
    "    if choice == \"add\":                 # 그래서 연산 방법을 조건으로 만드는 것.\n",
    "        result = 0 \n",
    "        for i in args:\n",
    "            result += i\n",
    "    elif choice == \"mul\":\n",
    "        result = 1\n",
    "        for i in args:\n",
    "            result *= i\n",
    "    return result\n",
    "\n",
    "result = add_mul(\"add\", 1,2,3,4,5)\n",
    "print(result)\n",
    "\n",
    "result = add_mul(\"mul\", 1,2,3,4,5)\n",
    "print(result)\n",
    "    "
   ]
  },
  {
   "cell_type": "code",
   "execution_count": 38,
   "id": "e40e3b2d",
   "metadata": {},
   "outputs": [
    {
     "name": "stdout",
     "output_type": "stream",
     "text": [
      "-26\n",
      "0.001\n",
      "오류\n",
      "None\n"
     ]
    }
   ],
   "source": [
    "# 뻴셈, 나눗셈 멀티 계산 함수를 작성\n",
    "\n",
    "def sub_div(choice, *args):           \n",
    "    if choice == \"-\":                 \n",
    "        result = args[0] \n",
    "        for i in args[1:]:\n",
    "            result -= i\n",
    "    elif choice == \"/\":\n",
    "        result = args[0]\n",
    "        for i in args[1:]:\n",
    "            if i == 0:\n",
    "                return print(\"오류\")\n",
    "            result /= i\n",
    "    return round (result,4)\n",
    "\n",
    "print(sub_div(\"-\",2,4,6,8,10))\n",
    "print(sub_div(\"/\",2,4,6,8,10))\n",
    "print(sub_div(\"/\",2,0,4,6,8,10))"
   ]
  },
  {
   "cell_type": "markdown",
   "id": "82618bc4",
   "metadata": {},
   "source": [
    "#### 지역변수와 전역변수\n",
    "- 지역변수는 함수 내부에서만 유효하고\n",
    "- 전역변수는 코드 전반에 걸쳐 유효\n",
    "- 함수의 인자는 지역변수"
   ]
  },
  {
   "cell_type": "code",
   "execution_count": 40,
   "id": "9ef32657",
   "metadata": {},
   "outputs": [
    {
     "name": "stdout",
     "output_type": "stream",
     "text": [
      "지역변수\n"
     ]
    }
   ],
   "source": [
    "param = 10 \n",
    "strdata = '전역변수'\n",
    "\n",
    "def func1():\n",
    "    strdata = '지역변수'\n",
    "    print(strdata)        # ''가 안 붙어있으니까 변수. \n",
    "    \n",
    "func1()"
   ]
  },
  {
   "cell_type": "code",
   "execution_count": 42,
   "id": "efe4310d",
   "metadata": {},
   "outputs": [
    {
     "name": "stdout",
     "output_type": "stream",
     "text": [
      "전역변수\n"
     ]
    }
   ],
   "source": [
    "print(strdata)      # 함수 안에서가 아니면 전역변수로 출력"
   ]
  },
  {
   "cell_type": "code",
   "execution_count": 46,
   "id": "10627354",
   "metadata": {},
   "outputs": [
    {
     "name": "stdout",
     "output_type": "stream",
     "text": [
      "10\n"
     ]
    }
   ],
   "source": [
    "param2 = 10 \n",
    "\n",
    "def func2(param2):\n",
    "    param2 = 1       # 함수 안에서 파람2에 업데이트한 값은\n",
    "    \n",
    "print(param2)        # 함수가 아닌 밖에서 출력하면 상관이 없고, 전역변수가 출력되는 것"
   ]
  },
  {
   "cell_type": "code",
   "execution_count": 57,
   "id": "a19226cb",
   "metadata": {},
   "outputs": [
    {
     "name": "stdout",
     "output_type": "stream",
     "text": [
      "50\n"
     ]
    }
   ],
   "source": [
    "# 함수 안에서 전역변수를 출력하려면\n",
    "\n",
    "param = 10\n",
    "\n",
    "def func3() :\n",
    "    global param      # 함수 내부에서 전역변수를 사용하려면 'global' 키워드를 이용해 전역변수를 사용할 수 있다.\n",
    "    param= 50  \n",
    "func3()\n",
    "print(param)"
   ]
  },
  {
   "cell_type": "code",
   "execution_count": 115,
   "id": "25f1e969",
   "metadata": {},
   "outputs": [
    {
     "name": "stdout",
     "output_type": "stream",
     "text": [
      "10\n"
     ]
    }
   ],
   "source": [
    "param = 10\n",
    "def func2() :                   # 왜 여기 가로에는 파람을 입력?\n",
    "    param = 1\n",
    "    \n",
    "func2()\n",
    "print(param)"
   ]
  },
  {
   "cell_type": "code",
   "execution_count": 119,
   "id": "8e4bad5e",
   "metadata": {},
   "outputs": [
    {
     "name": "stdout",
     "output_type": "stream",
     "text": [
      "10\n",
      "50\n"
     ]
    }
   ],
   "source": [
    "param = 10\n",
    "strdata = '전역변수'\n",
    "\n",
    "def func1() :\n",
    "    strdata = '지역변수'\n",
    "    print(strdata)                    # 지역변수가 출력됨\n",
    "                       \n",
    "\n",
    "def func2(param) :                   #\n",
    "    param = 1\n",
    "    \n",
    "    \n",
    "def func3() :\n",
    "    global param\n",
    "    param = 50\n",
    "    \n",
    "func1()\n",
    "print(strdata)  # 전역변수가 출력됨\n",
    "print(param)\n",
    "func2(param)\n",
    "print(param)\n",
    "func3()\n",
    "print(param)"
   ]
  },
  {
   "cell_type": "code",
   "execution_count": 12,
   "id": "526fce58",
   "metadata": {},
   "outputs": [
    {
     "name": "stdout",
     "output_type": "stream",
     "text": [
      "None\n",
      "1\n"
     ]
    }
   ],
   "source": [
    "# 함수 안에서 선언된 변수의 효력 범위\n",
    "\n",
    "a = 1             # 변수 a \n",
    "\n",
    "def vartest(a):   # 입력값은 있고\n",
    "    a = a + 1     # 출력값이 없음\n",
    " \n",
    "print(vartest(a))  # 그래서 반환값이 없는 것\n",
    "print(a)           # 그냥 전역변수 1이 나온 것"
   ]
  },
  {
   "cell_type": "code",
   "execution_count": 67,
   "id": "01bc69db",
   "metadata": {},
   "outputs": [
    {
     "name": "stdout",
     "output_type": "stream",
     "text": [
      "2\n"
     ]
    }
   ],
   "source": [
    "# 함수 안에서 함수 밖의 변수를 변경하는 방법 - return 이용\n",
    "# 전역변수를 함수 안에서 쓰려면 global 또는 return 사용\n",
    "\n",
    "a = 1\n",
    "def vartest(a):\n",
    "    a = a + 1\n",
    "    return a\n",
    " \n",
    "a = vartest(a)\n",
    "print(a)  "
   ]
  },
  {
   "cell_type": "code",
   "execution_count": 14,
   "id": "a65e3503",
   "metadata": {},
   "outputs": [
    {
     "name": "stdout",
     "output_type": "stream",
     "text": [
      "2\n"
     ]
    }
   ],
   "source": [
    "# global 명령을 이용하는 방법\n",
    "a = 1\n",
    "def vartest():\n",
    "    global a\n",
    "    a = a + 1\n",
    "\n",
    "vartest()\n",
    "print(a)"
   ]
  },
  {
   "cell_type": "markdown",
   "id": "d67159ae",
   "metadata": {},
   "source": [
    "#### 함수 리턴값 : return\n",
    "- 함수는 한 개 이상의 값을 리턴할 수 있으며 리턴값이 없을 수도 있다. 리턴값이 없는데 값이 나오는 건 print 함수 명령에 의해서 값이 반환된 것\n",
    "- 리턴 값이 여러 개인 경우에는 튜플로 리턴값을 만들어 리턴"
   ]
  },
  {
   "cell_type": "code",
   "execution_count": 70,
   "id": "054dd27e",
   "metadata": {},
   "outputs": [
    {
     "name": "stdout",
     "output_type": "stream",
     "text": [
      "(3, 2, 1)\n",
      "c b a\n",
      "c\n",
      "b\n",
      "a\n"
     ]
    }
   ],
   "source": [
    "def reverse(x,y,z):\n",
    "    return z, y, x\n",
    "\n",
    "ret =reverse(1,2,3)\n",
    "print(ret)\n",
    "\n",
    "r1, r2, r3 = reverse('a','b','c')\n",
    "print(r1,r2,r3)\n",
    "print(r1);print(r2);print(r3)   # 튜플의 요소 개수만큼 나누어서 리턴값을 개별적으로 받을 수 있음"
   ]
  },
  {
   "cell_type": "markdown",
   "id": "441c90fa",
   "metadata": {},
   "source": [
    "## 파일 입출력"
   ]
  },
  {
   "cell_type": "code",
   "execution_count": 68,
   "id": "333d9717",
   "metadata": {},
   "outputs": [
    {
     "data": {
      "text/plain": [
       "'C:\\\\hmkd1\\\\m1_programming'"
      ]
     },
     "execution_count": 68,
     "metadata": {},
     "output_type": "execute_result"
    }
   ],
   "source": [
    "# 현재 우리가 있는 작업 폴더를 알려줌\n",
    "%pwd   "
   ]
  },
  {
   "cell_type": "code",
   "execution_count": 74,
   "id": "d4098cc1",
   "metadata": {},
   "outputs": [],
   "source": [
    "# 폴더 경로 이동\n",
    "import os\n",
    "# os.chdir()               # os의 원하는 위치에 폴더를 변경한다.\n",
    "                         # 'C:\\\\hmkd1\\\\m1_programming' 에서 역슬래시 \\\\ 두개를 /로 써도 됨"
   ]
  },
  {
   "cell_type": "code",
   "execution_count": 75,
   "id": "4a8eab9d",
   "metadata": {},
   "outputs": [],
   "source": [
    "# 파일 읽고 쓰기\n",
    "f = open('test1.txt','w')   # write의 약자 w, open은 내장함수 \n",
    "# (쓸려고 하는 제목, 쓸건지 읽을 건지)\n",
    "f.close()                  "
   ]
  },
  {
   "cell_type": "code",
   "execution_count": 35,
   "id": "500f6ac9",
   "metadata": {},
   "outputs": [],
   "source": [
    "f = open('test1.txt','w')\n",
    "for i in range(1,11):               # 10개의 줄을 만들어서 ~번째 줄입니다를 나타낼 것임.\n",
    "    data = '%d번째 줄입니다.\\n'%i\n",
    "    f.write(data)\n",
    "f.close()"
   ]
  },
  {
   "cell_type": "code",
   "execution_count": 45,
   "id": "faf4e6f4",
   "metadata": {},
   "outputs": [
    {
     "name": "stdout",
     "output_type": "stream",
     "text": [
      "1번째 줄입니다.\n",
      "\n"
     ]
    }
   ],
   "source": [
    "f = open('test1.txt','r') # read의 약자 r\n",
    "line = f.readline()\n",
    "print(line)\n",
    "f.close()"
   ]
  },
  {
   "cell_type": "code",
   "execution_count": 37,
   "id": "974250a7",
   "metadata": {},
   "outputs": [
    {
     "name": "stdout",
     "output_type": "stream",
     "text": [
      "1번째 줄입니다.\n",
      "\n",
      "2번째 줄입니다.\n",
      "\n",
      "3번째 줄입니다.\n",
      "\n",
      "4번째 줄입니다.\n",
      "\n",
      "5번째 줄입니다.\n",
      "\n",
      "6번째 줄입니다.\n",
      "\n",
      "7번째 줄입니다.\n",
      "\n",
      "8번째 줄입니다.\n",
      "\n",
      "9번째 줄입니다.\n",
      "\n",
      "10번째 줄입니다.\n",
      "\n"
     ]
    }
   ],
   "source": [
    "f = open('test1.txt','r')\n",
    "for i in range(1,11):\n",
    "    line = f.readline()\n",
    "    print(line)\n",
    "f.close()"
   ]
  },
  {
   "cell_type": "code",
   "execution_count": 38,
   "id": "9e64121b",
   "metadata": {},
   "outputs": [
    {
     "name": "stdout",
     "output_type": "stream",
     "text": [
      "1번째 줄입니다.\n",
      "\n",
      "2번째 줄입니다.\n",
      "\n",
      "3번째 줄입니다.\n",
      "\n",
      "4번째 줄입니다.\n",
      "\n",
      "5번째 줄입니다.\n",
      "\n",
      "6번째 줄입니다.\n",
      "\n",
      "7번째 줄입니다.\n",
      "\n",
      "8번째 줄입니다.\n",
      "\n",
      "9번째 줄입니다.\n",
      "\n",
      "10번째 줄입니다.\n",
      "\n"
     ]
    }
   ],
   "source": [
    "f = open('test1.txt','r')\n",
    "while True:\n",
    "    line = f.readline()\n",
    "    if not line: break\n",
    "    print(line)\n",
    "f.close()"
   ]
  },
  {
   "cell_type": "code",
   "execution_count": 43,
   "id": "26943f3d",
   "metadata": {},
   "outputs": [
    {
     "name": "stdout",
     "output_type": "stream",
     "text": [
      "1번째 줄입니다.\n",
      "2번째 줄입니다.\n",
      "3번째 줄입니다.\n",
      "4번째 줄입니다.\n",
      "5번째 줄입니다.\n",
      "6번째 줄입니다.\n",
      "7번째 줄입니다.\n",
      "8번째 줄입니다.\n",
      "9번째 줄입니다.\n",
      "10번째 줄입니다.\n",
      "11번째 줄입니다.\n",
      "12번째 줄입니다.\n",
      "13번째 줄입니다.\n",
      "14번째 줄입니다.\n",
      "15번째 줄입니다.\n",
      "\n"
     ]
    }
   ],
   "source": [
    "# f.read()는 파일 내용 전체를 문자열로 반환\n",
    "f = open('test1.txt','r')\n",
    "data = f.read()\n",
    "print(data)\n",
    "f.close()"
   ]
  },
  {
   "cell_type": "code",
   "execution_count": 40,
   "id": "2f652d0e",
   "metadata": {},
   "outputs": [],
   "source": [
    "f = open('test1.txt','a') #add의 약자 a\n",
    "for i in range(11,16):\n",
    "    data ='%d번째 줄입니다.\\n'%i\n",
    "    f.write(data)\n",
    "f.close()"
   ]
  },
  {
   "cell_type": "code",
   "execution_count": 44,
   "id": "8575a59d",
   "metadata": {},
   "outputs": [
    {
     "name": "stdout",
     "output_type": "stream",
     "text": [
      "1번째 줄입니다.\n",
      "2번째 줄입니다.\n",
      "3번째 줄입니다.\n",
      "4번째 줄입니다.\n",
      "5번째 줄입니다.\n",
      "6번째 줄입니다.\n",
      "7번째 줄입니다.\n",
      "8번째 줄입니다.\n",
      "9번째 줄입니다.\n",
      "10번째 줄입니다.\n",
      "11번째 줄입니다.\n",
      "12번째 줄입니다.\n",
      "13번째 줄입니다.\n",
      "14번째 줄입니다.\n",
      "15번째 줄입니다.\n",
      "\n"
     ]
    }
   ],
   "source": [
    "f = open('test1.txt','r')\n",
    "data = f.read()\n",
    "print(data)\n",
    "f.close()"
   ]
  },
  {
   "cell_type": "code",
   "execution_count": 53,
   "id": "5e70df01",
   "metadata": {},
   "outputs": [],
   "source": [
    "# with 문과 같이 사용\n",
    "# f.close 안해도 자동으로 닫히는 함수\n",
    "with open('foo.txt','w') as f:\n",
    "    f.write('파이썬을 배웁시다.')"
   ]
  },
  {
   "cell_type": "code",
   "execution_count": 54,
   "id": "37541495",
   "metadata": {},
   "outputs": [
    {
     "name": "stdout",
     "output_type": "stream",
     "text": [
      "파이썬을 배웁시다.\n"
     ]
    }
   ],
   "source": [
    "with open('foo.txt','r') as f:\n",
    "    data = f.read()\n",
    "    print(data)"
   ]
  },
  {
   "cell_type": "code",
   "execution_count": 51,
   "id": "1ee3a9a0",
   "metadata": {},
   "outputs": [],
   "source": [
    "with open('text2.txt','w') as f:\n",
    "    for i in range(1,11):\n",
    "        data = f'{i}번째 줄입니다.\\n'\n",
    "        f.write(data)"
   ]
  },
  {
   "cell_type": "code",
   "execution_count": 52,
   "id": "a9e697dc",
   "metadata": {},
   "outputs": [],
   "source": [
    "with open('text2.txt','a') as f:\n",
    "    for i in range(11,16):\n",
    "        data = f'{i}번째 줄입니다.\\n'\n",
    "        f.write(data)"
   ]
  },
  {
   "cell_type": "code",
   "execution_count": 56,
   "id": "ff758898",
   "metadata": {},
   "outputs": [
    {
     "name": "stdout",
     "output_type": "stream",
     "text": [
      "1번째 줄입니다.\n",
      "2번째 줄입니다.\n",
      "3번째 줄입니다.\n",
      "4번째 줄입니다.\n",
      "5번째 줄입니다.\n",
      "6번째 줄입니다.\n",
      "7번째 줄입니다.\n",
      "8번째 줄입니다.\n",
      "9번째 줄입니다.\n",
      "10번째 줄입니다.\n",
      "11번째 줄입니다.\n",
      "12번째 줄입니다.\n",
      "13번째 줄입니다.\n",
      "14번째 줄입니다.\n",
      "15번째 줄입니다.\n",
      "\n"
     ]
    }
   ],
   "source": [
    "with open('text2.txt','r') as f:\n",
    "        data = f.read()\n",
    "        print(data)"
   ]
  },
  {
   "cell_type": "markdown",
   "id": "df0d4575",
   "metadata": {},
   "source": [
    "## 내장함수, 외장함수\n",
    "https://codedrive.tistory.com/91"
   ]
  },
  {
   "cell_type": "code",
   "execution_count": 1,
   "id": "3e9fe974",
   "metadata": {},
   "outputs": [
    {
     "name": "stdout",
     "output_type": "stream",
     "text": [
      "3\n",
      "False\n",
      "True\n",
      "A\n"
     ]
    }
   ],
   "source": [
    "# 내장함수\n",
    "print(abs(-3))\n",
    "print(all([1,2,3,0])) # x가 모두 참이면 True, 거짓이 하나라도 있으면 False\n",
    "print(any([1,2,3,0])) # x가 하나라도 참이면 True, 모두 거짓이면 False\n",
    "print(chr(65))        # 아스키 코드"
   ]
  },
  {
   "cell_type": "code",
   "execution_count": 5,
   "id": "921837e3",
   "metadata": {},
   "outputs": [
    {
     "name": "stdout",
     "output_type": "stream",
     "text": [
      "7\n"
     ]
    }
   ],
   "source": [
    "# 사용할 수 있는 사용자함수 대신 간단하게 쓸 수 있는 람다 함수\n",
    "\n",
    "sum = lambda a,b:a+b     \n",
    "sum(3,4)"
   ]
  },
  {
   "cell_type": "code",
   "execution_count": 7,
   "id": "599afca7",
   "metadata": {},
   "outputs": [
    {
     "name": "stdout",
     "output_type": "stream",
     "text": [
      "7\n"
     ]
    }
   ],
   "source": [
    "def sum(a,b):\n",
    "    return a+b\n",
    "print(sum(3,4))"
   ]
  },
  {
   "cell_type": "code",
   "execution_count": 64,
   "id": "4cd3e9b6",
   "metadata": {},
   "outputs": [
    {
     "name": "stdout",
     "output_type": "stream",
     "text": [
      "7\n",
      "12\n",
      "9.0\n"
     ]
    }
   ],
   "source": [
    "# 람다로 여러개 묶어서 계산도 가능\n",
    "\n",
    "myList = [lambda a,b: a+b,lambda a,b: a*b, lambda a,b,c,d: a/b*c+d]\n",
    "print(myList[0](3,4))\n",
    "print(myList[1](3,4))\n",
    "print(myList[2](10,5,2,5))"
   ]
  },
  {
   "cell_type": "code",
   "execution_count": 8,
   "id": "1f29aa58",
   "metadata": {},
   "outputs": [
    {
     "name": "stdout",
     "output_type": "stream",
     "text": [
      "7\n",
      "-3\n",
      "10\n",
      "0.4\n"
     ]
    }
   ],
   "source": [
    "a=[lambda a,b:a+b,lambda a,b:a-b,lambda a,b:a*b,lambda a,b:a/b]\n",
    "for i in range(0,4):\n",
    "    print(a[i](2,5))"
   ]
  },
  {
   "cell_type": "code",
   "execution_count": 65,
   "id": "a2015f68",
   "metadata": {},
   "outputs": [
    {
     "name": "stdout",
     "output_type": "stream",
     "text": [
      "6\n",
      "3\n",
      "3\n"
     ]
    }
   ],
   "source": [
    "print(len('python'))\n",
    "print(len([1,2,3]))\n",
    "print(len([1,2,'a']))"
   ]
  },
  {
   "cell_type": "code",
   "execution_count": 13,
   "id": "6a7520bf",
   "metadata": {},
   "outputs": [
    {
     "name": "stdout",
     "output_type": "stream",
     "text": [
      "[0, 1, 2, 3, 4]\n",
      "[1, 2, 3, 4, 5]\n",
      "[1, 3, 5, 7, 9]\n",
      "[0, -1, -2, -3, -4, -5, -6, -7, -8, -9]\n",
      "[]\n"
     ]
    }
   ],
   "source": [
    "print(list(range(5)))\n",
    "print(list(range(1,6)))\n",
    "print(list(range(1,10,2)))\n",
    "print(list(range(0, -10, -1)))\n",
    "print(list(range(0,-10)))         # 음수로 가려면 간격 -1이 필요"
   ]
  },
  {
   "cell_type": "code",
   "execution_count": 69,
   "id": "c4ef9f51",
   "metadata": {},
   "outputs": [
    {
     "name": "stdout",
     "output_type": "stream",
     "text": [
      "(2, 1)\n"
     ]
    }
   ],
   "source": [
    "# 몫과 나머지를 같이 구해주는 함수 divmod()\n",
    "\n",
    "print(divmod(7,3))"
   ]
  },
  {
   "cell_type": "code",
   "execution_count": 71,
   "id": "9ce27488",
   "metadata": {},
   "outputs": [
    {
     "name": "stdout",
     "output_type": "stream",
     "text": [
      "0 james\n",
      "1 tom\n",
      "2 susan\n"
     ]
    }
   ],
   "source": [
    "# 순서가 있는 자료형을 입력으로 받아, 인덱스 값을 포함한 enumerate 객체를 리턴\n",
    "# 값만 아니라 인덱스도 필요할 때 enmerate 함수를 사용\n",
    "for i, name in enumerate(['james','tom','susan']):        # i=인덱스, name=변수. \n",
    "    print(i,name)"
   ]
  },
  {
   "cell_type": "code",
   "execution_count": 14,
   "id": "e4404b21",
   "metadata": {},
   "outputs": [
    {
     "name": "stdout",
     "output_type": "stream",
     "text": [
      "3\n"
     ]
    }
   ],
   "source": [
    "# 실행 가능한 문자열 입력으로 받아 문자열을 실행한 결과값을 리턴\n",
    "# 숫자 연산은 따옴표가 필요없는데 숫자로 된 문자열을 받으면 연산되게 하는 함수\n",
    "\n",
    "print(eval('1+2'))   "
   ]
  },
  {
   "cell_type": "markdown",
   "id": "89a9b21b",
   "metadata": {},
   "source": [
    "#### 외장함수"
   ]
  },
  {
   "cell_type": "code",
   "execution_count": 16,
   "id": "5b07520f",
   "metadata": {},
   "outputs": [],
   "source": [
    "# 외장함수 : 전 세계 파이썬 사용자들이 만든 유용한 프로그램을 모아 놓은 파이썬 라이브러리. \n",
    "# pickle은 객체의 형태를 유지하면서 파일에 저장하고 불러올 수 있게 하는 모듈\n",
    "# 데이터를 바이너리로 처리해주는 pickle 함수\n",
    "# 그래서 메모리 사이즈는 작음. 저장할 때 아주 효과적으로 할 수 있음.\n",
    "# 고수준일수록 우리가 보기에는 쉬우나 용량이 크고, 우리가 보기에는 힘들지만 용량이 작은 피클함수\n",
    "\n",
    "\n",
    "import pickle\n",
    "f = open('test.txt','wb') \n",
    "data = {1:'python', 2:'you need'}\n",
    "pickle.dump(data,f)  # 저장할 때 dump함수\n",
    "f.close()"
   ]
  },
  {
   "cell_type": "code",
   "execution_count": 17,
   "id": "4c0d6335",
   "metadata": {},
   "outputs": [
    {
     "name": "stdout",
     "output_type": "stream",
     "text": [
      "{1: 'python', 2: 'you need'}\n"
     ]
    }
   ],
   "source": [
    "import pickle\n",
    "f = open('test.txt','rb') \n",
    "data = pickle.load(f)  # 읽을 때 load함수\n",
    "print(data)\n",
    "f.close()"
   ]
  },
  {
   "cell_type": "code",
   "execution_count": 71,
   "id": "3db44ca2",
   "metadata": {},
   "outputs": [
    {
     "data": {
      "text/plain": [
       "'C:\\\\Users\\\\h\\\\Anaconda3;C:\\\\Users\\\\h\\\\Anaconda3\\\\Library\\\\mingw-w64\\\\bin;C:\\\\Users\\\\h\\\\Anaconda3\\\\Library\\\\usr\\\\bin;C:\\\\Users\\\\h\\\\Anaconda3\\\\Library\\\\bin;C:\\\\Users\\\\h\\\\Anaconda3\\\\Scripts;C:\\\\WINDOWS\\\\system32;C:\\\\WINDOWS;C:\\\\WINDOWS\\\\System32\\\\Wbem;C:\\\\WINDOWS\\\\System32\\\\WindowsPowerShell\\\\v1.0\\\\;C:\\\\WINDOWS\\\\System32\\\\OpenSSH\\\\;C:\\\\anaconda3;C:\\\\anaconda3\\\\Library\\\\bin;C:\\\\anaconda3\\\\Library\\\\mingw-w64\\\\bin;C:\\\\anaconda3\\\\Scripts;C:\\\\Users\\\\h\\\\AppData\\\\Local\\\\Microsoft\\\\WindowsApps;'"
      ]
     },
     "execution_count": 71,
     "metadata": {},
     "output_type": "execute_result"
    }
   ],
   "source": [
    "import os    # os는 외장함수\n",
    "os.environ['PATH']"
   ]
  },
  {
   "cell_type": "code",
   "execution_count": 19,
   "id": "0b157da6",
   "metadata": {},
   "outputs": [
    {
     "data": {
      "text/plain": [
       "'C:\\\\hmkd1\\\\m1_programming'"
      ]
     },
     "execution_count": 19,
     "metadata": {},
     "output_type": "execute_result"
    }
   ],
   "source": [
    "# 현재 폴더 확인\n",
    "\n",
    "%pwd\n",
    "#os.getcwd()     # %pwd랑 똑같은 함수"
   ]
  },
  {
   "cell_type": "code",
   "execution_count": 84,
   "id": "fafe1b31",
   "metadata": {},
   "outputs": [],
   "source": [
    "# 폴터변경\n",
    "os.chdir('C:\\\\hmkd1')"
   ]
  },
  {
   "cell_type": "code",
   "execution_count": 86,
   "id": "40b3afab",
   "metadata": {},
   "outputs": [],
   "source": [
    "os.chdir('C:\\\\hmkd1\\\\m1_programming')"
   ]
  },
  {
   "cell_type": "code",
   "execution_count": 90,
   "id": "00e7b3ab",
   "metadata": {},
   "outputs": [
    {
     "name": "stdout",
     "output_type": "stream",
     "text": [
      " C 드라이브의 볼륨에는 이름이 없습니다.\n",
      " 볼륨 일련 번호: 9032-DD10\n",
      "\n",
      " C:\\hmkd1\\m1_programming 디렉터리\n",
      "\n",
      "\n",
      " C:\\hmkd1\\m1_programming 디렉터리\n",
      "\n",
      "\n",
      " C:\\hmkd1\\m1_programming 디렉터리\n",
      "\n"
     ]
    },
    {
     "name": "stderr",
     "output_type": "stream",
     "text": [
      "파일을 찾을 수 없습니다.\n"
     ]
    }
   ],
   "source": [
    "!dir #현재 디렉토리 상황"
   ]
  },
  {
   "cell_type": "code",
   "execution_count": 95,
   "id": "0f3d74b3",
   "metadata": {},
   "outputs": [
    {
     "ename": "PermissionError",
     "evalue": "[WinError 32] 다른 프로세스가 파일을 사용 중이기 때문에 프로세스가 액세스 할 수 없습니다: 'test1.txt' -> 'test_new.txt'",
     "output_type": "error",
     "traceback": [
      "\u001b[1;31m---------------------------------------------------------------------------\u001b[0m",
      "\u001b[1;31mPermissionError\u001b[0m                           Traceback (most recent call last)",
      "\u001b[1;32m~\\AppData\\Local\\Temp\\ipykernel_10572\\2041140699.py\u001b[0m in \u001b[0;36m<module>\u001b[1;34m\u001b[0m\n\u001b[0;32m      1\u001b[0m \u001b[1;31m# 파일명 바꾸기\u001b[0m\u001b[1;33m\u001b[0m\u001b[1;33m\u001b[0m\u001b[0m\n\u001b[0;32m      2\u001b[0m \u001b[1;32mimport\u001b[0m \u001b[0mos\u001b[0m\u001b[1;33m\u001b[0m\u001b[1;33m\u001b[0m\u001b[0m\n\u001b[1;32m----> 3\u001b[1;33m \u001b[0mos\u001b[0m\u001b[1;33m.\u001b[0m\u001b[0mrename\u001b[0m\u001b[1;33m(\u001b[0m\u001b[1;34m'test1.txt'\u001b[0m\u001b[1;33m,\u001b[0m\u001b[1;34m'test_new.txt'\u001b[0m\u001b[1;33m)\u001b[0m\u001b[1;33m\u001b[0m\u001b[1;33m\u001b[0m\u001b[0m\n\u001b[0m",
      "\u001b[1;31mPermissionError\u001b[0m: [WinError 32] 다른 프로세스가 파일을 사용 중이기 때문에 프로세스가 액세스 할 수 없습니다: 'test1.txt' -> 'test_new.txt'"
     ]
    }
   ],
   "source": [
    "# 파일명 바꾸기\n",
    "import os\n",
    "os.rename('test1.txt','test_new.txt')"
   ]
  },
  {
   "cell_type": "code",
   "execution_count": 20,
   "id": "72eef448",
   "metadata": {},
   "outputs": [
    {
     "data": {
      "text/plain": [
       "['C:\\\\hmkd1\\\\m1_programming\\\\foo.txt',\n",
       " 'C:\\\\hmkd1\\\\m1_programming\\\\test.txt',\n",
       " 'C:\\\\hmkd1\\\\m1_programming\\\\test1.txt',\n",
       " 'C:\\\\hmkd1\\\\m1_programming\\\\text2.txt']"
      ]
     },
     "execution_count": 20,
     "metadata": {},
     "output_type": "execute_result"
    }
   ],
   "source": [
    "# glob() 함수는 인자로 받은 패턴과 이름이 일치하는 모든 파일과 디렉토리의 리스트를 반환\n",
    "import glob\n",
    "glob.glob('C:\\\\hmkd1\\\\m1_programming/*.txt')   # * == 모든 파일"
   ]
  },
  {
   "cell_type": "markdown",
   "id": "c4ffbec6",
   "metadata": {},
   "source": [
    "## 비교\n",
    "\n",
    "#### 파이썬 패키지,  모듈, 함수, 클래스\n",
    "- 코드 작성 시 이미 만들어져 있는 함수들을 활용하면 보다 효율적이고 빠르게 개발 가능\n",
    "- 이미 만들어져 있고 안정성이 검증된 함수들을 성격에 맞게 하나의 파이썬 파일에 묶어 만들어 놓을 것을 모듈이라 함\n",
    "- 외부 모듈에 있는 함수들을 활용하려면 이 모듈을 먼저 가져와서 사용해야 하는데 이것을 모듈을 임포트한다고 한다.\n",
    "- 파이썬 모듈이 하나의 파이썬 파일이라면 패키지는 디렉토리로 볼 수 있다.\n",
    "\n",
    "패키지\n",
    "1. 라이브러리라고도 부름\n",
    "2. 특정 기능과 관련된 여러 모듈을 한 그룹으로 묶은 것\n",
    "3. 패키지 안에 서브 패키지가 있을 수도 있다.\n",
    "4. import 패키지/모듈, from 패키지/모듈 import 서브 패키지/모듈\n",
    "- 넌파이, 판더스 등 규모가 큰 모듈 또는 클래스들이 포함되어있는 것\n",
    "- 패키지는 .를 사용함\n",
    "\n",
    "   \n",
    "모듈\n",
    "1. 여러 기능들이 뭉쳐진 하나의. py파일\n",
    "2. 함수, 클래스, 변수 등 포함\n",
    "3. import 모듈\n",
    "\n",
    "함수\n",
    "1. 하나의 기능을 가진 코드의 집합\n",
    "2. 함수를 사용한다 = 함수를 호출한다\n",
    "3. 함수 사용 형태: 함수( )\n",
    "   - 필요한 경우 () 안에 매개변수 또는 옵션\n",
    "4. 종류\n",
    "   - 내장 함수(built in function)\n",
    "   - 외장 함수: import 해주어야 함\n",
    "   \n",
    "클래스   \n",
    "- 파이썬은 객체 지향 언어로 클래스를 기반으로 객체를 만들어 사용한다.\n",
    "    -  예를 들어 붕어빵을 계속 만들면 일이 많기에 붕어빵 틀을 만들어서 틀을 찍어내는, 클래스는 붕어빵의 기계이고 붕어빵이 객체며 그 안에는 의도했던\n",
    "- 한 파이썬 파일(. py) 내에서 \"class class명():\"을 통해 클래스 선언\n",
    "- 객체지향언어; 자바, 파이썬\n"
   ]
  },
  {
   "cell_type": "code",
   "execution_count": 76,
   "id": "3e3e0c10",
   "metadata": {},
   "outputs": [
    {
     "name": "stdout",
     "output_type": "stream",
     "text": [
      "5초간 프로그램을 정지합니다.\n",
      "5초가 지나갔습니다.\n"
     ]
    }
   ],
   "source": [
    "# time 모듈\n",
    "\n",
    "import time\n",
    "\n",
    "print('5초간 프로그램을 정지합니다.')\n",
    "time.sleep(5)                                 # sleep() 함수\n",
    "print('5초가 지나갔습니다.')"
   ]
  },
  {
   "cell_type": "code",
   "execution_count": 77,
   "id": "fa70883b",
   "metadata": {},
   "outputs": [],
   "source": [
    "# 사용자 작성 모듈\n",
    "with open('mymodule.py','w') as f:\n",
    "    f. write(\n",
    "\"\"\"\n",
    "def add_txt(t1, t2):\n",
    "    return t1+ ':' + t2\n",
    "def reverse(x,y,z):\n",
    "    return z, y, x\n",
    "\"\"\")"
   ]
  },
  {
   "cell_type": "code",
   "execution_count": 78,
   "id": "7a53233e",
   "metadata": {},
   "outputs": [
    {
     "name": "stdout",
     "output_type": "stream",
     "text": [
      "\n",
      "def add_txt(t1, t2):\n",
      "    return t1+ ':' + t2\n",
      "def reverse(x,y,z):\n",
      "    return z, y, x\n",
      "\n"
     ]
    }
   ],
   "source": [
    "with open('mymodule.py','r') as f:\n",
    "    data = f.read()\n",
    "    print(data)"
   ]
  },
  {
   "cell_type": "code",
   "execution_count": 79,
   "id": "ca13b5be",
   "metadata": {},
   "outputs": [
    {
     "name": "stdout",
     "output_type": "stream",
     "text": [
      "대한민국:1등\n"
     ]
    }
   ],
   "source": [
    "import mymodule\n",
    "\n",
    "ret1 = mymodule.add_txt('대한민국', '1등')    # 마이모듈에 있는 사용자 함수 add_txt를 쓰겠다는 것\n",
    "print(ret1)"
   ]
  },
  {
   "cell_type": "code",
   "execution_count": 80,
   "id": "dfdd4d08",
   "metadata": {},
   "outputs": [
    {
     "name": "stdout",
     "output_type": "stream",
     "text": [
      "(3, 2, 1)\n"
     ]
    }
   ],
   "source": [
    "ret2 = mymodule.reverse(1,2,3)\n",
    "print(ret2)"
   ]
  },
  {
   "cell_type": "code",
   "execution_count": 81,
   "id": "bbded6a4",
   "metadata": {},
   "outputs": [
    {
     "name": "stdout",
     "output_type": "stream",
     "text": [
      "안녕하세요\n",
      "안녕하세요\n",
      "None\n"
     ]
    }
   ],
   "source": [
    "# 클래스\n",
    "class MyClass:\n",
    "    var = '안녕하세요'\n",
    "    def  sayHello(self): # 클래스 안에는 함수와 변수를 만들 수 있음. 클래스 안에서 쓰는 함수는 메소드라고 함.\n",
    "        print(self.var)\n",
    "        \n",
    "obj = MyClass() #MyClass 인스턴스 객체 생성\n",
    "print(obj.var)  #obj에 있는 모든 자원을 쓸 수 있음\n",
    "print(obj.sayHello())       # 메소드는 함수니까 ()\n",
    "                            # None이 나오는 것은 반환값이 없으니까 나오는 것."
   ]
  },
  {
   "cell_type": "markdown",
   "id": "bfe277d6",
   "metadata": {},
   "source": [
    "#### 패키지\n",
    "\n",
    "!pip list       # 설치되어있는 프로그램 보는 것\n",
    "1. pandas가 있는지 확인\n",
    "2. 없으면     !pip install pandas   하기\n",
    "\n",
    "\n",
    "\n",
    "https://pandas.pydata.org/docs/reference/api/pandas.DataFrame.info.html   판다스의 도큐먼트가 있음. input/output"
   ]
  },
  {
   "cell_type": "code",
   "execution_count": 89,
   "id": "24bf712c",
   "metadata": {},
   "outputs": [
    {
     "data": {
      "text/html": [
       "<div>\n",
       "<style scoped>\n",
       "    .dataframe tbody tr th:only-of-type {\n",
       "        vertical-align: middle;\n",
       "    }\n",
       "\n",
       "    .dataframe tbody tr th {\n",
       "        vertical-align: top;\n",
       "    }\n",
       "\n",
       "    .dataframe thead th {\n",
       "        text-align: right;\n",
       "    }\n",
       "</style>\n",
       "<table border=\"1\" class=\"dataframe\">\n",
       "  <thead>\n",
       "    <tr style=\"text-align: right;\">\n",
       "      <th></th>\n",
       "      <th>a</th>\n",
       "      <th>b</th>\n",
       "      <th>c</th>\n",
       "    </tr>\n",
       "  </thead>\n",
       "  <tbody>\n",
       "    <tr>\n",
       "      <th>0</th>\n",
       "      <td>1</td>\n",
       "      <td>3</td>\n",
       "      <td>7</td>\n",
       "    </tr>\n",
       "    <tr>\n",
       "      <th>1</th>\n",
       "      <td>2</td>\n",
       "      <td>4</td>\n",
       "      <td>8</td>\n",
       "    </tr>\n",
       "    <tr>\n",
       "      <th>2</th>\n",
       "      <td>3</td>\n",
       "      <td>6</td>\n",
       "      <td>9</td>\n",
       "    </tr>\n",
       "  </tbody>\n",
       "</table>\n",
       "</div>"
      ],
      "text/plain": [
       "   a  b  c\n",
       "0  1  3  7\n",
       "1  2  4  8\n",
       "2  3  6  9"
      ]
     },
     "execution_count": 89,
     "metadata": {},
     "output_type": "execute_result"
    }
   ],
   "source": [
    "# 패키지\n",
    "\n",
    "import pandas as pd   # 판다스 약자 pd\n",
    "\n",
    "df = pd.DataFrame({'a':[1,2,3],'b':[3,4,6],'c':[7,8,9]})      # 딕셔너리 타입으로 만든 것\n",
    "df"
   ]
  },
  {
   "cell_type": "code",
   "execution_count": 93,
   "id": "3cf32c53",
   "metadata": {},
   "outputs": [
    {
     "data": {
      "text/html": [
       "<div>\n",
       "<style scoped>\n",
       "    .dataframe tbody tr th:only-of-type {\n",
       "        vertical-align: middle;\n",
       "    }\n",
       "\n",
       "    .dataframe tbody tr th {\n",
       "        vertical-align: top;\n",
       "    }\n",
       "\n",
       "    .dataframe thead th {\n",
       "        text-align: right;\n",
       "    }\n",
       "</style>\n",
       "<table border=\"1\" class=\"dataframe\">\n",
       "  <thead>\n",
       "    <tr style=\"text-align: right;\">\n",
       "      <th></th>\n",
       "      <th>a</th>\n",
       "      <th>b</th>\n",
       "      <th>c</th>\n",
       "    </tr>\n",
       "  </thead>\n",
       "  <tbody>\n",
       "    <tr>\n",
       "      <th>0</th>\n",
       "      <td>1</td>\n",
       "      <td>2</td>\n",
       "      <td>3</td>\n",
       "    </tr>\n",
       "    <tr>\n",
       "      <th>1</th>\n",
       "      <td>4</td>\n",
       "      <td>5</td>\n",
       "      <td>6</td>\n",
       "    </tr>\n",
       "    <tr>\n",
       "      <th>2</th>\n",
       "      <td>7</td>\n",
       "      <td>8</td>\n",
       "      <td>9</td>\n",
       "    </tr>\n",
       "  </tbody>\n",
       "</table>\n",
       "</div>"
      ],
      "text/plain": [
       "   a  b  c\n",
       "0  1  2  3\n",
       "1  4  5  6\n",
       "2  7  8  9"
      ]
     },
     "execution_count": 93,
     "metadata": {},
     "output_type": "execute_result"
    }
   ],
   "source": [
    "# 배열 타입과 columns를 이용해 만드는 패키지\n",
    "\n",
    "import numpy as np   # 판다스 약자 pd\n",
    "\n",
    "df2 = pd.DataFrame(np.array([[1,2,3],[4,5,6],[7,8,9]]),\n",
    "                   columns = ['a', 'b', 'c'])\n",
    "df2"
   ]
  },
  {
   "cell_type": "code",
   "execution_count": 94,
   "id": "62fc75ac",
   "metadata": {},
   "outputs": [
    {
     "data": {
      "text/html": [
       "<div>\n",
       "<style scoped>\n",
       "    .dataframe tbody tr th:only-of-type {\n",
       "        vertical-align: middle;\n",
       "    }\n",
       "\n",
       "    .dataframe tbody tr th {\n",
       "        vertical-align: top;\n",
       "    }\n",
       "\n",
       "    .dataframe thead th {\n",
       "        text-align: right;\n",
       "    }\n",
       "</style>\n",
       "<table border=\"1\" class=\"dataframe\">\n",
       "  <thead>\n",
       "    <tr style=\"text-align: right;\">\n",
       "      <th></th>\n",
       "      <th>a</th>\n",
       "      <th>b</th>\n",
       "      <th>c</th>\n",
       "    </tr>\n",
       "  </thead>\n",
       "  <tbody>\n",
       "    <tr>\n",
       "      <th>0</th>\n",
       "      <td>1</td>\n",
       "      <td>2</td>\n",
       "      <td>3</td>\n",
       "    </tr>\n",
       "    <tr>\n",
       "      <th>1</th>\n",
       "      <td>4</td>\n",
       "      <td>5</td>\n",
       "      <td>6</td>\n",
       "    </tr>\n",
       "    <tr>\n",
       "      <th>2</th>\n",
       "      <td>7</td>\n",
       "      <td>8</td>\n",
       "      <td>9</td>\n",
       "    </tr>\n",
       "  </tbody>\n",
       "</table>\n",
       "</div>"
      ],
      "text/plain": [
       "   a  b  c\n",
       "0  1  2  3\n",
       "1  4  5  6\n",
       "2  7  8  9"
      ]
     },
     "execution_count": 94,
     "metadata": {},
     "output_type": "execute_result"
    }
   ],
   "source": [
    "# data를 입력하고 columns를 이용해 만드는 패키지\n",
    "\n",
    "data = np.array([(1, 2, 3), (4, 5, 6), (7, 8, 9)])\n",
    "df3 = pd.DataFrame(data, columns=['a','b','c'])\n",
    "df3"
   ]
  },
  {
   "cell_type": "code",
   "execution_count": 21,
   "id": "56d0f438",
   "metadata": {},
   "outputs": [
    {
     "name": "stdout",
     "output_type": "stream",
     "text": [
      "[0, 1, 3, 4, 5, 6]\n"
     ]
    }
   ],
   "source": [
    "# [과제] 내장함수를 이용해서 list = [0,1,2,3,4,5,6]에서 2를 삭제 후 출력하세요. (3가지 방법)\n",
    "list = [0,1,2,3,4,5,6]\n",
    "\n",
    "#list.remove(2)  # remove(값)\n",
    "#print(list)\n",
    "\n",
    "#del list[2]     # 인덱스\n",
    "#print(list)\n",
    "\n",
    "list.pop(2)\n",
    "print(list)"
   ]
  },
  {
   "cell_type": "code",
   "execution_count": 23,
   "id": "9358c660",
   "metadata": {},
   "outputs": [
    {
     "name": "stdout",
     "output_type": "stream",
     "text": [
      "[]\n"
     ]
    }
   ],
   "source": [
    "# [과제] 내장함수를 이용해서 list = [0,1,2,3,4,5,6]에서 모든 원소를 삭제 후 출력하세요\n",
    "list = [0,1,2,3,4,5,6]\n",
    "del list[:]\n",
    "print(list)\n",
    "\n",
    "# remove()함수를 사용하려면, remove(0,1,2,3,4,5,6)\n",
    "# pop()함수는 해당 값을 출력해주고 list에서 제거"
   ]
  },
  {
   "cell_type": "code",
   "execution_count": 4,
   "id": "5cdb9ae8",
   "metadata": {},
   "outputs": [
    {
     "name": "stdout",
     "output_type": "stream",
     "text": [
      "[1, 4, 9, 16, 25]\n",
      "[1, 2]\n"
     ]
    }
   ],
   "source": [
    "# [과제] 람다함수와 적합한 내장함수를 사용하여 아래와 같이 출력하세요\n",
    "#[1,2,3,4,5] -> [1,4,9,16,25]       3,5,7,9를 합한건데\n",
    "#[1,2,3,4,5] -> [1,2]\n",
    "\n",
    "nums1 = [1, 2, 3, 4, 5]\n",
    "result1 = list(map(lambda n: n**2, nums1))   # map을 이용하면 기존 리스트를 가지고 새로운 규칙을 가진 리스트를 만들 수 있음\n",
    "print(result1)\n",
    "\n",
    "nums2 = [1, 2, 3, 4, 5]\n",
    "result2 = list(filter(lambda n: n < 3, nums2)) # 리스트에서 필요한 원소만 \n",
    "print(result2)\n",
    "\n",
    "# 2-2. del(list[2:])"
   ]
  },
  {
   "cell_type": "code",
   "execution_count": 1,
   "id": "f596ddf2",
   "metadata": {},
   "outputs": [
    {
     "name": "stdout",
     "output_type": "stream",
     "text": [
      "[1, 4, 9, 16, 25]\n",
      "[1, 2]\n"
     ]
    }
   ],
   "source": [
    "x = lambda a:a**2\n",
    "lst = [x(i) for i in range(1,6)]    # 1~5를 x처럼 처리하겠다.\n",
    "print(lst)\n",
    "\n",
    "lst2 = [1, 2, 3, 4, 5]\n",
    "f_lst2 = filter(lambda a:a<3,lst2)\n",
    "print(list(f_lst2))"
   ]
  },
  {
   "cell_type": "code",
   "execution_count": 36,
   "id": "b0674dcc",
   "metadata": {},
   "outputs": [
    {
     "ename": "TypeError",
     "evalue": "'list' object is not callable",
     "output_type": "error",
     "traceback": [
      "\u001b[1;31m---------------------------------------------------------------------------\u001b[0m",
      "\u001b[1;31mTypeError\u001b[0m                                 Traceback (most recent call last)",
      "\u001b[1;32m~\\AppData\\Local\\Temp\\ipykernel_12504\\890346423.py\u001b[0m in \u001b[0;36m<module>\u001b[1;34m\u001b[0m\n\u001b[0;32m      3\u001b[0m \u001b[0mLi\u001b[0m \u001b[1;33m=\u001b[0m \u001b[1;33m[\u001b[0m\u001b[1;36m1\u001b[0m\u001b[1;33m,\u001b[0m\u001b[1;33m-\u001b[0m\u001b[1;36m3\u001b[0m\u001b[1;33m,\u001b[0m\u001b[1;36m2\u001b[0m\u001b[1;33m,\u001b[0m\u001b[1;36m0\u001b[0m\u001b[1;33m,\u001b[0m\u001b[1;33m-\u001b[0m\u001b[1;36m5\u001b[0m\u001b[1;33m,\u001b[0m\u001b[1;36m6\u001b[0m\u001b[1;33m]\u001b[0m\u001b[1;33m\u001b[0m\u001b[1;33m\u001b[0m\u001b[0m\n\u001b[0;32m      4\u001b[0m \u001b[1;33m\u001b[0m\u001b[0m\n\u001b[1;32m----> 5\u001b[1;33m \u001b[0mprint\u001b[0m\u001b[1;33m(\u001b[0m\u001b[0mlist\u001b[0m\u001b[1;33m(\u001b[0m\u001b[0mfilter\u001b[0m\u001b[1;33m(\u001b[0m\u001b[1;32mlambda\u001b[0m \u001b[0mx\u001b[0m\u001b[1;33m:\u001b[0m \u001b[0mx\u001b[0m \u001b[1;33m>\u001b[0m \u001b[1;36m0\u001b[0m\u001b[1;33m,\u001b[0m \u001b[0mLi\u001b[0m\u001b[1;33m)\u001b[0m\u001b[1;33m)\u001b[0m\u001b[1;33m)\u001b[0m\u001b[1;33m\u001b[0m\u001b[1;33m\u001b[0m\u001b[0m\n\u001b[0m",
      "\u001b[1;31mTypeError\u001b[0m: 'list' object is not callable"
     ]
    }
   ],
   "source": [
    "# [과제] [1,-3,2,0,-5,6]에서 양수만 필터링해서 출력하세요(내장함수, 사용자함수 각각 이용)\n",
    "\n",
    "Li = [1,-3,2,0,-5,6]\n",
    "\n",
    "print(list(filter(lambda x: x > 0, Li)))"
   ]
  },
  {
   "cell_type": "code",
   "execution_count": 29,
   "id": "f8143901",
   "metadata": {},
   "outputs": [
    {
     "name": "stdout",
     "output_type": "stream",
     "text": [
      "[1, 2, 6]\n"
     ]
    }
   ],
   "source": [
    "def even(arr):\n",
    "    result=[]\n",
    "    for i in arr:\n",
    "        if i > 0:\n",
    "            result.append(i)\n",
    "    return result\n",
    "print(even([1,-3,2,0,-5,6]))"
   ]
  },
  {
   "cell_type": "code",
   "execution_count": 9,
   "id": "06eaa9f0",
   "metadata": {},
   "outputs": [
    {
     "name": "stdout",
     "output_type": "stream",
     "text": [
      "[(1, 4), (2, 5), (3, 6)]\n",
      "[(1, 4, 7), (2, 5, 8), (3, 6, 9)]\n",
      "[('a', 'd'), ('b', 'e'), ('c', 'f')]\n"
     ]
    }
   ],
   "source": [
    "# [과제] 내장함수를 이용하여 동일한 개수로 이루어진 자료형을 화살표 좌측에서 우측으로 변환하세요\n",
    "# [1,2,3],[4,5,6] -> [(1,4),(2,5),(3,6)]\n",
    "# [1,2,3],[4,5,6] [7,8,9] -> [(1,4,7),(2,5,8),(3,6,9)]\n",
    "# ('abc','def') -> [('a','d'),('b','e'),('c','f')]\n",
    "\n",
    "x = [1, 2, 3]\n",
    "y = [4, 5, 6]\n",
    "print(list(zip(x,y)))\n",
    "\n",
    "z = [7, 8, 9]\n",
    "print(list(zip(x,y,z)))\n",
    "\n",
    "print(list(zip('abc','def')))"
   ]
  },
  {
   "cell_type": "code",
   "execution_count": 41,
   "id": "5c5397da",
   "metadata": {},
   "outputs": [
    {
     "name": "stdout",
     "output_type": "stream",
     "text": [
      "평균값을 구할 숫자를 모두 입력해주세요(콤마로 구분): 5,6,2\n",
      "합: 13\n",
      "평균: 4.33\n"
     ]
    }
   ],
   "source": [
    "# [과제] 입력으로 들어오는 모든 수의 평균 값을 계산해 주는 함수를 작성한 후 1,2,3을 입력한 결과를 출력하세요.\n",
    "\n",
    "def sum(mun):\n",
    "    print(f\"합: {eval(mun)}\")    #입력된 문자열이 연산이 가능한 형태면 연산해주는 eval 함수\n",
    "    print(f\"평균: {(eval(mun)/len(mun.split('+'))):0.2f}\")\n",
    "\n",
    "###################################################\n",
    "\n",
    "mun=input(\"평균값을 구할 숫자를 모두 입력해주세요(콤마로 구분): \")\n",
    "mun_n=mun.replace(',','+')    #1,2,3 -> 1+2+3\n",
    "\n",
    "sum(mun_n)"
   ]
  },
  {
   "cell_type": "code",
   "execution_count": 42,
   "id": "d49a4c7a",
   "metadata": {},
   "outputs": [
    {
     "name": "stdout",
     "output_type": "stream",
     "text": [
      "2.0\n"
     ]
    }
   ],
   "source": [
    "# [과제] 입력으로 들어오는 수가 정해져있지 않을 때의 평균 값을 계산해 주는 함수를 작성한 후 1,2,3을 입력한 결과를 출력하세요.\n",
    "\n",
    "\n",
    "def avg(*args):\n",
    "    x = 0\n",
    "    for i in args:\n",
    "        x += i\n",
    "    result= x / len(args)\n",
    "    return result\n",
    "\n",
    "r = avg(1,2,3)\n",
    "print(r)"
   ]
  },
  {
   "cell_type": "code",
   "execution_count": 47,
   "id": "770d01e2",
   "metadata": {},
   "outputs": [
    {
     "name": "stdout",
     "output_type": "stream",
     "text": [
      "5050\n",
      "25250\n"
     ]
    }
   ],
   "source": [
    "# 동일한 사용자 함수를 만들어서 1~100의 합과 200~300의 합을 구하세요.\n",
    "\n",
    "def sum(first, end):\n",
    "    result=0\n",
    "    for i in range(first,end+1):\n",
    "        result+=i\n",
    "    return result\n",
    "\n",
    "print(sum(1,100))   #n~m 사이의 합 구하기\n",
    "print(sum(200,300))"
   ]
  },
  {
   "cell_type": "code",
   "execution_count": 54,
   "id": "02860fda",
   "metadata": {},
   "outputs": [
    {
     "data": {
      "text/plain": [
       "array([  1,   2,   3,   4,   5,   6,   7,   8,   9,  10,  11,  12,  13,\n",
       "        14,  15,  16,  17,  18,  19,  20,  21,  22,  23,  24,  25,  26,\n",
       "        27,  28,  29,  30,  31,  32,  33,  34,  35,  36,  37,  38,  39,\n",
       "        40,  41,  42,  43,  44,  45,  46,  47,  48,  49,  50,  51,  52,\n",
       "        53,  54,  55,  56,  57,  58,  59,  60,  61,  62,  63,  64,  65,\n",
       "        66,  67,  68,  69,  70,  71,  72,  73,  74,  75,  76,  77,  78,\n",
       "        79,  80,  81,  82,  83,  84,  85,  86,  87,  88,  89,  90,  91,\n",
       "        92,  93,  94,  95,  96,  97,  98,  99, 100])"
      ]
     },
     "execution_count": 54,
     "metadata": {},
     "output_type": "execute_result"
    }
   ],
   "source": [
    "import numpy as np\n",
    "\n",
    "np.arange(1,101)\n"
   ]
  },
  {
   "cell_type": "code",
   "execution_count": 56,
   "id": "23042bd7",
   "metadata": {},
   "outputs": [
    {
     "data": {
      "text/plain": [
       "5050"
      ]
     },
     "execution_count": 56,
     "metadata": {},
     "output_type": "execute_result"
    }
   ],
   "source": [
    "def sum(*args):\n",
    "    sum = 0\n",
    "    for i in args:\n",
    "       sum += i\n",
    "    return sum\n",
    "\n",
    "sum(1,   2,   3,   4,   5,   6,   7,   8,   9,  10,  11,  12,  13,\n",
    "        14,  15,  16,  17,  18,  19,  20,  21,  22,  23,  24,  25,  26,\n",
    "        27,  28,  29,  30,  31,  32,  33,  34,  35,  36,  37,  38,  39,\n",
    "        40,  41,  42,  43,  44,  45,  46,  47,  48,  49,  50,  51,  52,\n",
    "        53,  54,  55,  56,  57,  58,  59,  60,  61,  62,  63,  64,  65,\n",
    "        66,  67,  68,  69,  70,  71,  72,  73,  74,  75,  76,  77,  78,\n",
    "        79,  80,  81,  82,  83,  84,  85,  86,  87,  88,  89,  90,  91,\n",
    "        92,  93,  94,  95,  96,  97,  98,  99, 100)"
   ]
  },
  {
   "cell_type": "markdown",
   "id": "a8feb76d",
   "metadata": {},
   "source": [
    "## sort, sorted 모두 key, reverse 매개변수를 갖고 있다.\n",
    "\n",
    "- reverse : 기본값은 reverse = False(오름차순), reverse = True를 매개변수로 입력하면 내림차순으로 정렬\n",
    "    - reversed() 함수는 인자로 리스트(list) 뿐만 아니라 튜플(tuple), 문자열(string)과 같은 여러 원소로 이뤄진 자료구조를 받을 수 있습니다.\n",
    "    - x.reverse()\n",
    "- key : 정렬을 목적으로 하는 함수를 값으로 넣는다. lambda를 이용할 수 있고 key 값을 기준으로 정렬되고 기본값은 오름차순"
   ]
  },
  {
   "cell_type": "code",
   "execution_count": 20,
   "id": "1915dafb",
   "metadata": {},
   "outputs": [
    {
     "data": {
      "text/plain": [
       "['bar', 'ababa', 'ca', 'aaaa', 'a']"
      ]
     },
     "execution_count": 20,
     "metadata": {},
     "output_type": "execute_result"
    }
   ],
   "source": [
    "# [과제] strings를 다양한 문자가 포함된 순서로 정렬하세요. 문자수가 많은 것부터\n",
    "strings = ['a', 'ca', 'bar', 'aaaa', 'ababa'] # 같은 알파벳은 문자수 1개로 취급. 그래서 [1,2,3,1,2]\n",
    "# set 사용해야 함!!! 중복 허용하지 않으니까\n",
    "\n",
    "strings.sort(key = lambda x: len(set(x)))\n",
    "strings[::-1]"
   ]
  },
  {
   "cell_type": "code",
   "execution_count": 26,
   "id": "4ca7439a",
   "metadata": {},
   "outputs": [
    {
     "data": {
      "text/plain": [
       "['bar', 'ababa', 'ca', 'aaaa', 'a']"
      ]
     },
     "execution_count": 26,
     "metadata": {},
     "output_type": "execute_result"
    }
   ],
   "source": [
    "# [과제] 튜플 형태인 strings를 다양한 문자가 포함된 순서로 정렬하세요,\n",
    "strings = ('a', 'ca', 'bar', 'aaaa', 'ababa') \n",
    "a = list(strings)                     # sort는 튜플의 자료구조를 받을 수 없기 때문에 리스트로 변환\n",
    "a.sort(key = lambda x: len(set(x)))\n",
    "a[::-1]"
   ]
  },
  {
   "cell_type": "code",
   "execution_count": 27,
   "id": "90541f60",
   "metadata": {},
   "outputs": [
    {
     "data": {
      "text/plain": [
       "'news.naver.com'"
      ]
     },
     "execution_count": 27,
     "metadata": {},
     "output_type": "execute_result"
    }
   ],
   "source": [
    "# [과제] url에서 호스트 도메인을 추출하여 출력하세요.\n",
    "url = 'http://news.naver.com/main/read.nhn?mode=LSD&mid=shm&sid1=105&oid=028&aid=0002334601'\n",
    "\n",
    "x = url.split('/')     # /기준으로 잘라서 리스트가 만들어짐\n",
    "\n",
    "x[2]          # 도메인이 인덱스 2번째라서"
   ]
  },
  {
   "cell_type": "code",
   "execution_count": 30,
   "id": "d893d349",
   "metadata": {},
   "outputs": [
    {
     "name": "stdout",
     "output_type": "stream",
     "text": [
      "['http://news.naver.com/main/read.nhn', 'mode=LSD&mid=shm&sid1=105&oid=028&aid=0002334601']\n",
      "mode=LSD\n",
      "mid=shm\n",
      "sid1=105\n",
      "oid=028\n",
      "aid=0002334601\n"
     ]
    }
   ],
   "source": [
    "# [과제] url에서 쿼리문을 추출하여 출력하세요.\n",
    "# url에서 '?'뒤에 표시되는 문자열을 쿼리 문자열이라고 하며 변수=값 사이 &로 구분되어 나열된다.\n",
    "# 쿼리는 지리\n",
    "url = 'http://news.naver.com/main/read.nhn?mode=LSD&mid=shm&sid1=105&oid=028&aid=0002334601'\n",
    "\n",
    "do = url.split('?')\n",
    "print(do)\n",
    "\n",
    "qs = do[1].split('&')      # 위에서 리스트가 두 개로 나뉘고 ? 뒤로부터 쿼리 문자열이니까 1번\n",
    "                           # 그리고 & 마다 변수=값 인 쿼리문이 구분되어 나열되니까 &를 없애고 추출\n",
    "for q in qs:\n",
    "    print(q)"
   ]
  },
  {
   "cell_type": "code",
   "execution_count": 59,
   "id": "2d44b17a",
   "metadata": {},
   "outputs": [
    {
     "name": "stdout",
     "output_type": "stream",
     "text": [
      "['http:', '', 'news.naver.com', 'main', 'read.nhn?mode=LSD&mid=shm&sid1=105&oid=028&aid=0002334601']\n",
      "news.naver.com\n"
     ]
    }
   ],
   "source": [
    "url = 'http://news.naver.com/main/read.nhn?mode=LSD&mid=shm&sid1=105&oid=028&aid=0002334601'\n",
    "\n",
    "do = url.split('/')\n",
    "print(do)\n",
    "print(do[2])"
   ]
  },
  {
   "cell_type": "code",
   "execution_count": 65,
   "id": "8c34badb",
   "metadata": {},
   "outputs": [
    {
     "name": "stdout",
     "output_type": "stream",
     "text": [
      "['http://news.naver.com/main/read.nhn', 'mode=LSD&mid=shm&sid1=105&oid=028&aid=0002334601']\n",
      "['mode=LSD', 'mid=shm', 'sid1=105', 'oid=028', 'aid=0002334601']\n",
      "mode=LSD\n",
      "mid=shm\n",
      "sid1=105\n",
      "oid=028\n",
      "aid=0002334601\n"
     ]
    }
   ],
   "source": [
    "url = 'http://news.naver.com/main/read.nhn?mode=LSD&mid=shm&sid1=105&oid=028&aid=0002334601'\n",
    "\n",
    "domain = url.split('?')\n",
    "print(domain)\n",
    "q = domain[1].split('&')\n",
    "print(q)\n",
    "\n",
    "\n",
    "for query in q:\n",
    "    print(query)"
   ]
  }
 ],
 "metadata": {
  "kernelspec": {
   "display_name": "Python 3 (ipykernel)",
   "language": "python",
   "name": "python3"
  },
  "language_info": {
   "codemirror_mode": {
    "name": "ipython",
    "version": 3
   },
   "file_extension": ".py",
   "mimetype": "text/x-python",
   "name": "python",
   "nbconvert_exporter": "python",
   "pygments_lexer": "ipython3",
   "version": "3.9.13"
  }
 },
 "nbformat": 4,
 "nbformat_minor": 5
}
