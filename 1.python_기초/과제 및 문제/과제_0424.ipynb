{
 "cells": [
  {
   "cell_type": "code",
   "execution_count": 2,
   "id": "cd4ba892",
   "metadata": {},
   "outputs": [],
   "source": [
    "import re"
   ]
  },
  {
   "cell_type": "markdown",
   "id": "f8c37a55",
   "metadata": {},
   "source": [
    "#### 과제1_0424\n",
    "\n",
    "정규표현식을 사용해 text에서 이메일을 추출하세요.\n",
    "\n",
    "text = \"이메일 주소는 abc1234@gmail.com 입니다.\""
   ]
  },
  {
   "cell_type": "code",
   "execution_count": 3,
   "id": "c98cfdfa",
   "metadata": {},
   "outputs": [
    {
     "data": {
      "text/plain": [
       "['abc1234@gmail.com']"
      ]
     },
     "execution_count": 3,
     "metadata": {},
     "output_type": "execute_result"
    }
   ],
   "source": [
    "pattern = r'\\b[A-Za-z0-9]+@[A-Za-z0-9]+\\.[A-Za-z]*\\b'\n",
    "\n",
    "text = \"이메일 주소는 abc1234@gmail.com 입니다.\"\n",
    "\n",
    "re.findall(pattern, text)"
   ]
  },
  {
   "cell_type": "markdown",
   "id": "ee1f39bb",
   "metadata": {},
   "source": [
    "- \\\\b: 단어 경계를 나타내는 특수 문자입니다. 이메일 주소가 다른 문자열과 붙어 있지 않은 경우를 처리합니다.\n",
    "- [A-Za-z0-9._%+-]+: 이메일 주소의 로컬 파트를 나타내는 패턴입니다. 알파벳 대소문자, 숫자, 그리고 일부 특수 문자를 포함합니다.\n",
    "- @: 이메일 주소에서 \"@\" 기호입니다.\n",
    "- [A-Za-z0-9.-]+: 이메일 주소의 도메인 파트를 나타내는 패턴입니다. 알파벳 대소문자, 숫자, 그리고 일부 특수 문자를 포함합니다.\n",
    "- \\\\.: 이메일 주소에서 \".\" 기호입니다. 이 기호는 이메일 주소의 도메인 파트를 구분하는 역할을 합니다.\n",
    "- [A-Za-z]{2,}: 이메일 주소의 최상위 도메인을 나타내는 패턴입니다. 알파벳 대소문자 중 최소 2개 이상의 문자가 있어야 합니다.\n",
    "- \\\\b: 단어 경계입니다. 이메일 주소가 다른 문자열과 붙어 있지 않은 경우를 처리합니다."
   ]
  },
  {
   "cell_type": "markdown",
   "id": "731d4dfa",
   "metadata": {},
   "source": [
    "#### 과제2_0424\n",
    "정규표현식을 사용하여 text에서 전화번호를 추출하세요.\n",
    "\n",
    "text = \"저의 전화번호는 010-1234-5678 입니다.\""
   ]
  },
  {
   "cell_type": "code",
   "execution_count": 4,
   "id": "ed2d3246",
   "metadata": {},
   "outputs": [
    {
     "data": {
      "text/plain": [
       "['010-1234-5678']"
      ]
     },
     "execution_count": 4,
     "metadata": {},
     "output_type": "execute_result"
    }
   ],
   "source": [
    "pattern = \"\\d{3}-\\d{4}-\\d{4}\"\n",
    "\n",
    "text = \"저의 전화번호는 010-1234-5678 입니다.\"\n",
    "\n",
    "re.findall(pattern,text)"
   ]
  },
  {
   "cell_type": "markdown",
   "id": "17ebac98",
   "metadata": {},
   "source": [
    "#### 과제3_0424\n",
    "정규표현식을 사용하여 text에서 url를 추출하세요.\n",
    "\n",
    "text = \"저의 블로그 주소는 http://www.example.com 입니다.\""
   ]
  },
  {
   "cell_type": "code",
   "execution_count": 5,
   "id": "02e50ea4",
   "metadata": {},
   "outputs": [
    {
     "data": {
      "text/plain": [
       "['http://www.example.com']"
      ]
     },
     "execution_count": 5,
     "metadata": {},
     "output_type": "execute_result"
    }
   ],
   "source": [
    "pattern = r'http://www+.[A-Za-z0-9]+.com'\n",
    "text = \"저의 블로그 주소는 http://www.example.com 입니다.\"\n",
    "re.findall(pattern,text)"
   ]
  },
  {
   "cell_type": "markdown",
   "id": "9334a273",
   "metadata": {},
   "source": [
    "#### 과제4_0424\n",
    "정규표현식을 사용하여 html 태그를 제거한 후 \"안녕하세요, 파이썬입니다.\"를 출력하세요.\n",
    "\n",
    "html_string = \"< p > 안녕하세요, < b > 파이썬 < lb > 입니다. < lb >\""
   ]
  },
  {
   "cell_type": "code",
   "execution_count": 6,
   "id": "3d8973cf",
   "metadata": {},
   "outputs": [
    {
     "name": "stdout",
     "output_type": "stream",
     "text": [
      " 안녕하세요,  파이썬  입니다. \n"
     ]
    }
   ],
   "source": [
    "html_string = \"< p > 안녕하세요, < b > 파이썬 < lb > 입니다. < lb >\"\n",
    "\n",
    "pattern = re.compile('<.*?>')\n",
    "\n",
    "text = re.sub(pattern,'', html_string)\n",
    "\n",
    "print(text)"
   ]
  },
  {
   "cell_type": "markdown",
   "id": "98c48d45",
   "metadata": {},
   "source": [
    "#### 과제 5_0424\n",
    "\n",
    "text = 'Python3 is very good programming language!\"에서 다음을 수행하세요.\n",
    "- ['Python', 'is', 'very', 'good', 'programming', 'language']을 출력\n",
    "- Python3\n",
    "- Python\n",
    "- 숫자만 출력\n",
    "- Python3를 python으로 대체"
   ]
  },
  {
   "cell_type": "code",
   "execution_count": 11,
   "id": "011a250f",
   "metadata": {},
   "outputs": [
    {
     "data": {
      "text/plain": [
       "['Python', 'is', 'very', 'good', 'programming', 'language']"
      ]
     },
     "execution_count": 11,
     "metadata": {},
     "output_type": "execute_result"
    }
   ],
   "source": [
    "text = 'Python3 is very good programming language!'\n",
    "\n",
    "pattern = r'\\w+'\n",
    "re.findall(pattern,re.sub(r'\\d','',text))"
   ]
  },
  {
   "cell_type": "code",
   "execution_count": 8,
   "id": "a7351438",
   "metadata": {},
   "outputs": [
    {
     "data": {
      "text/plain": [
       "['Python3']"
      ]
     },
     "execution_count": 8,
     "metadata": {},
     "output_type": "execute_result"
    }
   ],
   "source": [
    "pattern = r'\\w+3\\b'\n",
    "\n",
    "re.findall(pattern, text)"
   ]
  },
  {
   "cell_type": "code",
   "execution_count": 9,
   "id": "f905591a",
   "metadata": {},
   "outputs": [
    {
     "data": {
      "text/plain": [
       "['Python']"
      ]
     },
     "execution_count": 9,
     "metadata": {},
     "output_type": "execute_result"
    }
   ],
   "source": [
    "pattern = r'Python'\n",
    "re.findall(pattern,text)"
   ]
  },
  {
   "cell_type": "code",
   "execution_count": 10,
   "id": "dddb5a47",
   "metadata": {},
   "outputs": [
    {
     "data": {
      "text/plain": [
       "['3']"
      ]
     },
     "execution_count": 10,
     "metadata": {},
     "output_type": "execute_result"
    }
   ],
   "source": [
    "pattern = r'\\d'\n",
    "re.findall(pattern,text)"
   ]
  },
  {
   "cell_type": "code",
   "execution_count": 12,
   "id": "1771417a",
   "metadata": {},
   "outputs": [
    {
     "data": {
      "text/plain": [
       "'Python is very good programming language!'"
      ]
     },
     "execution_count": 12,
     "metadata": {},
     "output_type": "execute_result"
    }
   ],
   "source": [
    "re.sub('Python3','Python',text)"
   ]
  },
  {
   "cell_type": "code",
   "execution_count": null,
   "id": "17b89e9c",
   "metadata": {},
   "outputs": [],
   "source": []
  }
 ],
 "metadata": {
  "kernelspec": {
   "display_name": "Python 3 (ipykernel)",
   "language": "python",
   "name": "python3"
  },
  "language_info": {
   "codemirror_mode": {
    "name": "ipython",
    "version": 3
   },
   "file_extension": ".py",
   "mimetype": "text/x-python",
   "name": "python",
   "nbconvert_exporter": "python",
   "pygments_lexer": "ipython3",
   "version": "3.9.13"
  }
 },
 "nbformat": 4,
 "nbformat_minor": 5
}
