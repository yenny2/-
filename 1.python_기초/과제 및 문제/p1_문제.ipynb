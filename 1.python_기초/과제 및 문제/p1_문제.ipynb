{
 "cells": [
  {
   "cell_type": "code",
   "execution_count": 48,
   "id": "afa2ac0d",
   "metadata": {},
   "outputs": [
    {
     "name": "stdout",
     "output_type": "stream",
     "text": [
      "태어난 해를 입력하세요: 1998\n",
      "당신이 태어난 연도의 띠는 범 띠 입니다.\n"
     ]
    }
   ],
   "source": [
    "year_input=int(input(\"태어난 해를 입력하세요: \"))\n",
    "birth_year = year_input%12\n",
    "\n",
    "year = {0:\"원숭이\", 1:\"닭\", 2:\"개\", 3:\"돼지\", 4:\"쥐\", 5:\"소\", 6:\"범\", 7:\"토끼\", 8:\"용\", 9:\"뱀\", 10:\"말\", 11:\"양\"}\n",
    "\n",
    "a = year[birth_year]         # year의 키에 맞는 value 값을 뽑아준다.\n",
    "\n",
    "print(f\"당신이 태어난 연도의 띠는 {a} 띠 입니다.\")"
   ]
  },
  {
   "cell_type": "code",
   "execution_count": 50,
   "id": "415a8900",
   "metadata": {},
   "outputs": [
    {
     "name": "stdout",
     "output_type": "stream",
     "text": [
      "진행하고 싶은 게임 횟수를 입력하세요: 5\n",
      "[43, 34, 28, 21, 44, 20]\n",
      "[6, 28, 22, 45, 12, 43]\n",
      "[27, 29, 16, 31, 10, 32]\n",
      "[39, 26, 9, 7, 1, 38]\n",
      "[9, 4, 44, 25, 33, 31]\n"
     ]
    }
   ],
   "source": [
    "# 사용자가 입력한 게임 회수만큼 로또 번호를 출력하는 프로그램을 작성하세요.\n",
    "\n",
    "import random\n",
    "\n",
    "num = int(input(\"진행하고 싶은 게임 횟수를 입력하세요: \"))\n",
    "\n",
    "for i in range(0,num):\n",
    "    lotto = random.sample(range(1,46),6)\n",
    "    print(lotto)\n"
   ]
  },
  {
   "cell_type": "code",
   "execution_count": 52,
   "id": "6894a0e7",
   "metadata": {},
   "outputs": [
    {
     "name": "stdout",
     "output_type": "stream",
     "text": [
      "발표자 수를 입력해주세요: 2\n",
      "['김태현', '김동완']\n"
     ]
    }
   ],
   "source": [
    "# 발표자 랜덤 뽑기 프로그램\n",
    "\n",
    "name = ['김나영','김동완','김예슬','김용훈','김태현','남동연','박서진','박주경', '손아','옥유리', '옥주리',\n",
    "         '윤예은','윤정현','이승주','임수현','장인혁', '정슬기','한나영','조차선','이지연','김성호','오윤택','최정인']\n",
    "li = []\n",
    "num = int(input(\"발표자 수를 입력해주세요: \")) \n",
    "p = random.sample(range(len(name)),num)\n",
    "\n",
    "for i in p:\n",
    "    li.append(name[i])\n",
    "    \n",
    "print(li)"
   ]
  },
  {
   "cell_type": "code",
   "execution_count": null,
   "id": "e188e062",
   "metadata": {},
   "outputs": [],
   "source": [
    "# 1부터 100까지 아래와 같이 2개의 수를 곱해서 가장 큰 수를 구하세요."
   ]
  },
  {
   "cell_type": "code",
   "execution_count": 53,
   "id": "c08abec7",
   "metadata": {},
   "outputs": [
    {
     "name": "stdout",
     "output_type": "stream",
     "text": [
      "2500\n",
      "2500\n"
     ]
    }
   ],
   "source": [
    "i = 1\n",
    "a = i * (100-i)\n",
    "result = a\n",
    "while i <=100:\n",
    "    i += 1\n",
    "    cal = i*(100-i)\n",
    "    if cal > result:\n",
    "        result = cal\n",
    "\n",
    "print(result)    \n",
    "##################################################\n",
    "n = 1\n",
    "result = 0\n",
    "while n <= 100:\n",
    "    a = n *(100-n)\n",
    "    if a > result:      # 1*99 2*98를 비교해서 2*98이 더 크면  result값에 새롭게 대입하는 것.\n",
    "        result = a\n",
    "        n += 1\n",
    "    else:               # 새롭게 업데이트된 result보다 작으면 그냥 n += 1 해서 다시 비교해보는 것. 이를 100이 될 때까지 계속\n",
    "        n += 1\n",
    "        continue\n",
    "print(result)"
   ]
  },
  {
   "cell_type": "code",
   "execution_count": null,
   "id": "41755edb",
   "metadata": {},
   "outputs": [],
   "source": [
    "# 날짜는 하나도 모르겠다....!"
   ]
  },
  {
   "cell_type": "code",
   "execution_count": null,
   "id": "69c8a9fb",
   "metadata": {},
   "outputs": [],
   "source": []
  }
 ],
 "metadata": {
  "kernelspec": {
   "display_name": "Python 3 (ipykernel)",
   "language": "python",
   "name": "python3"
  },
  "language_info": {
   "codemirror_mode": {
    "name": "ipython",
    "version": 3
   },
   "file_extension": ".py",
   "mimetype": "text/x-python",
   "name": "python",
   "nbconvert_exporter": "python",
   "pygments_lexer": "ipython3",
   "version": "3.9.13"
  }
 },
 "nbformat": 4,
 "nbformat_minor": 5
}
