{
 "cells": [
  {
   "cell_type": "code",
   "execution_count": 1,
   "metadata": {},
   "outputs": [
    {
     "name": "stdout",
     "output_type": "stream",
     "text": [
      "032-232-3245\n"
     ]
    }
   ],
   "source": [
    "# Q1 정규표현식을 사용하여 text에서 전화번호만  출력하세요\n",
    "# text = \"문의사항이 있으면 032-232-3245 으로 연락주시기 바랍니다.\"\n",
    "import re\n",
    " \n",
    "text = \"문의사항이 있으면 032-232-3245 으로 연락주시기 바랍니다.\" \n"
   ]
  },
  {
   "cell_type": "code",
   "execution_count": 49,
   "metadata": {},
   "outputs": [
    {
     "data": {
      "text/plain": [
       "'032-232-3245'"
      ]
     },
     "execution_count": 49,
     "metadata": {},
     "output_type": "execute_result"
    }
   ],
   "source": [
    "import re\n",
    "text = \"문의사항이 있으면 032-232-3245 으로 연락주시기 바랍니다.\"\n",
    "re.search(r'(\\d+)-(\\d+)-(\\d+)', text).group()"
   ]
  },
  {
   "cell_type": "code",
   "execution_count": 3,
   "metadata": {},
   "outputs": [
    {
     "name": "stdout",
     "output_type": "stream",
     "text": [
      "['에러 1122', '에러 1033', '에러 xxx']\n"
     ]
    }
   ],
   "source": [
    "# Q2. 정규표현식을 사용하여 text에서 에러가 들어간 부분만 포함하는 리스트를 출력하세요. \n",
    "# text = \"에러 1122, 레퍼런스 오류, 에러 1033, 아규먼트 오류, 에러 xxx\"\n"
   ]
  },
  {
   "cell_type": "code",
   "execution_count": 50,
   "metadata": {},
   "outputs": [
    {
     "data": {
      "text/plain": [
       "['에러 1122', '에러 1033', '에러 xxx']"
      ]
     },
     "execution_count": 50,
     "metadata": {},
     "output_type": "execute_result"
    }
   ],
   "source": [
    "text = \"에러 1122, 레퍼런스 오류, 에러 1033, 아규먼트 오류, 에러 xxx\"\n",
    "re.findall(\"에러\\s\\w+\",text)"
   ]
  },
  {
   "cell_type": "code",
   "execution_count": 52,
   "metadata": {},
   "outputs": [
    {
     "name": "stdout",
     "output_type": "stream",
     "text": [
      "032\n"
     ]
    }
   ],
   "source": [
    "# Q3. 정규표현식을 사용하여 text에서 지역코드만 출력하세요.\n",
    "import re\n",
    " \n",
    "text = \"문의사항이 있으면 032-232-3245 으로 연락주시기 바랍니다.\"\n",
    " \n",
    "regex = re.compile(r'(\\d{3})-(\\d{3}-\\d{4})')\n",
    "matchobj = regex.search(text)\n",
    "areaCode = matchobj.group(1)\n",
    "# num = matchobj.group(2)\n",
    "# fullNum = matchobj.group()\n",
    "print(areaCode) # 032 232-3245"
   ]
  },
  {
   "cell_type": "code",
   "execution_count": 7,
   "metadata": {},
   "outputs": [
    {
     "name": "stdout",
     "output_type": "stream",
     "text": [
      "232-3245\n"
     ]
    }
   ],
   "source": [
    "# Q4. 정규표현식을 사용하여 text에서 지역코드 제외한 번호만 출력하세요.\n",
    "\n",
    "import re\n",
    " \n",
    "text = \"문의사항이 있으면 032-232-3245 으로 연락주시기 바랍니다.\"\n",
    " \n",
    "regex = re.compile(r'(\\d{3})-(\\d{3}-\\d{4})')\n",
    "matchobj = regex.search(text)\n",
    "# areaCode = matchobj.group(1)\n",
    "num = matchobj.group(2)\n",
    "# fullNum = matchobj.group()\n",
    "print(num) # 032 232-3245"
   ]
  },
  {
   "cell_type": "code",
   "execution_count": 9,
   "metadata": {},
   "outputs": [],
   "source": [
    "# Q5.'abcdefghij' 에 대하여 중첩을 적용한 서브그룹 5개로 컴파일하여 group()함수를 이용하여 \n",
    "# 'abcdefghi'와 'e'를 출력하세요"
   ]
  },
  {
   "cell_type": "code",
   "execution_count": 53,
   "metadata": {},
   "outputs": [
    {
     "name": "stdout",
     "output_type": "stream",
     "text": [
      "abcdefghi\n"
     ]
    },
    {
     "data": {
      "text/plain": [
       "'e'"
      ]
     },
     "execution_count": 53,
     "metadata": {},
     "output_type": "execute_result"
    }
   ],
   "source": [
    "p = re.compile('(a(b(c(d(e)f)g)h)i)j')\n",
    "m = p.match('abcdefghij')\n",
    "# print(m.group(0))\n",
    "print(m.group(1))\n",
    "m.group(5)"
   ]
  },
  {
   "cell_type": "code",
   "execution_count": 54,
   "metadata": {},
   "outputs": [
    {
     "data": {
      "text/plain": [
       "('abcdefghi', 'bcdefgh', 'cdefg', 'def', 'e')"
      ]
     },
     "execution_count": 54,
     "metadata": {},
     "output_type": "execute_result"
    }
   ],
   "source": [
    "# Q6. 위 문제에서 모든 서브 그룹에 대한 문자열을 포함하는 튜플을 출력하세요.\n",
    "m.groups()"
   ]
  },
  {
   "cell_type": "code",
   "execution_count": 55,
   "metadata": {},
   "outputs": [
    {
     "name": "stdout",
     "output_type": "stream",
     "text": [
      "Lots\n"
     ]
    }
   ],
   "source": [
    "# Q7. 이름으로 그룹을 참조하여 'Lots of punctuation 에서 Lots를 출력하세요.\n",
    "p = re.compile(r'(?P<word>\\b\\w+\\b)')\n",
    "m = p.search( 'Lots of punctuation' )\n",
    "print(m.group('word'))"
   ]
  },
  {
   "cell_type": "code",
   "execution_count": 56,
   "metadata": {},
   "outputs": [
    {
     "data": {
      "text/plain": [
       "'Lots'"
      ]
     },
     "execution_count": 56,
     "metadata": {},
     "output_type": "execute_result"
    }
   ],
   "source": [
    "text = 'Lots of punctuation Lots of punctuation'\n",
    "re.search('(?P<name>([A-Z]\\w+))', text).group('name')"
   ]
  },
  {
   "cell_type": "code",
   "execution_count": 57,
   "metadata": {},
   "outputs": [
    {
     "data": {
      "text/plain": [
       "'very very'"
      ]
     },
     "execution_count": 57,
     "metadata": {},
     "output_type": "execute_result"
    }
   ],
   "source": [
    "# Q8. 'Paris is very very beautiful.'에서 'very very'를 출력하세요.\n",
    "\n",
    "p = re.compile(r'\\b(\\w+)\\s+\\1')\n",
    "p.search('Paris is very very beautiful.').group()"
   ]
  },
  {
   "cell_type": "code",
   "execution_count": 28,
   "metadata": {},
   "outputs": [],
   "source": [
    "# Q9. 정규표현식을 작성하여 아래와 같이 출력하세요.\n",
    "['1 apple', '5 oranges', '3 boys', '4 girls', '10 army', '11 mr']\n",
    "\n",
    "import re\n",
    "li = '1 apple, 5 oranges, 3 boys, 4 girls; 10 army| 11 mr'\n",
    "regex = re.compile(      )\n",
    "list = regex.findall(li)\n",
    "print(list)"
   ]
  },
  {
   "cell_type": "code",
   "execution_count": 58,
   "metadata": {},
   "outputs": [
    {
     "name": "stdout",
     "output_type": "stream",
     "text": [
      "['1 apple', '5 oranges', '3 boys', '4 girls', '10 army', '11 mr']\n"
     ]
    }
   ],
   "source": [
    "# A.\n",
    "import re\n",
    "li = '1 apple, 5 oranges, 3 boys, 4 girls; 10 army| 11 mr'\n",
    "regex = re.compile(r'\\d+\\s\\w+')\n",
    "list = regex.findall(li)\n",
    "print(list)"
   ]
  },
  {
   "cell_type": "code",
   "execution_count": 59,
   "metadata": {},
   "outputs": [
    {
     "name": "stdout",
     "output_type": "stream",
     "text": [
      "['H', 'h', 'h']\n"
     ]
    }
   ],
   "source": [
    "# Q10. text에서 'H,h'만 출력하세요.\n",
    "text = 'Hello my friend! Life is short you need Python!'\n",
    "\n",
    "customRegex = re.compile(r'[Hh]')\n",
    "list = customRegex.findall(text)\n",
    "print(list)"
   ]
  },
  {
   "cell_type": "code",
   "execution_count": 60,
   "metadata": {},
   "outputs": [
    {
     "name": "stdout",
     "output_type": "stream",
     "text": [
      "['e', 'l', 'l', 'o', ' ', 'm', 'y', ' ', 'f', 'r', 'i', 'e', 'n', 'd', '!', ' ', 'L', 'i', 'f', 'e', ' ', 'i', 's', ' ', 's', 'o', 'r', 't', ' ', 'y', 'o', 'u', ' ', 'n', 'e', 'e', 'd', ' ', 'P', 'y', 't', 'o', 'n', '!']\n"
     ]
    }
   ],
   "source": [
    "# Q11. text에서 'H,h'가 아닌 것 모두를 출력하세요.\n",
    "customRegex = re.compile(r'[^Hh]')\n",
    "list = customRegex.findall(text)\n",
    "print(list)"
   ]
  },
  {
   "cell_type": "code",
   "execution_count": 61,
   "metadata": {},
   "outputs": [
    {
     "data": {
      "text/plain": [
       "'home'"
      ]
     },
     "execution_count": 61,
     "metadata": {},
     "output_type": "execute_result"
    }
   ],
   "source": [
    "# Q12. 'we are going home'에서 home만 출력하세요.\n",
    "regex = re.compile(r'home$')\n",
    "mo1 = regex.search('we are going home')\n",
    "mo1.group()\n"
   ]
  },
  {
   "cell_type": "code",
   "execution_count": 62,
   "metadata": {},
   "outputs": [
    {
     "data": {
      "text/plain": [
       "'home'"
      ]
     },
     "execution_count": 62,
     "metadata": {},
     "output_type": "execute_result"
    }
   ],
   "source": [
    "# Q13. 'home sweet'에서 home만 출력하세요.\n",
    "regex = re.compile(r'^home')\n",
    "mo2 = regex.search('home sweet')\n",
    "mo2.group()"
   ]
  },
  {
   "cell_type": "code",
   "execution_count": 64,
   "metadata": {},
   "outputs": [
    {
     "data": {
      "text/plain": [
       "'199305'"
      ]
     },
     "execution_count": 64,
     "metadata": {},
     "output_type": "execute_result"
    }
   ],
   "source": [
    "# Q14. '199305, 1923A, a93247'에서 '199305'만 출력하세요.\n",
    "regex = re.compile(r'^\\d+')\n",
    "mo = regex.search('199305, 1923A, a93247')\n",
    "mo.group()"
   ]
  },
  {
   "cell_type": "code",
   "execution_count": 65,
   "metadata": {},
   "outputs": [
    {
     "data": {
      "text/plain": [
       "['99food234']"
      ]
     },
     "execution_count": 65,
     "metadata": {},
     "output_type": "execute_result"
    }
   ],
   "source": [
    "# Q15. '99food234, a93456\\n, a9356ba '에서 '99food234'만 출력하세요.\n",
    "regex = re.compile(r'^\\w+\\d')\n",
    " \n",
    "regex.findall('99food234, a93456\\n, a9356ba ')"
   ]
  },
  {
   "cell_type": "code",
   "execution_count": 36,
   "metadata": {},
   "outputs": [
    {
     "data": {
      "text/plain": [
       "'abc'"
      ]
     },
     "execution_count": 36,
     "metadata": {},
     "output_type": "execute_result"
    }
   ],
   "source": [
    "# Q16. '12345abc'에서 'abc'만 출력하세요.\n",
    "import re\n",
    "str = '12345abc'\n",
    "re.sub('\\d+','',str)"
   ]
  },
  {
   "cell_type": "code",
   "execution_count": 37,
   "metadata": {},
   "outputs": [
    {
     "data": {
      "text/plain": [
       "'12345'"
      ]
     },
     "execution_count": 37,
     "metadata": {},
     "output_type": "execute_result"
    }
   ],
   "source": [
    "# Q17. '12345abc'에서 '12345'만 출력하세요.\n",
    "import re\n",
    "str = '12345abc'\n",
    "re.sub('[^0-9]','',str) "
   ]
  },
  {
   "cell_type": "code",
   "execution_count": 38,
   "metadata": {},
   "outputs": [
    {
     "data": {
      "text/plain": [
       "'a'"
      ]
     },
     "execution_count": 38,
     "metadata": {},
     "output_type": "execute_result"
    }
   ],
   "source": [
    "# Q18. '12345abc'에서 'a'만 출력하세요.\n",
    "import re\n",
    "regex = re.compile('[a]')\n",
    "text = '12345abc'\n",
    "m = regex.search(text)\n",
    "m.group()"
   ]
  },
  {
   "cell_type": "code",
   "execution_count": 47,
   "metadata": {},
   "outputs": [
    {
     "data": {
      "text/plain": [
       "'122333c'"
      ]
     },
     "execution_count": 47,
     "metadata": {},
     "output_type": "execute_result"
    }
   ],
   "source": [
    "# search는 문자열 전체를 검색하여 정규식과 매칭되는 패턴을 찾는다.\n",
    "# Q19. text = '122333c1233c'에서 '122333c'를 모두 출력하세요.\n",
    "import re\n",
    "regex = re.compile('12{2}3{3}c')\n",
    "text = '122333c1233c'\n",
    "m = regex.search(text)\n",
    "m.group()"
   ]
  },
  {
   "cell_type": "code",
   "execution_count": 40,
   "metadata": {},
   "outputs": [
    {
     "data": {
      "text/plain": [
       "'A'"
      ]
     },
     "execution_count": 40,
     "metadata": {},
     "output_type": "execute_result"
    }
   ],
   "source": [
    "# Q20. 'abc12345Abc'에서 'A'만 출력하세요.\n",
    "import re\n",
    "regex = re.compile('[A-Z]')\n",
    "text = 'abc12345Abc'\n",
    "m = regex.search(text)\n",
    "m.group()"
   ]
  },
  {
   "cell_type": "code",
   "execution_count": 41,
   "metadata": {},
   "outputs": [
    {
     "data": {
      "text/plain": [
       "'대'"
      ]
     },
     "execution_count": 41,
     "metadata": {},
     "output_type": "execute_result"
    }
   ],
   "source": [
    "# Q21. 'KOREA 대한민국'에서 '대'만 출력하세요.\n",
    "import re\n",
    "regex = re.compile('[가-하]')\n",
    "text = 'KOREA 대한민국'\n",
    "m = regex.search(text)\n",
    "m.group()"
   ]
  },
  {
   "cell_type": "code",
   "execution_count": 48,
   "metadata": {},
   "outputs": [
    {
     "data": {
      "text/plain": [
       "'aaaaBBBcccDDDeee'"
      ]
     },
     "execution_count": 48,
     "metadata": {},
     "output_type": "execute_result"
    }
   ],
   "source": [
    "# Q22. text에서 'aaaaBBBcccDDDeee'을 모두 출력하세요.\n",
    "import re\n",
    "regex = re.compile('a{4}B{3}c{3}D{3}e{3}')\n",
    "text = 'aaaaBBBcccDDDeeeaaaBBBcccDDeee'\n",
    "\n",
    "li = regex.search(text)\n",
    "li.group()"
   ]
  },
  {
   "cell_type": "code",
   "execution_count": 43,
   "metadata": {},
   "outputs": [
    {
     "data": {
      "text/plain": [
       "['1', '2', '3', '4', '1', '2', '3', '4']"
      ]
     },
     "execution_count": 43,
     "metadata": {},
     "output_type": "execute_result"
    }
   ],
   "source": [
    "# Q23. '1234a1234'에서  '1', '2', '3', '4'를 모두 출력하세요.\n",
    "import re\n",
    "regex = re.compile('[1234]')\n",
    "text = '1234a1234'\n",
    "\n",
    "regex.findall(text)\n"
   ]
  },
  {
   "cell_type": "code",
   "execution_count": 44,
   "metadata": {},
   "outputs": [
    {
     "name": "stdout",
     "output_type": "stream",
     "text": [
      "what are you doing?\n"
     ]
    }
   ],
   "source": [
    "# 줄바꿈 문자의 조작. 일반적으로 . 도트(모든 것) * 별(0개 이상)을 컴파일하면 \n",
    "# 줄바꿈 문자 \\n 전까지 매치한다. 줄바꿈 문자가 있는 파일의 모든 범위를 \n",
    "# 매치하려면 compile 메소드에 두번째 매개변수를 re.DOTALL 로 지정한다. \n",
    "\n",
    "# Q24. text에서 what are you doing?만 출력하세요 \n",
    "text = 'what are you doing?\\nit is going to be late for school\\nwe need to hurry up'\n",
    "regex = re.compile('.*')\n",
    "mo = regex.search(text)\n",
    "print(mo.group())"
   ]
  },
  {
   "cell_type": "code",
   "execution_count": 45,
   "metadata": {},
   "outputs": [
    {
     "name": "stdout",
     "output_type": "stream",
     "text": [
      "what are you doing?\n",
      "it is going to be late for school\n",
      "we need to hurry up\n"
     ]
    }
   ],
   "source": [
    "# Q25. text에서 전체문장 모두 출력하세요 \n",
    "regex = re.compile('.*',re.DOTALL)\n",
    "mo = regex.search('what are you doing?\\nit is going to be late for school'\n",
    "             '\\nwe need to hurry up')\n",
    "print(mo.group())"
   ]
  },
  {
   "cell_type": "code",
   "execution_count": 46,
   "metadata": {},
   "outputs": [
    {
     "name": "stdout",
     "output_type": "stream",
     "text": [
      "Friend\n",
      "fRiend\n",
      "friEnd\n",
      "FRIEND\n"
     ]
    }
   ],
   "source": [
    "# 대소문자를 구분하지 않고 매치시키려면 compile 메소드의 \n",
    "# 두번째 매개변수를 re.I로 넘겨준다. (re 모듈의 상수다)\n",
    "# Q26. text에서 대소문자 구분없이 전체문장 모두 출력하세요 \n",
    "\n",
    "text = 'Friend fRiend friEnd FRIEND'\n",
    "regex = re.compile(r'friend',re.I)\n",
    "list = regex.findall(text)\n",
    "for i in list:\n",
    "    print(i)"
   ]
  }
 ],
 "metadata": {
  "kernelspec": {
   "display_name": "Python 3",
   "language": "python",
   "name": "python3"
  },
  "language_info": {
   "codemirror_mode": {
    "name": "ipython",
    "version": 3
   },
   "file_extension": ".py",
   "mimetype": "text/x-python",
   "name": "python",
   "nbconvert_exporter": "python",
   "pygments_lexer": "ipython3",
   "version": "3.8.3"
  }
 },
 "nbformat": 4,
 "nbformat_minor": 5
}
