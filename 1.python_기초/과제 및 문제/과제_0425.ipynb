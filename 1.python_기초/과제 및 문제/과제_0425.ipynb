{
 "cells": [
  {
   "cell_type": "markdown",
   "id": "7b25788e",
   "metadata": {},
   "source": [
    "#### 과제1_0425\n",
    "\n",
    "BC, CC, ABC 모두 C가 출력되는 정규표현식을 ()에 작성하세요."
   ]
  },
  {
   "cell_type": "code",
   "execution_count": 2,
   "id": "2195780a",
   "metadata": {},
   "outputs": [
    {
     "name": "stdout",
     "output_type": "stream",
     "text": [
      "<re.Match object; span=(1, 2), match='C'>\n",
      "<re.Match object; span=(0, 1), match='C'>\n",
      "<re.Match object; span=(2, 3), match='C'>\n"
     ]
    }
   ],
   "source": [
    "import re\n",
    "\n",
    "pattern = re.compile('C')\n",
    "\n",
    "text1 = 'BC'\n",
    "text2 = 'CC'\n",
    "text3 = 'ABC'\n",
    "\n",
    "p1 = pattern.search(text1)\n",
    "p2 = pattern.search(text2)\n",
    "p3 = pattern.search(text3)\n",
    "\n",
    "print(p1)\n",
    "print(p2)\n",
    "print(p3)"
   ]
  },
  {
   "cell_type": "code",
   "execution_count": null,
   "id": "cace55d1",
   "metadata": {},
   "outputs": [],
   "source": []
  },
  {
   "cell_type": "markdown",
   "id": "a3b6d782",
   "metadata": {},
   "source": [
    "#### 과제2_0425\n",
    "'1234a1234'에서 '1','2','3','4'를 모두 출력하세요."
   ]
  },
  {
   "cell_type": "code",
   "execution_count": 3,
   "id": "984e20b0",
   "metadata": {},
   "outputs": [
    {
     "name": "stdout",
     "output_type": "stream",
     "text": [
      "['1', '2', '3', '4', '1', '2', '3', '4']\n"
     ]
    }
   ],
   "source": [
    "text = '1234a1234'\n",
    "\n",
    "print(re.findall('\\d', text))"
   ]
  },
  {
   "cell_type": "code",
   "execution_count": null,
   "id": "9a308f63",
   "metadata": {},
   "outputs": [],
   "source": []
  },
  {
   "cell_type": "markdown",
   "id": "a2ed5f5d",
   "metadata": {},
   "source": [
    "#### 과제3_0425\n",
    "'99food234,a93456\\n, a93356ba'에서 '99food23'만 출력하세요."
   ]
  },
  {
   "cell_type": "code",
   "execution_count": 4,
   "id": "27ed3ec4",
   "metadata": {},
   "outputs": [
    {
     "data": {
      "text/plain": [
       "'99food234'"
      ]
     },
     "execution_count": 4,
     "metadata": {},
     "output_type": "execute_result"
    }
   ],
   "source": [
    "text = '99food234,a93456\\n,a93356ba'\n",
    "re.findall('\\w+',text)[0]"
   ]
  },
  {
   "cell_type": "code",
   "execution_count": null,
   "id": "943b0df4",
   "metadata": {},
   "outputs": [],
   "source": []
  },
  {
   "cell_type": "markdown",
   "id": "22a626ed",
   "metadata": {},
   "source": [
    "#### 과제4_0425\n",
    "text에서 전체 문장 모두 출력하세요"
   ]
  },
  {
   "cell_type": "code",
   "execution_count": 6,
   "id": "59ade38e",
   "metadata": {},
   "outputs": [
    {
     "name": "stdout",
     "output_type": "stream",
     "text": [
      "what are you doing?\n",
      " it is going to be late for school\n",
      "we need to hurry up\n"
     ]
    }
   ],
   "source": [
    "text = 'what are you doing?\\n it is going to be late for school''\\nwe need to hurry up'\n",
    "\n",
    "p = re.compile('.*',re.DOTALL)\n",
    "m = p.search(text)\n",
    "print(m.group())"
   ]
  },
  {
   "cell_type": "code",
   "execution_count": null,
   "id": "2071c66c",
   "metadata": {},
   "outputs": [],
   "source": []
  },
  {
   "cell_type": "markdown",
   "id": "721972a8",
   "metadata": {},
   "source": [
    "#### 과제5_0425\n",
    "\n",
    "아래 text의 내용을 모두 출력하세요"
   ]
  },
  {
   "cell_type": "code",
   "execution_count": 7,
   "id": "13c0dc1a",
   "metadata": {},
   "outputs": [
    {
     "name": "stdout",
     "output_type": "stream",
     "text": [
      "pAthon\n",
      "PATHON\n",
      "pathon\n",
      "Pathon\n"
     ]
    }
   ],
   "source": [
    "text = ['pAthon','PATHON','pathon','Pathon']\n",
    "\n",
    "for t in text:\n",
    "    re.match('[a-z]+',t, re.I)\n",
    "    print(t)"
   ]
  },
  {
   "cell_type": "code",
   "execution_count": null,
   "id": "39d29e03",
   "metadata": {},
   "outputs": [],
   "source": []
  },
  {
   "cell_type": "markdown",
   "id": "413193b6",
   "metadata": {},
   "source": [
    "#### 과제6_0425\n",
    "()에 정규표현식을 작성하여 아래와 같이 출력하세요."
   ]
  },
  {
   "cell_type": "code",
   "execution_count": 13,
   "id": "e2501398",
   "metadata": {},
   "outputs": [
    {
     "name": "stdout",
     "output_type": "stream",
     "text": [
      "['apple', 'oranges', 'boys', 'girls', 'army', 'mr']\n"
     ]
    }
   ],
   "source": [
    "import re\n",
    "li = '1 apple, 5 oranges, 3 boys, 4 girls; 10 army| 11 mr'\n",
    "regex = re.compile('[a-z]+')\n",
    "list = regex.findall(li)\n",
    "print(list)"
   ]
  },
  {
   "cell_type": "code",
   "execution_count": null,
   "id": "de13e157",
   "metadata": {},
   "outputs": [],
   "source": []
  },
  {
   "cell_type": "markdown",
   "id": "f7c15320",
   "metadata": {},
   "source": [
    "#### 과제7_0425\n",
    "text에서 다음을 수행하세요.\n",
    "- 'H,h'만 출력하세요\n",
    "- 'H,h'가 아닌 것 모두를 출력하세요."
   ]
  },
  {
   "cell_type": "code",
   "execution_count": 12,
   "id": "aab23d38",
   "metadata": {},
   "outputs": [
    {
     "name": "stdout",
     "output_type": "stream",
     "text": [
      "['H', 'h', 'h']\n"
     ]
    },
    {
     "data": {
      "text/plain": [
       "['ello my friend! Life is s', 'ort you need Pyt', 'on!']"
      ]
     },
     "execution_count": 12,
     "metadata": {},
     "output_type": "execute_result"
    }
   ],
   "source": [
    "text = 'Hello my friend! Life is short you need Python!'\n",
    "\n",
    "print(re.findall('H|h',text))\n",
    "re.findall('[^H|h]+',text)"
   ]
  },
  {
   "cell_type": "code",
   "execution_count": null,
   "id": "af50780a",
   "metadata": {},
   "outputs": [],
   "source": []
  },
  {
   "cell_type": "markdown",
   "id": "2ed7ddc0",
   "metadata": {},
   "source": [
    "#### 과제8_0425\n",
    "\n",
    "정규표현식을 사용하여 text에서 다음 사항을 수행하세요\n",
    "\n",
    "- 지역코드만 출력하세요\n",
    "- 지역코드 제외한 번호만 출력하세요\n"
   ]
  },
  {
   "cell_type": "code",
   "execution_count": 10,
   "id": "6e382871",
   "metadata": {},
   "outputs": [
    {
     "name": "stdout",
     "output_type": "stream",
     "text": [
      "032\n",
      "032-232-3245\n"
     ]
    }
   ],
   "source": [
    "text = \"문의사항이 있으면 032-232-3245으로 연락주시기 바랍니다.\"\n",
    "\n",
    "m = re.search(r'(\\w+)\\s+(\\w+)\\s+((\\d+)[-]\\d+[-]\\d+)(\\w+)\\s+(\\w+)\\s+(\\w+)', text)\n",
    "\n",
    "\n",
    "print(m.group(4)) \n",
    "print(m.group(3))   "
   ]
  },
  {
   "cell_type": "code",
   "execution_count": null,
   "id": "96334bff",
   "metadata": {},
   "outputs": [],
   "source": []
  },
  {
   "cell_type": "markdown",
   "id": "11e64c87",
   "metadata": {},
   "source": [
    "#### 과제9_0425\n",
    "아래 text에서 정규표현식을 사용하여 'the the the'를 출력하세요"
   ]
  },
  {
   "cell_type": "code",
   "execution_count": 11,
   "id": "777bed64",
   "metadata": {},
   "outputs": [
    {
     "data": {
      "text/plain": [
       "'the the the '"
      ]
     },
     "execution_count": 11,
     "metadata": {},
     "output_type": "execute_result"
    }
   ],
   "source": [
    "text = 'Paris in the the the spring'\n",
    "re.search(r'(the\\s)+', text).group()"
   ]
  },
  {
   "cell_type": "code",
   "execution_count": null,
   "id": "902aa1ed",
   "metadata": {},
   "outputs": [],
   "source": []
  },
  {
   "cell_type": "markdown",
   "id": "6a4c6a6b",
   "metadata": {},
   "source": [
    "#### 과제10_0425.\n",
    "이름으로 그룹을 참조하여 text 에서 Lots를 출력하세요.\n",
    "\n",
    "\n",
    "text = 'Lots of punctuation Lots of punctuation'"
   ]
  },
  {
   "cell_type": "code",
   "execution_count": 14,
   "id": "ec9b881b",
   "metadata": {},
   "outputs": [
    {
     "data": {
      "text/plain": [
       "'Lots'"
      ]
     },
     "execution_count": 14,
     "metadata": {},
     "output_type": "execute_result"
    }
   ],
   "source": [
    "import re\n",
    "\n",
    "text = 'Lots of punctuation Lots of punctuation'\n",
    "match = re.search(r'(?P<name>Lots)', text)\n",
    "match.group('name')"
   ]
  }
 ],
 "metadata": {
  "kernelspec": {
   "display_name": "Python 3 (ipykernel)",
   "language": "python",
   "name": "python3"
  },
  "language_info": {
   "codemirror_mode": {
    "name": "ipython",
    "version": 3
   },
   "file_extension": ".py",
   "mimetype": "text/x-python",
   "name": "python",
   "nbconvert_exporter": "python",
   "pygments_lexer": "ipython3",
   "version": "3.9.13"
  }
 },
 "nbformat": 4,
 "nbformat_minor": 5
}
