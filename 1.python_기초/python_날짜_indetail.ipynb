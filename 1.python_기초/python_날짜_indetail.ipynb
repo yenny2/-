{
 "cells": [
  {
   "cell_type": "markdown",
   "id": "a21a847c",
   "metadata": {},
   "source": [
    "## 날짜\n",
    "#### 날짜 처리\n",
    "- time — 시간 액세스와 변환\n",
    "\n",
    "- 현재 timestamp 얻기 : time 모듈의 time() 함수는 현재 Unix timestamp을 소수로 리턴하는데요. 정수부는 초단위이고, 소수부는 마이크로(micro) 초단위 입니다.\n",
    "\n",
    "https://www.daleseo.com/python-time/\n",
    "\n",
    "https://docs.python.org/ko/3/library/time.html\n",
    "\n",
    "포맷 코드 표<BR>\n",
    "포맷코드\t설명\t예<BR>\n",
    "%a\t요일 줄임말\tSun, Mon, ... Sat<BR>\n",
    "%A\t요일\tSunday, Monday, ..., Saturday<BR>\n",
    "%w\t요일을 숫자로 표시, 월요일일요일, 06\t0, 1, ..., 6<BR>\n",
    "%d\t일\t01, 02, ..., 31<BR>\n",
    "%b\t월 줄임말\tJan, Feb, ..., Dec<BR>\n",
    "%B\t월\tJanuary, February, …, December<BR>\n",
    "%m\t숫자 월\t01, 02, ..., 12<BR>\n",
    "%y\t두 자릿수 연도\t01, 02, ..., 99<BR>\n",
    "%Y\t네 자릿수 연도\t0001, 0002, ..., 2017, 2018, 9999<BR>\n",
    "%H\t시간(24시간)\t00, 01, ..., 23<BR>\n",
    "%I\t시간(12시간)\t01, 02, ..., 12<BR>\n",
    "%p\tAM, PM\tAM, PM<BR>\n",
    "%M\t분\t00, 01, ..., 59<BR>\n",
    "%S\t초\t00, 01, ..., 59<BR>\n",
    "%Z\t시간대\t대한민국 표준시<BR>\n",
    "%j\t1월 1일부터 경과한 일수\t001, 002, ..., 366<BR>\n",
    "%U\t1년중 주차, 월요일이 한 주의 시작으로\t00, 01, ..., 53<BR>\n",
    "%W\t1년중 주차, 월요일이 한 주의 시작으로\t00, 01, ..., 53<BR>\n",
    "%c\t날짜, 요일, 시간을 출력, 현재 시간대 기준\tSat May 19 11:14:27 2018<BR>\n",
    "%x\t날짜를 출력, 현재 시간대 기준\t05/19/18<BR>\n",
    "%X\t시간을 출력, 현재 시간대 기준\t'11:44:22'"
   ]
  },
  {
   "cell_type": "code",
   "execution_count": 2,
   "id": "14cfe113",
   "metadata": {},
   "outputs": [
    {
     "data": {
      "text/plain": [
       "1678846056.0330253"
      ]
     },
     "execution_count": 2,
     "metadata": {},
     "output_type": "execute_result"
    }
   ],
   "source": [
    "import time                   # 타임 외장함수를 끌어와서 \n",
    "time.time()                    # 타임함수에서 현재 시간을 가져오겠다\n",
    "\n",
    "# timestamp 형식으로 나옴"
   ]
  },
  {
   "cell_type": "code",
   "execution_count": 5,
   "id": "f34d059d",
   "metadata": {},
   "outputs": [
    {
     "data": {
      "text/plain": [
       "'Fri Mar 10 10:28:32 2023'"
      ]
     },
     "execution_count": 5,
     "metadata": {},
     "output_type": "execute_result"
    }
   ],
   "source": [
    "# 날짜와 시간을 알아보기 쉬운 형태로 리턴\n",
    "\n",
    "\n",
    "time.asctime(time.localtime(time.time()))"
   ]
  },
  {
   "cell_type": "code",
   "execution_count": 3,
   "id": "034f2cb7",
   "metadata": {},
   "outputs": [
    {
     "data": {
      "text/plain": [
       "'Wed Mar 15 11:07:36 2023'"
      ]
     },
     "execution_count": 3,
     "metadata": {},
     "output_type": "execute_result"
    }
   ],
   "source": [
    "from time import ctime\n",
    "\n",
    "ctime(1678846056.0330253)"
   ]
  },
  {
   "cell_type": "code",
   "execution_count": 6,
   "id": "19e9dc9e",
   "metadata": {},
   "outputs": [
    {
     "data": {
      "text/plain": [
       "'Fri Mar 10 10:28:41 2023'"
      ]
     },
     "execution_count": 6,
     "metadata": {},
     "output_type": "execute_result"
    }
   ],
   "source": [
    "# asctime과 다른 점은 ctime은 항상 현재 시간만을 리턴\n",
    "\n",
    "time.ctime()"
   ]
  },
  {
   "cell_type": "code",
   "execution_count": 4,
   "id": "a83e8bae",
   "metadata": {},
   "outputs": [
    {
     "name": "stdout",
     "output_type": "stream",
     "text": [
      "1678846622.657173 <class 'float'>\n",
      "1678846622.657173 <class 'str'>\n"
     ]
    }
   ],
   "source": [
    "# timestamp 형식을 str로 변경\n",
    "\n",
    "import time\n",
    "t= time.time()\n",
    "\n",
    "print(t,type(t))\n",
    "s = str(t)\n",
    "print(s,type(s))"
   ]
  },
  {
   "cell_type": "markdown",
   "id": "3629b0d1",
   "metadata": {},
   "source": [
    "gmtime(), localtime() 함수: timestamp를 struct_time 객체로 변환"
   ]
  },
  {
   "cell_type": "code",
   "execution_count": 7,
   "id": "1db411d9",
   "metadata": {},
   "outputs": [
    {
     "name": "stdout",
     "output_type": "stream",
     "text": [
      "time.struct_time(tm_year=2023, tm_mon=3, tm_mday=15, tm_hour=2, tm_min=17, tm_sec=2, tm_wday=2, tm_yday=74, tm_isdst=0) \n",
      "\n",
      "time.struct_time(tm_year=2023, tm_mon=3, tm_mday=15, tm_hour=11, tm_min=17, tm_sec=2, tm_wday=2, tm_yday=74, tm_isdst=0)\n"
     ]
    }
   ],
   "source": [
    "from time import gmtime, localtime\n",
    "\n",
    "print(gmtime(1678846622.657173),'\\n')\n",
    "print(localtime(1678846622.657173))"
   ]
  },
  {
   "cell_type": "markdown",
   "id": "f35c92a0",
   "metadata": {},
   "source": [
    "## 3월 7일 과제\n",
    "1. format 함수를 이용해서 다음과 같은 형식으로 현재 날짜/시간을 출력하세요.\n",
    "- 2021년 12월 29일 26시 47분 30초\n",
    "2. 현재 시간을 오전과 오후로 구분하는 프로그램을 작성하세요."
   ]
  },
  {
   "cell_type": "code",
   "execution_count": 7,
   "id": "cee67383",
   "metadata": {},
   "outputs": [
    {
     "name": "stdout",
     "output_type": "stream",
     "text": [
      "2021년 12월 29일 15시 47분 30초\n",
      "2023-03-09 15:22:55.185932\n",
      "오늘 날짜는 3월 9일입니다. 현재 시각은 15시 22분 55초입니다.\n",
      "2023-03-09 15:22:55.185932\n",
      "오늘 날짜는 3월 9일입니다. 현재 시각은 15시 22분 55초입니다.\n"
     ]
    }
   ],
   "source": [
    "# 6번 format 함수를 이용해서 다음과 같은 형식으로 현재 날짜/시간을 출력하세요. v\n",
    "# 2021년 12월 29일 26시 47분 30초 \n",
    "\n",
    "print(\"{}년 {}월 {}일 {}시 {}분 {}초\".format(2021,12,29,15,47,30))\n",
    "\n",
    "# 2번째 풀이\n",
    "import datetime\n",
    "now=datetime.datetime.now()\n",
    "print(now)\n",
    "y,mo,d,h,m,s=now.year,now.month,now.day,now.hour,now.minute,now.second\n",
    "print(f\"오늘 날짜는 {mo}월 {d}일입니다. 현재 시각은 {h}시 {m}분 {s}초입니다.\")\n",
    "\n",
    "# 풀이\n",
    "from datetime import datetime    # datetime에 있는 datetime을 쓰겠다는 것.\n",
    "now=datetime.now()                # 그래서 now에서 datetime 하나를 빼도 되는 것.\n",
    "print(now)\n",
    "y,mo,d,h,m,s=now.year,now.month,now.day,now.hour,now.minute,now.second\n",
    "print(f\"오늘 날짜는 {mo}월 {d}일입니다. 현재 시각은 {h}시 {m}분 {s}초입니다.\")"
   ]
  },
  {
   "cell_type": "code",
   "execution_count": 5,
   "id": "fd9a5df4",
   "metadata": {},
   "outputs": [
    {
     "name": "stdout",
     "output_type": "stream",
     "text": [
      "현재 시간은 9시로 오전입니다.\n"
     ]
    }
   ],
   "source": [
    "# 7번 현재 시간을 오전과 오후로 구분하는 프로그램을 작성하세요. v\n",
    "\n",
    "from datetime import datetime\n",
    "\n",
    "now=datetime.now()\n",
    "if now.hour<12:\n",
    "    print(f\"현재 시간은 {now.hour}시로 오전입니다.\")\n",
    "else:\n",
    "    print(f\"현재 시간은 {now.hour}시로 오후입니다.\")"
   ]
  },
  {
   "cell_type": "markdown",
   "id": "71312988",
   "metadata": {},
   "source": [
    "### 3/8 문제\n",
    "1. 1609160537.371015을 \"Mon Dec 28 22:02:17 2020\"포멧으로 출력하세요. (1609~ 초단위로 표시한 것)\n",
    "2. 현재시간을 위와 같은 포멧으로 출력하세요.\n",
    "3. 현재 시간을 년-월-일 시:분:초로 출력하세요. 포멧코드표 참고\n",
    "4. 올해 경과된 날짜수 계산하세요\n",
    "5. 현재 요일을 \"2021-6-26 오늘은 토요일입니다.\"와 같은 형식으로 출력하세요.\n",
    "6. add_mul() 함수를 정의하여 1,2,3,4,5를 입력 값으로 적용해 덧셈, 곱셈 연산을 수행하세요."
   ]
  },
  {
   "cell_type": "code",
   "execution_count": 2,
   "id": "4f04206f",
   "metadata": {},
   "outputs": [
    {
     "data": {
      "text/plain": [
       "'Mon Dec 28 22:02:17 2020'"
      ]
     },
     "execution_count": 2,
     "metadata": {},
     "output_type": "execute_result"
    }
   ],
   "source": [
    "# Q. 1609160537.371015을 \"Mon Dec 28 22:02:17 2020\"포멧으로 출력하세요. (1609~ 초단위로 표시한 것)\n",
    "\n",
    "import time     # 파이썬에 있는 함수이기에 import만 하면 됨\n",
    "t = time.localtime(1609160537.371015)\n",
    "time.asctime(t)"
   ]
  },
  {
   "cell_type": "code",
   "execution_count": 15,
   "id": "c9bf73d5",
   "metadata": {},
   "outputs": [
    {
     "name": "stdout",
     "output_type": "stream",
     "text": [
      "time.struct_time(tm_year=2023, tm_mon=3, tm_mday=15, tm_hour=11, tm_min=34, tm_sec=32, tm_wday=2, tm_yday=74, tm_isdst=0)\n",
      "Wed Mar 15 11:34:32 2023\n"
     ]
    }
   ],
   "source": [
    "# 현재 시간을 가져와서 \"Sat Jun 26 08:35:03 2021\" 포멧으로 출력하세요.\n",
    "\n",
    "import time\n",
    "t = time.localtime()\n",
    "print(t)                # 포멧으로 출력하려면 time.asctime 함수 사용\n",
    "#print(\"%s\"% time.asctime(t))\n",
    "print(f'{time.asctime(t)}')    # 날짜와 시간을 알아보기 쉰운 형태로 출력해주는 asctime() 함수"
   ]
  },
  {
   "cell_type": "code",
   "execution_count": 13,
   "id": "0ab5e9b2",
   "metadata": {},
   "outputs": [
    {
     "name": "stdout",
     "output_type": "stream",
     "text": [
      "1678847574.5705864\n",
      "2023-03-15 11:32:54.570586\n",
      "2023-03-15 11:32:54\n"
     ]
    }
   ],
   "source": [
    "# 현재 시간을 년-월-일 시:분:초로 출력하세요. 포멧코드표 참고\n",
    "# timestamp -> datetime -> str\n",
    "import time\n",
    "from datetime import datetime\n",
    "t = time.time()\n",
    "print(t)                       # timestamp 형식\n",
    "d = datetime.fromtimestamp(t)  # datetime 형식으로 변경\n",
    "print(d)                      \n",
    "s = d.strftime('%Y-%m-%d %X')  # str로 변경\n",
    "print(s)"
   ]
  },
  {
   "cell_type": "code",
   "execution_count": 29,
   "id": "2f363306",
   "metadata": {},
   "outputs": [
    {
     "name": "stdout",
     "output_type": "stream",
     "text": [
      "1678849309.922311\n",
      "2023-03-15 12:01:49.922311\n"
     ]
    }
   ],
   "source": [
    "# str -> datetime\n",
    "\n",
    "t = time.time()\n",
    "print(t)                       # timestamp 형식\n",
    "d = datetime.fromtimestamp(t)  # datetime 형식으로 변경\n",
    "print(d)"
   ]
  },
  {
   "cell_type": "code",
   "execution_count": 17,
   "id": "3c1ee558",
   "metadata": {},
   "outputs": [
    {
     "name": "stdout",
     "output_type": "stream",
     "text": [
      "1678847765.264874 <class 'float'>\n",
      "1678847765.264874 <class 'str'>\n"
     ]
    }
   ],
   "source": [
    "# timestamp -> str\n",
    "\n",
    "import time\n",
    "\n",
    "t = time.time()\n",
    "print(t,type(t))\n",
    "\n",
    "s = str(t)\n",
    "print(s,type(s))"
   ]
  },
  {
   "cell_type": "code",
   "execution_count": 19,
   "id": "cdf9c13a",
   "metadata": {},
   "outputs": [
    {
     "name": "stdout",
     "output_type": "stream",
     "text": [
      "2023-03-15 11:38:51.273015 <class 'datetime.datetime'>\n",
      "2023-03-15 11:38:51\n"
     ]
    }
   ],
   "source": [
    "# datetime -> str\n",
    "\n",
    "from datetime import datetime\n",
    "\n",
    "s = datetime.now()\n",
    "print(s,type(s))\n",
    "\n",
    "print(s.strftime('%Y-%m-%d %H:%M:%S'))"
   ]
  },
  {
   "cell_type": "code",
   "execution_count": 21,
   "id": "52a0636e",
   "metadata": {},
   "outputs": [
    {
     "name": "stdout",
     "output_type": "stream",
     "text": [
      "2021-07-20 11:13:58 <class 'str'>\n",
      "2021-07-20 11:13:58 <class 'datetime.datetime'>\n"
     ]
    }
   ],
   "source": [
    "# str -> datetime\n",
    "\n",
    "from datetime import datetime\n",
    "s = \"2021-07-20 11:13:58\"\n",
    "\n",
    "print(s,type(s))\n",
    "\n",
    "d = datetime.strptime(s, \"%Y-%m-%d %H:%M:%S\")\n",
    "print(d, type(d))"
   ]
  },
  {
   "cell_type": "code",
   "execution_count": 23,
   "id": "953bea60",
   "metadata": {},
   "outputs": [
    {
     "name": "stdout",
     "output_type": "stream",
     "text": [
      "1626747238.0 <class 'float'>\n"
     ]
    }
   ],
   "source": [
    "# str -> datetime -> timestamp\n",
    "\n",
    "s = \"2021-07-20 11:13:58\"\n",
    "\n",
    "timestamp = time.mktime(datetime.strptime(s, \"%Y-%m-%d %H:%M:%S\").timetuple())\n",
    "print(timestamp,type(timestamp))"
   ]
  },
  {
   "cell_type": "code",
   "execution_count": 27,
   "id": "d24b0a34",
   "metadata": {},
   "outputs": [
    {
     "name": "stdout",
     "output_type": "stream",
     "text": [
      "2023-03-15 11:46:28.280988 <class 'datetime.datetime'>\n",
      "1678848388.0 <class 'float'>\n"
     ]
    }
   ],
   "source": [
    "# datetime -> timestamp\n",
    "\n",
    "d = datetime.today()\n",
    "print(d,type(d))\n",
    "\n",
    "t = time.mktime(d.timetuple())\n",
    "print(t,type(t))"
   ]
  },
  {
   "cell_type": "code",
   "execution_count": 30,
   "id": "a24086c5",
   "metadata": {},
   "outputs": [
    {
     "name": "stdout",
     "output_type": "stream",
     "text": [
      "time.struct_time(tm_year=2023, tm_mon=3, tm_mday=15, tm_hour=12, tm_min=4, tm_sec=42, tm_wday=2, tm_yday=74, tm_isdst=0)\n",
      "2023-01-01\n",
      "74\n",
      "오늘은 2023-01-01 이후 74일째 되는 날입니다.\n"
     ]
    }
   ],
   "source": [
    "# 올해 경과된 날짜수 계산하세요\n",
    "\n",
    "import time\n",
    "t = time.localtime() \n",
    "print(t)\n",
    "start_day = '%d-01-01' %t.tm_year    # t변수에서 연도를 갖고 온 것\n",
    "print(start_day) \n",
    "elabsed_day = t.tm_yday              # 경과된 날\n",
    "print(elabsed_day)\n",
    "print(f'오늘은 {start_day} 이후 {elabsed_day}일째 되는 날입니다.')\n"
   ]
  },
  {
   "cell_type": "code",
   "execution_count": 31,
   "id": "de05f7e7",
   "metadata": {},
   "outputs": [
    {
     "name": "stdout",
     "output_type": "stream",
     "text": [
      "2023-3-15 오늘은 수요일 입니다.\n"
     ]
    }
   ],
   "source": [
    "# 현재 요일을 \"2021-6-26 오늘은 토요일입니다.\"와 같은 형식으로 출력하세요.\n",
    "# pythom document 사용 필요\n",
    "\n",
    "import time\n",
    "\n",
    "weekdays = ['월','화','수','목','금','토','일']   # 월요일 0  (사전에서 이렇게 지정하고 있음)\n",
    "t = time.localtime()\n",
    "today = '%d-%d-%d' %(t.tm_year,t.tm_mon,t.tm_mday)\n",
    "week = weekdays[t.tm_wday]                             # tm_wday 요일, 월요일 0\n",
    "print(f'{today} 오늘은 {week}요일 입니다.')"
   ]
  },
  {
   "cell_type": "code",
   "execution_count": 8,
   "id": "124ded4e",
   "metadata": {},
   "outputs": [
    {
     "name": "stdout",
     "output_type": "stream",
     "text": [
      "2023-03-10 10:29:45.074473\n",
      "1에서 백만까지 더합니다.\n",
      "1에서 백만까지 더한 결과: 499999500000\n",
      "0:00:00.120977\n",
      "총 계산 시간: 0:00:00.120977\n",
      "총 계산 시간: 120ms\n"
     ]
    }
   ],
   "source": [
    "# 1000 밀리초(ms) = 1초\n",
    "# Q. 1에서 백만까지 더하는데 걸리는 프로그램 실행 시간을 밀리초(ms) 단위로 구하세요.\n",
    "from datetime import datetime\n",
    "\n",
    "start = datetime.now()\n",
    "print(start)\n",
    "print('1에서 백만까지 더합니다.')\n",
    "ret = 0\n",
    "for i in range(1000000):\n",
    "   ret += i\n",
    "print('1에서 백만까지 더한 결과: %d' %ret)\n",
    "end = datetime.now()\n",
    "elapsed = end - start\n",
    "print(elapsed)\n",
    "print('총 계산 시간: ', end='');print(elapsed)\n",
    "elapsed_ms = int(elapsed.total_seconds()*1000)\n",
    "print('총 계산 시간: %dms' %elapsed_ms)"
   ]
  },
  {
   "cell_type": "code",
   "execution_count": 9,
   "id": "2879060f",
   "metadata": {},
   "outputs": [
    {
     "name": "stdout",
     "output_type": "stream",
     "text": [
      "0\n",
      "1\n",
      "2\n",
      "3\n",
      "4\n"
     ]
    }
   ],
   "source": [
    "# time.sleep() : 일정한 시간 간격을 두고 루프를 실행할 수 있음\n",
    "\n",
    "import time\n",
    "for i in range(5):\n",
    "    print(i)\n",
    "    time.sleep(2)"
   ]
  },
  {
   "cell_type": "code",
   "execution_count": 2,
   "id": "96a3bb75",
   "metadata": {},
   "outputs": [
    {
     "name": "stdout",
     "output_type": "stream",
     "text": [
      "   December 2021\n",
      "Mo Tu We Th Fr Sa Su\n",
      "       1  2  3  4  5\n",
      " 6  7  8  9 10 11 12\n",
      "13 14 15 16 17 18 19\n",
      "20 21 22 23 24 25 26\n",
      "27 28 29 30 31\n",
      "None\n"
     ]
    }
   ],
   "source": [
    "import calendar\n",
    "print(calendar.prmonth(2021,12))"
   ]
  },
  {
   "cell_type": "code",
   "execution_count": 3,
   "id": "c898198b",
   "metadata": {},
   "outputs": [
    {
     "name": "stdout",
     "output_type": "stream",
     "text": [
      "4\n"
     ]
    }
   ],
   "source": [
    "# 요일(0 월요일 ~ 6 일요일)\n",
    "print(calendar.weekday(2021,12,31))\n"
   ]
  },
  {
   "cell_type": "code",
   "execution_count": 4,
   "id": "0af2f7f1",
   "metadata": {},
   "outputs": [
    {
     "data": {
      "text/plain": [
       "(5, 31)"
      ]
     },
     "execution_count": 4,
     "metadata": {},
     "output_type": "execute_result"
    }
   ],
   "source": [
    "# 1일의 요일, 날수\n",
    "calendar.monthrange(2022,1)"
   ]
  }
 ],
 "metadata": {
  "kernelspec": {
   "display_name": "Python 3 (ipykernel)",
   "language": "python",
   "name": "python3"
  },
  "language_info": {
   "codemirror_mode": {
    "name": "ipython",
    "version": 3
   },
   "file_extension": ".py",
   "mimetype": "text/x-python",
   "name": "python",
   "nbconvert_exporter": "python",
   "pygments_lexer": "ipython3",
   "version": "3.9.13"
  }
 },
 "nbformat": 4,
 "nbformat_minor": 5
}
