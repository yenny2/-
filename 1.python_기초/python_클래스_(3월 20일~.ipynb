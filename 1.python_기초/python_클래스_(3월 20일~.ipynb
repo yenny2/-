{
 "cells": [
  {
   "cell_type": "markdown",
   "id": "0481f058",
   "metadata": {},
   "source": [
    "#### 객체(object) 개념 정리 ( 신원/타입/속성/메소드/클래스/OOP)\n",
    "- 파이썬 프로그램에서 모든 데이터는 객체(object)라는 개념을 사용하여 저장됩니다.\n",
    "- 가장 기본이 되는 데이터 타입인 숫자, 문자열, 리스트, 사전은 다 객체입니다.\n",
    "- 클래스를 사용해서 사용자 정의 객체를 생성할 수도 있습니다.\n",
    "- 또한 프로그램의 구조와 인터프리터의 내부 동작과 관련된 객체들도 있습니다\n",
    "- 객체(object) : 프로그램에서 저장되는 모든 데이터는 객체입니다. 각 객체는 신원(identity), 타입(클래스라고도 함)과 값을 가집니다.\n",
    "  - 객체의 신원(identity) : 객체가 메모리에 저장된 위치를 가리키는 포인터\n",
    "  - 객체의 타입(클래스) : 객체의 내부적인 표현 형태와 객체가 지원하는 메서드 및 연산들을 설명, 특정 타입의 객체가 생성되면 그 객체를 그 타입의 인스턴스(instance)라고 부른다.\n",
    "  - 객체의 속성(attribute)와 메서드(method) : 속성(attribute)은 객체에 연결된 값이고 메서드(method)는 호출될 때 객체에 대해 특정 연산을 수행하는 함수\n",
    "  \n",
    "https://happy-obok.tistory.com/22"
   ]
  },
  {
   "cell_type": "markdown",
   "id": "fdb755ed",
   "metadata": {},
   "source": [
    "## 클래스 : 반복되는 변수&메서드를 미리 정해놓은 틀(설계도)\n",
    "\n",
    "클래스(class)란 똑같은 무엇인가를 계속해서 만들어 낼 수 있는 설계 도면이고(과자 틀), \n",
    "\n",
    "객체(object)란 클래스로 만든 피조물(과자 틀을 사용해 만든 과자)을 뜻한다.  \n",
    "\n",
    "과자 틀 → 클래스 (class)  \n",
    "과자 틀에 의해서 만들어진 과자 → 객체 (object)\n",
    "\n",
    "클래스: 제품의 설계도\n",
    "객체: 설계도로 만든 제품\n",
    "속성: 클래스 안의 변수\n",
    "메서드: 클래스 안의 함수\n",
    "생성자: 객체를 만들 때 가장 먼저 실행되는 함수\n",
    "인스턴스: 메모리에 살아있는 객체, 객체 안에 포함되어있는 개념\n",
    "\n",
    "\n",
    "- class : 함수 + 변수 모아놓은 것\n",
    "- 오브젝트(object) : 클래스를 써서 만든 것\n",
    "- 오브젝트(object) == 인스턴스(instance)\n",
    "- 클래스를 정의한 후, 그 클래스를 사용해서 데이터 객체(인스턴스)를 만들 수 있다.\n",
    "- 동일한 클래스에 의해 만들어진 각 객체들은 유사한 특징을 공유한다.\n",
    "- 모든 인스턴스에서 메소드(=코드)는 동일하지만, 속성(데이터)는 다르다.\n",
    "  * 메소드 : 코드 \n",
    "  * 속성 : 데이터 \n",
    "  * 인스턴스 : 클래스에 의해 만들어진 데이터 객체\n",
    "  * a = 클래스() 이렇게 만든 a는 객체이다. 그리고 a 객체는 클래스의 인스턴스이다. 즉 인스턴스라는 말은 특정 객체(a)가 어떤 클래스의 객체인지를 관계 위주로 설명할 때 사용\n",
    "  "
   ]
  },
  {
   "cell_type": "markdown",
   "id": "99f1f47c",
   "metadata": {},
   "source": [
    "### 클래스 만들기\n",
    "class 클래스이름:<br>\n",
    "    def 메서드이름(self):                 #self: 매개변수, 메서드들의 객체 자기 자신을 의미<br>\n",
    "        명령블록\n",
    "        \n",
    "실행방법\n",
    "\n",
    "객체 = 클래스이름()\n",
    "객체.메서드()"
   ]
  },
  {
   "cell_type": "code",
   "execution_count": 51,
   "id": "0fbf6900",
   "metadata": {},
   "outputs": [
    {
     "name": "stdout",
     "output_type": "stream",
     "text": [
      "나는 몬스터다\n"
     ]
    }
   ],
   "source": [
    "class Monster:\n",
    "    def say(self):\n",
    "        print(\"나는 몬스터다\")\n",
    "\n",
    "obj = Monster()\n",
    "obj.say()"
   ]
  },
  {
   "cell_type": "code",
   "execution_count": 52,
   "id": "5a0ab682",
   "metadata": {},
   "outputs": [
    {
     "name": "stdout",
     "output_type": "stream",
     "text": [
      "나는 몬스터이다\n",
      "나는 늑대이다\n"
     ]
    }
   ],
   "source": [
    "# 속성 추가하기\n",
    "\n",
    "class Monster:\n",
    "    def __init__(self,name):\n",
    "        self.name = name    #객체 자기 자체의 속성 name은 init함수로부터 받은 name으로 할당하겠다는 것\n",
    "    def say(self):\n",
    "        print(f\"나는 {self.name}이다\")  #\n",
    "        \n",
    "\n",
    "obj = Monster(\"몬스터\")                      # 제일 먼저 init함수 self == Monster, name == 몬스터\n",
    "obj.say()                                    # 위에서 몬스터로 속성 하나 만들었기 때문에 나는 몬스터이다 로 출력\n",
    "\n",
    "wolf = Monster(\"늑대\")\n",
    "wolf.say()\n"
   ]
  },
  {
   "cell_type": "code",
   "execution_count": 54,
   "id": "39503f23",
   "metadata": {},
   "outputs": [
    {
     "name": "stdout",
     "output_type": "stream",
     "text": [
      "나는 몬스터이고 7살이다\n",
      "나는 늑대이고 3살이다\n"
     ]
    }
   ],
   "source": [
    "class Monster:\n",
    "    def __init__(self,name,age):\n",
    "        self.name = name \n",
    "        self.age = age\n",
    "    def say(self):\n",
    "        print(f\"나는 {self.name}이고 {self.age}살이다\")  \n",
    "        \n",
    "\n",
    "obj = Monster(\"몬스터\", 7)                      \n",
    "wolf = Monster(\"늑대\", 3)\n",
    "obj.say()      \n",
    "wolf.say()\n"
   ]
  },
  {
   "cell_type": "code",
   "execution_count": 2,
   "id": "c0f2b08c",
   "metadata": {},
   "outputs": [
    {
     "name": "stdout",
     "output_type": "stream",
     "text": [
      "hmkd1 과정입니다.\n",
      "hmkd1\n"
     ]
    }
   ],
   "source": [
    "# 생성자(Consturctor)란 객체가 생성될 때 자동으로 호출되는 메서드를 의미\n",
    "# 파이썬 메서드 이름으로 __init__를 사용하면 이 메서드는 생성자가 된다.\n",
    "# 클래스 생성자(인자가 없는 경우)\n",
    "\n",
    "class Hmkd:\n",
    "    def __init__(self):\n",
    "        self.var = \"hmkd1\" # 인스턴스 멤버\n",
    "        print(\"hmkd1 과정입니다.\")\n",
    "obj = Hmkd()\n",
    "print(obj.var)"
   ]
  },
  {
   "cell_type": "code",
   "execution_count": 24,
   "id": "d95343a2",
   "metadata": {},
   "outputs": [
    {
     "name": "stdout",
     "output_type": "stream",
     "text": [
      "홍길동은 25세이며, computer을 전공했습니다.\n",
      "홍길순은 27세이며, business을 전공했습니다.\n",
      "홍길동\n",
      "business\n"
     ]
    }
   ],
   "source": [
    "# 클래스 생성자(인자가 있는 경우)\n",
    "class Hmkd:\n",
    "    def __init__ (self, name, age, major):    # 시작하다는 의미의 init\n",
    "        self.name = name\n",
    "        self.age = age\n",
    "        self.major = major\n",
    "        print(f'{self.name}은 {self.age}세이며, {self.major}을 전공했습니다.')\n",
    "              \n",
    "              \n",
    "# a = Hmkd()\n",
    "a = Hmkd('홍길동', 25, 'computer')\n",
    "b = Hmkd('홍길순',27,'business')\n",
    "print(a.name)\n",
    "print(b.major)"
   ]
  },
  {
   "cell_type": "code",
   "execution_count": 5,
   "id": "bf2b38b9",
   "metadata": {},
   "outputs": [
    {
     "name": "stdout",
     "output_type": "stream",
     "text": [
      "Hmkd 인스턴스 객체가 메모리에서 제거됩니다.\n"
     ]
    }
   ],
   "source": [
    "# 클래스 소멸자\n",
    "# 클래스 인스턴스 객체가 메모리에서 제거될 때 자동으로 호출되는 클래스 메소드\n",
    "\n",
    "class Hmkd:\n",
    "    def __del__(self):\n",
    "        print('Hmkd 인스턴스 객체가 메모리에서 제거됩니다.')\n",
    "obj = Hmkd()\n",
    "del obj"
   ]
  },
  {
   "cell_type": "markdown",
   "id": "ef8a437c",
   "metadata": {},
   "source": [
    "## 클래스 멤버, 클래스 메소드\n",
    "- 클래스를 구성하는 주요요소는 클래스 멤버(변수)와 클래스 메소드(함수)로 클래스 공간내에서 정의\n",
    "- 클래스 멤버는 클래스 메소드 내에서 정의되는 지역변수나 인스턴스 멤버와는 다름\n",
    "- 클래스 메소드는 첫번째 인자가 반드시 self로 시작\n",
    "- self는 이 클래스의 인스턴스 객체를 가리키는 참조자\n",
    "- 인스턴스 객체에서 클래스 메소드를 호출 시 첫번째 인자인 self 생략"
   ]
  },
  {
   "cell_type": "code",
   "execution_count": 8,
   "id": "2e5fc56e",
   "metadata": {},
   "outputs": [
    {
     "name": "stdout",
     "output_type": "stream",
     "text": [
      "안녕하세요\n",
      "안녕하세요\n"
     ]
    }
   ],
   "source": [
    "class MyClass:\n",
    "    var = '안녕하세요' #클래스 멤버\n",
    "    def sayHello(self): # 클래스 메소드\n",
    "        return self.var\n",
    "    \n",
    "obj = MyClass()   # 생성자가 없고 정의된 것도 없어서 그래서 출력 안되는 것\n",
    "print(obj.var)\n",
    "print(obj.sayHello())\n",
    "# print(obj.var)   \n",
    "# print(obj.sayHello())\n",
    "\n",
    "\n",
    "\n",
    "# 지역변수, 전역변수 global 함수가 있을 때,\n",
    "# 변수가 쓸 수 있는 경우는 1) return 사용 2)글로벌 변수 선언 "
   ]
  },
  {
   "cell_type": "code",
   "execution_count": 9,
   "id": "a0e56fd1",
   "metadata": {},
   "outputs": [
    {
     "name": "stdout",
     "output_type": "stream",
     "text": [
      "hmkd1 과정입니다.\n",
      "안녕하세요\n",
      "안녕하세요\n"
     ]
    }
   ],
   "source": [
    "class MyClass:\n",
    "    var = '안녕하세요' # 클래스 멤버\n",
    "    def __init__(self): # 생성자는 객체 만들 때 자동으로 호출\n",
    "        self.name='hmkd1' # 지역변수, 인스턴스 멤버       \n",
    "        print(f'{self.name} 과정입니다.')\n",
    "    def sayHello(self): # 클래스 메소드        \n",
    "        return self.var\n",
    "obj = MyClass()         # 생성자에서 자동으로 호출\n",
    "print(obj.var)\n",
    "print(obj.sayHello())\n",
    "\n",
    "# 함수 안에 있는 함수들을 클래스 멤버, 지역변수라고 함. "
   ]
  },
  {
   "cell_type": "code",
   "execution_count": 10,
   "id": "c7b3df9c",
   "metadata": {},
   "outputs": [
    {
     "name": "stdout",
     "output_type": "stream",
     "text": [
      "안녕\n",
      "안녕하세요\n"
     ]
    }
   ],
   "source": [
    "# 클래스 멤버와 인스턴스 멤버\n",
    "# 클래스 멤버는 클래스 메소드 바깥에서 선언되고 인스턴스 멤버는 클래스 메소드 안에서 self와 함께 선언\n",
    "\n",
    "class MyClass:\n",
    "    var = '안녕하세요' # 클래스 멤버\n",
    "    def sayHello(self): # 클레스 메소드\n",
    "        param1 = '안녕' # 지역 변수\n",
    "        self.param2 = '하이' # 인스턴스 멤버\n",
    "        print(param1)\n",
    "#         print(var)\n",
    "        print(self.var)\n",
    "        \n",
    "obj = MyClass()\n",
    "# print(obj.var)\n",
    "obj.sayHello()\n",
    "\n",
    "# obj.param1"
   ]
  },
  {
   "cell_type": "code",
   "execution_count": 29,
   "id": "a6c354a5",
   "metadata": {},
   "outputs": [
    {
     "name": "stdout",
     "output_type": "stream",
     "text": [
      "안녕하세요\n",
      "kevin! 다음에 보자\n"
     ]
    }
   ],
   "source": [
    "# 클래스 메소드\n",
    "# 클래스 내에서 정의되는 클래스 메소드는 첫 번째 인자가 반드시 self여야 한다.\n",
    "class MyClass:\n",
    "    def sayHello(self):\n",
    "        print('안녕하세요')\n",
    "    def sayBye(self,name):\n",
    "        print(f'{name}! 다음에 보자')\n",
    "        \n",
    "obj=MyClass()\n",
    "obj.sayHello()\n",
    "obj.sayBye('kevin')"
   ]
  },
  {
   "cell_type": "code",
   "execution_count": 4,
   "id": "ae4e19b4",
   "metadata": {},
   "outputs": [
    {
     "name": "stdout",
     "output_type": "stream",
     "text": [
      "안녕하세요. kevin님, 업무미팅은 2시입니다.\n"
     ]
    }
   ],
   "source": [
    "# 메소드 작성. 클래스 변수와 인스턴스 변수를 모두 자유롭게 사용\n",
    "# Q. 업무미팅이 2시임을 알려주는 자동 이메일을 클래스 AutoEmail을 작성하여 아래와 같이 출력하세요.\n",
    "# 안녕하세요. kevin님, 업무미팅은 2시입니다.\n",
    "\n",
    "\n",
    "class AutoEmail:\n",
    "    def __init__(self, name, time):\n",
    "        self.name = name\n",
    "        self.time = time\n",
    "    def a(self):\n",
    "        print(f\"안녕하세요. {self.name}님, 업무미팅은 {self.time}시입니다.\")\n",
    "        \n",
    "al = AutoEmail(\"kevin\", 2)\n",
    "al.a()\n",
    "        "
   ]
  },
  {
   "cell_type": "code",
   "execution_count": 6,
   "id": "6f9a4dd4",
   "metadata": {},
   "outputs": [
    {
     "name": "stdout",
     "output_type": "stream",
     "text": [
      "안녕하세요. kevin님, 업무미팅은 2시입니다.\n",
      "None\n",
      "안녕하세요. James님, 업무미팅은 5시입니다.\n",
      "None\n"
     ]
    }
   ],
   "source": [
    "class AutoEmail:\n",
    "    def __init__(self, name, time):\n",
    "        self.name = name\n",
    "        self.time = time\n",
    "    def a(self):\n",
    "        print(f\"안녕하세요. {self.name}님, 업무미팅은 {self.time}시입니다.\")\n",
    "        \n",
    "al1 = AutoEmail(\"kevin\", 2)\n",
    "al2 = AutoEmail(\"James\", 5)\n",
    "print(al1.a())\n",
    "print(al2.a())\n"
   ]
  },
  {
   "cell_type": "code",
   "execution_count": 7,
   "id": "9ac677cc",
   "metadata": {},
   "outputs": [
    {
     "name": "stdout",
     "output_type": "stream",
     "text": [
      "안녕하세요. kevin님, 업무미팅은 2시입니다.\n",
      "안녕하세요. James님, 업무미팅은 5시입니다.\n"
     ]
    }
   ],
   "source": [
    "# 위 None을 지우기 위해서는 a 함수에 리턴값이 필요해서?\n",
    "\n",
    "class AutoEmail:\n",
    "    def __init__(self, name, time):\n",
    "        self.name = name\n",
    "        self.time = time\n",
    "    def a(self):\n",
    "        return f\"안녕하세요. {self.name}님, 업무미팅은 {self.time}시입니다.\"\n",
    "        \n",
    "al1 = AutoEmail(\"kevin\", 2)\n",
    "al2 = AutoEmail(\"James\", 5)\n",
    "print(al1.a())\n",
    "print(al2.a())"
   ]
  },
  {
   "cell_type": "code",
   "execution_count": 3,
   "id": "a04975bd",
   "metadata": {},
   "outputs": [
    {
     "name": "stdout",
     "output_type": "stream",
     "text": [
      "생성자를 만들었습니다.\n",
      "안녕하세요\n",
      "kevin! 다음에 보자\n"
     ]
    }
   ],
   "source": [
    "# 생성자를 추가하여 아래와 같이 출력하세요.\n",
    "\n",
    "class MyClass:\n",
    "    def __init__(self):\n",
    "        print(\"생성자를 만들었습니다.\")\n",
    "    def sayHello(self):\n",
    "        print(\"안녕하세요\")\n",
    "    def sayBye(self,name):\n",
    "        print(f'{name}! 다음에 보자')\n",
    "        \n",
    "obj = MyClass()\n",
    "obj.sayHello()\n",
    "obj.sayBye('kevin')"
   ]
  },
  {
   "cell_type": "code",
   "execution_count": 30,
   "id": "2e0e3b21",
   "metadata": {},
   "outputs": [
    {
     "name": "stdout",
     "output_type": "stream",
     "text": [
      "kevin, 안녕하세요\n",
      "kevin! 다음에 봐요.\n"
     ]
    }
   ],
   "source": [
    "# Q. 생성자를 추가하여 아래와 같이 출력하세요.\n",
    "class myclass:\n",
    "    def __init__(self,name):         # 공통으로 들어가는 것을 생성자에서 셋팅\n",
    "        self.name = name\n",
    "        \n",
    "    def sayHello(self):\n",
    "        print(f'{self.name}, 안녕하세요')\n",
    "    \n",
    "    def saybye(self):\n",
    "        print(f'{self.name}! 다음에 봐요.')\n",
    "        \n",
    "obj = myclass('kevin')\n",
    "obj.sayHello()\n",
    "obj.saybye()"
   ]
  },
  {
   "cell_type": "code",
   "execution_count": 14,
   "id": "7f9f8808",
   "metadata": {},
   "outputs": [
    {
     "name": "stdout",
     "output_type": "stream",
     "text": [
      "0 \n",
      "\n",
      "1 honux\n",
      "1 1 \n",
      "\n",
      "2 crong\n",
      "2 2 2\n"
     ]
    }
   ],
   "source": [
    "# 클래스 변수와 인스턴스 변수 비교\n",
    "\n",
    "class User:\n",
    "    num_users = 0               # class 변수\n",
    "    def __init__(self, name):\n",
    "        self.name = name         # 인스턴스 변수\n",
    "        User.num_users += 1\n",
    "        \n",
    "print(User.num_users,'\\n')\n",
    "        \n",
    "u = User('honux')\n",
    "print(User.num_users, u.name)\n",
    "print(User.num_users, u.num_users,'\\n')\n",
    "\n",
    "u2 = User('crong')\n",
    "print(User.num_users, u2.name)\n",
    "\n",
    "print(User.num_users, u.num_users, u2.num_users)\n",
    "       "
   ]
  },
  {
   "cell_type": "code",
   "execution_count": 15,
   "id": "cdac2c2c",
   "metadata": {},
   "outputs": [
    {
     "name": "stdout",
     "output_type": "stream",
     "text": [
      "['__class__', '__delattr__', '__dict__', '__dir__', '__doc__', '__eq__', '__format__', '__ge__', '__getattribute__', '__gt__', '__hash__', '__init__', '__init_subclass__', '__le__', '__lt__', '__module__', '__ne__', '__new__', '__reduce__', '__reduce_ex__', '__repr__', '__setattr__', '__sizeof__', '__str__', '__subclasshook__', '__weakref__', 'name', 'num_users']\n"
     ]
    }
   ],
   "source": [
    "# 파이썬에서는 모든게 다 객체\n",
    "#dir()은 어떤 객체를 인자로 넣어주면 해당 객체가 어떤 메서드를 가지고 있는지 반환\n",
    "\n",
    "print(dir(u))"
   ]
  },
  {
   "cell_type": "markdown",
   "id": "58b1e4e8",
   "metadata": {},
   "source": [
    "## 객체 지향 프로그래밍 (Object-Oriented Programming)\n",
    "- 클래스 인스턴스는 객체(object)라고도 하며, 이렇게 클래스를 정의하고 객체를 만드는 패턴을 객체 지향 프로그래밍(OOP)이라고 함\n",
    "- 인스턴스를 불러온다는 건 클래스를 가져와 객체로 바꿔준다는 건데, type() 함수를 사용하는 건 그 반대\n",
    "- 객체의 type을 확인해보면 해당 객체가 어떤 클래스의 인스턴스인지를 확인\n",
    "- 파이썬에서 __main__은 “현재 실행 중인 파일”을 의미"
   ]
  },
  {
   "cell_type": "code",
   "execution_count": 31,
   "id": "459a9867",
   "metadata": {},
   "outputs": [
    {
     "name": "stdout",
     "output_type": "stream",
     "text": [
      "<class '__main__.Test'>\n"
     ]
    }
   ],
   "source": [
    "# Q. 임의의 클래스를 작성한 후 인스턴스를 생성하고 그것의 타입을 확인하세요.\n",
    "class Test:\n",
    "    pass\n",
    "\n",
    "test = Test()\n",
    "print(type(test))"
   ]
  },
  {
   "cell_type": "markdown",
   "id": "12e9d3ae",
   "metadata": {},
   "source": [
    "## 클래스 상속\n",
    "- 어떤 클래스가 가지고 있는 모든 멤버나 메소드를 상속받는 클래스가 모두 사용할 수 있도록 해주는 것. \n",
    "- 상속을 해주는 클래스가 부모클래스(슈퍼), 상속을 받는 클래스가 자식클래스(서브)라 함: class 자식클래스(부모클래스)\n",
    "- 자식클래스는 여러 부모클래스로 부터 상속받을 수 있으며 다중상속이라 함. class 자식클래스(부모클래스1, 부모클래스2,..)"
   ]
  },
  {
   "cell_type": "code",
   "execution_count": 32,
   "id": "aaed0d1f",
   "metadata": {},
   "outputs": [
    {
     "name": "stdout",
     "output_type": "stream",
     "text": [
      "3\n",
      "6\n"
     ]
    }
   ],
   "source": [
    "class Sum:\n",
    "    def sum(self,n1,n2):\n",
    "        return n1+n2\n",
    "    \n",
    "class Mul:\n",
    "    def mul(self,n1,n2):\n",
    "        return n1*n2\n",
    "    \n",
    "class Cal(Sum,Mul):\n",
    "    def sub(self,n1,n2):\n",
    "        return n1 - n2\n",
    "    \n",
    "obj = Cal()\n",
    "print(obj.sum(1,2))\n",
    "print(obj.mul(3,2))"
   ]
  },
  {
   "cell_type": "code",
   "execution_count": 61,
   "id": "3477582d",
   "metadata": {},
   "outputs": [
    {
     "name": "stdout",
     "output_type": "stream",
     "text": [
      "숫자를 입력해주세요: 10\n"
     ]
    },
    {
     "data": {
      "text/plain": [
       "1010"
      ]
     },
     "execution_count": 61,
     "metadata": {},
     "output_type": "execute_result"
    }
   ],
   "source": [
    "# [과제] 사용자 함수를 작성하여 기본가격 1000에 입력 받은 값을 추가한 가격을 산출하세요. (지역변수, 전역변수 2가지 방법) \n",
    "# return 사용, global 변수 사용 두가지 경우로 수행\n",
    "\n",
    "# 지역변수\n",
    "\n",
    "def add():\n",
    "    sum = 1000\n",
    "    i = int(input(\"숫자를 입력해주세요: \"))\n",
    "    sum += i\n",
    "    return sum\n",
    "\n",
    "add()"
   ]
  },
  {
   "cell_type": "code",
   "execution_count": 70,
   "id": "e49819f1",
   "metadata": {},
   "outputs": [
    {
     "name": "stdout",
     "output_type": "stream",
     "text": [
      "숫자를 입력해주세요: 50\n",
      "1050\n"
     ]
    }
   ],
   "source": [
    "#전역변수 \n",
    "\n",
    "sum = 1000\n",
    "i = int(input(\"숫자를 입력해주세요: \"))\n",
    "\n",
    "def add():\n",
    "    global sum             # 글로벌 뒤에 변수 선언만 \n",
    "    sum += i\n",
    "    print(sum)\n",
    "    \n",
    "add()                    "
   ]
  },
  {
   "cell_type": "code",
   "execution_count": 71,
   "id": "e1b4f8c4",
   "metadata": {},
   "outputs": [
    {
     "name": "stdout",
     "output_type": "stream",
     "text": [
      "숫자를 입력해주세요: 50\n",
      "1050\n"
     ]
    }
   ],
   "source": [
    "#전역변수 \n",
    "\n",
    "sum = 1000\n",
    "i = int(input(\"숫자를 입력해주세요: \"))\n",
    "\n",
    "def add():\n",
    "    global sum             # 글로벌 뒤에 변수 선언만 \n",
    "    sum += i\n",
    "    \n",
    "add()                    \n",
    "print(sum)"
   ]
  },
  {
   "cell_type": "code",
   "execution_count": 56,
   "id": "5870a296",
   "metadata": {},
   "outputs": [
    {
     "name": "stdout",
     "output_type": "stream",
     "text": [
      "상품 A의 추가 가격을 입력해주세요: 500\n",
      "상품 B의 추가 가격을 입력해주세요: 20\n",
      "상품 C의 추가 가격을 입력해주세요: 30\n",
      "상품 A,B,C의 가격은 각 1500,1020,1030입니다.\n"
     ]
    }
   ],
   "source": [
    "# [과제] 기본가격 1000원인 3개의 상품에 대하여 임의의 추가 가격을 인수로 대입 시 더한 가격을 산출하세요\n",
    "# (클래스를 이용)\n",
    "\n",
    "class prod:\n",
    "    def plus(self,x,X):\n",
    "        p=int(input(f\"상품 {X}의 추가 가격을 입력해주세요: \"))\n",
    "        return x+p\n",
    "\n",
    "a,b,c=1000,1000,1000        \n",
    "pd=prod()\n",
    "\n",
    "a=pd.plus(a,'A')\n",
    "b=pd.plus(b,'B')\n",
    "c=pd.plus(c,'C')\n",
    "\n",
    "print(f\"상품 A,B,C의 가격은 각 {a},{b},{c}입니다.\")"
   ]
  },
  {
   "cell_type": "code",
   "execution_count": 57,
   "id": "4fc854b6",
   "metadata": {},
   "outputs": [
    {
     "ename": "TypeError",
     "evalue": "__init__() missing 1 required positional argument: 'data'",
     "output_type": "error",
     "traceback": [
      "\u001b[1;31m---------------------------------------------------------------------------\u001b[0m",
      "\u001b[1;31mTypeError\u001b[0m                                 Traceback (most recent call last)",
      "\u001b[1;32m~\\AppData\\Local\\Temp\\ipykernel_8252\\1686507869.py\u001b[0m in \u001b[0;36m<module>\u001b[1;34m\u001b[0m\n\u001b[0;32m      6\u001b[0m         \u001b[0mp\u001b[0m\u001b[1;33m=\u001b[0m\u001b[0mint\u001b[0m\u001b[1;33m(\u001b[0m\u001b[0minput\u001b[0m\u001b[1;33m(\u001b[0m\u001b[1;34mf\"상품 {X}의 추가 가격을 입력해주세요: \"\u001b[0m\u001b[1;33m)\u001b[0m\u001b[1;33m)\u001b[0m\u001b[1;33m\u001b[0m\u001b[1;33m\u001b[0m\u001b[0m\n\u001b[0;32m      7\u001b[0m         \u001b[1;32mreturn\u001b[0m \u001b[0mx\u001b[0m\u001b[1;33m+\u001b[0m\u001b[0mp\u001b[0m\u001b[1;33m\u001b[0m\u001b[1;33m\u001b[0m\u001b[0m\n\u001b[1;32m----> 8\u001b[1;33m \u001b[0ma\u001b[0m \u001b[1;33m=\u001b[0m \u001b[0mSum\u001b[0m\u001b[1;33m(\u001b[0m\u001b[1;33m)\u001b[0m\u001b[1;33m\u001b[0m\u001b[1;33m\u001b[0m\u001b[0m\n\u001b[0m\u001b[0;32m      9\u001b[0m \u001b[1;33m\u001b[0m\u001b[0m\n\u001b[0;32m     10\u001b[0m \u001b[0mprint\u001b[0m\u001b[1;33m(\u001b[0m\u001b[0ma\u001b[0m\u001b[1;33m.\u001b[0m\u001b[0mA\u001b[0m\u001b[1;33m(\u001b[0m\u001b[1;36m500\u001b[0m\u001b[1;33m)\u001b[0m\u001b[1;33m)\u001b[0m\u001b[1;33m\u001b[0m\u001b[1;33m\u001b[0m\u001b[0m\n",
      "\u001b[1;31mTypeError\u001b[0m: __init__() missing 1 required positional argument: 'data'"
     ]
    }
   ],
   "source": [
    "# 생성자 - 수정\n",
    "class Sum:\n",
    "    def __init__(self,data):\n",
    "        self.data = data\n",
    "   \n",
    "a = Sum()\n",
    "\n",
    "print(a.A(500))\n",
    "print(a.B(1000))\n",
    "print(a.C(5000))"
   ]
  },
  {
   "cell_type": "code",
   "execution_count": 41,
   "id": "72f9bc53",
   "metadata": {},
   "outputs": [
    {
     "name": "stdout",
     "output_type": "stream",
     "text": [
      "1500\n",
      "2000\n",
      "2500\n"
     ]
    }
   ],
   "source": [
    "# 클래스 메소드\n",
    "class sumi:\n",
    "    def A(self, data):\n",
    "        return data+1000\n",
    "    def B(self, data):\n",
    "        return data+1000\n",
    "    def C(self, data):\n",
    "        return data+1000\n",
    "a=sumi()\n",
    "print(a.A(500))\n",
    "print(a.B(1000))\n",
    "print(a.C(1500))"
   ]
  },
  {
   "cell_type": "code",
   "execution_count": 58,
   "id": "5126a6bb",
   "metadata": {},
   "outputs": [
    {
     "name": "stdout",
     "output_type": "stream",
     "text": [
      "2000\n",
      "3000\n",
      "4000\n"
     ]
    }
   ],
   "source": [
    "class Order:\n",
    "    def __init__(self):\n",
    "        self.p = 1000\n",
    "    \n",
    "    def order(self,price):\n",
    "        self.p += price\n",
    "        return self.p\n",
    "\n",
    "pd1 = Order()\n",
    "pd2 = Order()\n",
    "pd3 = Order()\n",
    "\n",
    "print(pd1.order(1000))\n",
    "print(pd2.order(2000))\n",
    "print(pd3.order(3000))"
   ]
  },
  {
   "cell_type": "code",
   "execution_count": 59,
   "id": "1da71dc6",
   "metadata": {},
   "outputs": [
    {
     "name": "stdout",
     "output_type": "stream",
     "text": [
      "추가 가격을 입력\n",
      ">50\n",
      "-price1 : 1050\n",
      "-price2 : 945\n"
     ]
    }
   ],
   "source": [
    "# [과제]  기본가격 1000원인 2개의 상품에 대하여 임의의 추가 가격을 입력시 아래 두개의 방식으로 산출하세요\n",
    "# (class 이용)\n",
    "# - price1 : 기본가격 + 추가가격\n",
    "# - price2 : (기본가격 + 추가가격) * 90% \n",
    "\n",
    "class PlusPrice2:\n",
    "    def __init__(self, plus):\n",
    "        self.price1 = 1000 + plus\n",
    "        self.price2 = (1000 + plus) * 0.9\n",
    "        \n",
    "a = int(input(\"추가 가격을 입력\\n>\"))\n",
    "\n",
    "result = PlusPrice2(a)\n",
    "print(f\"-price1 : {result.price1}\\n-price2 : {result.price2 :.0f}\")"
   ]
  },
  {
   "cell_type": "code",
   "execution_count": 61,
   "id": "bf72a0fc",
   "metadata": {},
   "outputs": [
    {
     "name": "stdout",
     "output_type": "stream",
     "text": [
      "추가가격> 500\n",
      "- price1 : 1500\n",
      "- price2 : 1350\n"
     ]
    }
   ],
   "source": [
    "# 클래스 메소드\n",
    "class Price:\n",
    "    p = int(input('추가가격> '))\n",
    "    def setprice(self, p):\n",
    "        self.p = p\n",
    "    def sum(self):\n",
    "        b = 1000\n",
    "        b += self.p \n",
    "        return b\n",
    "    def discount(self):\n",
    "        b = 1000\n",
    "        b += self.p\n",
    "        b *= 0.9\n",
    "        return b\n",
    "    \n",
    "price1 = Price()\n",
    "price2 = Price()\n",
    "print(f'- price1 : {price1.sum()}')\n",
    "print(f'- price2 : {price2.discount() :.0f}')"
   ]
  },
  {
   "cell_type": "code",
   "execution_count": 7,
   "id": "6fdd2399",
   "metadata": {},
   "outputs": [
    {
     "name": "stdout",
     "output_type": "stream",
     "text": [
      "1200\n",
      "200000\n",
      "800\n",
      "5.0\n"
     ]
    }
   ],
   "source": [
    "# [과제]  4칙 연산 기능을 포함한 Cal4 클래스(생성자 이용)를 작성하고 이 클래스를 이용하여 cal 계산기 객체를 \n",
    "# 만든 후 두개의 수  1000, 200에 대한 사칙연산을 수행하세요.\n",
    "\n",
    "class Cal4:\n",
    "    def __init__(self, first, second):\n",
    "        self.first = first\n",
    "        self.second = second\n",
    "    def setdata(self,first,second):            # 두 숫자 입력받는 메서드 \n",
    "        self.first = first\n",
    "        self.second = second\n",
    "        \n",
    "    def sum(self):\n",
    "        result = self.first + self.second\n",
    "        return result\n",
    "    \n",
    "    def mul(self):\n",
    "        result = self.first * self.second\n",
    "        return result\n",
    "    \n",
    "    def sub(self):\n",
    "        result = self.first - self.second\n",
    "        return result\n",
    "    \n",
    "    def div(self):\n",
    "        result = self.first / self.second\n",
    "        return result\n",
    "\n",
    "obj = Cal4(1000,200)\n",
    "print(obj.sum())\n",
    "print(obj.mul())\n",
    "print(obj.sub())\n",
    "print(obj.div())"
   ]
  },
  {
   "cell_type": "code",
   "execution_count": 45,
   "id": "86b7c945",
   "metadata": {},
   "outputs": [
    {
     "name": "stdout",
     "output_type": "stream",
     "text": [
      "덧셈: 1200\n",
      "뺄셈: 800\n",
      "곱셈: 200000\n",
      "나눗셈: 5.0\n"
     ]
    }
   ],
   "source": [
    "class Cal4:\n",
    "    def __init__(self, num1, num2):\n",
    "        self.num1 = num1\n",
    "        self.num2 = num2\n",
    "    \n",
    "    def add(self):\n",
    "        return self.num1 + self.num2\n",
    "    def sub(self):\n",
    "        return self.num1 - self.num2\n",
    "    def mul(self):\n",
    "        return self.num1 * self.num2\n",
    "    def div(self):\n",
    "        return self.num1 / self.num2\n",
    "    \n",
    "cal = Cal4(1000, 200)\n",
    "print(f'덧셈: {cal.add()}')\n",
    "print(f'뺄셈: {cal.sub()}')\n",
    "print(f'곱셈: {cal.mul()}')\n",
    "print(f'나눗셈: {cal.div()}')"
   ]
  },
  {
   "cell_type": "code",
   "execution_count": 48,
   "id": "10a21251",
   "metadata": {},
   "outputs": [
    {
     "name": "stdout",
     "output_type": "stream",
     "text": [
      "입력1> 0\n",
      "입력2> 6\n",
      "0이 아닌 수를 입력하세요!\n",
      "입력1> 6\n",
      "입력2> 30\n",
      "덧셈: 36, 뺄셈: -24, 곱셈: 180, 나눗셈: 0.2\n"
     ]
    }
   ],
   "source": [
    "# Q. 두 개의 수를 입력한 후 두 개의 수에 대한 사칙연상을 수행하세요.\n",
    "\n",
    "class Cal4:\n",
    "  \n",
    "    def __init__(self,first,second):\n",
    "        self.first = first\n",
    "        self.second = second\n",
    "    def sum(self):\n",
    "        result = self.first + self.second\n",
    "        return result\n",
    "    def sub(self):\n",
    "        result = self.first - self.second\n",
    "        return result\n",
    "    def mul(self):\n",
    "        result = self.first * self.second\n",
    "        return result\n",
    "    def div(self):\n",
    "        result = round(self.first / self.second, 2)\n",
    "        return result\n",
    "\n",
    "while 1:\n",
    "    first = int(input('입력1> '))\n",
    "    second = int(input('입력2> '))\n",
    "    if first == 0 or second == 0:\n",
    "        print('0이 아닌 수를 입력하세요!')\n",
    "    else:\n",
    "        cal = Cal4(first,second)\n",
    "        print(f'덧셈: {cal.sum()}, 뺄셈: {cal.sub()}, 곱셈: {cal.mul()}, 나눗셈: {cal.div()}')\n",
    "        break"
   ]
  },
  {
   "cell_type": "markdown",
   "id": "565654b5",
   "metadata": {},
   "source": [
    "### 사칙연산 만들 때 배경 생각하기\n",
    "\n",
    "1. 클래스를 어떻게 만들지 구상하기<br>\n",
    "(1) 더하기 기능 : add 메서드<br>\n",
    "(2) 빼기 기능 : sub 메서드<br>\n",
    "(3) 곱하기 기능 : mul 메서드<br>\n",
    "(4) 나누기 기능 : div 메서드<br>\n",
    "(5) 두 숫자 입력받기 : setdata 메서드<br>\n",
    "\n",
    "\n",
    "2. 어떻게 동작하는가 ?<br>\n",
    "사칙연산을 가능하게 하는 FourCal 클래스가 다음처럼 동작한다고 가정해보자.<br>\n",
    "(1) a = FourCal( ) : a라는 객체 만들기<br>\n",
    "(2) a.setdata(4, 2) : 숫자 4와 2를 a에 지정<br>\n",
    "(3) a.add()를 실행하면 6<br>\n",
    "a.sub()를 실행하면 2<br>\n",
    "a.mul()을 실행하면 8<br>\n",
    "a.div()를 실행하면 2<br>"
   ]
  },
  {
   "cell_type": "markdown",
   "id": "86b892bc",
   "metadata": {},
   "source": [
    "### 연산자 오버로딩\n",
    "파이썬에서는 연산자 오버로딩(Operator Overloading)을 지원합니다. 이는 사용자 정의 객체에 대해 내장 연산자를 사용할 수 있게 해주는 기능입니다.\n",
    "\n",
    "예를 들어, 두 개의 객체를 더하는 경우 + 연산자를 사용합니다. 이때, 더하기 연산자는 내부적으로 add() 메소드를 호출합니다.<br> 따라서, 클래스 내에 add() 메소드를 정의하여 객체 간 덧셈을 구현할 수 있습니다.\n",
    "\n",
    "연산자를 객체끼리 사용할 수 있게 하는 기법<br>\n",
    "연산자를 객체에 사용하면 add 라는 함수가 호출됨(* mul)<br>\n",
    "https://planbs.tistory.com/entry/Python-%EC%97%B0%EC%82%B0%EC%9E%90-%EC%98%A4%EB%B2%84%EB%A1%9C%EB%94%A9"
   ]
  },
  {
   "cell_type": "code",
   "execution_count": 49,
   "id": "408a658e",
   "metadata": {},
   "outputs": [
    {
     "name": "stdout",
     "output_type": "stream",
     "text": [
      "8\n",
      "8\n"
     ]
    }
   ],
   "source": [
    "# 어떤 값에 대해 ‘+’, ‘-‘, ‘*=’, ‘>>’ 등의 연산자를 취하는 것은 내부적으로 \n",
    "# ‘__add__’, ‘__sub__’, ‘__imul__’, ‘__rshift__’ 메소드를 실행하는 것과 동일\n",
    "# 3 + 5  # 내부적으로 (3).__add__(5)를 실행 \n",
    "print(3+5)\n",
    "print((3).__add__(5))"
   ]
  },
  {
   "cell_type": "code",
   "execution_count": 51,
   "id": "d7d6b370",
   "metadata": {},
   "outputs": [],
   "source": [
    "# 연산자 오버로딩\n",
    "# 연산자를 객체끼리 사용할 수 있게 하는 기법\n",
    "# + 연산자를 객체에 사용하면 __add__ 라는 함수가 호출됨(* __mul__)\n",
    "\n",
    "# Q. 연산자 오버로딩을 이용하여 class HouseLee: 를 만들고 아래와 같이 출력하세요.\n",
    "\n",
    "# 이몽룡, 성춘향 사랑에 빠졌네\n",
    "# 이몽룡, 성춘향 결혼했네"
   ]
  },
  {
   "cell_type": "code",
   "execution_count": 66,
   "id": "00a1bcd2",
   "metadata": {},
   "outputs": [
    {
     "name": "stdout",
     "output_type": "stream",
     "text": [
      "이몽룡, 성춘향 사랑에 빠졌네\n",
      "이몽룡, 성춘향 결혼했네\n"
     ]
    }
   ],
   "source": [
    "# A.\n",
    "class HouseLee:\n",
    "    def __init__(self, name):\n",
    "        self.name = name\n",
    "    def travel(self, where):\n",
    "        print('%s, %s 여행을 가다.' % (self.name, where))\n",
    "    def love(self, other):\n",
    "        print('%s, %s 사랑에 빠졌네' % (self.name, other.name))\n",
    "    def __add__(self, other):\n",
    "        print('%s, %s 결혼했네' % (self.name, other.name))\n",
    "        \n",
    "class HouseSung(HouseLee): # HouseLee 클래스 상속\n",
    "    lastname = '성'\n",
    "    def travel(self, where, day):\n",
    "        print('%s, %s 여행 %d일 가네.' % (self.name, where, day))\n",
    "    \n",
    "mr = HouseLee('이몽룡')\n",
    "ch = HouseSung('성춘향')\n",
    "mr.love(ch)\n",
    "mr + ch"
   ]
  },
  {
   "cell_type": "code",
   "execution_count": 53,
   "id": "4f239391",
   "metadata": {},
   "outputs": [
    {
     "name": "stdout",
     "output_type": "stream",
     "text": [
      "x:5, y:7, z:9\n"
     ]
    }
   ],
   "source": [
    "# 내장된 특수한 함수와 변수를 나타낸다. \n",
    "# init은 클래스의 생성자 함수이며, add 함수는 연산자 오버로드용으로 사용\n",
    "class vector: \n",
    "    def __init__(self, x,y,z): \n",
    "        self.x = x \n",
    "        self.y = y \n",
    "        self.z = z \n",
    "    def __add__(self, other): \n",
    "        x_ = self.x + other.x \n",
    "        y_ = self.y + other.y \n",
    "        z_ = self.z + other.z \n",
    "        return vector(x_,y_,z_) \n",
    "    def show(self): \n",
    "        print(f\"x:{self.x}, y:{self.y}, z:{self.z}\")\n",
    "\n",
    "v1 = vector(1,2,3)\n",
    "v2 = vector(4,5,6)\n",
    "v3 = v1 + v2 \n",
    "v3.show()"
   ]
  },
  {
   "cell_type": "markdown",
   "id": "4dd13a53",
   "metadata": {},
   "source": [
    "## 메소드 오버라이딩\n",
    "파이썬에서 메소드 오버라이딩(overriding)은 자식 클래스(subclass)에서 부모 클래스(parent class)의 메소드를 재정의하는 것입니다.<br> 자식 클래스에서 부모 클래스와 같은 이름과 파라미터를 가지는 메소드를 정의하면, 그 메소드는 부모 클래스의 메소드를 오버라이드합니다."
   ]
  },
  {
   "cell_type": "code",
   "execution_count": null,
   "id": "ce428b8b",
   "metadata": {},
   "outputs": [],
   "source": [
    "# Q. Order 클래스를 상속받아 extraOrder 클래스에서 메소드 오버라이딩하여 출력가격에 원이 추가되도록 출력"
   ]
  },
  {
   "cell_type": "code",
   "execution_count": 54,
   "id": "dfc4c4c2",
   "metadata": {},
   "outputs": [
    {
     "name": "stdout",
     "output_type": "stream",
     "text": [
      "1000\n",
      "1000원\n"
     ]
    }
   ],
   "source": [
    "class Order:\n",
    "    def __init__(self,name):\n",
    "        self.customer = 0\n",
    "        self.name = name\n",
    "    def order(self, price):\n",
    "        self.customer += price\n",
    "        return str(self.customer)\n",
    "\n",
    "class extraOrder(Order):\n",
    "    def order(self,price):\n",
    "        self.customer += price\n",
    "        return str(self.customer)+'원'\n",
    "    \n",
    "\n",
    "order = Order('kevin')\n",
    "print(order.order(1000))\n",
    "\n",
    "extraCustomer = extraOrder('kevin')\n",
    "print(extraCustomer.order(1000))"
   ]
  },
  {
   "cell_type": "code",
   "execution_count": 32,
   "id": "31c12040",
   "metadata": {},
   "outputs": [],
   "source": [
    "# Q. 부모 클래스인 Animal에서 speak 메소드를 정의하고,\n",
    "# 자신 클래스인 Dog와 Cat에서 이 메소드를 오버라이드하여 각각 다른 메시지를 출력"
   ]
  },
  {
   "cell_type": "code",
   "execution_count": 33,
   "id": "09d278ac",
   "metadata": {},
   "outputs": [],
   "source": [
    "class Animal:\n",
    "    def speak(self):\n",
    "        print(\"동물이 소리를 냅니다.\")\n",
    "        \n",
    "class Dog(Animal):\n",
    "    def speak(self):\n",
    "        print(\"강아지가 멍멍~ 짖습니다!!\")\n",
    "\n",
    "class Cat(Animal):\n",
    "    def speak(self):\n",
    "        print(\"고양이가 야옹 야옹~ 웁니다!!\")\n",
    "        "
   ]
  },
  {
   "cell_type": "code",
   "execution_count": 34,
   "id": "22762e70",
   "metadata": {},
   "outputs": [
    {
     "name": "stdout",
     "output_type": "stream",
     "text": [
      "강아지가 멍멍~ 짖습니다!!\n"
     ]
    }
   ],
   "source": [
    "my_dog = Dog()\n",
    "my_dog.speak()"
   ]
  },
  {
   "cell_type": "code",
   "execution_count": 35,
   "id": "cba1a048",
   "metadata": {},
   "outputs": [
    {
     "name": "stdout",
     "output_type": "stream",
     "text": [
      "고양이가 야옹 야옹~ 웁니다!!\n"
     ]
    }
   ],
   "source": [
    "my_cat = Cat()\n",
    "my_cat.speak()"
   ]
  },
  {
   "cell_type": "markdown",
   "id": "8760d03c",
   "metadata": {},
   "source": [
    "### [과제] Q. HouseLee, HouseSung 두개의 클래스 및 연산자 오버로딩을 사용하여 \"부산발 이몽룡 성춘향 러브 스토리\"를 작성하여 출력하세요.\n",
    "\n",
    "- 이몽룡은 부산 클럽에 놀러 간다.\n",
    "- 성춘향도 우연히 3일 동안 부산 클럽에 놀러 간다.\n",
    "- 둘은 썸을 탄다.\n",
    "- 일정 때문에 각자 서울로 돌아간다.\n",
    "- 1년뒤 강남 클럽에서 둘은 우연히 재회를 한다.\n",
    "- 연인이 된다."
   ]
  },
  {
   "cell_type": "code",
   "execution_count": 3,
   "id": "7aae63b0",
   "metadata": {},
   "outputs": [
    {
     "name": "stdout",
     "output_type": "stream",
     "text": [
      "이몽룡은 부산 클럽에 놀러간다.\n",
      "성춘향도 우연히 3일 동안 부산 클럽에 놀러간다.\n",
      "이몽룡,성춘향 둘은 썸을 탄다.\n",
      "일정 때문에 각자 서울로 돌아간다.\n",
      "1년 뒤 강남 클럽에서 둘은 우연히 재회를 한다.\n",
      "이몽룡,성춘향 둘은 연인이 된다.\n"
     ]
    }
   ],
   "source": [
    "class HouseLee:\n",
    "    def __init__(self,name):\n",
    "        self.name = name\n",
    "    def travel(self,where):\n",
    "        print(f\"{self.name}은 {where} 클럽에 놀러간다.\")\n",
    "    def love(self,other):\n",
    "        print(f\"{self.name},{other.name} 둘은 썸을 탄다.\")\n",
    "    def b(self):\n",
    "        print(\"일정 때문에 각자 서울로 돌아간다.\")\n",
    "    def d(self,when,where):\n",
    "        print(f\"{when}년 뒤 {where}에서 둘은 우연히 재회를 한다.\")\n",
    "    def __add__(self,other):\n",
    "        print(f\"{self.name},{other.name} 둘은 연인이 된다.\")\n",
    "        \n",
    "class HouseSung(HouseLee):\n",
    "    def travel(self, where, day):\n",
    "        print(f\"{self.name}도 우연히 {day}일 동안 {where} 클럽에 놀러간다.\")\n",
    "        \n",
    "mr = HouseLee(\"이몽룡\")\n",
    "wo = HouseSung(\"성춘향\")\n",
    "mr.travel(\"부산\")\n",
    "wo.travel(\"부산\",3)\n",
    "mr.love(wo)\n",
    "mr.b()\n",
    "mr.d(1,\"강남 클럽\")\n",
    "mr + wo"
   ]
  },
  {
   "cell_type": "code",
   "execution_count": 9,
   "id": "b3f683a5",
   "metadata": {},
   "outputs": [
    {
     "name": "stdout",
     "output_type": "stream",
     "text": [
      "공부를 합니다.\n",
      "공부를 합니다.\n",
      "학생을 가르칩니다.\n",
      "공부를 합니다.\n",
      "공부를 합니다.\n"
     ]
    }
   ],
   "source": [
    "class Student:\n",
    "    def study(self):\n",
    "        print('공부를 합니다.')\n",
    "        \n",
    "class Teacher:\n",
    "    def teach(self):\n",
    "        print(\"학생을 가르칩니다.\")\n",
    "        \n",
    "#여러개의 객체를 만들어서 이를 리스트화\n",
    "classroom = [Student(),Student(),Teacher(),Student(),Student()]\n",
    "\n",
    "# 반복을 적용해 적절한 함수를 호출\n",
    "for person in classroom:\n",
    "    if isinstance(person, Student):                     #객체가 있으면\n",
    "        person.study()\n",
    "    elif isinstance(person, Teacher):\n",
    "        person.teach()"
   ]
  },
  {
   "cell_type": "code",
   "execution_count": null,
   "id": "e0500411",
   "metadata": {},
   "outputs": [],
   "source": [
    "# Q. mymodule.py라는 4칙연산을 수행하는 모듈을 클래스로 작성한 후 임포트 해서 4칙 연산을 수행하세요.\n",
    "\n",
    "with open('mymodule.py','w') as f:\n",
    "    f.write(\n",
    "'''\n",
    "class Calculator:\n",
    "    def __init__(self):\n",
    "        pass\n",
    "\n",
    "    def add(self, x, y):\n",
    "        return x + y\n",
    "\n",
    "    def subtract(self, x, y):\n",
    "        return x - y\n",
    "\n",
    "    def multiply(self, x, y):\n",
    "        return x * y\n",
    "\n",
    "    def divide(self, x, y):\n",
    "        if y == 0:\n",
    "            raise ValueError(\"Division by zero is not allowed\")\n",
    "        return x / y\n",
    "''')\n",
    "############### 4칙연산 수행하는 모듈 클래스가 잘 작성되었는지 확인하는 것#############\n",
    "with open('mymodule.py','r') as f:\n",
    "    data = f.read()\n",
    "    print(data)\n",
    "    \n",
    "####################################################################\n",
    "\n"
   ]
  },
  {
   "cell_type": "code",
   "execution_count": 43,
   "id": "e5ab3c14",
   "metadata": {},
   "outputs": [
    {
     "name": "stdout",
     "output_type": "stream",
     "text": [
      "Addition: 15\n",
      "Subtraction: 5\n",
      "Multiplication: 50\n",
      "Division: 2.0\n"
     ]
    }
   ],
   "source": [
    "from mymodule import Calculator\n",
    "\n",
    "calc = Calculator()\n",
    "r1 = calc.add(10,5)\n",
    "r2 = calc.subtract(10,5)\n",
    "r3 = calc.multiply(10,5)\n",
    "r4 = calc.divide(10,5)\n",
    "\n",
    "\n",
    "print(\"Addition:\", r1)\n",
    "print(\"Subtraction:\", r2)\n",
    "print(\"Multiplication:\", r3)\n",
    "print(\"Division:\", r4)"
   ]
  },
  {
   "cell_type": "code",
   "execution_count": 37,
   "id": "f077318f",
   "metadata": {},
   "outputs": [
    {
     "name": "stdout",
     "output_type": "stream",
     "text": [
      "5\n",
      "6\n",
      "덧셈:  11\n"
     ]
    }
   ],
   "source": [
    "# 두 개의 인자를 받아서 덧셈 기능을 수행하는 모듈을 클래스로 생성한 후 모듈을 임포트하고 객체를 만들어서 덧셈 수행\n",
    "\n",
    "with open('my_module.py','w') as f:\n",
    "    f.write(\n",
    "\"\"\"\n",
    "class calculator:\n",
    "    def __init__(self):\n",
    "        self.a = int(input())\n",
    "        self.b = int(input())\n",
    "        \n",
    "    def add(self):\n",
    "        return self.a + self.b\n",
    "\"\"\")\n",
    "########################################\n",
    "\n",
    "from my_module import calculator\n",
    "cal=calculator()\n",
    "print('덧셈: ',cal.add())\n"
   ]
  },
  {
   "cell_type": "markdown",
   "id": "e9251b38",
   "metadata": {},
   "source": [
    "#### Q. 학생별 국어, 수학, 영어, 과학 성적을 딕셔너리 형식으로 리턴하는 함수를 생성한 후 출력하세요\n",
    "\n",
    "\"강감찬\", 87, 98, 88, 95<br>\n",
    "\"이순신\", 92, 98, 96, 98<br>\n",
    "\"김유신\", 76, 96, 94, 90<br>\n",
    "\"김홍도\", 98, 92, 96, 92<br>\n",
    "\"이태백\", 95, 98, 98, 98<br>\n",
    "\"임꺽정\", 64, 88, 92, 92<br>"
   ]
  },
  {
   "cell_type": "code",
   "execution_count": 34,
   "id": "bdd7d9f4",
   "metadata": {},
   "outputs": [
    {
     "name": "stdout",
     "output_type": "stream",
     "text": [
      "{'name': '강감찬', 'korean': 87, 'math': 98, 'english': 88, 'science': 95}\n",
      "{'name': '이순신', 'korean': 92, 'math': 98, 'english': 96, 'science': 98}\n",
      "{'name': '김유신', 'korean': 76, 'math': 96, 'english': 94, 'science': 90}\n",
      "{'name': '김홍도', 'korean': 98, 'math': 92, 'english': 96, 'science': 92}\n",
      "{'name': '이태백', 'korean': 95, 'math': 98, 'english': 98, 'science': 98}\n",
      "{'name': '임꺽정', 'korean': 64, 'math': 88, 'english': 92, 'science': 92}\n"
     ]
    },
    {
     "ename": "NameError",
     "evalue": "name 'keys' is not defined",
     "output_type": "error",
     "traceback": [
      "\u001b[1;31m---------------------------------------------------------------------------\u001b[0m",
      "\u001b[1;31mNameError\u001b[0m                                 Traceback (most recent call last)",
      "\u001b[1;32m~\\AppData\\Local\\Temp\\ipykernel_11680\\1613526910.py\u001b[0m in \u001b[0;36m<module>\u001b[1;34m\u001b[0m\n\u001b[0;32m     18\u001b[0m     \u001b[0mprint\u001b[0m\u001b[1;33m(\u001b[0m\u001b[0mstudent\u001b[0m\u001b[1;33m)\u001b[0m\u001b[1;33m\u001b[0m\u001b[1;33m\u001b[0m\u001b[0m\n\u001b[0;32m     19\u001b[0m \u001b[1;33m\u001b[0m\u001b[0m\n\u001b[1;32m---> 20\u001b[1;33m \u001b[0mlen\u001b[0m\u001b[1;33m(\u001b[0m\u001b[0mstudent\u001b[0m\u001b[1;33m(\u001b[0m\u001b[0mkeys\u001b[0m\u001b[1;33m)\u001b[0m\u001b[1;33m)\u001b[0m\u001b[1;33m\u001b[0m\u001b[1;33m\u001b[0m\u001b[0m\n\u001b[0m",
      "\u001b[1;31mNameError\u001b[0m: name 'keys' is not defined"
     ]
    }
   ],
   "source": [
    "# 여러 딕셔너리를 만들 수 있게 사용자 함수 생성.\n",
    "def student(name, korean, math, english, science):\n",
    "    return {'name':name, 'korean': korean, 'math': math, 'english':english, 'science': science}\n",
    "\n",
    "students = [\n",
    "    student(\"강감찬\", 87, 98, 88, 95),\n",
    "    student(\"이순신\", 92, 98, 96, 98),\n",
    "    student(\"김유신\", 76, 96, 94, 90),\n",
    "    student(\"김홍도\", 98, 92, 96, 92),\n",
    "    student(\"이태백\", 95, 98, 98, 98),\n",
    "    student(\"임꺽정\", 64, 88, 92, 92)\n",
    "]\n",
    "\n",
    "\n",
    "# print(students)   # 6개의 딕셔너리를 한 리스트에 묶어놓은 것\n",
    "\n",
    "for student in students:\n",
    "    print(student)\n",
    "    \n",
    "len(student(keys))"
   ]
  },
  {
   "cell_type": "code",
   "execution_count": 18,
   "id": "af98f6a4",
   "metadata": {},
   "outputs": [],
   "source": [
    "# 벨류값인 점수들을 하나씩 추출해서 더해주는 총점\n",
    "# 이를 가지고 키 개수에 따라 평균내기\n",
    "\n"
   ]
  },
  {
   "cell_type": "markdown",
   "id": "89ef2acf",
   "metadata": {},
   "source": [
    "#### Q.student 리스트를 딕셔너리로 처리한 후 다시 함수 처리하여 아래와 같이 출력하세요.\n",
    "\n",
    "이름         총점          평균<br>              \n",
    "강감찬<br> \n",
    "이순신<br> \n",
    "김유신<br> \n",
    "김홍도<br> \n",
    "이태백<br> \n",
    "임꺽정<br> "
   ]
  },
  {
   "cell_type": "code",
   "execution_count": 43,
   "id": "3c2c8955",
   "metadata": {},
   "outputs": [
    {
     "name": "stdout",
     "output_type": "stream",
     "text": [
      "이름     총점    평균\n",
      "강감찬    368    92.0\n",
      "이순신    384    96.0\n",
      "김유신    356    89.0\n",
      "김홍도    378    94.5\n",
      "이태백    389    97.25\n",
      "임꺽정    336    84.0\n"
     ]
    }
   ],
   "source": [
    "class grade:\n",
    "    def dic(self, li):\n",
    "        mydic={'name':li[0], 'korean':li[1], 'math':li[2], 'english':li[3], 'science':li[4]}\n",
    "        return mydic\n",
    "    \n",
    "    def printf(self, listd):\n",
    "        print(f\"이름     총점    평균\")\n",
    "        for i in listd:\n",
    "            print(f\"{i['name']}    {i['korean']+i['math']+i['english']+i['science']}    {(i['korean']+i['math']+i['english']+i['science'])/4}\")\n",
    "####################################################################\n",
    "li=[[\"강감찬\", 87, 98, 88, 95],[\"이순신\", 92, 98, 96, 98],[\"김유신\", 76, 96, 94, 90], [\"김홍도\", 98, 92, 96, 92], [\"이태백\", 95, 98, 98, 98], [\"임꺽정\", 64, 88, 92, 92]]\n",
    "grade=grade()\n",
    "mylist=[]\n",
    "\n",
    "for i in li:           #딕셔너리에 대입\n",
    "    mylist.append(grade.dic(i))\n",
    "    \n",
    "grade.printf(mylist)     #이름, 총점, 평균 별 출력"
   ]
  },
  {
   "cell_type": "code",
   "execution_count": 46,
   "id": "fd50a087",
   "metadata": {},
   "outputs": [
    {
     "name": "stdout",
     "output_type": "stream",
     "text": [
      "이름\t총점\t평균\n",
      "강감찬\t368\t92.0\n",
      "이순신\t384\t96.0\n",
      "김유신\t356\t89.0\n",
      "김홍도\t378\t94.5\n",
      "이태백\t389\t97.25\n",
      "임꺽정\t336\t84.0\n"
     ]
    }
   ],
   "source": [
    "def create_student(name, korean, math, english, science):\n",
    "    return {\n",
    "        'name':name, \n",
    "        'korean':korean, \n",
    "        'math':math, \n",
    "        'english':english, \n",
    "        'science':science\n",
    "    }\n",
    "\n",
    "def student_get_sum(student):\n",
    "    return student['korean'] + student['math'] + student['english'] + student['science']\n",
    "\n",
    "def student_get_average(student):\n",
    "    return student_get_sum(student) / 4\n",
    "\n",
    "def student_to_string(student):\n",
    "    return '{}\\t{}\\t{}'.format(\n",
    "        student['name'],\n",
    "        student_get_sum(student),\n",
    "        student_get_average(student))\n",
    "\n",
    "# 학생 리스트\n",
    "students = [\n",
    "    create_student(\"강감찬\", 87, 98, 88, 95),\n",
    "    create_student(\"이순신\", 92, 98, 96, 98),\n",
    "    create_student(\"김유신\", 76, 96, 94, 90),\n",
    "    create_student(\"김홍도\", 98, 92, 96, 92),\n",
    "    create_student(\"이태백\", 95, 98, 98, 98),\n",
    "    create_student(\"임꺽정\", 64, 88, 92, 92)\n",
    "]\n",
    "print('이름','총점','평균',sep='\\t')\n",
    "for student in students:\n",
    "    print(student_to_string(student))"
   ]
  },
  {
   "cell_type": "markdown",
   "id": "bcad5d73",
   "metadata": {},
   "source": [
    "#### Q. Student 클래스를 선언하고 student 리스트를 사용하여 아래와 같이 출력하세요."
   ]
  },
  {
   "cell_type": "code",
   "execution_count": 39,
   "id": "d7e255b5",
   "metadata": {},
   "outputs": [
    {
     "name": "stdout",
     "output_type": "stream",
     "text": [
      "이름\t총점\t평균\n",
      "강감찬\t368\t92.0\n",
      "이순신\t384\t96.0\n",
      "김유신\t356\t89.0\n",
      "김홍도\t378\t94.5\n",
      "이태백\t389\t97.25\n",
      "임꺽정\t336\t84.0\n"
     ]
    }
   ],
   "source": [
    "class Student:\n",
    "    def __init__(self, name, korean, math, english, science):\n",
    "        self.name = name\n",
    "        self.korean = korean\n",
    "        self.math = math\n",
    "        self.english = english\n",
    "        self.science = science\n",
    "        \n",
    "    def total(self):\n",
    "        return self.korean + self.math + self.english + self.science\n",
    "    \n",
    "    def average(self):\n",
    "        return self.total() / 4\n",
    "    \n",
    "    def to_string(self):\n",
    "        return '{}\\t{}\\t{}'.format(\n",
    "        self.name,\n",
    "        self.total(),\n",
    "        self.average())\n",
    "    \n",
    "########################################################### 사용자 함수 클래스로 만듦\n",
    "\n",
    "# 학생 객체 리스트 \n",
    "\n",
    "students = [\n",
    "    Student(\"강감찬\", 87, 98, 88, 95),\n",
    "    Student(\"이순신\", 92, 98, 96, 98),\n",
    "    Student(\"김유신\", 76, 96, 94, 90),\n",
    "    Student(\"김홍도\", 98, 92, 96, 92),\n",
    "    Student(\"이태백\", 95, 98, 98, 98),\n",
    "    Student(\"임꺽정\", 64, 88, 92, 92)\n",
    "]\n",
    "\n",
    "\n",
    "# 학생을 한 명씩 반복\n",
    "print(\"이름\",\"총점\",\"평균\", sep='\\t')\n",
    "for student in students:\n",
    "    # 출력합니다\n",
    "    print(student.to_string())\n"
   ]
  },
  {
   "cell_type": "code",
   "execution_count": 41,
   "id": "985272c3",
   "metadata": {},
   "outputs": [],
   "source": [
    "# [과제] 사용자 함수 5개 이상을 사용하는 프로그램 작성 후 이 프로그램을 클래스를 사용하여 개선하세요\n",
    "# 클래스 작성 시 두가지로 진행(생성자 사용 및 미사용)"
   ]
  },
  {
   "cell_type": "code",
   "execution_count": null,
   "id": "5e70fcd8",
   "metadata": {},
   "outputs": [],
   "source": []
  }
 ],
 "metadata": {
  "kernelspec": {
   "display_name": "Python 3 (ipykernel)",
   "language": "python",
   "name": "python3"
  },
  "language_info": {
   "codemirror_mode": {
    "name": "ipython",
    "version": 3
   },
   "file_extension": ".py",
   "mimetype": "text/x-python",
   "name": "python",
   "nbconvert_exporter": "python",
   "pygments_lexer": "ipython3",
   "version": "3.9.13"
  }
 },
 "nbformat": 4,
 "nbformat_minor": 5
}
