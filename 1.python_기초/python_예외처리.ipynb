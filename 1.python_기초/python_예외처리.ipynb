{
 "cells": [
  {
   "cell_type": "markdown",
   "id": "5cb5f93e",
   "metadata": {},
   "source": [
    "## 3월 10일    3번째"
   ]
  },
  {
   "cell_type": "code",
   "execution_count": 2,
   "id": "15551f28",
   "metadata": {},
   "outputs": [
    {
     "ename": "SyntaxError",
     "evalue": "EOL while scanning string literal (3431806460.py, line 6)",
     "output_type": "error",
     "traceback": [
      "\u001b[1;36m  File \u001b[1;32m\"C:\\Users\\h\\AppData\\Local\\Temp\\ipykernel_8552\\3431806460.py\"\u001b[1;36m, line \u001b[1;32m6\u001b[0m\n\u001b[1;33m    print('예외를 강제로 발생!)\u001b[0m\n\u001b[1;37m                              ^\u001b[0m\n\u001b[1;31mSyntaxError\u001b[0m\u001b[1;31m:\u001b[0m EOL while scanning string literal\n"
     ]
    }
   ],
   "source": [
    "# 구문 오류 : 프로그램 실행 전에 발생하는 오류\n",
    "# 예외 또는 런타임 오류 : 프로그램 실행 중에 발생하는 오류\n",
    "\n",
    "# 구문 오류의 예  SyntaxError\n",
    " \n",
    "print('예외를 강제로 발생!)       "
   ]
  },
  {
   "cell_type": "code",
   "execution_count": 7,
   "id": "954f10d9",
   "metadata": {},
   "outputs": [
    {
     "name": "stdout",
     "output_type": "stream",
     "text": [
      "정수 입력>ㅎ\n"
     ]
    },
    {
     "ename": "ValueError",
     "evalue": "invalid literal for int() with base 10: 'ㅎ'",
     "output_type": "error",
     "traceback": [
      "\u001b[1;31m---------------------------------------------------------------------------\u001b[0m",
      "\u001b[1;31mValueError\u001b[0m                                Traceback (most recent call last)",
      "\u001b[1;32m~\\AppData\\Local\\Temp\\ipykernel_8552\\680159422.py\u001b[0m in \u001b[0;36m<module>\u001b[1;34m\u001b[0m\n\u001b[0;32m      1\u001b[0m \u001b[1;31m# 정수를 입력하지 않은 경우 예외 발생\u001b[0m\u001b[1;33m\u001b[0m\u001b[1;33m\u001b[0m\u001b[0m\n\u001b[0;32m      2\u001b[0m \u001b[1;33m\u001b[0m\u001b[0m\n\u001b[1;32m----> 3\u001b[1;33m \u001b[0mnum_input\u001b[0m \u001b[1;33m=\u001b[0m \u001b[0mint\u001b[0m\u001b[1;33m(\u001b[0m\u001b[0minput\u001b[0m\u001b[1;33m(\u001b[0m\u001b[1;34m'정수 입력>'\u001b[0m\u001b[1;33m)\u001b[0m\u001b[1;33m)\u001b[0m\u001b[1;33m\u001b[0m\u001b[1;33m\u001b[0m\u001b[0m\n\u001b[0m\u001b[0;32m      4\u001b[0m \u001b[0mprint\u001b[0m\u001b[1;33m(\u001b[0m\u001b[1;34m'원의 반지름: '\u001b[0m\u001b[1;33m,\u001b[0m \u001b[0mnum_input\u001b[0m\u001b[1;33m)\u001b[0m\u001b[1;33m\u001b[0m\u001b[1;33m\u001b[0m\u001b[0m\n\u001b[0;32m      5\u001b[0m \u001b[1;33m\u001b[0m\u001b[0m\n",
      "\u001b[1;31mValueError\u001b[0m: invalid literal for int() with base 10: 'ㅎ'"
     ]
    }
   ],
   "source": [
    "# 정수를 입력하지 않은 경우 예외 발생  \n",
    "\n",
    "num_input = int(input('정수 입력>'))\n",
    "print('원의 반지름: ', num_input)\n",
    "\n",
    "# ValueError: invalid literal for int() with base 10: \n",
    "# 값에러 : 유효하지 않는 문자"
   ]
  },
  {
   "cell_type": "code",
   "execution_count": 11,
   "id": "dd7700f9",
   "metadata": {},
   "outputs": [
    {
     "name": "stdout",
     "output_type": "stream",
     "text": [
      "정수 입력>ㅇ\n",
      "정수를 입력해주세요.\n"
     ]
    }
   ],
   "source": [
    "# 조건문으로 예외 처리\n",
    "user_input = input('정수 입력>')           # 유저 인풋을 받았음\n",
    "if user_input.isdigit():                   # 이 유저 인풋이 숫자이면,\n",
    "    num_input = int(user_input)            # 정수로 처리\n",
    "    print('원의 반지름: ',num_input)\n",
    "else:\n",
    "    print('정수를 입력해주세요.')"
   ]
  },
  {
   "cell_type": "code",
   "execution_count": 12,
   "id": "00f19e1e",
   "metadata": {},
   "outputs": [
    {
     "name": "stdout",
     "output_type": "stream",
     "text": [
      "안녕하세요\n"
     ]
    },
    {
     "ename": "NameError",
     "evalue": "name 'param' is not defined",
     "output_type": "error",
     "traceback": [
      "\u001b[1;31m---------------------------------------------------------------------------\u001b[0m",
      "\u001b[1;31mNameError\u001b[0m                                 Traceback (most recent call last)",
      "\u001b[1;32m~\\AppData\\Local\\Temp\\ipykernel_8552\\54988031.py\u001b[0m in \u001b[0;36m<module>\u001b[1;34m\u001b[0m\n\u001b[0;32m      1\u001b[0m \u001b[0mprint\u001b[0m\u001b[1;33m(\u001b[0m\u001b[1;34m'안녕하세요'\u001b[0m\u001b[1;33m)\u001b[0m\u001b[1;33m\u001b[0m\u001b[1;33m\u001b[0m\u001b[0m\n\u001b[1;32m----> 2\u001b[1;33m \u001b[0mprint\u001b[0m\u001b[1;33m(\u001b[0m\u001b[0mparam\u001b[0m\u001b[1;33m)\u001b[0m\u001b[1;33m\u001b[0m\u001b[1;33m\u001b[0m\u001b[0m\n\u001b[0m",
      "\u001b[1;31mNameError\u001b[0m: name 'param' is not defined"
     ]
    }
   ],
   "source": [
    "print('안녕하세요')\n",
    "print(param)     # \"\"가 있으면 문자처리로 돼서 문제가 없는데 \"\"가 없는 경우 변수로 취급되기 때문에\n",
    "# param = 1 처럼 변수 선언이 되어야 함"
   ]
  },
  {
   "cell_type": "markdown",
   "id": "0fc7bcb6",
   "metadata": {},
   "source": [
    "- 프로그램이 실행되는 동안 오류가 발생하면 프로그램이 더 이상 진행될 수 없는 상태가 되는데 이를 예외라고 함\n",
    "- 예외가 발생해도 프로그램을 중단하지 않고 예외에 대한 적절한 처리를 하여 프로그램을 계속 진행하도록 하는 구문이 try ~ except\n",
    "\n",
    "## 예외 처리 방법\n",
    "- try + except try : 에러가 발생할 것 같은, 예외처리를 하고 싶은 곳을 찾아서 try 구문에 코드를 작성합니다.\n",
    "- except : 에러가 발생했을 때 처리할 코드를 작성합니다.\n",
    "- try + except + else else 는 에러가 발생하지 않았을때 거치는 구문입니다. else만 단독으로 try + else 는 불가능합니다. except 가 있어야 합니다.\n",
    "- try + finally finally 는 에러가 발생해도, 발생하지 않아도 무조건 거치는 구문입니다.except. 없이 try + finally 만 사용한다면 에러가 발생한 후에 finally 구문까지만 실행이 되고 프로그램이 중간에 죽게 됩니다.\n",
    "- try + except + finally\n",
    "- except 구문을 추가하고 finally 구문도 있음\n",
    "- try + except + else + finally\n",
    "- try (해당 구문 안에서 에러 발생 시 처리 가능 - 필수)\n",
    "- except (에러 발생시 수행 - 선택이지만 에러를 처리하려면 필수)\n",
    "- else (에러 없을 때 수행 - 선택이지만 except 없이는 올 수 없음)\n",
    "- finally (에러가 있거나 없거나 상관없이 항상 수행 - 선택)"
   ]
  },
  {
   "cell_type": "code",
   "execution_count": 15,
   "id": "1e0073b5",
   "metadata": {},
   "outputs": [
    {
     "name": "stdout",
     "output_type": "stream",
     "text": [
      "안녕하세요\n",
      "예외가 발생했습니다.\n"
     ]
    }
   ],
   "source": [
    "# 프로그램이 실행되는 동안 오류가 발생하면 프로그램이 더 이상 진행될 수 없는 상태가 되는데 이를 예외라고 함\n",
    "# 예외가 발생해도 프로그램을 중단하지 않고 예외에 대한 적절한 처리를 하여 프로그램을 계속 진행하도록 하는 구문\n",
    "# try ~ except\n",
    "\n",
    "try:\n",
    "    print(\"안녕하세요\")\n",
    "    print(param)                                         # 변수 선언이 안되어있으므로 except로 \n",
    "except:\n",
    "    print(\"예외가 발생했습니다.\")"
   ]
  },
  {
   "cell_type": "code",
   "execution_count": 18,
   "id": "c688b4fd",
   "metadata": {},
   "outputs": [
    {
     "name": "stdout",
     "output_type": "stream",
     "text": [
      "예외가 발생했습니다.\n"
     ]
    }
   ],
   "source": [
    "try:\n",
    "    print(param)\n",
    "except:\n",
    "    print(\"예외가 발생했습니다.\")\n",
    "else:\n",
    "    print(\"예외가 발생하지 않았습니다.\")"
   ]
  },
  {
   "cell_type": "code",
   "execution_count": 1,
   "id": "4eb61602",
   "metadata": {},
   "outputs": [
    {
     "ename": "IndexError",
     "evalue": "list index out of range",
     "output_type": "error",
     "traceback": [
      "\u001b[1;31m---------------------------------------------------------------------------\u001b[0m",
      "\u001b[1;31mIndexError\u001b[0m                                Traceback (most recent call last)",
      "\u001b[1;32m~\\AppData\\Local\\Temp\\ipykernel_3532\\2761573593.py\u001b[0m in \u001b[0;36m<module>\u001b[1;34m\u001b[0m\n\u001b[0;32m      1\u001b[0m \u001b[0marr\u001b[0m \u001b[1;33m=\u001b[0m \u001b[1;33m[\u001b[0m\u001b[1;34m'b'\u001b[0m\u001b[1;33m,\u001b[0m \u001b[1;34m'l'\u001b[0m\u001b[1;33m,\u001b[0m \u001b[1;34m'o'\u001b[0m\u001b[1;33m,\u001b[0m \u001b[1;34m'g'\u001b[0m\u001b[1;33m]\u001b[0m\u001b[1;33m\u001b[0m\u001b[1;33m\u001b[0m\u001b[0m\n\u001b[1;32m----> 2\u001b[1;33m \u001b[0mprint\u001b[0m\u001b[1;33m(\u001b[0m\u001b[0marr\u001b[0m\u001b[1;33m[\u001b[0m\u001b[1;36m8\u001b[0m\u001b[1;33m]\u001b[0m\u001b[1;33m)\u001b[0m \u001b[1;31m# error\u001b[0m\u001b[1;33m\u001b[0m\u001b[1;33m\u001b[0m\u001b[0m\n\u001b[0m\u001b[0;32m      3\u001b[0m \u001b[0mprint\u001b[0m\u001b[1;33m(\u001b[0m\u001b[1;34m\"== Mid\"\u001b[0m\u001b[1;33m)\u001b[0m\u001b[1;33m\u001b[0m\u001b[1;33m\u001b[0m\u001b[0m\n",
      "\u001b[1;31mIndexError\u001b[0m: list index out of range"
     ]
    }
   ],
   "source": [
    "arr = ['b', 'l', 'o', 'g']\n",
    "print(arr[8]) # error\n",
    "print(\"== Mid\")"
   ]
  },
  {
   "cell_type": "code",
   "execution_count": 3,
   "id": "e62ad9c8",
   "metadata": {},
   "outputs": [
    {
     "name": "stdout",
     "output_type": "stream",
     "text": [
      "list index out of range\n"
     ]
    }
   ],
   "source": [
    "arr=['b','l','o','g']\n",
    "try:\n",
    "    print(arr[8])\n",
    "except:\n",
    "    print('list index out of range')"
   ]
  },
  {
   "cell_type": "code",
   "execution_count": 4,
   "id": "af9131e4",
   "metadata": {},
   "outputs": [
    {
     "name": "stdout",
     "output_type": "stream",
     "text": [
      "예외가 발생했습니다\n"
     ]
    }
   ],
   "source": [
    "try:    \n",
    "    arr = ['b', 'l', 'o', 'g']\n",
    "    print(arr[8]) # error   \n",
    "except:\n",
    "    print('예외가 발생했습니다')\n",
    "else:\n",
    "    print('예외가 발생하지 않았습니다.')"
   ]
  },
  {
   "cell_type": "code",
   "execution_count": 5,
   "id": "fe589f80",
   "metadata": {},
   "outputs": [
    {
     "name": "stdout",
     "output_type": "stream",
     "text": [
      "== Program Start\n",
      "== finally\n"
     ]
    },
    {
     "ename": "IndexError",
     "evalue": "list index out of range",
     "output_type": "error",
     "traceback": [
      "\u001b[1;31m---------------------------------------------------------------------------\u001b[0m",
      "\u001b[1;31mIndexError\u001b[0m                                Traceback (most recent call last)",
      "\u001b[1;32m~\\AppData\\Local\\Temp\\ipykernel_3532\\1996643385.py\u001b[0m in \u001b[0;36m<module>\u001b[1;34m\u001b[0m\n\u001b[0;32m      3\u001b[0m \u001b[1;32mtry\u001b[0m\u001b[1;33m:\u001b[0m\u001b[1;33m\u001b[0m\u001b[1;33m\u001b[0m\u001b[0m\n\u001b[0;32m      4\u001b[0m     \u001b[0marr\u001b[0m \u001b[1;33m=\u001b[0m \u001b[1;33m[\u001b[0m\u001b[1;34m'b'\u001b[0m\u001b[1;33m,\u001b[0m \u001b[1;34m'l'\u001b[0m\u001b[1;33m,\u001b[0m \u001b[1;34m'o'\u001b[0m\u001b[1;33m,\u001b[0m \u001b[1;34m'g'\u001b[0m\u001b[1;33m]\u001b[0m\u001b[1;33m\u001b[0m\u001b[1;33m\u001b[0m\u001b[0m\n\u001b[1;32m----> 5\u001b[1;33m     \u001b[0mprint\u001b[0m\u001b[1;33m(\u001b[0m\u001b[0marr\u001b[0m\u001b[1;33m[\u001b[0m\u001b[1;36m8\u001b[0m\u001b[1;33m]\u001b[0m\u001b[1;33m)\u001b[0m  \u001b[1;31m# error\u001b[0m\u001b[1;33m\u001b[0m\u001b[1;33m\u001b[0m\u001b[0m\n\u001b[0m\u001b[0;32m      6\u001b[0m     \u001b[0mprint\u001b[0m\u001b[1;33m(\u001b[0m\u001b[1;34m\"== Mid\"\u001b[0m\u001b[1;33m)\u001b[0m\u001b[1;33m\u001b[0m\u001b[1;33m\u001b[0m\u001b[0m\n\u001b[0;32m      7\u001b[0m \u001b[1;32mfinally\u001b[0m\u001b[1;33m:\u001b[0m\u001b[1;33m\u001b[0m\u001b[1;33m\u001b[0m\u001b[0m\n",
      "\u001b[1;31mIndexError\u001b[0m: list index out of range"
     ]
    }
   ],
   "source": [
    "print(\"== Program Start\")\n",
    "\n",
    "try:\n",
    "    arr = ['b', 'l', 'o', 'g']\n",
    "    print(arr[8])  # error\n",
    "    print(\"== Mid\")\n",
    "finally:\n",
    "    print(\"== finally\")\n",
    "\n",
    "print(\"== Program End\")"
   ]
  },
  {
   "cell_type": "code",
   "execution_count": 19,
   "id": "744b69cb",
   "metadata": {},
   "outputs": [
    {
     "name": "stdout",
     "output_type": "stream",
     "text": [
      "안녕하세요\n",
      "예외가 발생했습니다.\n",
      "무조건 실행하는 코드\n"
     ]
    }
   ],
   "source": [
    "try:\n",
    "    print(\"안녕하세요\")\n",
    "    print(param) \n",
    "except:\n",
    "    print(\"예외가 발생했습니다.\")\n",
    "finally:                                   # 오류가 있든 없든 상관없이 무조건 출력\n",
    "    print(\"무조건 실행하는 코드\")    "
   ]
  },
  {
   "cell_type": "code",
   "execution_count": 6,
   "id": "409cda48",
   "metadata": {},
   "outputs": [
    {
     "name": "stdout",
     "output_type": "stream",
     "text": [
      "== Program Start\n",
      "b\n",
      "== Mid\n",
      "== else\n",
      "== finally\n",
      "== Program End\n"
     ]
    }
   ],
   "source": [
    "print(\"== Program Start\")\n",
    "\n",
    "try:\n",
    "    arr = ['b', 'l', 'o', 'g']\n",
    "    print(arr[0]) # not error\n",
    "    # print(arr[8]) # error\n",
    "    print(\"== Mid\")\n",
    "except:\n",
    "    print(\"== except\")\n",
    "else:\n",
    "    print(\"== else\")\n",
    "finally:\n",
    "    print(\"== finally\")\n",
    "\n",
    "print(\"== Program End\")"
   ]
  },
  {
   "cell_type": "code",
   "execution_count": 20,
   "id": "d03f24c4",
   "metadata": {},
   "outputs": [
    {
     "name": "stdout",
     "output_type": "stream",
     "text": [
      "name 'param' is not defined\n"
     ]
    }
   ],
   "source": [
    "# 코드에서 예외 발생 내용을 확인하고자 하는 경우 처리 방법\n",
    "\n",
    "try:\n",
    "    print(param)\n",
    "except Exception as e:\n",
    "    print(e)"
   ]
  },
  {
   "cell_type": "code",
   "execution_count": 24,
   "id": "9f612234",
   "metadata": {},
   "outputs": [
    {
     "ename": "SyntaxError",
     "evalue": "unexpected EOF while parsing (1784635746.py, line 6)",
     "output_type": "error",
     "traceback": [
      "\u001b[1;36m  File \u001b[1;32m\"C:\\Users\\h\\AppData\\Local\\Temp\\ipykernel_8552\\1784635746.py\"\u001b[1;36m, line \u001b[1;32m6\u001b[0m\n\u001b[1;33m    time.sleep(0.5) # 지정해주는 시간만큼 중단\u001b[0m\n\u001b[1;37m                                   ^\u001b[0m\n\u001b[1;31mSyntaxError\u001b[0m\u001b[1;31m:\u001b[0m unexpected EOF while parsing\n"
     ]
    }
   ],
   "source": [
    "import time\n",
    "count = 1\n",
    "try:\n",
    "    print(count)\n",
    "    count += 1\n",
    "    time.sleep(0.5) # 지정해주는 시간만큼 중단"
   ]
  },
  {
   "cell_type": "code",
   "execution_count": 25,
   "id": "6a183a5b",
   "metadata": {},
   "outputs": [
    {
     "name": "stdout",
     "output_type": "stream",
     "text": [
      "1\n",
      "2\n",
      "3\n",
      "4\n",
      "5\n",
      "6\n",
      "7\n",
      "사용자에 의해 프로그램이 중단되었습니다.\n"
     ]
    }
   ],
   "source": [
    "import time\n",
    "count = 1\n",
    "try: \n",
    "    while True:\n",
    "        print(count)\n",
    "        count += 1\n",
    "        time.sleep(0.5) # 지정해주는 시간만큼 출력\n",
    "except KeyboardInterrupt:\n",
    "    print('사용자에 의해 프로그램이 중단되었습니다.')"
   ]
  },
  {
   "cell_type": "code",
   "execution_count": 26,
   "id": "4b4248b7",
   "metadata": {},
   "outputs": [
    {
     "name": "stdout",
     "output_type": "stream",
     "text": [
      "['52', '273', '32', '103']\n"
     ]
    }
   ],
   "source": [
    "# Q. 리스트 ['52','273','32','문자','103']에서 숫자 부분만 출력하세요(예외 처리 수행)\n",
    "list_input = ['52','273','32','문자','103']       # 숫자도 따옴표 처리해서 문자 처리\n",
    "list_num = []\n",
    "for i in list_input:\n",
    "    try:\n",
    "        int(i)                                    # 문자처리 된 숫자들은 숫자로 바꾸겠다는 것\n",
    "        list_num.append(i)                        # 처리한 숫자를 list_num 리스트에 넣겠다\n",
    "    except:                                      # 숫자 아닌 문자들은 패스\n",
    "        pass\n",
    "print(list_num)"
   ]
  },
  {
   "cell_type": "code",
   "execution_count": 28,
   "id": "e3f6bf5d",
   "metadata": {},
   "outputs": [
    {
     "name": "stdout",
     "output_type": "stream",
     "text": [
      "정수입력> 5\n",
      "정수입니다.\n"
     ]
    }
   ],
   "source": [
    "# Q. 정수를 입력하면 '정수', 정수가 아니면 '정수 아님'을 출력하세요.\n",
    "\n",
    "try:\n",
    "    num_input = int(input('정수입력> '))\n",
    "except:\n",
    "    print(\"정수가 아닙니다. 정수를 입력해주세요\")\n",
    "else:\n",
    "    print(\"정수입니다.\")"
   ]
  },
  {
   "cell_type": "code",
   "execution_count": 30,
   "id": "1ac8aecc",
   "metadata": {},
   "outputs": [
    {
     "name": "stdout",
     "output_type": "stream",
     "text": [
      "정수입력> 5\n",
      "5\n",
      "예외 발생하지 않음\n",
      "프로그램 종료\n"
     ]
    }
   ],
   "source": [
    "# Q. 정수를 입력하면 '입력 정수' > '예외 발생하지 않음' > 프로그램 종료'\n",
    "# 정수가 아니면 '입력 값' > '정수 아님' >'프로그램 종료' 순서대로 출력하세요\n",
    "\n",
    "try:\n",
    "    n = int(input('정수입력> '))\n",
    "except:\n",
    "    print(\"정수가 아닙니다.\")\n",
    "else:\n",
    "    print(n)\n",
    "    print(\"예외 발생하지 않음\")\n",
    "finally:\n",
    "    print('프로그램 종료')"
   ]
  },
  {
   "cell_type": "code",
   "execution_count": 7,
   "id": "8831f650",
   "metadata": {},
   "outputs": [
    {
     "name": "stdout",
     "output_type": "stream",
     "text": [
      "예외가 발생했습니다.\n",
      "종료합니다.\n"
     ]
    }
   ],
   "source": [
    "list=[1,2,'a','b']\n",
    "\n",
    "try:\n",
    "    print(list[4])\n",
    "except:\n",
    "    print('예외가 발생했습니다.')\n",
    "else:\n",
    "    print('예외가 발생하지않았습니다.')\n",
    "finally:\n",
    "    print('종료합니다.')\n"
   ]
  },
  {
   "cell_type": "code",
   "execution_count": 8,
   "id": "b3da9575",
   "metadata": {},
   "outputs": [
    {
     "name": "stdout",
     "output_type": "stream",
     "text": [
      "d\n",
      "정상 작동중\n",
      "실행 완료되었습니다.\n"
     ]
    }
   ],
   "source": [
    "list = ['a','b','c','d']\n",
    "\n",
    "try:\n",
    "    print(list[3])\n",
    "except:\n",
    "    print('예외가 발생했습니다.')\n",
    "else:\n",
    "    print('정상 작동중')\n",
    "finally:\n",
    "    print('실행 완료되었습니다.')"
   ]
  },
  {
   "cell_type": "code",
   "execution_count": null,
   "id": "92f65839",
   "metadata": {},
   "outputs": [],
   "source": [
    "print('프로그램이 시작되었습니다.')\n",
    "while True:\n",
    "    try:\n",
    "        print('try 구문이 시작되었습니다.')\n",
    "        break\n",
    "    except:\n",
    "        print('except 구문이 실행되었습니다.')\n",
    "    \n",
    "    print('finally 구문이 실행되었습니다.')\n",
    "    print('while 반복문이 마지막 줄입니다.')"
   ]
  },
  {
   "cell_type": "code",
   "execution_count": null,
   "id": "8be39e5c",
   "metadata": {},
   "outputs": [],
   "source": []
  },
  {
   "cell_type": "code",
   "execution_count": null,
   "id": "4f05a8c8",
   "metadata": {},
   "outputs": [],
   "source": []
  }
 ],
 "metadata": {
  "kernelspec": {
   "display_name": "Python 3 (ipykernel)",
   "language": "python",
   "name": "python3"
  },
  "language_info": {
   "codemirror_mode": {
    "name": "ipython",
    "version": 3
   },
   "file_extension": ".py",
   "mimetype": "text/x-python",
   "name": "python",
   "nbconvert_exporter": "python",
   "pygments_lexer": "ipython3",
   "version": "3.9.13"
  }
 },
 "nbformat": 4,
 "nbformat_minor": 5
}
