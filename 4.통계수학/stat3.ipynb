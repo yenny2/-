{
 "cells": [
  {
   "cell_type": "markdown",
   "id": "a0eaf8f2",
   "metadata": {},
   "source": [
    "## 통계적 가설검정이란\n",
    "모집단의 모수에 관하여 두가지 가설을 세우고 표본으로부터 계산되는 통계량을 이용하여 어느 가설이 옳은지 판단하는 통계적인 방법\n",
    "- 검정통계량 vs 임곗값(신뢰수준을 알아야 함)\n",
    "- p값 vs 유의수준"
   ]
  },
  {
   "cell_type": "markdown",
   "id": "4d167fe5",
   "metadata": {},
   "source": [
    "통계적 가설 검정은, 모집단의 특성에 대한 가설을 세우고, 이 가설이 옳은지 여부를 검정하는 과정입니다. 이 과정에서는 표본 데이터를 이용하여 모집단의 특성을 추정하고, 추정한 결과를 바탕으로 가설을 세우고 검정합니다.\n",
    "\n",
    "- 가설 검정에서는 대개 두 개의 가설을 세웁니다. 이 중에서 \n",
    "    - 귀무가설(null hypothesis)은 일반적으로 채택되어져 있는 가설로, 이를 기각하기 위해서는 통계적으로 유의한 증거가 필요합니다. \n",
    "    - 대립가설(alternative hypothesis)은 귀무가설과 반대되는 가설로, 이 가설이 옳은지 검정하는 것이 목적입니다.\n",
    "\n",
    "- 가설 검정에서는 먼저, 검정통계량(test statistic)을 계산합니다. 검정통계량은 표본 데이터를 이용하여 계산되는 통계량으로, 이를 통해 귀무가설이 맞는지 여부를 판단합니다. 검정통계량의 값이 특정 기준값보다 작으면, 귀무가설을 기각할 수 있습니다. 이 기준값은 보통 유의수준(significance level)이라고 불리며, 보통 0.05나 0.01로 설정됩니다. 이러한 유의수준은 귀무가설을 잘못 기각할 확률을 의미합니다.\n",
    "\n",
    "- 가설 검정에서는 또한, 검정통계량의 분포를 이용하여 p값(p-value)을 계산합니다. p값은 귀무가설이 옳은데도 불구하고, 검정통계량이 현재 값 이상이 나올 확률을 의미합니다. 만약 p값이 유의수준보다 작으면, 귀무가설을 기각할 수 있습니다. 반대로, p값이 유의수준보다 크다면, 귀무가설을 기각할 수 없습니다.\n",
    "\n",
    "- 가설 검정은 통계학에서 매우 중요한 개념 중 하나로, 데이터 분석의 근간을 이루는 기술 중 하나입니다. 특히, 가설 검정은 과학적인 사실을 검증하고, 의사결정을 하기 위해 필요한 중요한 도구입니다."
   ]
  },
  {
   "cell_type": "markdown",
   "id": "990ac6e6",
   "metadata": {},
   "source": [
    "#### z-검정 vs t-검정\n",
    "- z-검정은 모집단의 분산이 알려져 있을 때 사용할 수 있는 검정 방법입니다. \n",
    "    예를 들어, 어떤 특성에 대한 모집단 분포가 정규분포를 따른다는 가정하에, 표본의 평균을 이용하여 모집단 평균을 추론하는 경우에 사용됩니다. 이때 표본 크기가 충분히 크다면, 중심극한정리에 따라 표본평균이 정규분포를 따르기 때문에 z-검정을 사용할 수 있습니다. z-검정은 검정통계량으로 z-score(표준정규분포 상에서의 위치)를 사용하며, z-score가 임계치보다 큰지 여부로 가설검정을 수행합니다.\n",
    "\n",
    "- t-검정은 모집단의 분산이 알려져 있지 않을 때 사용할 수 있는 검정 방법입니다. \n",
    "    예를 들어, 표본의 크기가 작거나 모집단이 정규분포를 따르지 않는 경우 t-검정을 사용할 수 있습니다. t-검정은 검정통계량으로 t-score(표준정규분포 대신 t-분포 상에서의 위치)를 사용하며, t-score가 임계치보다 큰지 여부로 가설검정을 수행합니다. t-검정에서 사용되는 임계치는 자유도(degree of freedom)와 유의수준에 따라 달라집니다.\n",
    "\n",
    "- 따라서, z-검정은 모집단 분산이 알려져 있을 때, t-검정은 모집단 분산이 알려져 있지 않을 때 사용됩니다. 또한, t-검정은 표본 크기가 크면 z-검정과 유사한 결과를 보여줄 수 있습니다.\n",
    "    - z_score = (sample_mean - mu) / (sigma / np.sqrt(sample_size))\n",
    "    - t_score = (sample_mean - mu) / (sample_std / np.sqrt(sample_size))"
   ]
  },
  {
   "cell_type": "code",
   "execution_count": 1,
   "id": "1b687ee1",
   "metadata": {},
   "outputs": [
    {
     "name": "stdout",
     "output_type": "stream",
     "text": [
      "0.95\n"
     ]
    }
   ],
   "source": [
    "# sf 함수는 \"Survival Function\"의 약어로, 확률 분포 함수 중 하나입니다.\n",
    "# 이 함수는 , 주어진 분포에서 주어진 값보다 작거나 같은 값을 가지는 확률을 반환\n",
    "\n",
    "import scipy.stats as stats\n",
    "\n",
    "x = -1.6448536269514722\n",
    "p = stats.norm.sf(x)     \n",
    "print(p)"
   ]
  },
  {
   "cell_type": "code",
   "execution_count": 4,
   "id": "52d1064c",
   "metadata": {},
   "outputs": [
    {
     "data": {
      "text/plain": [
       "-1.959963984540054"
      ]
     },
     "execution_count": 4,
     "metadata": {},
     "output_type": "execute_result"
    }
   ],
   "source": [
    "# 양측 검정 : 하한값\n",
    "stats.norm.isf(0.975)               # sf의 역함수인 isf.\n",
    "\n",
    "# 0.05 가 되는 기준값"
   ]
  },
  {
   "cell_type": "code",
   "execution_count": 5,
   "id": "d58b0853",
   "metadata": {},
   "outputs": [
    {
     "data": {
      "text/plain": [
       "1.959963984540054"
      ]
     },
     "execution_count": 5,
     "metadata": {},
     "output_type": "execute_result"
    }
   ],
   "source": [
    "# 상한값\n",
    "stats.norm.isf(1-0.975)"
   ]
  },
  {
   "cell_type": "code",
   "execution_count": 6,
   "id": "67d6fcab",
   "metadata": {},
   "outputs": [
    {
     "name": "stdout",
     "output_type": "stream",
     "text": [
      "0.050000000000000044\n"
     ]
    }
   ],
   "source": [
    "x = 1.6448536269514722\n",
    "p = stats.norm.sf(x)\n",
    "print(p)"
   ]
  },
  {
   "cell_type": "code",
   "execution_count": 7,
   "id": "0ecf7a35",
   "metadata": {},
   "outputs": [
    {
     "name": "stdout",
     "output_type": "stream",
     "text": [
      "0.025\n"
     ]
    }
   ],
   "source": [
    "x = 1.959963984540054               # 1.95\n",
    "p = stats.norm.sf(x)                # sf 함수는 x값 보다 클 확률을 구해주는 함수\n",
    "print(p)"
   ]
  },
  {
   "cell_type": "code",
   "execution_count": 8,
   "id": "b3fac63a",
   "metadata": {},
   "outputs": [
    {
     "name": "stdout",
     "output_type": "stream",
     "text": [
      "0.975\n"
     ]
    }
   ],
   "source": [
    "x = - 1.959963984540054               # - 1.95\n",
    "p = stats.norm.sf(x)                # x값 보다 클 확률\n",
    "print(p)"
   ]
  },
  {
   "cell_type": "code",
   "execution_count": 9,
   "id": "fae7ae5c",
   "metadata": {},
   "outputs": [
    {
     "name": "stdout",
     "output_type": "stream",
     "text": [
      "-1.959963984540054\n"
     ]
    },
    {
     "data": {
      "text/plain": [
       "1.9599639845400545"
      ]
     },
     "execution_count": 9,
     "metadata": {},
     "output_type": "execute_result"
    }
   ],
   "source": [
    "# isf : sf의 역함수\n",
    "th1 = stats.norm.isf(1-0.05/2)          # 0.95\n",
    "print(th1)\n",
    "th2 = stats.norm.isf(0.05/2)\n",
    "th2"
   ]
  },
  {
   "cell_type": "code",
   "execution_count": 10,
   "id": "0fe4d7e2",
   "metadata": {},
   "outputs": [
    {
     "data": {
      "image/png": "[encoded data removed]",
      "text/plain": [
       "<Figure size 640x480 with 1 Axes>"
      ]
     },
     "metadata": {},
     "output_type": "display_data"
    }
   ],
   "source": [
    "import numpy as np\n",
    "import matplotlib.pyplot as plt\n",
    "\n",
    "x_plot = np.arange(-3,3,0.1)\n",
    "plt.plot(x_plot,stats.norm.pdf(x=x_plot, loc=0,scale=1),color='black')\n",
    "plt.axvline(th1, color = 'red', linestyle = '--', label = '임계값')\n",
    "plt.axvline(th2, color = 'red', linestyle = '--', label = '임계값')\n",
    "plt.show()\n"
   ]
  },
  {
   "cell_type": "code",
   "execution_count": 11,
   "id": "724cd278",
   "metadata": {},
   "outputs": [
    {
     "data": {
      "image/png": "[encoded data removed]",
      "text/plain": [
       "<Figure size 640x480 with 1 Axes>"
      ]
     },
     "metadata": {},
     "output_type": "display_data"
    },
    {
     "name": "stdout",
     "output_type": "stream",
     "text": [
      "-2.5758293035489004\n",
      "2.575829303548901\n"
     ]
    }
   ],
   "source": [
    "import numpy as np\n",
    "import matplotlib.pyplot as plt\n",
    "t1 = stats.norm.isf(1-0.01/2)   # 하측 임계값\n",
    "t2 = stats.norm.isf(0.01/2)     # 상측 임계값\n",
    "\n",
    "x_plot = np.arange(-4,4,0.1)\n",
    "plt.plot(x_plot,stats.norm.pdf(x=x_plot,loc=0,scale=1),color='black')\n",
    "plt.axvline(t1, color='red', linestyle='--', label='임계값')\n",
    "plt.axvline(t2, color='red', linestyle='--', label='임계값')\n",
    "plt.show()\n",
    "\n",
    "print(t1)\n",
    "print(t2)"
   ]
  },
  {
   "cell_type": "markdown",
   "id": "88349b4c",
   "metadata": {},
   "source": [
    "### t 검정 임계값\n",
    "t검정에서는 검정통계량(t-score)을 사용하여 가설검정을 수행합니다. 이때, 검정통계량은 t-분포를 따르므로, 유의수준(alpha)과 검정방향(양측검정 또는 단측검정)에 따라 t-분포의 분위수를 사용하여 임계값을 결정"
   ]
  },
  {
   "cell_type": "code",
   "execution_count": 12,
   "id": "2c74353d",
   "metadata": {},
   "outputs": [
    {
     "name": "stdout",
     "output_type": "stream",
     "text": [
      "검정통계량: -0.36898021735296993\n",
      "유의확률: 0.6439287648708395\n",
      "임계값: (-1.959963984540054, 1.959963984540054)\n"
     ]
    }
   ],
   "source": [
    "import numpy as np\n",
    "from scipy.stats import norm\n",
    "\n",
    "# 모집단의 평균과 표준편차를 지정합니다.\n",
    "mu = 100\n",
    "sigma = 10\n",
    "\n",
    "# 표본 데이터를 생성합니다.\n",
    "sample_size = 100\n",
    "sample = np.random.normal(mu, sigma, sample_size)\n",
    "\n",
    "# 표본 평균과 표준편차를 계산합니다.\n",
    "sample_mean = np.mean(sample)\n",
    "sample_std = np.std(sample, ddof=1)\n",
    "\n",
    "# 검정통계량과 유의확률을 계산합니다.\n",
    "z = (sample_mean - mu) / (sigma / np.sqrt(sample_size))\n",
    "p_value = 1 - norm.cdf(z)\n",
    "\n",
    "print('검정통계량:', z)\n",
    "print('유의확률:', p_value)\n",
    "\n",
    "alpha = 0.05\n",
    "critical_value = norm.ppf(1-alpha/2)\n",
    "lower_bound = -critical_value\n",
    "upper_bound = critical_value\n",
    "\n",
    "print(f\"임계값: ({lower_bound}, {upper_bound})\")\n",
    "\n",
    "\n",
    "\n",
    "# 임계값: (-1.959963984540054, 1.959963984540054) 범위내 z score가 있으므로 귀무가설을 기각할 수 없음\n",
    "# p값이 0.05 보다 크므로 귀무가설을 기각할 수 없음"
   ]
  },
  {
   "cell_type": "markdown",
   "id": "80c56b2c",
   "metadata": {},
   "source": [
    "- 검정통계량 z 값과 유의수준(α)에 따라서 임계값을 계산할 수 있습니다. 보통 α=0.05로 설정하여 유의수준이 5%일 때, 양측검정을 할 경우 임계값은 ±1.96이 됩니다.\n",
    "\n",
    "- 만약 단측검정을 수행한다면, 유의수준(α)과 검정 방향에 따라서 임계값이 달라집니다. 예를 들어, 유의수준이 5%이고, 검정 방향이 오른쪽(대립가설: 평균 > 기준값)인 경우에는 임계값이 1.645가 됩니다.\n",
    "\n",
    "- 따라서, 해당 코드에서는 양측검정을 수행하므로, 임계값은 ±1.96이 됩니다. 이를 코드로 나타내면 다음과 같습니다."
   ]
  },
  {
   "cell_type": "code",
   "execution_count": 13,
   "id": "1787a386",
   "metadata": {},
   "outputs": [
    {
     "name": "stdout",
     "output_type": "stream",
     "text": [
      "검정통계량: 1.525141754501929\n",
      "유의확률: 0.14369738156028067\n"
     ]
    }
   ],
   "source": [
    "import numpy as np\n",
    "from scipy.stats import t\n",
    "\n",
    "# 모집단의 평균을 지정합니다.\n",
    "mu = 100\n",
    "\n",
    "# 표본 데이터를 생성합니다.\n",
    "sample_size = 20\n",
    "sample = np.random.normal(mu, 10, sample_size)\n",
    "\n",
    "# 표본 평균과 표준편차를 계산합니다.\n",
    "sample_mean = np.mean(sample)\n",
    "sample_std = np.std(sample, ddof=1)\n",
    "\n",
    "# 검정통계량과 유의확률을 계산합니다.\n",
    "t_score = (sample_mean - mu) / (sample_std / np.sqrt(sample_size))\n",
    "p_value = 2 * (1 - t.cdf(abs(t_score), df=sample_size-1))\n",
    "\n",
    "print('검정통계량:', t_score)\n",
    "print('유의확률:', p_value)"
   ]
  },
  {
   "cell_type": "code",
   "execution_count": 14,
   "id": "f1d5be65",
   "metadata": {},
   "outputs": [
    {
     "name": "stdout",
     "output_type": "stream",
     "text": [
      "임계값: -2.0930240544082634 2.093024054408263\n"
     ]
    }
   ],
   "source": [
    "# 양측검정\n",
    "\n",
    "import numpy as np\n",
    "from scipy.stats import t\n",
    "\n",
    "alpha = 0.05 # 유의수준\n",
    "df = 19      # 자유도\n",
    "t_crit1 = t.ppf(alpha/2, df) # 양측검정의 임계값\n",
    "t_crit2 = t.ppf(1-alpha/2, df)\n",
    "\n",
    "print('임계값:', t_crit1, t_crit2)"
   ]
  },
  {
   "cell_type": "code",
   "execution_count": 15,
   "id": "fe213e4e",
   "metadata": {},
   "outputs": [
    {
     "data": {
      "text/plain": [
       "1.729132811521367"
      ]
     },
     "execution_count": 15,
     "metadata": {},
     "output_type": "execute_result"
    }
   ],
   "source": [
    "# 우측단측검정\n",
    "\n",
    "import numpy as np\n",
    "from scipy.stats import t\n",
    "\n",
    "alpha = 0.05                 # 유의수준\n",
    "df = 19                      # 자유도\n",
    "t_crit = t.ppf(1-alpha, df)  # 우측단측\n",
    "t_crit"
   ]
  },
  {
   "cell_type": "markdown",
   "id": "788ad14a",
   "metadata": {},
   "source": [
    "## p-value를 계산하고 검정을 수행하는 방법\n",
    "t.cdf() 함수를 이용하여 t-분포의 누적분포함수(cumulative distribution function) 값을 계산합니다. 그리고 p-value는 양측검정 이므로, 계산된 누적분포함수 값에서 양쪽 꼬리 면적을 고려하여 2를 곱합니다.\n",
    "\n",
    "계산된 p-value는 유의수준(alpha)와 비교하여 검정을 수행합니다. 만약 p-value가 alpha보다 작으면, 귀무가설을 기각하고 대 립가설을 채택합니다. 그 반대로, p-value가 alpha보다 크면, 귀무가설을 채택"
   ]
  },
  {
   "cell_type": "code",
   "execution_count": 16,
   "id": "606f5963",
   "metadata": {},
   "outputs": [
    {
     "name": "stdout",
     "output_type": "stream",
     "text": [
      "귀무가설 채택: 표본평균과 모집단평균은 차이가 없습니다.\n"
     ]
    }
   ],
   "source": [
    "# 임계값 기준으로 검정 import numpy as np\n",
    "from scipy.stats import t\n",
    "\n",
    "# 모집단 평균과 표준편차를 지정합니다.\n",
    "mu=100\n",
    "sigma=10\n",
    "\n",
    "# 표본 데이터를 생성합니다.\n",
    "sample_size=20\n",
    "sample=np.random.normal(mu, sigma, sample_size)\n",
    "\n",
    "# 표본 평균과 표준오차를 계산합니다.\n",
    "sample_mean = np.mean(sample)\n",
    "sample_std =np.std(sample, ddof=1)\n",
    "standard_error = sample_std / np.sqrt(sample_size)\n",
    "\n",
    "# 검정통계량을 계산합니다.\n",
    "t_score = (sample_mean-mu) / standard_error\n",
    "\n",
    "# 유의수준과 검정 방향을 설정합니다.\n",
    "alpha = 0.05 #95% 신뢰수준\n",
    "tail = 'two' #양측검정\n",
    "\n",
    "# 임계값을 계산합니다.\n",
    "if tail == 'two':\n",
    "    t_crit = t.ppf(1 - alpha/2, df=sample_size-1)\n",
    "else:\n",
    "    t_crit = t.ppf(1 - alpha, df=sample_size-1)\n",
    "\n",
    "# 검정결과를 출력합니다.\n",
    "if abs(t_score)> t_crit:\n",
    "    print('귀무가설 기각: 표본평균과 모집단평균은 유의하게 다릅니다.')\n",
    "else:\n",
    "    print('귀무가설 채택: 표본평균과 모집단평균은 차이가 없습니다.')"
   ]
  },
  {
   "cell_type": "code",
   "execution_count": 17,
   "id": "b046a930",
   "metadata": {},
   "outputs": [
    {
     "name": "stdout",
     "output_type": "stream",
     "text": [
      "귀무가설 채택: p-value는 0.38 이며, 표본평균과 모집단평균은 차이가 없습니다.\n"
     ]
    }
   ],
   "source": [
    "# p_value를 구해서 검정을 수행\n",
    "\n",
    "import numpy as np\n",
    "from scipy.stats import t\n",
    "\n",
    "# 모집단 평균과 표준편차를 지정합니다.\n",
    "mu = 100\n",
    "sigma = 10\n",
    "\n",
    "# 표본 데이터를 생성합니다.\n",
    "sample_size = 20\n",
    "sample = np.random.normal(mu, sigma, sample_size)\n",
    "\n",
    "# 표본 평균과 표준오차를 계산합니다.\n",
    "sample_mean = np.mean(sample)\n",
    "sample_std = np.std(sample, ddof=1)\n",
    "standard_error = sample_std / np.sqrt(sample_size)\n",
    "\n",
    "# 검정통계량과 p-value를 계산합니다.\n",
    "t_score = (sample_mean - mu) / standard_error\n",
    "p_value = 2 * (1 - t.cdf(abs(t_score), df=sample_size-1))\n",
    "\n",
    "# 유의수준을 설정합니다.\n",
    "alpha = 0.05\n",
    "\n",
    "# 검정결과를 출력합니다.\n",
    "if p_value < alpha:\n",
    "    print('귀무가설 기각: p-value는', round(p_value,2), '이며, 표본평균과 모집단평균은 유의하게 다릅니다.')\n",
    "else:\n",
    "    print('귀무가설 채택: p-value는', round(p_value,2), '이며, 표본평균과 모집단평균은 차이가 없습니다.')"
   ]
  },
  {
   "cell_type": "markdown",
   "id": "85476d13",
   "metadata": {},
   "source": [
    "- 귀무가설 대립가설\n",
    "    - 기각 대상이 되는 첫번째 가설을 귀무가설, 귀무가설과 대립되는 가설을 대립가설이라고 함\n",
    "    - 귀무가설이 기각된다면 즉 귀무가설이 틀렸다고 판단을 하면 유의미한 차이가 있다는 것임\n",
    "- p값(유의확률) : 표본과 귀무가설 간의 모순을 나타내는 지표\n",
    "    - p값이 작을수록 귀무가설과 표본이 모순된다고 판단\n",
    "- 유의수준 : 귀무가설을 기각하는 기준이 되는 값\n",
    "    - 유의수준은 위험률이라고 하며 5%를 사용하는 경우가 많음"
   ]
  },
  {
   "cell_type": "markdown",
   "id": "7bfb59cc",
   "metadata": {},
   "source": [
    "일표본 t-검정\n",
    "\n",
    "일표본 t-검정은 하나의 표본에 대해 평균이 특정 값과 다른지 검정하는 방법입니다. 가설검정의 절차는 다음과 같습니다.\n",
    "\n",
    "- 귀무가설과 대립가설 설정\n",
    "- 유의 수준 결정\n",
    "- 검정통계량(t-값) 계산\n",
    "- 임계값과 비교\n",
    "- 검정결과 판단 및 결론 도출"
   ]
  },
  {
   "cell_type": "code",
   "execution_count": null,
   "id": "54667b6a",
   "metadata": {},
   "outputs": [],
   "source": []
  },
  {
   "cell_type": "code",
   "execution_count": 18,
   "id": "c057cfd6",
   "metadata": {},
   "outputs": [
    {
     "name": "stdout",
     "output_type": "stream",
     "text": [
      "표본평균: 10.610000000000001\n",
      "표본표준편차: 0.5820461990063828\n",
      "t-값: -485.6590430880068\n",
      "임계값: -2.262157162740992 2.2621571627409915\n",
      "p-value: 3.3870352883330288e-21\n",
      "유의수준 0.05에서 검정통계량은 임계값보다 크므로 귀무가설 기각\n"
     ]
    }
   ],
   "source": [
    "# 일표본 t-검정\n",
    "import numpy as np\n",
    "from scipy.stats import t\n",
    "\n",
    "#샘플 데이터 생성\n",
    "sample_data = np.array([10.8, 9.5, 11.2, 10.5, 11.3, 10.7, 10.9, 9.8, 11.0, 10.4])\n",
    "\n",
    "#귀무가설: 표본 평균은 10과 같다 # 대립가설: 표본 평균은 1001 아니다 mu= 10# 귀무가설에 따른 평균값 alpha = 0.05 # +2\n",
    "sample_mean = np. mean (sample_data) # BE\n",
    "sample_std = np.std (sample_data, ddof=1) #BER\n",
    "df = len(sample_data) - 1 # RS\n",
    "t_value = (sample_mean - mu) / (sample_std/ np.sqrt(len(sample_data))) #검정통계량\n",
    "t_crit1 = t.ppf(alpha/2, df) #임계값\n",
    "t_crit2 = t.ppf(1-alpha/2, df)\n",
    "p_value = t.sf (abs(t_value), df) * 2 # p-value\n",
    "\n",
    "# 결과 출력\n",
    "print('표본평균:', sample_mean)\n",
    "print('표본표준편차:', sample_std)\n",
    "print('t-값:', t_value)\n",
    "print('임계값:', t_crit1, t_crit2)\n",
    "print('p-value:', p_value)\n",
    "\n",
    "if abs(t_value) > t_crit:\n",
    "    print('유의수준 {}에서 검정통계량은 임계값보다 크므로 귀무가설 기각'.format(alpha))\n",
    "else:\n",
    "    print('유의수준 {}에서 검정통계량은 임계값보다 작으므로 귀무가설 채택'.format(alpha))"
   ]
  },
  {
   "cell_type": "code",
   "execution_count": null,
   "id": "546367f3",
   "metadata": {},
   "outputs": [],
   "source": []
  },
  {
   "cell_type": "code",
   "execution_count": 24,
   "id": "db4b7592",
   "metadata": {},
   "outputs": [
    {
     "name": "stdout",
     "output_type": "stream",
     "text": [
      "t_value: 3.31\n",
      "임계값: -2.262157162740992 2.2621571627409915\n",
      "p_value: 0.01\n"
     ]
    },
    {
     "data": {
      "image/png": "[encoded data removed]",
      "text/plain": [
       "<Figure size 640x480 with 1 Axes>"
      ]
     },
     "metadata": {},
     "output_type": "display_data"
    }
   ],
   "source": [
    "import matplotlib.pyplot as plt\n",
    "from matplotlib import rc\n",
    "\n",
    "rc('font',family='Malgun Gothic')  # 한글 폰트 설정\n",
    "plt.rcParams['axes.unicode_minus'] = False # 마이너스 부호 출력 설정\n",
    "\n",
    "\n",
    "sample_data = np.array([10.8, 9.5, 11.2, 10.5, 11.3, 10.7, 10.9, 9.8, 11.0, 10.4])\n",
    "mu = 10  # 귀무가설에 따른 평균값\n",
    "alpha = 0.05  # 유의 수준\n",
    "sample_mean = np.mean(sample_data)  # 표본평균\n",
    "sample_std = np.std(sample_data, ddof=1)  # 표본표준편차\n",
    "df = len(sample_data) - 1  # 자유도\n",
    "t_value = (sample_mean - mu) / (sample_std / np.sqrt(len(sample_data)))  # 검정통계량\n",
    "t_crit1 = t.ppf(alpha/2, df) # 임계값\n",
    "t_crit2 = t.ppf(1-alpha/2, df) \n",
    "p_value = t.sf(abs(t_value), df) * 2  # p-value\n",
    "print('t_value:', round(t_value,2))\n",
    "print('임계값:', t_crit1, t_crit2)\n",
    "print('p_value:', round(p_value,2))\n",
    "\n",
    "# t-분포 확률 밀도 함수 그리기\n",
    "t_dist = t(df)\n",
    "x = np.linspace(-4,4,100)\n",
    "y =t_dist.pdf(x)\n",
    "plt.plot(x, y, label='t-분포')\n",
    "\n",
    "# 검정통계량과 임계값 나타내기\n",
    "plt.axvline(x=t_value, color='r', linestyle='--', label='t-value 검정통계량')\n",
    "plt.axvline(x=t_crit1, color='g', linestyle='--', label='critical value 임계값')\n",
    "plt.axvline(x=t_crit2, color='g', linestyle='--')\n",
    "\n",
    "plt.title('t-test result')\n",
    "plt.legend()      # 범례\n",
    "plt.show()\n",
    "\n",
    "# 임계값보다 t값이 더 크기 때문에 귀무가설은 기각하므로 \n",
    "# \"표본평균은 10이 아니다\"라는 대립가설이 통계적으로 유의미하다"
   ]
  },
  {
   "cell_type": "markdown",
   "id": "bcf76467",
   "metadata": {},
   "source": [
    "#### 과제1_0418.\n",
    "t분포 확률밀도 함수를 그래프로 그리고 그 위에 t_value와 임계값을 vline으로 표시하세요."
   ]
  },
  {
   "cell_type": "code",
   "execution_count": null,
   "id": "ebaa2565",
   "metadata": {},
   "outputs": [],
   "source": []
  },
  {
   "cell_type": "markdown",
   "id": "3b101d03",
   "metadata": {},
   "source": [
    "#### 대응표본 t-검정(Paired samples t-test) \n",
    "동일한 개체나 집단에서, 두 조건의 차이에 대한 검정 방법입니다. \n",
    "예를 들어, 특정 약의 효과를 검증하기 위해, 약을 복용하기 전과 후의 체온을 측정한 경우에 대응표본 t-검정을 사용할 수 있습니다."
   ]
  },
  {
   "cell_type": "code",
   "execution_count": 26,
   "id": "793878c0",
   "metadata": {},
   "outputs": [
    {
     "data": {
      "text/html": [
       "<div>\n",
       "<style scoped>\n",
       "    .dataframe tbody tr th:only-of-type {\n",
       "        vertical-align: middle;\n",
       "    }\n",
       "\n",
       "    .dataframe tbody tr th {\n",
       "        vertical-align: top;\n",
       "    }\n",
       "\n",
       "    .dataframe thead th {\n",
       "        text-align: right;\n",
       "    }\n",
       "</style>\n",
       "<table border=\"1\" class=\"dataframe\">\n",
       "  <thead>\n",
       "    <tr style=\"text-align: right;\">\n",
       "      <th></th>\n",
       "      <th>person</th>\n",
       "      <th>medicine</th>\n",
       "      <th>body_temperature</th>\n",
       "    </tr>\n",
       "  </thead>\n",
       "  <tbody>\n",
       "    <tr>\n",
       "      <th>0</th>\n",
       "      <td>A</td>\n",
       "      <td>before</td>\n",
       "      <td>36.2</td>\n",
       "    </tr>\n",
       "    <tr>\n",
       "      <th>1</th>\n",
       "      <td>B</td>\n",
       "      <td>before</td>\n",
       "      <td>36.2</td>\n",
       "    </tr>\n",
       "    <tr>\n",
       "      <th>2</th>\n",
       "      <td>C</td>\n",
       "      <td>before</td>\n",
       "      <td>35.3</td>\n",
       "    </tr>\n",
       "    <tr>\n",
       "      <th>3</th>\n",
       "      <td>D</td>\n",
       "      <td>before</td>\n",
       "      <td>36.1</td>\n",
       "    </tr>\n",
       "    <tr>\n",
       "      <th>4</th>\n",
       "      <td>E</td>\n",
       "      <td>before</td>\n",
       "      <td>36.1</td>\n",
       "    </tr>\n",
       "  </tbody>\n",
       "</table>\n",
       "</div>"
      ],
      "text/plain": [
       "  person medicine  body_temperature\n",
       "0      A   before              36.2\n",
       "1      B   before              36.2\n",
       "2      C   before              35.3\n",
       "3      D   before              36.1\n",
       "4      E   before              36.1"
      ]
     },
     "execution_count": 26,
     "metadata": {},
     "output_type": "execute_result"
    }
   ],
   "source": [
    "import pandas as pd\n",
    "pt_data = pd.read_csv('C:\\hmkd1\\m2_분석라이브러리\\dataset/5_9_ptt.csv')\n",
    "pt_data.head()"
   ]
  },
  {
   "cell_type": "code",
   "execution_count": 27,
   "id": "39bc23bc",
   "metadata": {},
   "outputs": [
    {
     "data": {
      "text/plain": [
       "before    5\n",
       "after     5\n",
       "Name: medicine, dtype: int64"
      ]
     },
     "execution_count": 27,
     "metadata": {},
     "output_type": "execute_result"
    }
   ],
   "source": [
    "pt_data.medicine.value_counts()"
   ]
  },
  {
   "cell_type": "code",
   "execution_count": 29,
   "id": "d7b33bf0",
   "metadata": {},
   "outputs": [
    {
     "data": {
      "text/plain": [
       "array([ 0.6, -0.1,  1.5,  1. ,  0.8])"
      ]
     },
     "execution_count": 29,
     "metadata": {},
     "output_type": "execute_result"
    }
   ],
   "source": [
    "before = pt_data[pt_data.medicine=='before']['body_temperature']\n",
    "after = pt_data.query('medicine== \"after\"')['body_temperature']\n",
    "\n",
    "# 배열로 변환\n",
    "before = np.array(before)\n",
    "after = np.array(after)\n",
    "diff = after - before\n",
    "diff"
   ]
  },
  {
   "cell_type": "code",
   "execution_count": 30,
   "id": "5b78227d",
   "metadata": {},
   "outputs": [
    {
     "data": {
      "text/plain": [
       "TtestResult(statistic=2.901693483620596, pvalue=0.044043109730074276, df=4)"
      ]
     },
     "execution_count": 30,
     "metadata": {},
     "output_type": "execute_result"
    }
   ],
   "source": [
    "# 평균값이 0과 다른지 검정\n",
    "# 귀무가설을 기각하므로 통계적으로 유의미한 차이가 있다고 주장할 수 있다.\n",
    "from scipy import stats\n",
    "stats.ttest_1samp(diff,0)\n",
    "\n",
    "# p 값이 0.044 으로 0.05보다 작아 귀무가설 기각."
   ]
  },
  {
   "cell_type": "markdown",
   "id": "eb7e1333",
   "metadata": {},
   "source": [
    "#### 독립표본 t-검정(Independent samples t-test)\n",
    "두 개의 독립된 집단에서, 각 집단의 평균 차이가 유의한지를 검정하는 방법입니다. 예를 들어, 남자와 여자의 평균 키를 비교하는 경우에 독립표본 t-검정을 사용할 수 있습니다."
   ]
  },
  {
   "cell_type": "code",
   "execution_count": 32,
   "id": "1d21d829",
   "metadata": {},
   "outputs": [
    {
     "data": {
      "text/plain": [
       "3.1557282344421034"
      ]
     },
     "execution_count": 32,
     "metadata": {},
     "output_type": "execute_result"
    }
   ],
   "source": [
    "# 평균, \n",
    "mean_bf = np.mean(before)\n",
    "mean_af = np.mean(after)\n",
    "\n",
    "# 분산\n",
    "sigma_bf = np.var(before,ddof=1)\n",
    "sigma_af = np.var(after,ddof=1)\n",
    "\n",
    "# 샘플사이즈\n",
    "m = len(before)\n",
    "n = len(after)\n",
    "\n",
    "# t값\n",
    "t_value = (mean_af-mean_bf) / np.sqrt((sigma_bf/m+sigma_af/n))\n",
    "t_value"
   ]
  },
  {
   "cell_type": "code",
   "execution_count": 35,
   "id": "84ec328b",
   "metadata": {},
   "outputs": [
    {
     "data": {
      "text/plain": [
       "Ttest_indResult(statistic=3.1557282344421034, pvalue=0.013484775682079892)"
      ]
     },
     "execution_count": 35,
     "metadata": {},
     "output_type": "execute_result"
    }
   ],
   "source": [
    "# equal_var = False : 분산이 다르다고 가정한 t검정 (welch 검정)\n",
    "stats.ttest_ind(after,before,equal_var=False)\n",
    "\n",
    "# pvalue가 0.05보다 작기에 귀무가설을 기각하고 통계적으로 유의미한 차이가 있다고 판단"
   ]
  },
  {
   "cell_type": "code",
   "execution_count": null,
   "id": "82b471ba",
   "metadata": {},
   "outputs": [],
   "source": []
  },
  {
   "cell_type": "markdown",
   "id": "02a09a13",
   "metadata": {},
   "source": [
    "#### 과제 2_0418\n",
    "동일한 집단에 대해서 약 복용 전과 후의 체온에 변화가 있는지에 대한 유의성 검정을 수행하세요\n",
    "\n",
    "- 약 복용 전 체온 데이터 : [36.2, 36.1, 36.5, 36.3, 36.2, 36.4, 36.3, 36.1, 36.6, 36.2]\n",
    "- 약 복용 후 체온 데이터 : [36.5, 36.3, 36.8, 36.6, 36.5, 36.7, 36.6, 36.2, 36.9, 36.4]"
   ]
  },
  {
   "cell_type": "code",
   "execution_count": 30,
   "id": "4c26bf0f",
   "metadata": {},
   "outputs": [
    {
     "name": "stdout",
     "output_type": "stream",
     "text": [
      "검정 결과: 약의 효과가 있다고 할 수 있습니다.\n"
     ]
    }
   ],
   "source": [
    "before = [36.2, 36.1, 36.5, 36.3, 36.2, 36.4, 36.3, 36.1, 36.6, 36.2]\n",
    "after =  [36.5, 36.3, 36.8, 36.6, 36.5, 36.7, 36.6, 36.2, 36.9, 36.4]\n",
    "\n",
    "\n",
    "# 귀무 가설 : 약 복용 전과 후의 체온이 같다. (μd = 0) 즉, 체온의 변화가 없다.\n",
    "# 대립 가설 : 약 복용 전과 후의 체온이 다르다. (μd ≠ 0)\n",
    "\n",
    "# 대응 표본 t-검정 :  동일한 개체나 집단에서, 두 조건의 차이에 대한 검정 방법\n",
    "t, p = stats.ttest_rel(before, after)\n",
    "\n",
    "# 유의수준을 0.05로 설정하고, 양측 검정을 수행한다고 가정\n",
    "# 체온에 변화가 있다는 것은 alpha보다 클 수도 작을 수도 있다는 것이기에 양측검정\n",
    "alpha = 0.05\n",
    "\n",
    "# 검정 결과를 출력합니다.\n",
    "if p < alpha:\n",
    "    print(\"검정 결과: 약의 효과가 있다고 할 수 있습니다.\")\n",
    "else:\n",
    "    print(\"검정 결과: 약의 효과가 없다고 할 수 있습니다.\")\n",
    "\n",
    "    \n",
    "    \n",
    "# t값으로 검정 결과를 출력하려면 임계치가 필요. \n",
    "# 양측검정이기에 상한임계치보다 크거나 하한임계치보다 작은 값이 나오면 귀무가설 기각"
   ]
  },
  {
   "cell_type": "markdown",
   "id": "351708ed",
   "metadata": {},
   "source": [
    "- p-값은 표본에서 얻은 검정 통계량(예: t-값, z-값, F-값 등)이 귀무 가설에 따라서 나올 수 있는 값 중에서 얼마나 극단적인 값인지를 나타내는 지표입니다. \n",
    "    - 귀무 가설의 기각 여부를 결정하는 지표\n",
    "    - 즉, p-값이 작을수록 우연히 발생한 것이 아니라 대립 가설이 맞을 가능성이 높아지며, 귀무 가설을 기각하게 됩니다.\n",
    "\n",
    "- t-값은 표본에서 얻은 평균값이 모집단의 평균값과 유의미한 차이가 있는지를 판단하기 위한 통계량입니다. \n",
    "    - t-값은 표본 평균과 모집단 평균 간의 차이를 표준오차로 나눈 값으로 계산됩니다. \n",
    "    - t-값은 표본 평균과 모집단 평균 간의 차이가 통계적으로 유의미한지를 판단하는 지표\n",
    "    - 즉, t-값이 크면 표본 평균과 모집단 평균 간의 차이가 통계적으로 유의미하다는 것을 의미합니다."
   ]
  },
  {
   "cell_type": "markdown",
   "id": "dcb009bb",
   "metadata": {},
   "source": [
    "#### 과제3_0418.\n",
    "남자와 여자 두 그룹에 대해서 평균 키의 차이가 있는지에 대한 유의성 검정을 수행하세요.\n",
    "- 남자의 키 데이터 : [172, 174, 176, 178, 180, 182, 184, 186, 188, 190]\n",
    "- 여자의 키 데이터 : [156, 158, 160, 162, 164, 166, 168, 170, 172, 174]"
   ]
  },
  {
   "cell_type": "code",
   "execution_count": null,
   "id": "842fef49",
   "metadata": {},
   "outputs": [],
   "source": [
    "m =  np.array([172, 174, 176, 178, 180, 182, 184, 186, 188, 190])\n",
    "w =  np.array([156, 158, 160, 162, 164, 166, 168, 170, 172, 174])\n",
    "\n",
    "# 독립표본 t-검정을 수행합니다.\n",
    "t, p = stats.ttest_ind(m,w)\n",
    "\n",
    "# 유의수준을 0.05로 설정하고 "
   ]
  },
  {
   "cell_type": "code",
   "execution_count": 76,
   "id": "8d6574b6",
   "metadata": {},
   "outputs": [
    {
     "data": {
      "text/plain": [
       "Ttest_indResult(statistic=3.00444774150815, pvalue=0.008037856208219164)"
      ]
     },
     "execution_count": 76,
     "metadata": {},
     "output_type": "execute_result"
    }
   ],
   "source": [
    "m =  [172, 174, 176, 178, 180, 182, 184, 186, 188, 190]\n",
    "w =  [156, 158, 160, 162, 164, 166, 168, 170, 172, 174]\n",
    "\n",
    "# 독립표본 t-검정(Independent samples t-test)\n",
    "# 두 개의 독립된 집단에서, 각 집단의 평균 차이가 유의한지를 검정하는 방법\n",
    "\n",
    "# 평균, \n",
    "mean_m = np.mean(m)\n",
    "mean_w = np.mean(w)\n",
    "\n",
    "# 분산\n",
    "sigma_m = np.var(m,ddof=1)\n",
    "sigma_w = np.var(w,ddof=1)\n",
    "\n",
    "# 샘플사이즈\n",
    "m = len(m)\n",
    "n = len(w)\n",
    "\n",
    "# t값\n",
    "t_value = (mean_m-mean_w) / np.sqrt((mean_w/m+mean_m/n))\n",
    "t_value\n",
    "\n",
    "# equal_var = False : 분산이 다르다고 가정한 t검정 (welch 검정)\n",
    "stats.ttest_ind(after,before,equal_var=False)\n",
    "\n",
    "# p-value 값이 0.05보다 작기에 귀무 가설은 기각되고 유의미한 차이가 있다고 판단."
   ]
  },
  {
   "cell_type": "markdown",
   "id": "5e7f7e27",
   "metadata": {},
   "source": [
    "#### 카이제곱 분포\n",
    "- 분산분석이나 독립성 검정 등에서 사용되는 확률분포입니다. 카이제곱 분포는 자유도(degree of freedom)에 따라 모양이 달라지며, 자유도가 클수록 정규분포에 가까워집니다.\n",
    "\n",
    "- 독립성 검정에서 카이스퀘어 분포를 사용하는 이유는 검정통계량으로서 카이스퀘어 검정통계량을 사용하기 때문입니다.\n",
    "\n",
    "- 독립성 검정은 두 범주형 변수 간의 관련성을 검정하는 방법입니다. 예를 들어, 성별과 흡연 여부라는 두 가지 범주형 변수가 있을 때, 이 두 변수 간에는 관련성이 있는지 없는지를 검정하는 것입니다.\n",
    "\n",
    "- 카이스퀘어 검정통계량은 범주형 변수 간의 관련성을 검정하는 데 사용되며, 관측된 빈도와 기대 빈도 간의 차이를 이용하여 검정통계량을 계산합니다. 검정통계량은 카이스퀘어 분포를 따르므로, 카이스퀘어 분포를 이용하여 유의확률을 계산합니다. 이 때, 검정통계량이 카이스퀘어 분포를 따르는 것은 큰 표본에서는 중심극한정리에 의해, 작은 표본에서는 피셔의 정확 검정에 의해 유도됩니다.\n",
    "\n",
    "- 따라서, 독립성 검정에서 카이스퀘어 분포를 사용하는 이유는, 검정통계량으로서 카이스퀘어 검정통계량을 사용하기 때문입니다. 이를 통해, 범주형 변수 간의 관련성을 검정할 때 적절한 검정통계량을 사용할 수 있으며, 이를 기반으로 유의확률을 계산하여 검정 결과를 도출할 수 있습니다."
   ]
  },
  {
   "cell_type": "code",
   "execution_count": 41,
   "id": "b6c927ac",
   "metadata": {},
   "outputs": [
    {
     "data": {
      "text/plain": [
       "[<matplotlib.lines.Line2D at 0x226732fdca0>]"
      ]
     },
     "execution_count": 41,
     "metadata": {},
     "output_type": "execute_result"
    },
    {
     "data": {
      "image/png": "[encoded data removed]",
      "text/plain": [
       "<Figure size 640x480 with 1 Axes>"
      ]
     },
     "metadata": {},
     "output_type": "display_data"
    }
   ],
   "source": [
    "import numpy as np\n",
    "from scipy.stats import chi2\n",
    "import matplotlib.pyplot as plt\n",
    "\n",
    "# 카이제곱 분포의 확률밀도함수 그래프\n",
    "\n",
    "x = np.linspace(0,10,100)\n",
    "df = 5\n",
    "pdf = chi2.pdf(x,df)\n",
    "plt.plot(x,pdf,label = 'PDF')\n",
    "\n"
   ]
  },
  {
   "cell_type": "code",
   "execution_count": 43,
   "id": "ce11fe92",
   "metadata": {},
   "outputs": [
    {
     "data": {
      "text/plain": [
       "[<matplotlib.lines.Line2D at 0x226733d8eb0>]"
      ]
     },
     "execution_count": 43,
     "metadata": {},
     "output_type": "execute_result"
    },
    {
     "data": {
      "image/png": "[encoded data removed]",
      "text/plain": [
       "<Figure size 640x480 with 1 Axes>"
      ]
     },
     "metadata": {},
     "output_type": "display_data"
    }
   ],
   "source": [
    "import numpy as np\n",
    "from scipy.stats import chi2\n",
    "import matplotlib.pyplot as plt\n",
    "\n",
    "# 카이제곱 분포의 확률밀도함수 그래프\n",
    "\n",
    "x = np.linspace(0,60,100)\n",
    "df = 30\n",
    "pdf = chi2.pdf(x,df)\n",
    "plt.plot(x,pdf,label = 'PDF')\n",
    "\n",
    "# 자유도에 따라 분포도가 달라짐\n",
    "# 샘플 수가 작아지면 그 만큼 가변적이다."
   ]
  },
  {
   "cell_type": "code",
   "execution_count": 42,
   "id": "8f3c8f6e",
   "metadata": {},
   "outputs": [
    {
     "data": {
      "image/png": "[encoded data removed]",
      "text/plain": [
       "<Figure size 640x480 with 1 Axes>"
      ]
     },
     "metadata": {},
     "output_type": "display_data"
    }
   ],
   "source": [
    "# 카이제곱 분포의 확률밀도함수 그래프\n",
    "\n",
    "x = np.linspace(0,10,100)\n",
    "df = 5\n",
    "pdf = chi2.pdf(x,df)\n",
    "plt.plot(x,pdf,label = 'PDF')\n",
    "\n",
    "\n",
    "# 카이제곱 분포의 누적분포함수 그래프\n",
    "\n",
    "x = np.linspace(0,10,100)\n",
    "df = 5\n",
    "cdf = chi2.cdf(x,df)\n",
    "plt.plot(x,cdf,label = 'CDF')\n",
    "\n",
    "plt.legend()\n",
    "plt.show()"
   ]
  },
  {
   "cell_type": "markdown",
   "id": "1af5a9e4",
   "metadata": {},
   "source": [
    "#### 독립성 검정\n",
    "- 독립성 검정은 두 개의 범주형 변수 간의 상관 관계를 검정하는 방법입니다. 독립성 검정에서는 귀무가설로 두 변수가 서로 독립적이라는 가정을 놓고, 대립가설로 두 변수가 서로 상관 관계가 있다는 가정을 놓습니다. 검정 결과로는 유의확률이 출력되며, 유의확률이 유의수준보다 작을 경우 귀무가설을 기각하고 대립가설을 채택합니다.\n",
    "\n",
    "- 독립성 검정에서는 검정통계량으로 카이제곱 검정통계량을 사용합니다. 검정통계량을 계산하기 위해 교차표(cross table)을 생성하고, 이를 바탕으로 관측값과 기대값의 차이를 계산합니다. 교차표는 각 범주형 변수의 카테고리를 축으로 하는 표입니다. 예를 들어, 성별과 흡연 여부라는 두 범주형 변수 간의 독립성을 검정하는 경우, 교차표는 성별을 행으로, 흡연 여부를 열로 나열한 표입니다.\n",
    "\n",
    "- 검정 결과로는 검정통계량과 유의확률이 출력되며, 유의확률이 유의수준보다 작으면 귀무가설을 기각하고 대립가설을 채택합니다. 따라서, 독립성 검정 결과를 해석할 때에는 유의수준을 고려하여 검정 결과를 해석해야 합니다.\n"
   ]
  },
  {
   "cell_type": "code",
   "execution_count": 45,
   "id": "02cb06b0",
   "metadata": {},
   "outputs": [
    {
     "name": "stdout",
     "output_type": "stream",
     "text": [
      "카이 제곱 검정 통계량:  0.4464285714285714\n",
      "p_value:  3.3870352883330288e-21\n",
      "자유도:  1\n",
      "기대빈도:  \n",
      " [[12. 18.]\n",
      " [28. 42.]]\n"
     ]
    }
   ],
   "source": [
    "from scipy.stats import chi2_contingency\n",
    "\n",
    "# 교차표 생성\n",
    "observed = [[10,20], [30,40]]\n",
    "\n",
    "# 카이 제곱 검정 실행\n",
    "\n",
    "chi2_stat, p_val, dof, expected = chi2_contingency(observed)\n",
    "\n",
    "print('카이 제곱 검정 통계량: ', chi2_stat)\n",
    "print('p_value: ', p_value)\n",
    "print('자유도: ', dof)\n",
    "print('기대빈도: ', '\\n', expected)"
   ]
  },
  {
   "cell_type": "code",
   "execution_count": 47,
   "id": "912547c7",
   "metadata": {},
   "outputs": [
    {
     "data": {
      "text/html": [
       "<div>\n",
       "<style scoped>\n",
       "    .dataframe tbody tr th:only-of-type {\n",
       "        vertical-align: middle;\n",
       "    }\n",
       "\n",
       "    .dataframe tbody tr th {\n",
       "        vertical-align: top;\n",
       "    }\n",
       "\n",
       "    .dataframe thead th {\n",
       "        text-align: right;\n",
       "    }\n",
       "</style>\n",
       "<table border=\"1\" class=\"dataframe\">\n",
       "  <thead>\n",
       "    <tr style=\"text-align: right;\">\n",
       "      <th></th>\n",
       "      <th>color</th>\n",
       "      <th>click</th>\n",
       "      <th>freq</th>\n",
       "    </tr>\n",
       "  </thead>\n",
       "  <tbody>\n",
       "    <tr>\n",
       "      <th>0</th>\n",
       "      <td>blue</td>\n",
       "      <td>click</td>\n",
       "      <td>20</td>\n",
       "    </tr>\n",
       "    <tr>\n",
       "      <th>1</th>\n",
       "      <td>blue</td>\n",
       "      <td>not</td>\n",
       "      <td>230</td>\n",
       "    </tr>\n",
       "    <tr>\n",
       "      <th>2</th>\n",
       "      <td>red</td>\n",
       "      <td>click</td>\n",
       "      <td>10</td>\n",
       "    </tr>\n",
       "    <tr>\n",
       "      <th>3</th>\n",
       "      <td>red</td>\n",
       "      <td>not</td>\n",
       "      <td>40</td>\n",
       "    </tr>\n",
       "  </tbody>\n",
       "</table>\n",
       "</div>"
      ],
      "text/plain": [
       "  color  click  freq\n",
       "0  blue  click    20\n",
       "1  blue    not   230\n",
       "2   red  click    10\n",
       "3   red    not    40"
      ]
     },
     "execution_count": 47,
     "metadata": {},
     "output_type": "execute_result"
    }
   ],
   "source": [
    "click_data = pd.read_csv('C:\\hmkd1\\m2_분석라이브러리\\dataset/5_10_cd.csv')\n",
    "click_data"
   ]
  },
  {
   "cell_type": "code",
   "execution_count": 48,
   "id": "3ab3f2ff",
   "metadata": {},
   "outputs": [
    {
     "data": {
      "text/html": [
       "<div>\n",
       "<style scoped>\n",
       "    .dataframe tbody tr th:only-of-type {\n",
       "        vertical-align: middle;\n",
       "    }\n",
       "\n",
       "    .dataframe tbody tr th {\n",
       "        vertical-align: top;\n",
       "    }\n",
       "\n",
       "    .dataframe thead th {\n",
       "        text-align: right;\n",
       "    }\n",
       "</style>\n",
       "<table border=\"1\" class=\"dataframe\">\n",
       "  <thead>\n",
       "    <tr style=\"text-align: right;\">\n",
       "      <th>click</th>\n",
       "      <th>click</th>\n",
       "      <th>not</th>\n",
       "    </tr>\n",
       "    <tr>\n",
       "      <th>color</th>\n",
       "      <th></th>\n",
       "      <th></th>\n",
       "    </tr>\n",
       "  </thead>\n",
       "  <tbody>\n",
       "    <tr>\n",
       "      <th>blue</th>\n",
       "      <td>20</td>\n",
       "      <td>230</td>\n",
       "    </tr>\n",
       "    <tr>\n",
       "      <th>red</th>\n",
       "      <td>10</td>\n",
       "      <td>40</td>\n",
       "    </tr>\n",
       "  </tbody>\n",
       "</table>\n",
       "</div>"
      ],
      "text/plain": [
       "click  click  not\n",
       "color            \n",
       "blue      20  230\n",
       "red       10   40"
      ]
     },
     "execution_count": 48,
     "metadata": {},
     "output_type": "execute_result"
    }
   ],
   "source": [
    "# 분할표\n",
    "\n",
    "cross = pd.pivot_table(data=click_data, values='freq', aggfunc='sum', index='color', columns='click')\n",
    "cross"
   ]
  },
  {
   "cell_type": "code",
   "execution_count": 52,
   "id": "884604f5",
   "metadata": {},
   "outputs": [
    {
     "data": {
      "text/plain": [
       "Chi2ContingencyResult(statistic=6.666666666666666, pvalue=0.009823274507519247, dof=1, expected_freq=array([[ 25., 225.],\n",
       "       [  5.,  45.]]))"
      ]
     },
     "execution_count": 52,
     "metadata": {},
     "output_type": "execute_result"
    }
   ],
   "source": [
    "# 통계량, p값, 자유도, 기대도수표\n",
    "\n",
    "stats.chi2_contingency(cross,correction=False)  # 보정 안함\n",
    "\n",
    "# p값이 0.05보다 작으므로 색에 따라 버튼을 클릭하는 것이 유의미하게 변한다고 판단"
   ]
  },
  {
   "cell_type": "code",
   "execution_count": null,
   "id": "2ccdfd3f",
   "metadata": {},
   "outputs": [],
   "source": []
  },
  {
   "cell_type": "markdown",
   "id": "3a2529e9",
   "metadata": {},
   "source": [
    "#### 과제4_0418\n",
    "아래 df에서 gender와 purchase간 독립성 검정을 수행하고 그 결과를 기술하세요."
   ]
  },
  {
   "cell_type": "code",
   "execution_count": 53,
   "id": "aecc334d",
   "metadata": {},
   "outputs": [
    {
     "data": {
      "text/html": [
       "<div>\n",
       "<style scoped>\n",
       "    .dataframe tbody tr th:only-of-type {\n",
       "        vertical-align: middle;\n",
       "    }\n",
       "\n",
       "    .dataframe tbody tr th {\n",
       "        vertical-align: top;\n",
       "    }\n",
       "\n",
       "    .dataframe thead th {\n",
       "        text-align: right;\n",
       "    }\n",
       "</style>\n",
       "<table border=\"1\" class=\"dataframe\">\n",
       "  <thead>\n",
       "    <tr style=\"text-align: right;\">\n",
       "      <th></th>\n",
       "      <th>gender</th>\n",
       "      <th>purchase</th>\n",
       "    </tr>\n",
       "  </thead>\n",
       "  <tbody>\n",
       "    <tr>\n",
       "      <th>0</th>\n",
       "      <td>M</td>\n",
       "      <td>yes</td>\n",
       "    </tr>\n",
       "    <tr>\n",
       "      <th>1</th>\n",
       "      <td>M</td>\n",
       "      <td>yes</td>\n",
       "    </tr>\n",
       "    <tr>\n",
       "      <th>2</th>\n",
       "      <td>F</td>\n",
       "      <td>no</td>\n",
       "    </tr>\n",
       "    <tr>\n",
       "      <th>3</th>\n",
       "      <td>F</td>\n",
       "      <td>yes</td>\n",
       "    </tr>\n",
       "    <tr>\n",
       "      <th>4</th>\n",
       "      <td>F</td>\n",
       "      <td>no</td>\n",
       "    </tr>\n",
       "  </tbody>\n",
       "</table>\n",
       "</div>"
      ],
      "text/plain": [
       "  gender purchase\n",
       "0      M      yes\n",
       "1      M      yes\n",
       "2      F       no\n",
       "3      F      yes\n",
       "4      F       no"
      ]
     },
     "execution_count": 53,
     "metadata": {},
     "output_type": "execute_result"
    }
   ],
   "source": [
    "import pandas as pd\n",
    "from scipy.stats import chi2_contingency\n",
    "# 귀무가설로 두 변수가 서로 독립적이라는 가정\n",
    "# 데이터 프레임 생성\n",
    "data = {'gender': ['M', 'M', 'F', 'F', 'F', 'M', 'M', 'F', 'M', 'M'],\n",
    "        'purchase': ['yes', 'yes', 'no', 'yes', 'no', 'yes', 'no', 'no', 'no', 'yes']}\n",
    "df = pd.DataFrame(data)\n",
    "df.head()"
   ]
  },
  {
   "cell_type": "code",
   "execution_count": 81,
   "id": "c6640720",
   "metadata": {},
   "outputs": [
    {
     "name": "stdout",
     "output_type": "stream",
     "text": [
      "Chi-square test statistic: 0.41666666666666663\n",
      "p-value: 0.5186050164287255\n",
      "Degree of freedom: 1\n",
      "Expected values: [[2. 2.]\n",
      " [3. 3.]]\n"
     ]
    }
   ],
   "source": [
    "data = {'gender': ['M', 'M', 'F', 'F', 'F', 'M', 'M', 'F', 'M', 'M'],\n",
    "        'purchase': ['yes', 'yes', 'no', 'yes', 'no', 'yes', 'no', 'no', 'no', 'yes']}\n",
    "df = pd.DataFrame(data)\n",
    "\n",
    "# 분할표\n",
    "cross_tab = pd.crosstab(df['gender'], df['purchase'])\n",
    "\n",
    "# 카이제곱 검정 수행\n",
    "chi2, pval, dof, expected = chi2_contingency(cross_tab)\n",
    "\n",
    "# 검정 결과 출력\n",
    "print('Chi-square test statistic:', chi2)\n",
    "print('p-value:', pval)\n",
    "print('Degree of freedom:', dof)\n",
    "print('Expected values:', expected)\n",
    "\n",
    "# p-value가 0.05보다 크므로 귀무 가설을 기각할 수 없습니다. \n",
    "# 따라서, 이 데이터에서는 'gender'와 'purchase' 간의 연관성이 없다. 두 변수가 서로 독립적이다.\n"
   ]
  },
  {
   "cell_type": "code",
   "execution_count": null,
   "id": "fbfe9892",
   "metadata": {},
   "outputs": [],
   "source": []
  },
  {
   "cell_type": "markdown",
   "id": "62e64f69",
   "metadata": {},
   "source": []
  }
 ],
 "metadata": {
  "kernelspec": {
   "display_name": "Python 3 (ipykernel)",
   "language": "python",
   "name": "python3"
  },
  "language_info": {
   "codemirror_mode": {
    "name": "ipython",
    "version": 3
   },
   "file_extension": ".py",
   "mimetype": "text/x-python",
   "name": "python",
   "nbconvert_exporter": "python",
   "pygments_lexer": "ipython3",
   "version": "3.9.13"
  }
 },
 "nbformat": 4,
 "nbformat_minor": 5
}
