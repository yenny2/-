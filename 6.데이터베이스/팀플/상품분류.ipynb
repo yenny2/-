{
 "cells": [
  {
   "cell_type": "code",
   "execution_count": 2,
   "id": "d2d93e64",
   "metadata": {},
   "outputs": [],
   "source": [
    "import cx_Oracle\n",
    "import pandas as pd\n",
    "import seaborn as sns\n",
    "import numpy as np\n",
    "import matplotlib.pyplot as plt\n",
    "import re\n",
    "plt.rcParams[\"font.family\"] = \"Malgun Gothic\""
   ]
  },
  {
   "cell_type": "code",
   "execution_count": 13,
   "id": "6ecf12ec",
   "metadata": {},
   "outputs": [
    {
     "data": {
      "text/html": [
       "<div>\n",
       "<style scoped>\n",
       "    .dataframe tbody tr th:only-of-type {\n",
       "        vertical-align: middle;\n",
       "    }\n",
       "\n",
       "    .dataframe tbody tr th {\n",
       "        vertical-align: top;\n",
       "    }\n",
       "\n",
       "    .dataframe thead th {\n",
       "        text-align: right;\n",
       "    }\n",
       "</style>\n",
       "<table border=\"1\" class=\"dataframe\">\n",
       "  <thead>\n",
       "    <tr style=\"text-align: right;\">\n",
       "      <th></th>\n",
       "      <th>제휴사</th>\n",
       "      <th>대분류코드</th>\n",
       "      <th>중분류코드</th>\n",
       "      <th>중분류명</th>\n",
       "      <th>소분류명</th>\n",
       "    </tr>\n",
       "  </thead>\n",
       "  <tbody>\n",
       "    <tr>\n",
       "      <th>0</th>\n",
       "      <td>A</td>\n",
       "      <td>1</td>\n",
       "      <td>0110</td>\n",
       "      <td>차/커피</td>\n",
       "      <td>수입식품</td>\n",
       "    </tr>\n",
       "    <tr>\n",
       "      <th>1</th>\n",
       "      <td>A</td>\n",
       "      <td>1</td>\n",
       "      <td>0111</td>\n",
       "      <td>기타</td>\n",
       "      <td>PECK Restaurant</td>\n",
       "    </tr>\n",
       "    <tr>\n",
       "      <th>2</th>\n",
       "      <td>A</td>\n",
       "      <td>1</td>\n",
       "      <td>0111</td>\n",
       "      <td>기타</td>\n",
       "      <td>PECK Enoteca</td>\n",
       "    </tr>\n",
       "    <tr>\n",
       "      <th>3</th>\n",
       "      <td>A</td>\n",
       "      <td>1</td>\n",
       "      <td>0111</td>\n",
       "      <td>기타</td>\n",
       "      <td>PECK Fruits</td>\n",
       "    </tr>\n",
       "    <tr>\n",
       "      <th>4</th>\n",
       "      <td>A</td>\n",
       "      <td>1</td>\n",
       "      <td>0111</td>\n",
       "      <td>기타</td>\n",
       "      <td>PECK G&amp;C</td>\n",
       "    </tr>\n",
       "  </tbody>\n",
       "</table>\n",
       "</div>"
      ],
      "text/plain": [
       "  제휴사  대분류코드 중분류코드  중분류명             소분류명\n",
       "0   A      1  0110  차/커피             수입식품\n",
       "1   A      1  0111    기타  PECK Restaurant\n",
       "2   A      1  0111    기타     PECK Enoteca\n",
       "3   A      1  0111    기타      PECK Fruits\n",
       "4   A      1  0111    기타         PECK G&C"
      ]
     },
     "execution_count": 13,
     "metadata": {},
     "output_type": "execute_result"
    }
   ],
   "source": [
    "db = cx_Oracle.connect(\"c##lm\",\"lm\",'localhost:1521/xe')\n",
    "cursor = db.cursor()\n",
    "cursor.execute(\"select * from prodcl_A \")\n",
    "x = cursor.fetchall()\n",
    "df = pd.DataFrame(x)\n",
    "cursor.execute(\"select column_name from user_tab_columns where table_name='prodcl_A'\")\n",
    "col = cursor.fetchall()\n",
    "list1 = []\n",
    "for i in col:\n",
    "    for j in i:\n",
    "        list1.append(j)\n",
    "df.columns = [\"제휴사\",\"대분류코드\", \"중분류코드\", \"중분류명\", \"소분류명\"]\n",
    "df.head()"
   ]
  },
  {
   "cell_type": "code",
   "execution_count": 14,
   "id": "7517dcd6",
   "metadata": {},
   "outputs": [
    {
     "data": {
      "text/plain": [
       "스포츠       79\n",
       "캐주얼       59\n",
       "가공식품      55\n",
       "골프용품      52\n",
       "남성 트랜디    32\n",
       "남성캐주얼     30\n",
       "명품        25\n",
       "수산품       20\n",
       "남성정장      16\n",
       "섬유잡화      16\n",
       "농산물       14\n",
       "액세서리      14\n",
       "아동        14\n",
       "트래디셔널     13\n",
       "생활잡화      12\n",
       "화장품       12\n",
       "침구/수예     10\n",
       "가구        10\n",
       "구두        10\n",
       "주방용품      10\n",
       "젓갈/반찬      9\n",
       "피혁잡화       9\n",
       "기타         9\n",
       "커리어        8\n",
       "주방가전       8\n",
       "육류         7\n",
       "식기         7\n",
       "축산가공       6\n",
       "일용잡화       6\n",
       "대형가전       5\n",
       "주류         5\n",
       "차/커피       4\n",
       "셔츠         4\n",
       "모피/피혁      4\n",
       "란제리/내의     4\n",
       "시티웨어       4\n",
       "통신/컴퓨터     4\n",
       "악기         3\n",
       "기타의류       3\n",
       "소형가전       3\n",
       "디자이너       3\n",
       "건강식품       3\n",
       "문구/팬시      2\n",
       "보석         2\n",
       "전자/전기      1\n",
       "교복         1\n",
       "블라우스       1\n",
       "준보석/시계     1\n",
       "웨딩         1\n",
       "Name: 중분류명, dtype: int64"
      ]
     },
     "execution_count": 14,
     "metadata": {},
     "output_type": "execute_result"
    }
   ],
   "source": [
    "df.중분류명.value_counts()"
   ]
  },
  {
   "cell_type": "code",
   "execution_count": null,
   "id": "12e18267",
   "metadata": {},
   "outputs": [],
   "source": []
  },
  {
   "cell_type": "code",
   "execution_count": null,
   "id": "93d3d6c6",
   "metadata": {},
   "outputs": [],
   "source": []
  },
  {
   "cell_type": "code",
   "execution_count": null,
   "id": "03f47fd0",
   "metadata": {},
   "outputs": [],
   "source": []
  },
  {
   "cell_type": "code",
   "execution_count": null,
   "id": "8cbed2d4",
   "metadata": {},
   "outputs": [],
   "source": []
  },
  {
   "cell_type": "code",
   "execution_count": null,
   "id": "7dcb5b6b",
   "metadata": {},
   "outputs": [],
   "source": []
  }
 ],
 "metadata": {
  "kernelspec": {
   "display_name": "Python 3 (ipykernel)",
   "language": "python",
   "name": "python3"
  },
  "language_info": {
   "codemirror_mode": {
    "name": "ipython",
    "version": 3
   },
   "file_extension": ".py",
   "mimetype": "text/x-python",
   "name": "python",
   "nbconvert_exporter": "python",
   "pygments_lexer": "ipython3",
   "version": "3.9.13"
  }
 },
 "nbformat": 4,
 "nbformat_minor": 5
}
