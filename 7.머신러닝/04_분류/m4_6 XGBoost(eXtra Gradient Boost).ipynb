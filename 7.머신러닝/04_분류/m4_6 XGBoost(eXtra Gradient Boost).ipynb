{
 "cells": [
  {
   "cell_type": "markdown",
   "id": "7c9050a7",
   "metadata": {},
   "source": [
    "- XGBoost 버전 확인 \n",
    "- 설치해야함"
   ]
  },
  {
   "cell_type": "code",
   "execution_count": 3,
   "id": "eb420150",
   "metadata": {},
   "outputs": [
    {
     "name": "stdout",
     "output_type": "stream",
     "text": [
      "Collecting xgboost\n",
      "  Downloading xgboost-1.7.5-py3-none-win_amd64.whl (70.9 MB)\n",
      "     ---------------------------------------- 70.9/70.9 MB 1.7 MB/s eta 0:00:00\n",
      "Requirement already satisfied: numpy in c:\\users\\h\\anaconda3\\lib\\site-packages (from xgboost) (1.21.5)\n",
      "Requirement already satisfied: scipy in c:\\users\\h\\anaconda3\\lib\\site-packages (from xgboost) (1.10.1)\n",
      "Installing collected packages: xgboost\n",
      "Successfully installed xgboost-1.7.5\n"
     ]
    },
    {
     "name": "stderr",
     "output_type": "stream",
     "text": [
      "WARNING: Ignoring invalid distribution -cipy (c:\\users\\h\\anaconda3\\lib\\site-packages)\n",
      "WARNING: Ignoring invalid distribution -cipy (c:\\users\\h\\anaconda3\\lib\\site-packages)\n",
      "WARNING: Ignoring invalid distribution -cipy (c:\\users\\h\\anaconda3\\lib\\site-packages)\n",
      "WARNING: Ignoring invalid distribution -cipy (c:\\users\\h\\anaconda3\\lib\\site-packages)\n",
      "WARNING: Ignoring invalid distribution -cipy (c:\\users\\h\\anaconda3\\lib\\site-packages)\n",
      "WARNING: Ignoring invalid distribution -cipy (c:\\users\\h\\anaconda3\\lib\\site-packages)\n",
      "WARNING: Ignoring invalid distribution -cipy (c:\\users\\h\\anaconda3\\lib\\site-packages)\n"
     ]
    }
   ],
   "source": [
    "!pip install xgboost"
   ]
  },
  {
   "cell_type": "code",
   "execution_count": 4,
   "id": "6c4de4d6",
   "metadata": {},
   "outputs": [
    {
     "name": "stdout",
     "output_type": "stream",
     "text": [
      "1.7.5\n"
     ]
    }
   ],
   "source": [
    "import xgboost\n",
    "\n",
    "print(xgboost.__version__)"
   ]
  },
  {
   "cell_type": "markdown",
   "id": "a733f13d",
   "metadata": {},
   "source": []
  },
  {
   "cell_type": "markdown",
   "id": "28951667",
   "metadata": {},
   "source": [
    "XGBoost의 scikit-learn 래퍼 클래스의 주요 하이퍼파라미터\n",
    "\n",
    "- n_estimators: 부스트 트리의 개수를 결정합니다. 너무 큰 값은 오버피팅을 유발할 수 있습니다.\n",
    "- learning_rate (eta): 각 트리의 가중치를 줄이는 역할을 합니다. 일반적으로 더 낮은 학습률은 더 많은 트리를 필요로 합니다.\n",
    "- max_depth: 각 트리의 최대 깊이를 결정합니다. 이 값이 크면 모델은 복잡해지고 오버피팅 될 수 있습니다.\n",
    "- min_child_weight: 트리에서 가지를 분할하기 위한 최소 가중치 합입니다. 이 값이 크면 모델은 보수적으로 학습합니다.\n",
    "- subsample: 각 트리를 훈련시키기 위해 사용하는 데이터 샘플의 비율입니다. 이 값이 작으면 오버피팅을 피하는 데 도움이 될 수 있습니다.\n",
    "- colsample_bytree: 각 트리를 훈련시키는 데 사용되는 열(특성)의 비율입니다.\n",
    "- gamma: 리프 노드를 추가적으로 분할할 최소 손실 감소입니다. 이 값이 높을수록 모델은 보수적으로 학습합니다.\n",
    "- reg_lambda (lambda): L2 정규화 가중치입니다.\n",
    "- reg_alpha (alpha): L1 정규화 가중치입니다\n",
    "- learning_rate (eta): 각 부스팅 단계 축소를 제어합니다. 이는 새로운 트리가 추가될 때 각각에 부여되는 가중치를 조정하는 데 사용되며, 일반적으로 0과 1 사이의 값을 가집니다. 이 값이 낮을수록 모델은 보수적으로 학습하며, 이는 더 많은 부스팅 단계를 필요로 할 수 있습니다. 이 값이 높을수록 모델은 더욱 강하게 학습하지만, 너무 높은 값은 오버피팅을 초래할 수 있습니다."
   ]
  },
  {
   "cell_type": "markdown",
   "id": "34cd6e44",
   "metadata": {},
   "source": [
    "### 파이썬 래퍼 XGBoost 적용 - 위스콘신 유방암 예측"
   ]
  },
  {
   "cell_type": "code",
   "execution_count": 5,
   "id": "c2fcff43",
   "metadata": {},
   "outputs": [
    {
     "data": {
      "text/html": [
       "<div>\n",
       "<style scoped>\n",
       "    .dataframe tbody tr th:only-of-type {\n",
       "        vertical-align: middle;\n",
       "    }\n",
       "\n",
       "    .dataframe tbody tr th {\n",
       "        vertical-align: top;\n",
       "    }\n",
       "\n",
       "    .dataframe thead th {\n",
       "        text-align: right;\n",
       "    }\n",
       "</style>\n",
       "<table border=\"1\" class=\"dataframe\">\n",
       "  <thead>\n",
       "    <tr style=\"text-align: right;\">\n",
       "      <th></th>\n",
       "      <th>mean radius</th>\n",
       "      <th>mean texture</th>\n",
       "      <th>mean perimeter</th>\n",
       "      <th>mean area</th>\n",
       "      <th>mean smoothness</th>\n",
       "      <th>mean compactness</th>\n",
       "      <th>mean concavity</th>\n",
       "      <th>mean concave points</th>\n",
       "      <th>mean symmetry</th>\n",
       "      <th>mean fractal dimension</th>\n",
       "      <th>...</th>\n",
       "      <th>worst texture</th>\n",
       "      <th>worst perimeter</th>\n",
       "      <th>worst area</th>\n",
       "      <th>worst smoothness</th>\n",
       "      <th>worst compactness</th>\n",
       "      <th>worst concavity</th>\n",
       "      <th>worst concave points</th>\n",
       "      <th>worst symmetry</th>\n",
       "      <th>worst fractal dimension</th>\n",
       "      <th>target</th>\n",
       "    </tr>\n",
       "  </thead>\n",
       "  <tbody>\n",
       "    <tr>\n",
       "      <th>0</th>\n",
       "      <td>17.99</td>\n",
       "      <td>10.38</td>\n",
       "      <td>122.8</td>\n",
       "      <td>1001.0</td>\n",
       "      <td>0.11840</td>\n",
       "      <td>0.27760</td>\n",
       "      <td>0.3001</td>\n",
       "      <td>0.14710</td>\n",
       "      <td>0.2419</td>\n",
       "      <td>0.07871</td>\n",
       "      <td>...</td>\n",
       "      <td>17.33</td>\n",
       "      <td>184.6</td>\n",
       "      <td>2019.0</td>\n",
       "      <td>0.1622</td>\n",
       "      <td>0.6656</td>\n",
       "      <td>0.7119</td>\n",
       "      <td>0.2654</td>\n",
       "      <td>0.4601</td>\n",
       "      <td>0.11890</td>\n",
       "      <td>0</td>\n",
       "    </tr>\n",
       "    <tr>\n",
       "      <th>1</th>\n",
       "      <td>20.57</td>\n",
       "      <td>17.77</td>\n",
       "      <td>132.9</td>\n",
       "      <td>1326.0</td>\n",
       "      <td>0.08474</td>\n",
       "      <td>0.07864</td>\n",
       "      <td>0.0869</td>\n",
       "      <td>0.07017</td>\n",
       "      <td>0.1812</td>\n",
       "      <td>0.05667</td>\n",
       "      <td>...</td>\n",
       "      <td>23.41</td>\n",
       "      <td>158.8</td>\n",
       "      <td>1956.0</td>\n",
       "      <td>0.1238</td>\n",
       "      <td>0.1866</td>\n",
       "      <td>0.2416</td>\n",
       "      <td>0.1860</td>\n",
       "      <td>0.2750</td>\n",
       "      <td>0.08902</td>\n",
       "      <td>0</td>\n",
       "    </tr>\n",
       "    <tr>\n",
       "      <th>2</th>\n",
       "      <td>19.69</td>\n",
       "      <td>21.25</td>\n",
       "      <td>130.0</td>\n",
       "      <td>1203.0</td>\n",
       "      <td>0.10960</td>\n",
       "      <td>0.15990</td>\n",
       "      <td>0.1974</td>\n",
       "      <td>0.12790</td>\n",
       "      <td>0.2069</td>\n",
       "      <td>0.05999</td>\n",
       "      <td>...</td>\n",
       "      <td>25.53</td>\n",
       "      <td>152.5</td>\n",
       "      <td>1709.0</td>\n",
       "      <td>0.1444</td>\n",
       "      <td>0.4245</td>\n",
       "      <td>0.4504</td>\n",
       "      <td>0.2430</td>\n",
       "      <td>0.3613</td>\n",
       "      <td>0.08758</td>\n",
       "      <td>0</td>\n",
       "    </tr>\n",
       "  </tbody>\n",
       "</table>\n",
       "<p>3 rows × 31 columns</p>\n",
       "</div>"
      ],
      "text/plain": [
       "   mean radius  mean texture  mean perimeter  mean area  mean smoothness  \\\n",
       "0        17.99         10.38           122.8     1001.0          0.11840   \n",
       "1        20.57         17.77           132.9     1326.0          0.08474   \n",
       "2        19.69         21.25           130.0     1203.0          0.10960   \n",
       "\n",
       "   mean compactness  mean concavity  mean concave points  mean symmetry  \\\n",
       "0           0.27760          0.3001              0.14710         0.2419   \n",
       "1           0.07864          0.0869              0.07017         0.1812   \n",
       "2           0.15990          0.1974              0.12790         0.2069   \n",
       "\n",
       "   mean fractal dimension  ...  worst texture  worst perimeter  worst area  \\\n",
       "0                 0.07871  ...          17.33            184.6      2019.0   \n",
       "1                 0.05667  ...          23.41            158.8      1956.0   \n",
       "2                 0.05999  ...          25.53            152.5      1709.0   \n",
       "\n",
       "   worst smoothness  worst compactness  worst concavity  worst concave points  \\\n",
       "0            0.1622             0.6656           0.7119                0.2654   \n",
       "1            0.1238             0.1866           0.2416                0.1860   \n",
       "2            0.1444             0.4245           0.4504                0.2430   \n",
       "\n",
       "   worst symmetry  worst fractal dimension  target  \n",
       "0          0.4601                  0.11890       0  \n",
       "1          0.2750                  0.08902       0  \n",
       "2          0.3613                  0.08758       0  \n",
       "\n",
       "[3 rows x 31 columns]"
      ]
     },
     "execution_count": 5,
     "metadata": {},
     "output_type": "execute_result"
    }
   ],
   "source": [
    "import xgboost as xgb\n",
    "from xgboost import plot_importance\n",
    "import pandas as pd\n",
    "import numpy as np\n",
    "from sklearn.datasets import load_breast_cancer\n",
    "from sklearn.model_selection import train_test_split \n",
    "import warnings \n",
    "warnings.filterwarnings('ignore')\n",
    "\n",
    "dataset = load_breast_cancer() \n",
    "X_features= dataset.data\n",
    "y_label = dataset.target\n",
    "\n",
    "cancer_df = pd.DataFrame(data=X_features, columns=dataset.feature_names)\n",
    "cancer_df ['target']= y_label\n",
    "cancer_df.head (3)"
   ]
  },
  {
   "cell_type": "code",
   "execution_count": 6,
   "id": "54970256",
   "metadata": {},
   "outputs": [
    {
     "name": "stdout",
     "output_type": "stream",
     "text": [
      "<class 'pandas.core.frame.DataFrame'>\n",
      "RangeIndex: 569 entries, 0 to 568\n",
      "Data columns (total 31 columns):\n",
      " #   Column                   Non-Null Count  Dtype  \n",
      "---  ------                   --------------  -----  \n",
      " 0   mean radius              569 non-null    float64\n",
      " 1   mean texture             569 non-null    float64\n",
      " 2   mean perimeter           569 non-null    float64\n",
      " 3   mean area                569 non-null    float64\n",
      " 4   mean smoothness          569 non-null    float64\n",
      " 5   mean compactness         569 non-null    float64\n",
      " 6   mean concavity           569 non-null    float64\n",
      " 7   mean concave points      569 non-null    float64\n",
      " 8   mean symmetry            569 non-null    float64\n",
      " 9   mean fractal dimension   569 non-null    float64\n",
      " 10  radius error             569 non-null    float64\n",
      " 11  texture error            569 non-null    float64\n",
      " 12  perimeter error          569 non-null    float64\n",
      " 13  area error               569 non-null    float64\n",
      " 14  smoothness error         569 non-null    float64\n",
      " 15  compactness error        569 non-null    float64\n",
      " 16  concavity error          569 non-null    float64\n",
      " 17  concave points error     569 non-null    float64\n",
      " 18  symmetry error           569 non-null    float64\n",
      " 19  fractal dimension error  569 non-null    float64\n",
      " 20  worst radius             569 non-null    float64\n",
      " 21  worst texture            569 non-null    float64\n",
      " 22  worst perimeter          569 non-null    float64\n",
      " 23  worst area               569 non-null    float64\n",
      " 24  worst smoothness         569 non-null    float64\n",
      " 25  worst compactness        569 non-null    float64\n",
      " 26  worst concavity          569 non-null    float64\n",
      " 27  worst concave points     569 non-null    float64\n",
      " 28  worst symmetry           569 non-null    float64\n",
      " 29  worst fractal dimension  569 non-null    float64\n",
      " 30  target                   569 non-null    int32  \n",
      "dtypes: float64(30), int32(1)\n",
      "memory usage: 135.7 KB\n"
     ]
    }
   ],
   "source": [
    "cancer_df.info()"
   ]
  },
  {
   "cell_type": "code",
   "execution_count": 7,
   "id": "9f5df0a6",
   "metadata": {},
   "outputs": [
    {
     "name": "stdout",
     "output_type": "stream",
     "text": [
      "['malignant' 'benign']\n",
      "1    357\n",
      "0    212\n",
      "Name: target, dtype: int64\n"
     ]
    }
   ],
   "source": [
    "print(dataset.target_names)\n",
    "print(cancer_df['target'].value_counts())\n",
    "\n",
    "# malignant 악성  benign 양성"
   ]
  },
  {
   "cell_type": "code",
   "execution_count": 10,
   "id": "a46fb5e7",
   "metadata": {},
   "outputs": [
    {
     "name": "stdout",
     "output_type": "stream",
     "text": [
      "(455, 30) (114, 30)\n",
      "(409, 30) (46, 30)\n"
     ]
    }
   ],
   "source": [
    "# cancer_df 에서 feature용 DataFrame과 Label용 Series 객체 추출\n",
    "# 맨 마지막 칼럼이 Label 임. Feature용 Dataframe은 cancer_df의 첫번째 칼럼에서 \n",
    "# 맨 마지막 두번째 칼럼까지를 \n",
    "\n",
    "X_features = cancer_df.iloc[:, :-1]  # Feature용 DataFrame은 첫 번째 칼럼부터 마지막에서 두 번째 칼럼까지 선택\n",
    "y_label = cancer_df.iloc[:, -1]  # Label용 Series는 마지막 칼럼 선택\n",
    "\n",
    "# 전체 데이터 중 80%는 학습용 데이터, 20%는 테스트용 데이터로 추출\n",
    "X_train, X_test, y_train, y_test = train_test_split(X_features, y_label, test_size=0.2, random_state=156)\n",
    "\n",
    "# 학습용 데이터인 X_train, y_train을 다시 쪼개서 90%는 학습용 데이터, 10%는 검증용 데이터로 분리\n",
    "X_tr, X_val, y_tr, y_val = train_test_split(X_train, y_train, test_size=0.1, random_state=156)\n",
    "\n",
    "print(X_train.shape, X_test.shape)\n",
    "print(X_tr.shape, X_val.shape)"
   ]
  },
  {
   "cell_type": "code",
   "execution_count": 13,
   "id": "6064f9e4",
   "metadata": {},
   "outputs": [],
   "source": [
    "from sklearn.metrics import confusion_matrix, accuracy_score\n",
    "from sklearn.metrics import precision_score, recall_score\n",
    "from sklearn.metrics import f1_score, roc_auc_score\n",
    "\n",
    "def get_clf_eval(y_test, pred, pred_proba):\n",
    "    \n",
    "    # 혼동 행렬(confusion matrix)을 생성하는 함수\n",
    "    confusion = confusion_matrix(y_test, pred)\n",
    "    \n",
    "    # 정확도 계산\n",
    "    accuracy = accuracy_score(y_test, pred)\n",
    "    \n",
    "    # 정밀도 계산\n",
    "    precision = precision_score(y_test, pred)\n",
    " \n",
    "    # 재현율 계산\n",
    "    recall = recall_score(y_test, pred)\n",
    "\n",
    "    # F1 스코어 계산\n",
    "    f1 = f1_score(y_test, pred)\n",
    "  \n",
    "    # ROC AUC 스코어 계산\n",
    "    roc_auc = roc_auc_score(y_test, pred_proba)\n",
    "    print('오차 행렬')\n",
    "    print(confusiion)\n",
    "    \n",
    "    print('정확도: {0:.4f}, 정밀도: {1:.4f}, 재현율: {2:.4f}, \\\n",
    "    F1: {3:.4f}, AUC: {4:.4f}'.format(accuracy, precision, recall, f1, confusiion))"
   ]
  },
  {
   "cell_type": "code",
   "execution_count": 14,
   "id": "970856d0",
   "metadata": {},
   "outputs": [],
   "source": [
    "# 사이킷런 래퍼 XGBoost 클래스인 XGBClassifier 임포트\n",
    "from xgboost import XGBClassifier\n",
    "\n",
    "xgb_wrapper = XGBClassifier(n_estimators=400, learning_rate=0.1, max_depth=3) \n",
    "xgb_wrapper.fit(X_train, y_train)\n",
    "w_preds = xgb_wrapper.predict(X_test)\n",
    "w_pred_proba = xgb_wrapper.predict_proba(X_test)[:, 1]"
   ]
  },
  {
   "cell_type": "code",
   "execution_count": 22,
   "id": "48cb87c4",
   "metadata": {},
   "outputs": [],
   "source": [
    "from sklearn.metrics import confusion_matrix, accuracy_score \n",
    "from sklearn.metrics import precision_score, recall_score \n",
    "from sklearn.metrics import f1_score, roc_auc_score\n",
    "\n",
    "def get_clf_eval (y_test, pred=None, pred_proba=None): \n",
    "    confusion = confusion_matrix(y_test, pred) \n",
    "    accuracy = accuracy_score (y_test, pred)\n",
    "    precision = precision_score(y_test, pred) \n",
    "    recall = recall_score (y_test, pred)\n",
    "    f1 = f1_score (y_test,pred)\n",
    "    \n",
    "    # ROC-AUC\n",
    "    roc_auc = roc_auc_score (y_test, pred_proba)\n",
    "    print('오차 행렬')\n",
    "    print (confusion)\n",
    "    # ROC-AUC print\n",
    "    print('정확도: {0:.4f}, 정밀도: {1:.4f}, 재현율: {2:.4f},F1: {3:.4f}, AUC:{4:.4f}'.format (accuracy, precision, recall, f1, roc_auc))\n"
   ]
  },
  {
   "cell_type": "code",
   "execution_count": 23,
   "id": "2e1fd967",
   "metadata": {},
   "outputs": [
    {
     "name": "stdout",
     "output_type": "stream",
     "text": [
      "오차 행렬\n",
      "[[35  2]\n",
      " [ 1 76]]\n",
      "정확도: 0.9737, 정밀도: 0.9744, 재현율: 0.9870,F1: 0.9806, AUC:0.9951\n"
     ]
    }
   ],
   "source": [
    "get_clf_eval (y_test, w_preds, w_pred_proba)"
   ]
  },
  {
   "cell_type": "code",
   "execution_count": null,
   "id": "a8457a9d",
   "metadata": {},
   "outputs": [],
   "source": []
  },
  {
   "cell_type": "markdown",
   "id": "28fb1b99",
   "metadata": {},
   "source": [
    "early_stopping_rounds\n",
    "- XGBoost의 하이퍼파라미터는 아니지만, 학습 과정을 제어하는 중요한 매개변수 중 하나입니다. 이 매개변수는 validation set에 대한 모델의 성능이 개선되지 않을 경우 학습을 조기 종료하는 데 사용\n",
    "- 설정한 라운드 수만큼 동안 검증 오차(validation error)가 감소하지 않을 경우에 학습이 조기에 중지됩니다. 이는 더 이상 학습이 진전되지 않거나 오버피팅이 시작되는 것을 방지하는 데 도움\n",
    "\n",
    "eval_metric은 XGBoost 모델을 학습하면서 사용할 평가 지표를 지정하는 매개변수\n",
    "- rmse: Root Mean Square Error\n",
    "- mae: Mean Absolute Error\n",
    "- logloss: Negative log-likelihood\n",
    "- error: Binary classification error rate (0.5 threshold)\n",
    "- auc: Area under the curve for both binary and multiclass classification\n",
    "- mlogloss: Multiclass logloss\n",
    "- merror: Multiclass classification error rate"
   ]
  },
  {
   "cell_type": "code",
   "execution_count": 28,
   "id": "6e629b46",
   "metadata": {
    "scrolled": true
   },
   "outputs": [
    {
     "name": "stdout",
     "output_type": "stream",
     "text": [
      "[0]\tvalidation_0-logloss:0.61352\n",
      "[1]\tvalidation_0-logloss:0.54784\n",
      "[2]\tvalidation_0-logloss:0.49425\n",
      "[3]\tvalidation_0-logloss:0.44799\n",
      "[4]\tvalidation_0-logloss:0.40911\n",
      "[5]\tvalidation_0-logloss:0.37498\n",
      "[6]\tvalidation_0-logloss:0.34571\n",
      "[7]\tvalidation_0-logloss:0.32053\n",
      "[8]\tvalidation_0-logloss:0.29721\n",
      "[9]\tvalidation_0-logloss:0.27799\n",
      "[10]\tvalidation_0-logloss:0.26030\n",
      "[11]\tvalidation_0-logloss:0.24604\n",
      "[12]\tvalidation_0-logloss:0.23156\n",
      "[13]\tvalidation_0-logloss:0.22005\n",
      "[14]\tvalidation_0-logloss:0.20857\n",
      "[15]\tvalidation_0-logloss:0.19999\n",
      "[16]\tvalidation_0-logloss:0.19012\n",
      "[17]\tvalidation_0-logloss:0.18182\n",
      "[18]\tvalidation_0-logloss:0.17473\n",
      "[19]\tvalidation_0-logloss:0.16766\n",
      "[20]\tvalidation_0-logloss:0.15820\n",
      "[21]\tvalidation_0-logloss:0.15472\n",
      "[22]\tvalidation_0-logloss:0.14895\n",
      "[23]\tvalidation_0-logloss:0.14331\n",
      "[24]\tvalidation_0-logloss:0.13634\n",
      "[25]\tvalidation_0-logloss:0.13278\n",
      "[26]\tvalidation_0-logloss:0.12791\n",
      "[27]\tvalidation_0-logloss:0.12526\n",
      "[28]\tvalidation_0-logloss:0.11998\n",
      "[29]\tvalidation_0-logloss:0.11641\n",
      "[30]\tvalidation_0-logloss:0.11450\n",
      "[31]\tvalidation_0-logloss:0.11257\n",
      "[32]\tvalidation_0-logloss:0.11154\n",
      "[33]\tvalidation_0-logloss:0.10868\n",
      "[34]\tvalidation_0-logloss:0.10668\n",
      "[35]\tvalidation_0-logloss:0.10421\n",
      "[36]\tvalidation_0-logloss:0.10296\n",
      "[37]\tvalidation_0-logloss:0.10058\n",
      "[38]\tvalidation_0-logloss:0.09868\n",
      "[39]\tvalidation_0-logloss:0.09644\n",
      "[40]\tvalidation_0-logloss:0.09587\n",
      "[41]\tvalidation_0-logloss:0.09424\n",
      "[42]\tvalidation_0-logloss:0.09471\n",
      "[43]\tvalidation_0-logloss:0.09427\n",
      "[44]\tvalidation_0-logloss:0.09389\n",
      "[45]\tvalidation_0-logloss:0.09418\n",
      "[46]\tvalidation_0-logloss:0.09402\n",
      "[47]\tvalidation_0-logloss:0.09236\n",
      "[48]\tvalidation_0-logloss:0.09301\n",
      "[49]\tvalidation_0-logloss:0.09127\n",
      "[50]\tvalidation_0-logloss:0.09005\n",
      "[51]\tvalidation_0-logloss:0.08961\n",
      "[52]\tvalidation_0-logloss:0.08958\n",
      "[53]\tvalidation_0-logloss:0.09070\n",
      "[54]\tvalidation_0-logloss:0.08958\n",
      "[55]\tvalidation_0-logloss:0.09036\n",
      "[56]\tvalidation_0-logloss:0.09159\n",
      "[57]\tvalidation_0-logloss:0.09153\n",
      "[58]\tvalidation_0-logloss:0.09199\n",
      "[59]\tvalidation_0-logloss:0.09195\n",
      "[60]\tvalidation_0-logloss:0.09194\n",
      "[61]\tvalidation_0-logloss:0.09146\n",
      "[62]\tvalidation_0-logloss:0.09031\n",
      "[63]\tvalidation_0-logloss:0.08941\n",
      "[64]\tvalidation_0-logloss:0.08972\n",
      "[65]\tvalidation_0-logloss:0.08974\n",
      "[66]\tvalidation_0-logloss:0.08962\n",
      "[67]\tvalidation_0-logloss:0.08873\n",
      "[68]\tvalidation_0-logloss:0.08862\n",
      "[69]\tvalidation_0-logloss:0.08974\n",
      "[70]\tvalidation_0-logloss:0.08998\n",
      "[71]\tvalidation_0-logloss:0.08978\n",
      "[72]\tvalidation_0-logloss:0.08958\n",
      "[73]\tvalidation_0-logloss:0.08953\n",
      "[74]\tvalidation_0-logloss:0.08875\n",
      "[75]\tvalidation_0-logloss:0.08860\n",
      "[76]\tvalidation_0-logloss:0.08812\n",
      "[77]\tvalidation_0-logloss:0.08840\n",
      "[78]\tvalidation_0-logloss:0.08874\n",
      "[79]\tvalidation_0-logloss:0.08815\n",
      "[80]\tvalidation_0-logloss:0.08758\n",
      "[81]\tvalidation_0-logloss:0.08741\n",
      "[82]\tvalidation_0-logloss:0.08849\n",
      "[83]\tvalidation_0-logloss:0.08857\n",
      "[84]\tvalidation_0-logloss:0.08807\n",
      "[85]\tvalidation_0-logloss:0.08764\n",
      "[86]\tvalidation_0-logloss:0.08742\n",
      "[87]\tvalidation_0-logloss:0.08761\n",
      "[88]\tvalidation_0-logloss:0.08707\n",
      "[89]\tvalidation_0-logloss:0.08727\n",
      "[90]\tvalidation_0-logloss:0.08716\n",
      "[91]\tvalidation_0-logloss:0.08696\n",
      "[92]\tvalidation_0-logloss:0.08717\n",
      "[93]\tvalidation_0-logloss:0.08707\n",
      "[94]\tvalidation_0-logloss:0.08659\n",
      "[95]\tvalidation_0-logloss:0.08612\n",
      "[96]\tvalidation_0-logloss:0.08714\n",
      "[97]\tvalidation_0-logloss:0.08677\n",
      "[98]\tvalidation_0-logloss:0.08669\n",
      "[99]\tvalidation_0-logloss:0.08655\n",
      "[100]\tvalidation_0-logloss:0.08650\n",
      "[101]\tvalidation_0-logloss:0.08641\n",
      "[102]\tvalidation_0-logloss:0.08629\n",
      "[103]\tvalidation_0-logloss:0.08626\n",
      "[104]\tvalidation_0-logloss:0.08683\n",
      "[105]\tvalidation_0-logloss:0.08677\n",
      "[106]\tvalidation_0-logloss:0.08732\n",
      "[107]\tvalidation_0-logloss:0.08730\n",
      "[108]\tvalidation_0-logloss:0.08728\n",
      "[109]\tvalidation_0-logloss:0.08730\n",
      "[110]\tvalidation_0-logloss:0.08729\n",
      "[111]\tvalidation_0-logloss:0.08800\n",
      "[112]\tvalidation_0-logloss:0.08794\n",
      "[113]\tvalidation_0-logloss:0.08784\n",
      "[114]\tvalidation_0-logloss:0.08807\n",
      "[115]\tvalidation_0-logloss:0.08765\n"
     ]
    }
   ],
   "source": [
    "from xgboost import XGBClassifier\n",
    "\n",
    "xgb_wrapper = XGBClassifier(n_estimators=400, learning_rate=0.1, max_depth=3)\n",
    "evals = [(X_test, y_test)]\n",
    "xgb_wrapper.fit(X_train, y_train, early_stopping_rounds=20, eval_metric=\"logloss\", \n",
    "                eval_set=evals, verbose=True)\n",
    "ws100_preds = xgb_wrapper.predict(X_test)\n",
    "ws100_pred_proba = xgb_wrapper.predict_proba(X_test)[:, 1]\n",
    "\n",
    "# logloss 손실함수가 줄어가다가 [95]\tvalidation_0-logloss:0.08612 이후로 early_stopping_rounds=20 돌렸는데 더 작아지지 않아서 멈춘 것"
   ]
  },
  {
   "cell_type": "code",
   "execution_count": 29,
   "id": "fd0d5efc",
   "metadata": {},
   "outputs": [
    {
     "name": "stdout",
     "output_type": "stream",
     "text": [
      "오차 행렬\n",
      "[[34  3]\n",
      " [ 2 75]]\n",
      "정확도: 0.9561, 정밀도: 0.9615, 재현율: 0.9740,F1: 0.9677, AUC:0.9947\n"
     ]
    }
   ],
   "source": [
    "get_clf_eval(y_test, ws100_preds, ws100_pred_proba)"
   ]
  },
  {
   "cell_type": "code",
   "execution_count": 31,
   "id": "abe47a24",
   "metadata": {},
   "outputs": [
    {
     "name": "stdout",
     "output_type": "stream",
     "text": [
      "[0]\tvalidation_0-logloss:0.61352\n",
      "[1]\tvalidation_0-logloss:0.54784\n",
      "[2]\tvalidation_0-logloss:0.49425\n",
      "[3]\tvalidation_0-logloss:0.44799\n",
      "[4]\tvalidation_0-logloss:0.40911\n",
      "[5]\tvalidation_0-logloss:0.37498\n",
      "[6]\tvalidation_0-logloss:0.34571\n",
      "[7]\tvalidation_0-logloss:0.32053\n",
      "[8]\tvalidation_0-logloss:0.29721\n",
      "[9]\tvalidation_0-logloss:0.27799\n",
      "[10]\tvalidation_0-logloss:0.26030\n",
      "[11]\tvalidation_0-logloss:0.24604\n",
      "[12]\tvalidation_0-logloss:0.23156\n",
      "[13]\tvalidation_0-logloss:0.22005\n",
      "[14]\tvalidation_0-logloss:0.20857\n",
      "[15]\tvalidation_0-logloss:0.19999\n",
      "[16]\tvalidation_0-logloss:0.19012\n",
      "[17]\tvalidation_0-logloss:0.18182\n",
      "[18]\tvalidation_0-logloss:0.17473\n",
      "[19]\tvalidation_0-logloss:0.16766\n",
      "[20]\tvalidation_0-logloss:0.15820\n",
      "[21]\tvalidation_0-logloss:0.15472\n",
      "[22]\tvalidation_0-logloss:0.14895\n",
      "[23]\tvalidation_0-logloss:0.14331\n",
      "[24]\tvalidation_0-logloss:0.13634\n",
      "[25]\tvalidation_0-logloss:0.13278\n",
      "[26]\tvalidation_0-logloss:0.12791\n",
      "[27]\tvalidation_0-logloss:0.12526\n",
      "[28]\tvalidation_0-logloss:0.11998\n",
      "[29]\tvalidation_0-logloss:0.11641\n",
      "[30]\tvalidation_0-logloss:0.11450\n",
      "[31]\tvalidation_0-logloss:0.11257\n",
      "[32]\tvalidation_0-logloss:0.11154\n",
      "[33]\tvalidation_0-logloss:0.10868\n",
      "[34]\tvalidation_0-logloss:0.10668\n",
      "[35]\tvalidation_0-logloss:0.10421\n",
      "[36]\tvalidation_0-logloss:0.10296\n",
      "[37]\tvalidation_0-logloss:0.10058\n",
      "[38]\tvalidation_0-logloss:0.09868\n",
      "[39]\tvalidation_0-logloss:0.09644\n",
      "[40]\tvalidation_0-logloss:0.09587\n",
      "[41]\tvalidation_0-logloss:0.09424\n",
      "[42]\tvalidation_0-logloss:0.09471\n",
      "[43]\tvalidation_0-logloss:0.09427\n",
      "[44]\tvalidation_0-logloss:0.09389\n",
      "[45]\tvalidation_0-logloss:0.09418\n",
      "[46]\tvalidation_0-logloss:0.09402\n",
      "[47]\tvalidation_0-logloss:0.09236\n",
      "[48]\tvalidation_0-logloss:0.09301\n",
      "[49]\tvalidation_0-logloss:0.09127\n",
      "[50]\tvalidation_0-logloss:0.09005\n",
      "[51]\tvalidation_0-logloss:0.08961\n",
      "[52]\tvalidation_0-logloss:0.08958\n",
      "[53]\tvalidation_0-logloss:0.09070\n",
      "[54]\tvalidation_0-logloss:0.08958\n",
      "[55]\tvalidation_0-logloss:0.09036\n",
      "[56]\tvalidation_0-logloss:0.09159\n",
      "[57]\tvalidation_0-logloss:0.09153\n",
      "[58]\tvalidation_0-logloss:0.09199\n",
      "[59]\tvalidation_0-logloss:0.09195\n",
      "[60]\tvalidation_0-logloss:0.09194\n",
      "[61]\tvalidation_0-logloss:0.09146\n",
      "[62]\tvalidation_0-logloss:0.09031\n",
      "오차 행렬\n",
      "[[34  3]\n",
      " [ 2 75]]\n",
      "정확도: 0.9561, 정밀도: 0.9615, 재현율: 0.9740,F1: 0.9677, AUC:0.9947\n"
     ]
    }
   ],
   "source": [
    "#early stopping rounds 10으로 설정하고 재학습\n",
    "\n",
    "xgb_wrapper.fit(X_train, y_train, early_stopping_rounds=10, \n",
    "                eval_metric=\"logloss\", eval_set=evals, verbose=True)\n",
    "ws10_preds = xgb_wrapper.predict(X_test)\n",
    "ws10_pred_proba = xgb_wrapper.predict_proba(X_test)[:, 1] \n",
    "get_clf_eval(y_test, ws10_preds, ws10_pred_proba)"
   ]
  },
  {
   "cell_type": "code",
   "execution_count": 32,
   "id": "437f8dcd",
   "metadata": {},
   "outputs": [
    {
     "data": {
      "text/plain": [
       "<AxesSubplot:title={'center':'Feature importance'}, xlabel='F score', ylabel='Features'>"
      ]
     },
     "execution_count": 32,
     "metadata": {},
     "output_type": "execute_result"
    },
    {
     "data": {
      "image/png": "[encoded data removed]",
      "text/plain": [
       "<Figure size 1000x1200 with 1 Axes>"
      ]
     },
     "metadata": {},
     "output_type": "display_data"
    }
   ],
   "source": [
    "from xgboost import plot_importance \n",
    "import matplotlib.pyplot as plt \n",
    "%matplotlib inline\n",
    "\n",
    "fig, ax = plt.subplots(figsize=(10, 12)) \n",
    "# 사이킷런 래퍼 클래스를 입력해도 무방. \n",
    "plot_importance(xgb_wrapper, ax=ax)"
   ]
  },
  {
   "cell_type": "code",
   "execution_count": null,
   "id": "022c579a",
   "metadata": {},
   "outputs": [],
   "source": []
  }
 ],
 "metadata": {
  "kernelspec": {
   "display_name": "Python 3 (ipykernel)",
   "language": "python",
   "name": "python3"
  },
  "language_info": {
   "codemirror_mode": {
    "name": "ipython",
    "version": 3
   },
   "file_extension": ".py",
   "mimetype": "text/x-python",
   "name": "python",
   "nbconvert_exporter": "python",
   "pygments_lexer": "ipython3",
   "version": "3.9.13"
  }
 },
 "nbformat": 4,
 "nbformat_minor": 5
}
