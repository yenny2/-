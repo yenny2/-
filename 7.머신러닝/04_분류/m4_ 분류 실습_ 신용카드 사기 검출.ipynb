{
 "cells": [
  {
   "cell_type": "markdown",
   "id": "ca01b8b9",
   "metadata": {},
   "source": [
    "## Credit Card Fraud Detection\n",
    "\n",
    "고객이 구매하지 않은 항목에 대해 비용이 청구되지 않도록 신용 카드 회사가 사기 신용 카드 거래를 인식할 수 있는 것이 중요합니다.\n",
    "\n",
    "콘텐츠\n",
    "\n",
    "데이터 세트에는 2013년 9월 유럽 카드 소지자가 신용 카드로 수행한 거래가 포함되어 있습니다.\n",
    "이 데이터 세트는 284,807건의 거래 중 492건의 사기가 있는 2일 동안 발생한 거래를 나타냅니다. 데이터 세트는 매우 불균형하며 긍정적인 클래스(사기)가 모든 거래의 0.172%를 차지합니다.\n",
    "\n",
    "여기에는 PCA 변환의 결과인 숫자 입력 변수만 포함됩니다. 유감스럽게도 기밀 문제로 인해 원본 기능과 데이터에 대한 자세한 배경 정보를 제공할 수 없습니다. 피처 V1, V2, … V28은 PCA로 얻은 주요 구성 요소이며 PCA로 변환되지 않은 유일한 특징은 '시간'과 '양'입니다. 피처 '시간'에는 각 트랜잭션과 데이터 세트의 첫 번째 트랜잭션 사이에 경과된 초가 포함됩니다. 'Amount' 기능은 거래 금액이며, 이 기능은  비용에 민감한 학습(example-dependant cost-sensitive learning)에 사용할 수 있습니다. Feature 'Class'는 응답 변수이며 사기의 경우 값 1, 그렇지 않은 경우 0입니다."
   ]
  },
  {
   "cell_type": "markdown",
   "id": "206bd980",
   "metadata": {},
   "source": [
    "과제2_0525.\n",
    "주어진 데이터셋으로 아래와 같이 모델링 및 평가를 수행하세요.\n",
    "- 로지스틱 회귀와  LightGBM 모델을 사용하여 모델 학습, 예측, 평가\n",
    "- 중요한 변수로 Amount 피처를 표준화한 후 모델 학습, 예측, 평가\n",
    "- Amount 피처를 로그 변환한 후 모델 학습, 예측, 평가\n",
    "- 이상치 데이터를 처리한 후 모델 학습, 예측, 평가\n",
    "- SMOTE 오버 샘플링 적용 후 모델 학습, 예측, 평가"
   ]
  },
  {
   "cell_type": "markdown",
   "id": "00c3d27d",
   "metadata": {},
   "source": []
  }
 ],
 "metadata": {
  "kernelspec": {
   "display_name": "Python 3 (ipykernel)",
   "language": "python",
   "name": "python3"
  },
  "language_info": {
   "codemirror_mode": {
    "name": "ipython",
    "version": 3
   },
   "file_extension": ".py",
   "mimetype": "text/x-python",
   "name": "python",
   "nbconvert_exporter": "python",
   "pygments_lexer": "ipython3",
   "version": "3.9.13"
  }
 },
 "nbformat": 4,
 "nbformat_minor": 5
}
